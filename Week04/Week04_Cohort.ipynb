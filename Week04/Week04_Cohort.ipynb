{
    "cells": [
        {
            "cell_type": "markdown",
            "metadata": {
                "colab_type": "text",
                "deletable": false,
                "editable": false,
                "id": "gzjE5NwZrqz0",
                "nbgrader": {
                    "grade": false,
                    "locked": true,
                    "solution": false
                }
            },
            "source": [
                "# Week 4 Problem Set\n",
                "\n",
                "## Cohort Sessions"
            ]
        },
        {
            "cell_type": "markdown",
            "metadata": {
                "deletable": false,
                "editable": false,
                "nbgrader": {
                    "grade": false,
                    "locked": true,
                    "solution": false
                }
            },
            "source": [
                "**CS1.** We are going to create a simple Car Racing game. First, let's create a class Car with the following properties:\n",
                "- `racer` which stores the name of the driver. This property must be non-empty string. This property should be initialized upon object instantiation.\n",
                "- `speed` which stores the speed of the car. This property can only be non-negative values and must be **less than or equal** to a maximum speed.\n",
                "- `pos` which is an integer specifying the position of the car which can only be non-negative values.\n",
                "- `is_finished` which is a computed property that returns `True` or `False` depending whether the position has reached the finish line.\n",
                "\n",
                "Each car also has the following attributes:\n",
                "- `max_speed` which specifies the maximum speed the car can have. This attribute should be initialized upon object instantiation.\n",
                "- `finish` which stores the finish distance the car has to go through. Upon initialization, it should be set to -1. \n",
                "\n",
                "The class has the following methods:\n",
                "- `start(init_speed, finish_distance)` which set the speed property to some initial value. The method also set the finish distance to some value and set the `pos` property to 0.\n",
                "- `race(acceleration)` which takes in an integer value for its acceleratin and modify both the speed and the position of the car.\n",
                "\n"
            ]
        },
        {
            "cell_type": "code",
            "execution_count": 27,
            "metadata": {},
            "outputs": [],
            "source": [
                "import numbers\n",
                "\n",
                "def validate_nonempty_string(string):\n",
                "     return isinstance(string, str) and string != \"\"\n",
                "    \n",
                "def validate_positive_number(num):\n",
                "    return isinstance(num, numbers.Rational) and num >= 0\n",
                "    \n",
                "class RacingCar:\n",
                "    def __init__(self, name, max_speed):\n",
                "        validate_nonempty_string(name)\n",
                "        validate_positive_number(max_speed)\n",
                "        self.name = name\n",
                "        self._speed = 0\n",
                "        self._pos = 0\n",
                "        self.finish = -1\n",
                "        self.max_speed = max_speed\n",
                "    \n",
                "    @property\n",
                "    def racer(self):\n",
                "        return self.name\n",
                "    \n",
                "    @racer.setter\n",
                "    def racer(self, name):\n",
                "        if not validate_nonempty_string(name): return\n",
                "        self.name = name\n",
                "            \n",
                "    @property\n",
                "    def speed(self):\n",
                "        return self._speed\n",
                "    \n",
                "    @speed.setter\n",
                "    def speed(self, val):\n",
                "        if not validate_positive_number(val): return\n",
                "        if val > self.max_speed: return\n",
                "            # raise ValueError(\"Speed must not be more than max_speed\")\n",
                "        self._speed = val\n",
                "    \n",
                "    @property\n",
                "    def pos(self):\n",
                "        return self._pos\n",
                "    \n",
                "    @pos.setter\n",
                "    def pos(self, val):\n",
                "        if not validate_positive_number(val): return\n",
                "        self._pos = val\n",
                "            \n",
                "    @property\n",
                "    def is_finished(self):\n",
                "        return self.finish >= 0 and self._pos >= self.finish\n",
                "            \n",
                "    def start(self, init_speed, finish_dist):\n",
                "        self.speed = init_speed\n",
                "        self.finish = finish_dist\n",
                "        self._pos = 0\n",
                "    \n",
                "    def race(self, acc):\n",
                "        self._speed += acc\n",
                "        self._pos += self._speed\n",
                "        \n",
                "    def __str__(self):\n",
                "        return f\"Racing Car {self.racer} at position: {self.pos}, with speed: {self.speed}.\"\n",
                "    \n",
                "            \n",
                "    "
            ]
        },
        {
            "cell_type": "code",
            "execution_count": 28,
            "metadata": {
                "deletable": false,
                "editable": false,
                "nbgrader": {
                    "grade": true,
                    "grade_id": "cs11",
                    "locked": true,
                    "points": "1",
                    "solution": false
                }
            },
            "outputs": [],
            "source": [
                "car = RacingCar(\"Hamilton\", 200)\n",
                "assert car.racer == \"Hamilton\"\n",
                "assert car.max_speed == 200\n",
                "assert car.finish == -1\n",
                "\n",
                "car.racer = \"Bottas\"\n",
                "assert car.racer == \"Bottas\"\n",
                "car.racer = \"\"\n",
                "assert car.racer == \"Bottas\"\n",
                "car.racer = 21\n",
                "assert car.racer == \"Bottas\"\n",
                "\n",
                "car.speed = 10\n",
                "assert car.speed == 10\n",
                "car.speed = 0\n",
                "assert car.speed == 0\n",
                "car.speed = -10\n",
                "assert car.speed == 0\n",
                "car.speed = car.max_speed\n",
                "assert car.speed == car.max_speed\n",
                "car.speed = car.max_speed + 10\n",
                "assert car.speed == car.max_speed\n",
                "\n",
                "car.pos = 10\n",
                "assert car.pos == 10\n",
                "car.pos = -10\n",
                "assert car.pos == 10\n",
                "car.pos = 0\n",
                "assert car.pos == 0\n",
                "\n",
                "assert not car.is_finished\n",
                "car.finish = 20\n",
                "car.pos = 10\n",
                "assert not car.is_finished\n",
                "car.pos = 20\n",
                "assert car.is_finished\n",
                "car.pos = 22\n",
                "assert car.is_finished\n",
                "\n",
                "car.start(50, 200)\n",
                "assert car.pos == 0\n",
                "assert car.speed == 50\n",
                "assert car.finish == 200\n",
                "\n",
                "car.race(0)\n",
                "assert car.speed == 50\n",
                "assert car.pos == 50\n",
                "assert not car.is_finished\n",
                "\n",
                "car.race(10)\n",
                "assert car.speed == 60\n",
                "assert car.pos == 110\n",
                "assert not car.is_finished\n",
                "\n",
                "car.race(-10)\n",
                "assert car.speed == 50\n",
                "assert car.pos == 160\n",
                "assert not car.is_finished\n",
                "\n",
                "car.race(0)\n",
                "assert car.is_finished"
            ]
        },
        {
            "cell_type": "code",
            "execution_count": 3,
            "metadata": {
                "deletable": false,
                "editable": false,
                "nbgrader": {
                    "grade": true,
                    "grade_id": "cs12",
                    "locked": true,
                    "points": "1",
                    "solution": false
                }
            },
            "outputs": [],
            "source": [
                "###\n",
                "### AUTOGRADER TEST - DO NOT REMOVE\n",
                "###\n"
            ]
        },
        {
            "cell_type": "markdown",
            "metadata": {
                "deletable": false,
                "editable": false,
                "nbgrader": {
                    "grade": false,
                    "locked": true,
                    "solution": false
                }
            },
            "source": [
                "**CS2.** Implement a `RacingGame` class that plays car racing using Python `random` module to simulate car's acceleration. The class has the following attribute(s):\n",
                "- `car_list` which is a dictionary containing all the `RacingCar` objects where the keys are the racer's name.\n",
                "\n",
                "The class has the following properties:\n",
                "- `winners` which list the winners from the first to the last. If there is no winner, it should return `None`.\n",
                "\n",
                "Upon instantiation, it should initalize the game with some **random seed**. This is to ensure that the behaviour can be predicted.\n",
                "\n",
                "It has the following methods:\n",
                "- `add_car(name, max_speed)` which creates a new `RacingCar` object and add it into the `car_list`. \n",
                "- `start(finish_distance)` which uses the `random` module to assign different initial speeds (0 to 50) to each of the racing car and set the same finish distance for all cars.\n",
                "- `play(finish)` which contains the main loop of the game that calls the `RacingCar`'s method `race()` until all cars reach the finish line. It takes in an argument for the finish distance.\n",
                "\n"
            ]
        },
        {
            "cell_type": "code",
            "execution_count": 36,
            "metadata": {},
            "outputs": [],
            "source": [
                "import random\n",
                "\n",
                "class RacingGame:\n",
                "    \n",
                "    def __init__(self, seed):\n",
                "        self.car_list: list[RacingCar] = {}\n",
                "        self._winners = []\n",
                "        random.seed(seed)\n",
                "        \n",
                "    @property\n",
                "    def winners(self):\n",
                "        if len(self._winners) == 0:\n",
                "            return None\n",
                "        else:\n",
                "            return self._winners\n",
                "        \n",
                "    def add_car(self, name, max_speed):\n",
                "        self.car_list[name] = RacingCar(name, max_speed)\n",
                "        \n",
                "    def start(self, finish):\n",
                "        for _, car in self.car_list.items():\n",
                "            car.start(random.randint(0, 50), finish)\n",
                "    \n",
                "    def play(self, finish):\n",
                "        self.start(finish)\n",
                "        finished_car = 0\n",
                "        while True:\n",
                "            for racer, car in self.car_list.items():\n",
                "                if not car.is_finished:\n",
                "                    acc = random.randint(-10, 20)\n",
                "                    car.race(acc)\n",
                "                    # you can comment out the line below to check the output\n",
                "                    print(car)\n",
                "                    if car.is_finished:\n",
                "                        self._winners.append(racer)\n",
                "                        finished_car +=1\n",
                "            if finished_car == len(self.car_list):\n",
                "                break\n",
                "            "
            ]
        },
        {
            "cell_type": "code",
            "execution_count": 38,
            "metadata": {
                "deletable": false,
                "editable": false,
                "nbgrader": {
                    "grade": true,
                    "grade_id": "c21",
                    "locked": true,
                    "points": "1",
                    "solution": false
                }
            },
            "outputs": [
                {
                    "name": "stdout",
                    "output_type": "stream",
                    "text": [
                        "Racing Car Hamilton at position: 24, with speed: 24.\n",
                        "Racing Car Vettel at position: 61, with speed: 61.\n",
                        "Racing Car Hamilton at position: 50, with speed: 26.\n",
                        "Racing Car Vettel at position: 135, with speed: 74.\n",
                        "Racing Car Hamilton at position: 77, with speed: 27.\n",
                        "Racing Car Vettel at position: 212, with speed: 77.\n",
                        "Racing Car Hamilton at position: 110, with speed: 33.\n",
                        "Racing Car Hamilton at position: 158, with speed: 48.\n",
                        "Racing Car Hamilton at position: 199, with speed: 41.\n",
                        "Racing Car Hamilton at position: 247, with speed: 48.\n",
                        "Racing Car Hamilton at position: 15, with speed: 15.\n",
                        "Racing Car Vettel at position: 25, with speed: 25.\n",
                        "Racing Car Hamilton at position: 20, with speed: 5.\n",
                        "Racing Car Vettel at position: 44, with speed: 19.\n",
                        "Racing Car Hamilton at position: 34, with speed: 14.\n",
                        "Racing Car Vettel at position: 80, with speed: 36.\n",
                        "Racing Car Hamilton at position: 63, with speed: 29.\n",
                        "Racing Car Vettel at position: 114, with speed: 34.\n",
                        "Racing Car Hamilton at position: 111, with speed: 48.\n",
                        "Racing Car Vettel at position: 138, with speed: 24.\n",
                        "Racing Car Hamilton at position: 171, with speed: 60.\n",
                        "Racing Car Vettel at position: 166, with speed: 28.\n",
                        "Racing Car Hamilton at position: 243, with speed: 72.\n",
                        "Racing Car Vettel at position: 189, with speed: 23.\n",
                        "Racing Car Vettel at position: 224, with speed: 35.\n"
                    ]
                }
            ],
            "source": [
                "game = RacingGame(100)\n",
                "assert game.car_list == {}\n",
                "assert game.winners == None\n",
                "\n",
                "game.add_car(\"Hamilton\", 250)\n",
                "assert len(game.car_list) == 1\n",
                "assert game.car_list[\"Hamilton\"].racer == \"Hamilton\"\n",
                "\n",
                "game.add_car(\"Vettel\", 200)\n",
                "assert len(game.car_list) == 2\n",
                "assert game.car_list[\"Vettel\"].racer == \"Vettel\"\n",
                "\n",
                "game.start(200)\n",
                "assert [ car.pos for car in game.car_list.values()] == [0, 0]\n",
                "assert [ car.speed for car in game.car_list.values()] == [9, 29]\n",
                "assert [ car.finish for car in game.car_list.values()] == [200, 200]\n",
                "\n",
                "game.play(200)\n",
                "assert game.winners == [\"Vettel\", \"Hamilton\"]\n",
                "\n",
                "game = RacingGame(200)\n",
                "game.add_car(\"Hamilton\", 250)\n",
                "game.add_car(\"Vettel\", 200)\n",
                "game.play(200)\n",
                "assert game.winners == [\"Hamilton\", \"Vettel\"]"
            ]
        },
        {
            "cell_type": "code",
            "execution_count": null,
            "metadata": {},
            "outputs": [],
            "source": []
        },
        {
            "cell_type": "code",
            "execution_count": 6,
            "metadata": {
                "deletable": false,
                "editable": false,
                "nbgrader": {
                    "grade": true,
                    "grade_id": "cs22",
                    "locked": true,
                    "points": "1",
                    "solution": false
                }
            },
            "outputs": [],
            "source": [
                "###\n",
                "### AUTOGRADER TEST - DO NOT REMOVE\n",
                "###\n"
            ]
        },
        {
            "cell_type": "markdown",
            "metadata": {
                "colab_type": "text",
                "deletable": false,
                "editable": false,
                "id": "x7_z1uFVrtoN",
                "nbgrader": {
                    "grade": false,
                    "locked": true,
                    "solution": false
                }
            },
            "source": [
                "**CS3.** Implement the `Stack` abstract data type using a Class. You can use `list` Python data type as its internal data structure. Name this `list` as `items`.\n",
                "\n",
                "The class should have the following interface:\n",
                "- `__init__()` to initialize an empty list for the stack to store the items.\n",
                "- `push(item)` which stores an item into the top of the stack.\n",
                "- `pop()` which returns and removes the top element of the stack. The return value is optional as it may return `None` if there are no more elements in the stack.\n",
                "- `peek()` which returns the top element of the stack. If the stack is empty, it returns `None`.\n",
                "\n",
                "The class should have the following properties:\n",
                "- `is_empty` is a computed property which returns either `True` or `False` depending whether the stack is empty or not.\n",
                "- `size` is a computed property which returns the number of items in the stack.\n"
            ]
        },
        {
            "cell_type": "code",
            "execution_count": 1,
            "metadata": {
                "colab": [],
                "colab_type": "code",
                "id": "qyEcgTAXre4j"
            },
            "outputs": [],
            "source": [
                "class Stack:\n",
                "    def __init__(self):\n",
                "        self._items = []\n",
                "        \n",
                "    def push(self, item):\n",
                "        self._items.append(item)\n",
                "\n",
                "    def pop(self):\n",
                "        if self.is_empty:\n",
                "            return None\n",
                "        return self._items.pop()\n",
                "\n",
                "    def peek(self):\n",
                "        if self.is_empty:\n",
                "            return None\n",
                "        return self._items[-1]\n",
                "\n",
                "    @property\n",
                "    def is_empty(self):\n",
                "        return self.size == 0\n",
                "\n",
                "    @property\n",
                "    def size(self):\n",
                "        return len(self._items)\n",
                "\n"
            ]
        },
        {
            "cell_type": "code",
            "execution_count": 2,
            "metadata": {
                "colab": [],
                "colab_type": "code",
                "deletable": false,
                "editable": false,
                "id": "3FVPl3zWskyg",
                "nbgrader": {
                    "grade": true,
                    "grade_id": "cs31",
                    "locked": true,
                    "points": "1",
                    "solution": false
                }
            },
            "outputs": [],
            "source": [
                "s1 = Stack()\n",
                "s1.push(2)\n",
                "assert not s1.is_empty\n",
                "assert s1.pop() == 2\n",
                "assert s1.is_empty\n",
                "assert s1.pop() == None\n",
                "s1.push(1)\n",
                "s1.push(2)\n",
                "s1.push(3)\n",
                "assert not s1.is_empty\n",
                "assert s1._Stack__items == [1, 2, 3]\n",
                "assert s1.peek() == 3\n",
                "assert s1.size == 3"
            ]
        },
        {
            "cell_type": "code",
            "execution_count": 9,
            "metadata": {
                "deletable": false,
                "editable": false,
                "nbgrader": {
                    "grade": true,
                    "grade_id": "cs32",
                    "locked": true,
                    "points": "1",
                    "solution": false
                }
            },
            "outputs": [],
            "source": [
                "###\n",
                "### AUTOGRADER TEST - DO NOT REMOVE\n",
                "###\n"
            ]
        },
        {
            "cell_type": "markdown",
            "metadata": {
                "colab": [],
                "colab_type": "code",
                "deletable": false,
                "editable": false,
                "id": "zi2aM5JZOZN0",
                "nbgrader": {
                    "grade": false,
                    "locked": true,
                    "solution": false
                }
            },
            "source": [
                "**CS4.** Write a class called `EvaluatePostfix` that evaluates postfix notation implemented using Stack data structure. Postfix notation is a way of writing expressions without parenthesis. For example, the expression `(1+2)*3` would be written as `1 2 + 3 *`. The class `EvaluatePostfix` has the following methods:\n",
                "- `input(inp)`: which pushes the input one at a time. For example, to create a postfix notation `1 2 + 3 *`, we can call this method repetitively, e.g. `e.input('1'); e.input('2'); e.input('+'); e.input('3'); e.input('*')`. Notice that the input is of String data type. \n",
                "- `evaluate()`: which returns the output of the expression.\n",
                "\n",
                "Postfix notation is evaluated using a Stack. The input streams from `input()` are stored in a Queue, which we will implement using Python's List. Note: If you have finished your homework on Queue, you can replace this part with your Queue. \n",
                "\n",
                "If the output of the Queue is a number, the item is pushed onto the stack. If it is an operator, we will apply the operator to the top two items in the stacks, pushing the result back onto the stack. "
            ]
        },
        {
            "cell_type": "code",
            "execution_count": 8,
            "metadata": {},
            "outputs": [],
            "source": [
                "class EvaluatePostfix:\n",
                "\n",
                "    operands = \"0123456789\"\n",
                "    operators = \"+-*/\"\n",
                "    operations = {\n",
                "        \"+\": lambda x, y: x + y,\n",
                "        \"-\": lambda x, y: x - y,\n",
                "        \"*\": lambda x, y: x * y,\n",
                "        \"/\": lambda x, y: x / y\n",
                "    }\n",
                "\n",
                "    def __init__(self):\n",
                "        self.expression: list[str] = []\n",
                "        self.stack = Stack()\n",
                "\n",
                "    def input(self, item):\n",
                "        self.expression.append(item)\n",
                "\n",
                "    def evaluate(self):\n",
                "        while len(self.expression) != 0:\n",
                "            item = self.expression.pop(0)\n",
                "            if item.isnumeric():\n",
                "                self.stack.push(item)\n",
                "            elif item in EvaluatePostfix.operators:\n",
                "                b = int(self.stack.pop())\n",
                "                a = int(self.stack.pop())\n",
                "                res = EvaluatePostfix.operations[item](a, b)\n",
                "                self.stack.push(res)\n",
                "        return self.stack.peek()"
            ]
        },
        {
            "cell_type": "code",
            "execution_count": 10,
            "metadata": {
                "deletable": false,
                "editable": false,
                "nbgrader": {
                    "grade": true,
                    "grade_id": "cs41",
                    "locked": true,
                    "points": "1",
                    "solution": false
                }
            },
            "outputs": [],
            "source": [
                "pe = EvaluatePostfix()\n",
                "pe.input(\"2\")\n",
                "pe.input(\"3\")\n",
                "pe.input(\"+\")\n",
                "assert pe.evaluate()== 5\n",
                "\n",
                "pe.input(\"2\")\n",
                "pe.input(\"3\")\n",
                "pe.input(\"+\")\n",
                "pe.input(\"6\")\n",
                "pe.input(\"-\")\n",
                "assert pe.evaluate()== -1"
            ]
        },
        {
            "cell_type": "code",
            "execution_count": 12,
            "metadata": {
                "deletable": false,
                "editable": false,
                "nbgrader": {
                    "grade": true,
                    "grade_id": "cs42",
                    "locked": true,
                    "points": "1",
                    "solution": false
                }
            },
            "outputs": [],
            "source": [
                "###\n",
                "### AUTOGRADER TEST - DO NOT REMOVE\n",
                "###\n"
            ]
        },
        {
            "cell_type": "markdown",
            "metadata": {
                "deletable": false,
                "editable": false,
                "nbgrader": {
                    "grade": false,
                    "locked": true,
                    "solution": false
                }
            },
            "source": [
                "**CS5.** Implement a Queue abstract data structure using two Stacks instead of Python's list. For this double-stack implementation, the Queue has a *left* Stack and a *right* Stack. The enqueue and dequeue operations work as follows:\n",
                "- enqueue: This operation just pushes the new item into the *right* Stack.\n",
                "- dequeue: This operation is done as follows:\n",
                "    - if the *left* Stack is empty: create a new *left* Stack which is the reverse of the items in the *right* Stack. You should then empty the *right* stack.\n",
                "    - if the *left* Stack is not empty: pop from the *left* Stack.\n",
                "- peek: This operation is similar to Stack's peek. It returns the value at the front of the Queue without removing it. If the Queue is empth, it should return a `None` object."
            ]
        },
        {
            "cell_type": "code",
            "execution_count": 12,
            "metadata": {},
            "outputs": [],
            "source": [
                "#Copy the Cohort implementation\n",
                "\n",
                "class Stack:\n",
                "    def __init__(self):\n",
                "        self._items = []\n",
                "        \n",
                "    def push(self, item):\n",
                "        self._items.append(item)\n",
                "\n",
                "    def pop(self):\n",
                "        if self.is_empty:\n",
                "            return None\n",
                "        return self._items.pop()\n",
                "\n",
                "    def peek(self):\n",
                "        if self.is_empty:\n",
                "            return None\n",
                "        return self._items[-1]\n",
                "\n",
                "    @property\n",
                "    def is_empty(self):\n",
                "        return self.size == 0\n",
                "\n",
                "    @property\n",
                "    def size(self):\n",
                "        return len(self._items)"
            ]
        },
        {
            "cell_type": "code",
            "execution_count": 42,
            "metadata": {},
            "outputs": [],
            "source": [
                "class Queue:\n",
                "    def __init__(self):\n",
                "        self.left_stack = Stack()\n",
                "        self.right_stack = Stack()\n",
                "    \n",
                "    def enqueue(self, new_item):\n",
                "        self.right_stack.push(new_item)\n",
                "\n",
                "    def dequeue(self):\n",
                "        if self.left_stack.is_empty:\n",
                "            self.left_stack._items = self.right_stack._items[::-1]\n",
                "            self.right_stack._items.clear()\n",
                "        return self.left_stack.pop()\n",
                "\n",
                "    def peek(self):\n",
                "        if self.is_empty:\n",
                "            return None\n",
                "        elif self.left_stack.is_empty:\n",
                "            return self.right_stack._items[0]\n",
                "        else:\n",
                "            return self.left_stack.peek()\n",
                "    \n",
                "    @property\n",
                "    def is_empty(self):\n",
                "        return self.left_stack.is_empty and self.right_stack.is_empty\n",
                "    \n",
                "    @property\n",
                "    def size(self):\n",
                "        return self.left_stack.size + self.right_stack.size\n",
                "        \n"
            ]
        },
        {
            "cell_type": "code",
            "execution_count": 44,
            "metadata": {
                "deletable": false,
                "editable": false,
                "nbgrader": {
                    "grade": true,
                    "grade_id": "cs51",
                    "locked": true,
                    "points": "1",
                    "solution": false
                }
            },
            "outputs": [],
            "source": [
                "q1 = Queue()\n",
                "q1.enqueue(2)\n",
                "assert not q1.is_empty \n",
                "assert q1.size == 1\n",
                "assert q1.dequeue() == 2\n",
                "assert q1.is_empty\n",
                "q1.enqueue(1)\n",
                "q1.enqueue(2)\n",
                "q1.enqueue(3)\n",
                "assert q1.size == 3\n",
                "assert q1.peek() == 1\n",
                "assert q1.dequeue() == 1\n",
                "assert q1.dequeue() == 2\n",
                "assert q1.dequeue() == 3\n",
                "assert q1.peek() == None"
            ]
        },
        {
            "cell_type": "code",
            "execution_count": 16,
            "metadata": {
                "deletable": false,
                "editable": false,
                "nbgrader": {
                    "grade": true,
                    "grade_id": "cs52",
                    "locked": true,
                    "points": "1",
                    "solution": false
                }
            },
            "outputs": [],
            "source": [
                "###\n",
                "### AUTOGRADER TEST - DO NOT REMOVE\n",
                "###\n"
            ]
        },
        {
            "cell_type": "markdown",
            "metadata": {
                "deletable": false,
                "editable": false,
                "nbgrader": {
                    "grade": false,
                    "locked": true,
                    "solution": false
                }
            },
            "source": [
                "**CS6.** **You need to complete CS5 before attempting this question.** Compute the computational time to do enqueue operation for a list based Queue implementation versus a double-stack based Queue implementation. Which one is faster? Why? There are a few parts you need to fill up.\n",
                "- `enqueue(q, array)`, which is a function to enqueue every element in the array to the Queue `q`.\n",
                "- `dequeue(q, array)`, which is a function to dequeue every element in the array from the Queue `q`. *Hint: you don't need the argument `array` but it is put here so that we can make use of the `run_function(f, x, y)`*.\n",
                "\n",
                "You also need to replace some of the `None` in the code to compute the computational time inside the for-loop.\n",
                "\n",
                "First you need to paste the Queue implementation using list-based."
            ]
        },
        {
            "cell_type": "code",
            "execution_count": 55,
            "metadata": {},
            "outputs": [],
            "source": [
                "# paste the list-based Queue implementation\n",
                "\n",
                "class Queue:\n",
                "    def __init__(self):\n",
                "        self.items = []\n",
                "\n",
                "    def enqueue(self, new_item):\n",
                "        self.items.append(new_item)\n",
                "    \n",
                "    def dequeue(self):\n",
                "        return self.items.pop(0)\n",
                "    \n",
                "    def peek(self):\n",
                "        return self.items[0]\n",
                "    \n",
                "    @property\n",
                "    def is_empty(self):\n",
                "        return len(self.items) == 0\n",
                "    \n",
                "    @property\n",
                "    def size(self):\n",
                "        return len(self.items)\n",
                "    ###END SOLUTION"
            ]
        },
        {
            "cell_type": "code",
            "execution_count": 56,
            "metadata": {},
            "outputs": [
                {
                    "name": "stdout",
                    "output_type": "stream",
                    "text": [
                        "[1.52587890625e-05, 2.574920654296875e-05, 0.000209808349609375, 0.002115011215209961, 0.021278858184814453]\n",
                        "[1.1205673217773438e-05, 3.0994415283203125e-05, 0.00040078163146972656, 0.01842188835144043, 3.3512330055236816]\n"
                    ]
                }
            ],
            "source": [
                "import time\n",
                "import random\n",
                "\n",
                "def run_function(f, x, y):\n",
                "    start = time.time()\n",
                "    f(x, y)\n",
                "    end = time.time()\n",
                "    return end-start\n",
                "\n",
                "def enqueue(queue, array):\n",
                "    for i in array:\n",
                "        queue.enqueue(i)\n",
                "\n",
                "def dequeue(queue, array):\n",
                "    for i in array:\n",
                "        queue.dequeue()\n",
                "\n",
                "time_enqueue_list = []\n",
                "time_dequeue_list = []\n",
                "\n",
                "# set the maximum power for 10^power number of inputs\n",
                "maxpower = 5\n",
                "for n in range(1, maxpower + 1):\n",
                "    # create array for 10^1, 10^2, 10^3, etc \n",
                "    # use seed = 100\n",
                "    random.seed(100)\n",
                "    array = random.sample(range(10 ** n), k=10 ** n)\n",
                "    \n",
                "    # create queue\n",
                "    queue = Queue()\n",
                "    \n",
                "    # call run_function for enqueue\n",
                "    result_enqueue = run_function(enqueue, queue, array)\n",
                "    \n",
                "    # call run_function for dequeue\n",
                "    result_dequeue = run_function(dequeue, queue, array)\n",
                "    \n",
                "    \n",
                "    \n",
                "    time_enqueue_list.append(result_enqueue)\n",
                "    time_dequeue_list.append(result_dequeue)\n",
                "\n",
                "print(time_enqueue_list)\n",
                "print(time_dequeue_list)"
            ]
        },
        {
            "cell_type": "markdown",
            "metadata": {
                "deletable": false,
                "editable": false,
                "nbgrader": {
                    "grade": false,
                    "locked": true,
                    "solution": false
                }
            },
            "source": [
                "Paste the code for the Queue using double Stack implementation."
            ]
        },
        {
            "cell_type": "code",
            "execution_count": 57,
            "metadata": {},
            "outputs": [],
            "source": [
                "# paste below the double Stack implementation of Queue\n",
                "\n",
                "class Queue:\n",
                "    def __init__(self):\n",
                "        self.left_stack = Stack()\n",
                "        self.right_stack = Stack()\n",
                "    \n",
                "    def enqueue(self, new_item):\n",
                "        self.right_stack.push(new_item)\n",
                "\n",
                "    def dequeue(self):\n",
                "        if self.left_stack.is_empty:\n",
                "            self.left_stack._items = self.right_stack._items[::-1]\n",
                "            self.right_stack._items.clear()\n",
                "        return self.left_stack.pop()\n",
                "\n",
                "    def peek(self):\n",
                "        if self.is_empty:\n",
                "            return None\n",
                "        elif self.left_stack.is_empty:\n",
                "            return self.right_stack._items[0]\n",
                "        else:\n",
                "            return self.left_stack.peek()\n",
                "    \n",
                "    @property\n",
                "    def is_empty(self):\n",
                "        return self.left_stack.is_empty and self.right_stack.is_empty\n",
                "    \n",
                "    @property\n",
                "    def size(self):\n",
                "        return self.left_stack.size + self.right_stack.size\n"
            ]
        },
        {
            "cell_type": "code",
            "execution_count": 58,
            "metadata": {},
            "outputs": [
                {
                    "name": "stdout",
                    "output_type": "stream",
                    "text": [
                        "[1.2159347534179688e-05, 2.09808349609375e-05, 0.0001678466796875, 0.0050029754638671875, 0.045845985412597656]\n",
                        "[1.8835067749023438e-05, 6.794929504394531e-05, 0.0010271072387695312, 0.010155916213989258, 0.09280514717102051]\n"
                    ]
                }
            ],
            "source": [
                "import time\n",
                "import random\n",
                "\n",
                "def run_function(f, x, y):\n",
                "    start = time.time()\n",
                "    f(x, y)\n",
                "    end = time.time()\n",
                "    return end-start\n",
                "\n",
                "\n",
                "def enqueue(queue, array):\n",
                "    for i in array:\n",
                "        queue.enqueue(i)\n",
                "\n",
                "def dequeue(queue, array):\n",
                "    for i in array:\n",
                "        queue.dequeue()\n",
                "\n",
                "time_enqueue_stack = []\n",
                "time_dequeue_stack = []\n",
                "\n",
                "# set the maximum power for 10^power number of inputs\n",
                "maxpower = 5\n",
                "for n in range(1, maxpower + 1):\n",
                "    # create array for 10^1, 10^2, 10^3, etc \n",
                "    # use seed = 100\n",
                "    random.seed(100)\n",
                "    array = random.sample(range(10 ** n), k=10 ** n)\n",
                "    \n",
                "    # create queue\n",
                "    queue = Queue()\n",
                "    \n",
                "    # call run_function for enqueue\n",
                "    result_enqueue = run_function(enqueue, queue, array)\n",
                "    \n",
                "    # call run_function for dequeue\n",
                "    result_dequeue = run_function(dequeue, queue, array)\n",
                "    \n",
                "    \n",
                "    \n",
                "    time_enqueue_stack.append(result_enqueue)\n",
                "    time_dequeue_stack.append(result_dequeue)\n",
                "\n",
                "\n",
                "print(time_enqueue_stack)\n",
                "print(time_dequeue_stack)"
            ]
        },
        {
            "cell_type": "code",
            "execution_count": 51,
            "metadata": {
                "deletable": false,
                "editable": false,
                "nbgrader": {
                    "grade": false,
                    "locked": true,
                    "solution": false
                }
            },
            "outputs": [],
            "source": [
                "import matplotlib.pyplot as plt"
            ]
        },
        {
            "cell_type": "code",
            "execution_count": 52,
            "metadata": {
                "deletable": false,
                "editable": false,
                "nbgrader": {
                    "grade": false,
                    "locked": true,
                    "solution": false
                }
            },
            "outputs": [
                {
                    "data": {
                        "text/plain": [
                            "Text(0.5, 1.0, 'Enqueue Time')"
                        ]
                    },
                    "execution_count": 52,
                    "metadata": {},
                    "output_type": "execute_result"
                },
                {
                    "data": {
                        "image/png": "[encoded data removed]",
                        "text/plain": [
                            "<Figure size 640x480 with 1 Axes>"
                        ]
                    },
                    "metadata": {},
                    "output_type": "display_data"
                }
            ],
            "source": [
                "plt.plot(time_enqueue_list,'o-')\n",
                "plt.plot(time_enqueue_stack,'x-')\n",
                "plt.ylabel(\"Time (s)\")\n",
                "plt.xlabel(\"order of input size, 10^n\")\n",
                "plt.title(\"Enqueue Time\")"
            ]
        },
        {
            "cell_type": "code",
            "execution_count": 53,
            "metadata": {
                "deletable": false,
                "editable": false,
                "nbgrader": {
                    "grade": false,
                    "locked": true,
                    "solution": false
                }
            },
            "outputs": [
                {
                    "data": {
                        "text/plain": [
                            "Text(0.5, 1.0, 'Dequeue Time')"
                        ]
                    },
                    "execution_count": 53,
                    "metadata": {},
                    "output_type": "execute_result"
                },
                {
                    "data": {
                        "image/png": "[encoded data removed]",
                        "text/plain": [
                            "<Figure size 640x480 with 1 Axes>"
                        ]
                    },
                    "metadata": {},
                    "output_type": "display_data"
                }
            ],
            "source": [
                "plt.plot(time_dequeue_list,'o-')\n",
                "plt.plot(time_dequeue_stack,'x-')\n",
                "plt.ylabel(\"Time (s)\")\n",
                "plt.xlabel(\"order of input size, 10^n\")\n",
                "plt.title(\"Dequeue Time\")"
            ]
        }
    ],
    "metadata": {
        "colab": {
            "collapsed_sections": [],
            "name": "Week04_ProblemSet.ipynb",
            "provenance": []
        },
        "kernelspec": {
            "display_name": "Python 3 [3.10]",
            "language": "python",
            "name": "python3"
        },
        "language_info": {
            "codemirror_mode": {
                "name": "ipython",
                "version": 3
            },
            "file_extension": ".py",
            "mimetype": "text/x-python",
            "name": "python",
            "nbconvert_exporter": "python",
            "pygments_lexer": "ipython3",
            "version": "3.11.3"
        },
        "vscode": {
            "interpreter": {
                "hash": "ac37b77c3c0f43e60bec193f0626743b91dd65d8d4aeca5713e457ab7e777e4c"
            }
        }
    },
    "nbformat": 4,
    "nbformat_minor": 4
}
