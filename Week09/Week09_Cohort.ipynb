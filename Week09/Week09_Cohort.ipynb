{
    "cells": [
        {
            "cell_type": "markdown",
            "metadata": {
                "deletable": false,
                "editable": false,
                "nbgrader": {
                    "grade": false,
                    "locked": true,
                    "solution": false
                }
            },
            "source": [
                "# Week 9 Problem Set\n",
                "\n",
                "## Cohort Session"
            ]
        },
        {
            "cell_type": "code",
            "execution_count": 2,
            "metadata": {
                "deletable": false,
                "editable": false,
                "nbgrader": {
                    "grade": false,
                    "locked": true,
                    "solution": false
                }
            },
            "outputs": [],
            "source": [
                "import numpy as np\n",
                "import pandas as pd\n",
                "import matplotlib.pyplot as plt\n",
                "import seaborn as sns"
            ]
        },
        {
            "cell_type": "markdown",
            "metadata": {
                "deletable": false,
                "editable": false,
                "nbgrader": {
                    "grade": false,
                    "locked": true,
                    "solution": false
                }
            },
            "source": [
                "**CS0.** *Plot:* Read data for Boston Housing Prices and write a function `get_features_targets()` to get the columns for the features and the targets from the input argument data frame. The function should take in Pandas' dataframe and two lists. The first list is for the feature names and the other list is for the target names. \n",
                "\n",
                "We will use the following columns for our test cases:\n",
                "- x data: RM column - use z normalization (standardization)\n",
                "- y data: MEDV column\n",
                "\n",
                "**Make sure you return a new data frame for both the features and the targets.**\n",
                "\n",
                "We will normalize the feature using z normalization. Plot the data using scatter plot. \n",
                "\n"
            ]
        },
        {
            "cell_type": "code",
            "execution_count": 3,
            "metadata": {},
            "outputs": [],
            "source": [
                "def normalize_z(dfin: pd.DataFrame, columns_means: pd.Series | None = None, columns_stds: pd.Series | None = None):\n",
                "    if columns_means == None:\n",
                "        columns_means = dfin.mean(axis=0)\n",
                "    if columns_stds == None: \n",
                "        # columns_stds is given as opt arg because if dfin only contains 1 sample (1 row), then dfin.std(axis=0) will be 0 and dfout will be error\n",
                "        columns_stds = dfin.std(axis=0)\n",
                "    dfout = (dfin - columns_means) / columns_stds\n",
                "    return dfout, columns_means, columns_stds"
            ]
        },
        {
            "cell_type": "code",
            "execution_count": 4,
            "metadata": {},
            "outputs": [],
            "source": [
                "def get_features_targets(df, feature_names, target_names):\n",
                "    return df[feature_names], df[target_names]"
            ]
        },
        {
            "cell_type": "code",
            "execution_count": 5,
            "metadata": {
                "deletable": false,
                "editable": false,
                "nbgrader": {
                    "grade": true,
                    "grade_id": "cs01",
                    "locked": true,
                    "points": "1",
                    "solution": false
                }
            },
            "outputs": [],
            "source": [
                "df = pd.read_csv(\"housing_processed.csv\")\n",
                "df_feature, df_target = get_features_targets(df,[\"RM\"],[\"MEDV\"])\n",
                "df_feature,_,_ = normalize_z(df_feature)\n",
                "\n",
                "assert isinstance(df_feature, pd.DataFrame)\n",
                "assert isinstance(df_target, pd.DataFrame)\n",
                "assert np.isclose(df_feature.mean(), 0.0)\n",
                "assert np.isclose(df_feature.std(), 1.0)\n",
                "assert np.isclose(df_target.mean(), 22.532806)\n",
                "assert np.isclose(df_target.std(), 9.1971)\n"
            ]
        },
        {
            "cell_type": "code",
            "execution_count": 6,
            "metadata": {
                "deletable": false,
                "editable": false,
                "nbgrader": {
                    "grade": true,
                    "grade_id": "cs02",
                    "locked": true,
                    "points": "1",
                    "solution": false
                }
            },
            "outputs": [],
            "source": [
                "###\n",
                "### AUTOGRADER TEST - DO NOT REMOVE\n",
                "###\n"
            ]
        },
        {
            "cell_type": "code",
            "execution_count": 7,
            "metadata": {
                "deletable": false,
                "editable": false,
                "nbgrader": {
                    "grade": false,
                    "locked": true,
                    "solution": false
                }
            },
            "outputs": [
                {
                    "data": {
                        "text/plain": [
                            "<matplotlib.collections.PathCollection at 0x114e87110>"
                        ]
                    },
                    "execution_count": 7,
                    "metadata": {},
                    "output_type": "execute_result"
                },
                {
                    "data": {
                        "image/png": "[encoded data removed]",
                        "text/plain": [
                            "<Figure size 640x480 with 1 Axes>"
                        ]
                    },
                    "metadata": {},
                    "output_type": "display_data"
                }
            ],
            "source": [
                "sns.set()\n",
                "plt.scatter(df_feature, df_target)"
            ]
        },
        {
            "cell_type": "markdown",
            "metadata": {
                "deletable": false,
                "editable": false,
                "nbgrader": {
                    "grade": false,
                    "locked": true,
                    "solution": false
                }
            },
            "source": [
                "**CS1.** *Cost Function:* Write a function `compute_cost_linreg()` to compute the cost function of a linear regression model. The function should take in two 2-D numpy arrays. The first one is the matrix of the linear equation and the second one is the actual target value.\n",
                "\n",
                "Recall that:\n",
                "\n",
                "$$J(\\hat{\\beta}_0, \\hat{\\beta}_1) = \\frac{1}{2m}\\Sigma^m_{i=1}\\left(\\hat{y}(x^i)-y^i\\right)^2$$\n",
                "\n",
                "where\n",
                "\n",
                "$$\\hat{y}(x^i) = \\hat{\\beta}_0 + \\hat{\\beta}_1 x^i$$\n",
                "\n",
                "The function should receive a numpy array, so we will need to convert to numpy array and change the shape. To do this, we will create three other functions:\n",
                "- `calc_linreg(X, b)`: which is used to calculate the $\\hat{y} = Xb$ vector.\n",
                "- `prepare_feature(df)`: which takes in a data frame or two-dimensional numpy array for the feature. If the input is a data frame, the function should convert the data frame to a numpy array and change it into a column vector. The function should also add a column of constant 1s in the first column.\n",
                "- `prepare_target(df)`: which takes in a data frame or two-dimensional numpy array for the target. If the input is a data frame, the function should simply convert the data frame to a numpy array and change it into column vectors. **The function should be able to handle if the data frame or the numpy array have more than one column.**\n",
                "\n",
                "You can use the following methods in your code:\n",
                "- `df.to_numpy()`: which is to convert a Pandas data frame to Numpy array.\n",
                "- `np.reshape(row, col)`: which is to reshape the numpy array to a particular shape.\n",
                "- `np.concatenate((array1, array2), axis)`: which is to join a sequence of arrays along an existing axis.\n",
                "- `np.matmul(array1, array2)`: which is to do matrix multiplication on two Numpy arrays.\n"
            ]
        },
        {
            "cell_type": "code",
            "execution_count": 53,
            "metadata": {},
            "outputs": [],
            "source": [
                "def prepare_target(df_target: pd.DataFrame | np.ndarray | pd.Series):\n",
                "    try:\n",
                "        cols = df_target.shape[1] # df_target.shape returns a tuple #row,#col, i'm expecting 1 here at Week 9\n",
                "    except IndexError:\n",
                "        cols = 1\n",
                "    # check if df_target is a dataframe? \n",
                "    if isinstance(df_target, pd.DataFrame):\n",
                "        # if yes, convert to numpy using the to_numpy() func from Pandas\n",
                "        np_target = df_target.to_numpy()\n",
                "    elif isinstance(df_target, pd.Series):\n",
                "        np_target = df_target.to_numpy()\n",
                "    elif isinstance(df_target, np.ndarray):\n",
                "        # by definition, if arg is not a DF, it will be a numpy array\n",
                "        np_target = df_target \n",
                "    return np_target.reshape(-1, cols) \n",
                "    "
            ]
        },
        {
            "cell_type": "code",
            "execution_count": 9,
            "metadata": {},
            "outputs": [
                {
                    "name": "stdout",
                    "output_type": "stream",
                    "text": [
                        "[[1.]\n",
                        " [1.]\n",
                        " [1.]]\n"
                    ]
                },
                {
                    "data": {
                        "text/plain": [
                            "array([[1, 1, 2, 3],\n",
                            "       [1, 2, 2, 3],\n",
                            "       [1, 3, 2, 3]])"
                        ]
                    },
                    "execution_count": 9,
                    "metadata": {},
                    "output_type": "execute_result"
                }
            ],
            "source": [
                "def prepare_feature(df_feature: pd.DataFrame | np.ndarray):\n",
                "    res = prepare_target(df_feature)\n",
                "    return np.insert(res, 0, 1, axis=1)\n",
                "\n",
                "\n",
                "test_a = np.array(\n",
                "    [\n",
                "        [1, 2, 3],\n",
                "        [2, 2, 3],\n",
                "        [3, 2, 3]\n",
                "    ]\n",
                ")\n",
                "print(np.ones((test_a.shape[0], 1)))\n",
                "prepare_feature(test_a)"
            ]
        },
        {
            "cell_type": "code",
            "execution_count": 10,
            "metadata": {},
            "outputs": [],
            "source": [
                "def calc_linreg(X: np.ndarray, beta: np.ndarray) -> np.ndarray:\n",
                "    return X @ beta"
            ]
        },
        {
            "cell_type": "code",
            "execution_count": 11,
            "metadata": {},
            "outputs": [],
            "source": [
                "def compute_cost_linreg(X: np.ndarray, actual_y: np.ndarray, beta: np.ndarray):\n",
                "    n_samples = X.shape[0]\n",
                "    predicted_y = calc_linreg(X, beta)\n",
                "    error = predicted_y - actual_y\n",
                "\n",
                "    J = 1 / (2 * n_samples) * (error.transpose() @ error)\n",
                "    return J[0, 0]\n"
            ]
        },
        {
            "cell_type": "code",
            "execution_count": 12,
            "metadata": {
                "deletable": false,
                "editable": false,
                "nbgrader": {
                    "grade": true,
                    "grade_id": "cs11",
                    "locked": true,
                    "points": "1",
                    "solution": false
                }
            },
            "outputs": [],
            "source": [
                "X = prepare_feature(df_feature)\n",
                "target = prepare_target(df_target)\n",
                "\n",
                "assert isinstance(X, np.ndarray)\n",
                "assert isinstance(target, np.ndarray)\n",
                "assert X.shape == (506, 2)\n",
                "assert target.shape == (506, 1)"
            ]
        },
        {
            "cell_type": "code",
            "execution_count": 13,
            "metadata": {
                "deletable": false,
                "editable": false,
                "nbgrader": {
                    "grade": true,
                    "grade_id": "cs12",
                    "locked": true,
                    "points": "1",
                    "solution": false
                }
            },
            "outputs": [],
            "source": [
                "###\n",
                "### AUTOGRADER TEST - DO NOT REMOVE\n",
                "###\n"
            ]
        },
        {
            "cell_type": "code",
            "execution_count": 14,
            "metadata": {
                "deletable": false,
                "editable": false,
                "nbgrader": {
                    "grade": true,
                    "grade_id": "cs13",
                    "locked": true,
                    "points": "1",
                    "solution": false
                }
            },
            "outputs": [
                {
                    "name": "stdout",
                    "output_type": "stream",
                    "text": [
                        "296.07345849802374\n",
                        "268.1570051486897\n",
                        "308.33699448710274\n"
                    ]
                }
            ],
            "source": [
                "# print(X)\n",
                "beta = np.zeros((2,1))\n",
                "J = compute_cost_linreg(X, target, beta)\n",
                "print(J)\n",
                "assert np.isclose(J, 296.0735)\n",
                "\n",
                "beta = np.ones((2,1))\n",
                "J = compute_cost_linreg(X, target, beta)\n",
                "print(J)\n",
                "assert np.isclose(J, 268.157)\n",
                "\n",
                "beta = np.array([-1, 2]).reshape((2,1))\n",
                "J = compute_cost_linreg(X, target, beta)\n",
                "print(J)\n",
                "assert np.isclose(J, 308.337)\n"
            ]
        },
        {
            "cell_type": "code",
            "execution_count": 15,
            "metadata": {
                "deletable": false,
                "editable": false,
                "nbgrader": {
                    "grade": true,
                    "grade_id": "cs14",
                    "locked": true,
                    "points": "1",
                    "solution": false
                }
            },
            "outputs": [],
            "source": [
                "###\n",
                "### AUTOGRADER TEST - DO NOT REMOVE\n",
                "###\n"
            ]
        },
        {
            "cell_type": "markdown",
            "metadata": {
                "deletable": false,
                "editable": false,
                "nbgrader": {
                    "grade": false,
                    "locked": true,
                    "solution": false
                }
            },
            "source": [
                "**CS2.** *Gradient Descent:* Write a function called `gradient_descent_linreg()` that takes in these parameters:\n",
                "- `X`: is a 2-D numpy array for the features\n",
                "- `y`: is a vector array for the target\n",
                "- `beta`: is a column vector for the initial guess of the parameters\n",
                "- `alpha`: is the learning rate\n",
                "- `num_iters`: is the number of iteration to perform\n",
                "\n",
                "The function should return two numpy arrays:\n",
                "- `beta`: is coefficient at the end of the iteration\n",
                "- `J_storage`: is the array that stores the cost value at each iteration\n",
                "\n",
                "You can use some of the following functions:\n",
                "- `calc_linreg(X, b)`: which is used to calculate $y = Xb$ vector.\n",
                "- `np.matmul(array1, array2)`: which is to do matrix multiplication on two Numpy arrays.\n",
                "- `compute_cost_linreg()`: which the function you created in the previous problem set to compute the cost."
            ]
        },
        {
            "cell_type": "code",
            "execution_count": 16,
            "metadata": {},
            "outputs": [],
            "source": [
                "def gradient_descent_linreg(\n",
                "        X: np.ndarray,\n",
                "        actual_y: np.ndarray, \n",
                "        beta: np.ndarray, \n",
                "        learning_rate: float, \n",
                "        num_iters: int):\n",
                "    n_samples = X.shape[0]\n",
                "    J_storage = np.zeros((num_iters, 1))\n",
                "    for i in range(num_iters):\n",
                "        predicted_y = calc_linreg(X, beta)\n",
                "        gradient = X.T @ (predicted_y - actual_y)\n",
                "        beta = beta - learning_rate / n_samples * gradient\n",
                "        J_storage[i] = compute_cost_linreg(X, actual_y, beta)\n",
                "    return beta, J_storage"
            ]
        },
        {
            "cell_type": "code",
            "execution_count": 17,
            "metadata": {
                "deletable": false,
                "editable": false,
                "nbgrader": {
                    "grade": true,
                    "grade_id": "cs21",
                    "locked": true,
                    "points": "1",
                    "solution": false
                }
            },
            "outputs": [
                {
                    "name": "stdout",
                    "output_type": "stream",
                    "text": [
                        "[[22.53279993]\n",
                        " [ 6.39529594]]\n"
                    ]
                }
            ],
            "source": [
                "iterations = 1500\n",
                "learning_rate = 0.01\n",
                "beta = np.zeros((2,1))\n",
                "\n",
                "beta, J_storage = gradient_descent_linreg(X, target, beta, learning_rate, iterations)\n",
                "print(beta)\n",
                "assert np.isclose(beta[0], 22.5328)\n",
                "assert np.isclose(beta[1], 6.3953)"
            ]
        },
        {
            "cell_type": "code",
            "execution_count": 18,
            "metadata": {
                "deletable": false,
                "editable": false,
                "nbgrader": {
                    "grade": true,
                    "grade_id": "cs22",
                    "locked": true,
                    "points": "1",
                    "solution": false
                }
            },
            "outputs": [],
            "source": [
                "###\n",
                "### AUTOGRADER TEST - DO NOT REMOVE\n",
                "###\n"
            ]
        },
        {
            "cell_type": "code",
            "execution_count": 19,
            "metadata": {
                "deletable": false,
                "editable": false,
                "nbgrader": {
                    "grade": false,
                    "locked": true,
                    "solution": false
                }
            },
            "outputs": [
                {
                    "data": {
                        "text/plain": [
                            "[<matplotlib.lines.Line2D at 0x1151acd10>]"
                        ]
                    },
                    "execution_count": 19,
                    "metadata": {},
                    "output_type": "execute_result"
                },
                {
                    "data": {
                        "image/png": "[encoded data removed]",
                        "text/plain": [
                            "<Figure size 640x480 with 1 Axes>"
                        ]
                    },
                    "metadata": {},
                    "output_type": "display_data"
                }
            ],
            "source": [
                "plt.plot(J_storage)"
            ]
        },
        {
            "cell_type": "markdown",
            "metadata": {
                "deletable": false,
                "editable": false,
                "nbgrader": {
                    "grade": false,
                    "locked": true,
                    "solution": false
                }
            },
            "source": [
                "**CS3.** *Predict:* Write the function `predict_linreg()` that calculates the straight line equation given the features and its coefficient.\n",
                "- `predict_linreg()`: this function should standardize the feature using z normalization, change it to a Numpy array, and add a column of constant 1s. You should use `prepare_feature()` for this purpose. Lastly, this function should also call `calc_linreg()` to get the predicted y values.\n",
                "\n",
                "You can use some of the following functions:\n",
                "- `calc_linreg(X, beta)`: which is used to calculate the predicted y after X has been normalized and added by a constant.\n",
                "- `np.matmul(array1, array2)`: which is to do matrix multiplication on two Numpy arrays.\n",
                "- `normalize_z(df)`: which is to do z normalization on the data frame."
            ]
        },
        {
            "cell_type": "code",
            "execution_count": 20,
            "metadata": {},
            "outputs": [],
            "source": [
                "def predict_linreg(df_feature, beta, means=None, stds=None):\n",
                "    \"\"\"\n",
                "    * beta: a column vector of beta_0 and beta_1.\n",
                "    \"\"\"\n",
                "    normalized, _, _ = normalize_z(df_feature, means, stds)\n",
                "    prepared = prepare_feature(normalized)\n",
                "    return prepared @ beta"
            ]
        },
        {
            "cell_type": "code",
            "execution_count": 21,
            "metadata": {
                "deletable": false,
                "editable": false,
                "nbgrader": {
                    "grade": true,
                    "grade_id": "cs31",
                    "locked": true,
                    "points": "1",
                    "solution": false
                }
            },
            "outputs": [],
            "source": [
                "df_feature, buf = get_features_targets(df, [\"RM\"], [])\n",
                "# print(df_feature)\n",
                "beta = [[22.53279993],[ 6.39529594]] # from previous result\n",
                "pred = predict_linreg(df_feature, beta)\n",
                "\n",
                "assert isinstance(pred, np.ndarray)\n",
                "assert pred.shape == (506, 1)\n",
                "assert np.isclose(pred.mean(), 22.5328)\n",
                "assert np.isclose(pred.std(), 6.38897)"
            ]
        },
        {
            "cell_type": "code",
            "execution_count": 22,
            "metadata": {
                "deletable": false,
                "editable": false,
                "nbgrader": {
                    "grade": true,
                    "grade_id": "cs32",
                    "locked": true,
                    "points": "1",
                    "solution": false
                }
            },
            "outputs": [],
            "source": [
                "means = [6.284634]\n",
                "stds = [0.702617]\n",
                "beta = [[22.53279993],[ 6.39529594]] # from previous result\n",
                "input_1row = np.array([[6.593]])\n",
                "pred_1row = predict_linreg(input_1row, beta, means, stds)\n",
                "assert np.isclose(pred_1row[0][0], 25.33958)"
            ]
        },
        {
            "cell_type": "code",
            "execution_count": 23,
            "metadata": {
                "deletable": false,
                "editable": false,
                "nbgrader": {
                    "grade": true,
                    "grade_id": "cs33",
                    "locked": true,
                    "points": "1",
                    "solution": false
                }
            },
            "outputs": [],
            "source": [
                "###\n",
                "### AUTOGRADER TEST - DO NOT REMOVE\n",
                "###\n"
            ]
        },
        {
            "cell_type": "code",
            "execution_count": 24,
            "metadata": {
                "deletable": false,
                "editable": false,
                "nbgrader": {
                    "grade": false,
                    "locked": true,
                    "solution": false
                }
            },
            "outputs": [
                {
                    "data": {
                        "text/plain": [
                            "[<matplotlib.lines.Line2D at 0x11522f790>]"
                        ]
                    },
                    "execution_count": 24,
                    "metadata": {},
                    "output_type": "execute_result"
                },
                {
                    "data": {
                        "image/png": "[encoded data removed]",
                        "text/plain": [
                            "<Figure size 640x480 with 1 Axes>"
                        ]
                    },
                    "metadata": {},
                    "output_type": "display_data"
                }
            ],
            "source": [
                "plt.plot(df_feature[\"RM\"],target,'o')\n",
                "plt.plot(df_feature[\"RM\"],pred,'-')"
            ]
        },
        {
            "cell_type": "markdown",
            "metadata": {
                "deletable": false,
                "editable": false,
                "nbgrader": {
                    "grade": false,
                    "locked": true,
                    "solution": false
                }
            },
            "source": [
                "**CS4.** *Splitting data:* Do the following tasks:\n",
                "- Read RM as the feature and MEDV as the target from the data frame.\n",
                "- Use Week 9's function `split_data()` to split the data into train and test using `random_state=100` and `test_size=0.3`. \n",
                "- Normalize and prepare the features and the target.\n",
                "- Use the training data set and call `gradient_descent_linreg()` to obtain the `theta`.\n",
                "- Use the test data set to get the predicted values.\n",
                "\n",
                "You need to replace the `None` in the code below with other a function call or any other Python expressions. "
            ]
        },
        {
            "cell_type": "code",
            "execution_count": 71,
            "metadata": {},
            "outputs": [],
            "source": [
                "def split_data(df_feature: pd.DataFrame, df_target, random_state=None, test_size=0.3):\n",
                "    np.random.seed(random_state)\n",
                "\n",
                "    # generate randomized mask (i.e. list[True|False])\n",
                "    # test_mask = np.concatenate([\n",
                "    #     np.ones(int(len(df_feature) * test_size), dtype=bool),\n",
                "    #     np.zeros(len(df_feature) - int(len(df_feature) * test_size), dtype=bool)\n",
                "    # ])\n",
                "    # np.random.shuffle(test_mask)\n",
                "\n",
                "    test_indexes = np.random.choice(df_feature.index, int(len(df_feature) * test_size), replace=False)\n",
                "\n",
                "    feature_indexes = [index for index in df_feature.index if index not in test_indexes]\n",
                "\n",
                "    # print(test_indexes)\n",
                "\n",
                "    df_feature_train = df_feature.loc[feature_indexes]\n",
                "    df_feature_test  = df_feature.loc[test_indexes]\n",
                "    df_target_train  = df_target.loc[feature_indexes]\n",
                "    df_target_test   = df_target.loc[test_indexes]\n",
                "\n",
                "    # df_feature_train = df_feature.loc[~test_mask]\n",
                "    # df_feature_test  = df_feature.loc[test_mask]\n",
                "    # df_target_train  = df_target.loc[~test_mask]\n",
                "    # df_target_test   = df_target.loc[test_mask]\n",
                "\n",
                "    return df_feature_train, df_feature_test, df_target_train, df_target_test\n",
                "    "
            ]
        },
        {
            "cell_type": "code",
            "execution_count": 72,
            "metadata": {},
            "outputs": [
                {
                    "name": "stdout",
                    "output_type": "stream",
                    "text": [
                        "<class 'pandas.core.series.Series'>\n",
                        "(2, 1)\n"
                    ]
                }
            ],
            "source": [
                "# get features and targets from data frame\n",
                "df_feature, df_target = (df[\"RM\"], df[\"MEDV\"])\n",
                "\n",
                "# split the data into training and test data sets\n",
                "df_feature_train, df_feature_test, df_target_train, df_target_test = split_data(df_feature, df_target, random_state=100, test_size=0.3)\n",
                "\n",
                "# normalize the feature using z normalization\n",
                "df_feature_train_z, _, _ = normalize_z(df_feature_train)\n",
                "\n",
                "print(type(df_feature_train_z))\n",
                "\n",
                "X = prepare_feature(df_feature_train_z)\n",
                "target = prepare_target(df_target_train)\n",
                "\n",
                "iterations = 1500\n",
                "learning_rate = 0.01\n",
                "beta = np.zeros((2, 1))\n",
                "\n",
                "print(beta.shape)\n",
                "\n",
                "# call the gradient_descent function\n",
                "beta, J_storage = gradient_descent_linreg(X, target, beta, learning_rate, iterations)\n",
                "\n",
                "# call the predict method to get the predicted values\n",
                "pred = predict_linreg(df_feature_test, beta)\n",
                "\n",
                "###\n",
                "### YOUR CODE HERE\n",
                "###\n"
            ]
        },
        {
            "cell_type": "code",
            "execution_count": 73,
            "metadata": {
                "deletable": false,
                "editable": false,
                "nbgrader": {
                    "grade": true,
                    "grade_id": "cs41",
                    "locked": true,
                    "points": "1",
                    "solution": false
                }
            },
            "outputs": [
                {
                    "data": {
                        "text/html": [
                            "<div>\n",
                            "<style scoped>\n",
                            "    .dataframe tbody tr th:only-of-type {\n",
                            "        vertical-align: middle;\n",
                            "    }\n",
                            "\n",
                            "    .dataframe tbody tr th {\n",
                            "        vertical-align: top;\n",
                            "    }\n",
                            "\n",
                            "    .dataframe thead th {\n",
                            "        text-align: right;\n",
                            "    }\n",
                            "</style>\n",
                            "<table border=\"1\" class=\"dataframe\">\n",
                            "  <thead>\n",
                            "    <tr style=\"text-align: right;\">\n",
                            "      <th></th>\n",
                            "      <th>0</th>\n",
                            "    </tr>\n",
                            "  </thead>\n",
                            "  <tbody>\n",
                            "    <tr>\n",
                            "      <th>count</th>\n",
                            "      <td>151.000000</td>\n",
                            "    </tr>\n",
                            "    <tr>\n",
                            "      <th>mean</th>\n",
                            "      <td>22.668163</td>\n",
                            "    </tr>\n",
                            "    <tr>\n",
                            "      <th>std</th>\n",
                            "      <td>6.278087</td>\n",
                            "    </tr>\n",
                            "    <tr>\n",
                            "      <th>min</th>\n",
                            "      <td>4.620401</td>\n",
                            "    </tr>\n",
                            "    <tr>\n",
                            "      <th>25%</th>\n",
                            "      <td>19.031242</td>\n",
                            "    </tr>\n",
                            "    <tr>\n",
                            "      <th>50%</th>\n",
                            "      <td>21.817816</td>\n",
                            "    </tr>\n",
                            "    <tr>\n",
                            "      <th>75%</th>\n",
                            "      <td>25.436061</td>\n",
                            "    </tr>\n",
                            "    <tr>\n",
                            "      <th>max</th>\n",
                            "      <td>46.270840</td>\n",
                            "    </tr>\n",
                            "  </tbody>\n",
                            "</table>\n",
                            "</div>"
                        ],
                        "text/plain": [
                            "                0\n",
                            "count  151.000000\n",
                            "mean    22.668163\n",
                            "std      6.278087\n",
                            "min      4.620401\n",
                            "25%     19.031242\n",
                            "50%     21.817816\n",
                            "75%     25.436061\n",
                            "max     46.270840"
                        ]
                    },
                    "metadata": {},
                    "output_type": "display_data"
                }
            ],
            "source": [
                "\n",
                "assert isinstance(pred, np.ndarray)\n",
                "assert pred.shape == (151, 1)\n",
                "display(pd.DataFrame(pred).describe())\n",
                "assert np.isclose(pred.mean(), 22.66816)\n",
                "assert np.isclose(pred.std(), 6.257265)\n"
            ]
        },
        {
            "cell_type": "code",
            "execution_count": 27,
            "metadata": {
                "deletable": false,
                "editable": false,
                "nbgrader": {
                    "grade": true,
                    "grade_id": "cs42",
                    "locked": true,
                    "points": "1",
                    "solution": false
                }
            },
            "outputs": [],
            "source": [
                "###\n",
                "### AUTOGRADER TEST - DO NOT REMOVE\n",
                "###\n"
            ]
        },
        {
            "cell_type": "code",
            "execution_count": 74,
            "metadata": {
                "deletable": false,
                "editable": false,
                "nbgrader": {
                    "grade": false,
                    "locked": true,
                    "solution": false
                }
            },
            "outputs": [
                {
                    "data": {
                        "text/plain": [
                            "[<matplotlib.lines.Line2D at 0x1155e95d0>]"
                        ]
                    },
                    "execution_count": 74,
                    "metadata": {},
                    "output_type": "execute_result"
                },
                {
                    "data": {
                        "image/png": "[encoded data removed]",
                        "text/plain": [
                            "<Figure size 640x480 with 1 Axes>"
                        ]
                    },
                    "metadata": {},
                    "output_type": "display_data"
                }
            ],
            "source": [
                "plt.scatter(df_feature_test, df_target_test)\n",
                "plt.plot(df_feature_test, pred, color=\"orange\")"
            ]
        },
        {
            "cell_type": "markdown",
            "metadata": {
                "deletable": false,
                "editable": false,
                "nbgrader": {
                    "grade": false,
                    "locked": true,
                    "solution": false
                }
            },
            "source": [
                "**CS5.** *R2 Coefficient of Determination:* Write a function to calculate the coefficient of determination as given by the following equations.\n",
                "\n",
                "$$r^2 = 1 - \\frac{SS_{res}}{SS_{tot}}$$\n",
                "\n",
                "where\n",
                "\n",
                "$$SS_{res} = \\Sigma_{i=1}^n (y_i - \\hat{y}_i)^2$$ \n",
                "\n",
                "where $y_i$ is the actual target value and $\\hat{y}_i$ is the predicted target value.\n",
                "\n",
                "$$SS_{tot} = \\Sigma_{i=1}^n (y_i - \\overline{y})^2$$\n",
                "\n",
                "where \n",
                "$$ \\overline{y} = \\frac{1}{n} \\Sigma_{i=1}^n y_i$$\n",
                "and $n$ is the number of target values.\n",
                "\n",
                "You can use the following functions in your code:\n",
                "- `np.mean(array)`: which is to get the mean of the array. You can also call it using `array.mean()`.\n",
                "- `np.sum(array)`: which is to sum the array along a default axis. You can specify which axis to perform the summation."
            ]
        },
        {
            "cell_type": "code",
            "execution_count": 78,
            "metadata": {},
            "outputs": [],
            "source": [
                "def r2_score(y: np.ndarray, ypred):\n",
                "    ss_res = sum((y_i - ypred_i)**2 for y_i, ypred_i in zip(y, ypred))\n",
                "    ss_tot = sum((y_i - y.mean())**2 for y_i in y)\n",
                "    return 1 - ss_res / ss_tot"
            ]
        },
        {
            "cell_type": "code",
            "execution_count": 79,
            "metadata": {
                "deletable": false,
                "editable": false,
                "nbgrader": {
                    "grade": true,
                    "grade_id": "cs51",
                    "locked": true,
                    "points": "1",
                    "solution": false
                }
            },
            "outputs": [
                {
                    "name": "stdout",
                    "output_type": "stream",
                    "text": [
                        "[0.45398075]\n"
                    ]
                }
            ],
            "source": [
                "target = prepare_target(df_target_test)\n",
                "r2 = r2_score(target, pred)\n",
                "print(r2)\n",
                "assert np.isclose(r2, 0.45398)"
            ]
        },
        {
            "cell_type": "code",
            "execution_count": 31,
            "metadata": {
                "deletable": false,
                "editable": false,
                "nbgrader": {
                    "grade": true,
                    "grade_id": "cs52",
                    "locked": true,
                    "points": "1",
                    "solution": false
                }
            },
            "outputs": [],
            "source": [
                "###\n",
                "### AUTOGRADER TEST - DO NOT REMOVE\n",
                "###\n"
            ]
        },
        {
            "cell_type": "markdown",
            "metadata": {
                "deletable": false,
                "editable": false,
                "nbgrader": {
                    "grade": false,
                    "locked": true,
                    "solution": false
                }
            },
            "source": [
                "**CS6.** *Mean Squared Error:* Create a function to calculate the MSE as given below.\n",
                "\n",
                "$$MSE = \\frac{1}{n}\\Sigma_{i=1}^n(y_i - \\hat{y}_i)^2$$\n"
            ]
        },
        {
            "cell_type": "code",
            "execution_count": 80,
            "metadata": {},
            "outputs": [],
            "source": [
                "def mean_squared_error(target, pred):\n",
                "    return 1/len(target) * sum((y_i - yhat_i)**2 for y_i, yhat_i in zip(target, pred))"
            ]
        },
        {
            "cell_type": "code",
            "execution_count": 81,
            "metadata": {
                "deletable": false,
                "editable": false,
                "nbgrader": {
                    "grade": true,
                    "grade_id": "cs61",
                    "locked": true,
                    "points": "1",
                    "solution": false
                }
            },
            "outputs": [
                {
                    "name": "stdout",
                    "output_type": "stream",
                    "text": [
                        "[53.63748803]\n"
                    ]
                }
            ],
            "source": [
                "mse = mean_squared_error(target, pred)\n",
                "print(mse)\n",
                "assert np.isclose(mse, 53.6375)"
            ]
        },
        {
            "cell_type": "code",
            "execution_count": 34,
            "metadata": {
                "deletable": false,
                "editable": false,
                "nbgrader": {
                    "grade": true,
                    "grade_id": "cs62",
                    "locked": true,
                    "points": "1",
                    "solution": false
                }
            },
            "outputs": [],
            "source": [
                "###\n",
                "### AUTOGRADER TEST - DO NOT REMOVE\n",
                "###\n"
            ]
        },
        {
            "cell_type": "markdown",
            "metadata": {
                "deletable": false,
                "editable": false,
                "nbgrader": {
                    "grade": false,
                    "locked": true,
                    "solution": false
                }
            },
            "source": [
                "**CS7.** *Optional:* Redo the above tasks using Sci-kit learn libraries. You will need to use the following:\n",
                "- [LinearRegression](https://scikit-learn.org/stable/modules/generated/sklearn.linear_model.LinearRegression.html)\n",
                "- [train_test_split](https://scikit-learn.org/stable/modules/generated/sklearn.model_selection.train_test_split.html)\n",
                "- [r2_score](https://scikit-learn.org/stable/modules/generated/sklearn.metrics.r2_score.html)\n",
                "- [mean_squared_error](https://scikit-learn.org/stable/modules/generated/sklearn.metrics.mean_squared_error.html)"
            ]
        },
        {
            "cell_type": "code",
            "execution_count": 35,
            "metadata": {
                "deletable": false,
                "editable": false,
                "nbgrader": {
                    "grade": false,
                    "locked": true,
                    "solution": false
                }
            },
            "outputs": [],
            "source": [
                "from sklearn.linear_model import LinearRegression\n",
                "from sklearn.model_selection import train_test_split\n",
                "from sklearn.metrics import r2_score, mean_squared_error"
            ]
        },
        {
            "cell_type": "code",
            "execution_count": 36,
            "metadata": {},
            "outputs": [],
            "source": [
                "# Read the CSV and extract the features\n",
                "df = None\n",
                "df_feature, df_target = None, None\n",
                "# normalize\n",
                "df_feature = None\n",
                "\n",
                "###\n",
                "### YOUR CODE HERE\n",
                "###\n"
            ]
        },
        {
            "cell_type": "code",
            "execution_count": 37,
            "metadata": {},
            "outputs": [],
            "source": [
                "# Split the data into training and test data set using scikit-learn function\n",
                "df_feature_train, df_feature_test, df_target_train, df_target_test = None, None, None, None\n",
                "\n",
                "# Instantiate LinearRegression() object\n",
                "model = None\n",
                "\n",
                "# Call the fit() method\n",
                "pass\n",
                "\n",
                "###\n",
                "### YOUR CODE HERE\n",
                "###\n",
                "\n",
                "print(model.coef_, model.intercept_)\n",
                "assert np.isclose(model.coef_,[6.05090511])\n",
                "assert np.isclose(model.intercept_, 22.52999668)"
            ]
        },
        {
            "cell_type": "code",
            "execution_count": 38,
            "metadata": {},
            "outputs": [],
            "source": [
                "# Call the predict() method\n",
                "pred = None\n",
                "\n",
                "###\n",
                "### YOUR CODE HERE\n",
                "###\n",
                "\n",
                "print(type(pred), pred.mean(), pred.std())\n",
                "assert isinstance(pred, np.ndarray)\n",
                "assert np.isclose(pred.mean(), 22.361699)\n",
                "assert np.isclose(pred.std(), 5.7011267)"
            ]
        },
        {
            "cell_type": "code",
            "execution_count": 39,
            "metadata": {
                "deletable": false,
                "editable": false,
                "nbgrader": {
                    "grade": false,
                    "locked": true,
                    "solution": false
                }
            },
            "outputs": [],
            "source": [
                "plt.scatter(df_feature_test, df_target_test)\n",
                "plt.plot(df_feature_test, pred, color=\"orange\")"
            ]
        },
        {
            "cell_type": "code",
            "execution_count": 40,
            "metadata": {
                "deletable": false,
                "editable": false,
                "nbgrader": {
                    "grade": false,
                    "locked": true,
                    "solution": false
                }
            },
            "outputs": [],
            "source": [
                "r2 = r2_score(df_target_test, pred)\n",
                "print(r2)\n",
                "assert np.isclose(r2, 0.457647)"
            ]
        },
        {
            "cell_type": "code",
            "execution_count": 41,
            "metadata": {
                "deletable": false,
                "editable": false,
                "nbgrader": {
                    "grade": false,
                    "locked": true,
                    "solution": false
                }
            },
            "outputs": [],
            "source": [
                "mse = mean_squared_error(df_target_test, pred)\n",
                "print(mse)\n",
                "assert np.isclose(mse, 54.93216)"
            ]
        }
    ],
    "metadata": {
        "kernelspec": {
            "display_name": "Python 3 [3.10]",
            "language": "python",
            "name": "python3"
        },
        "language_info": {
            "codemirror_mode": {
                "name": "ipython",
                "version": 3
            },
            "file_extension": ".py",
            "mimetype": "text/x-python",
            "name": "python",
            "nbconvert_exporter": "python",
            "pygments_lexer": "ipython3",
            "version": "3.11.6"
        },
        "vscode": {
            "interpreter": {
                "hash": "ac37b77c3c0f43e60bec193f0626743b91dd65d8d4aeca5713e457ab7e777e4c"
            }
        }
    },
    "nbformat": 4,
    "nbformat_minor": 4
}
