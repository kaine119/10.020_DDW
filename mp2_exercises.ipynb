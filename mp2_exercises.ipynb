{
 "cells": [
  {
   "cell_type": "markdown",
   "metadata": {},
   "source": [
    "# Mini Project: Sorting and Evaluating Math Expressions"
   ]
  },
  {
   "cell_type": "markdown",
   "metadata": {},
   "source": [
    "## Week 3"
   ]
  },
  {
   "cell_type": "markdown",
   "metadata": {},
   "source": [
    "**Q1.** *Mergesort:* Modify your `mergesort(array)` function that you did in your cohort session to take one additional argument called `byfunc`, i.e. `mergesort(array, byfunc)`. If the caller does not specify the value of `byfunc`, its default value is `None`. When this argument is `None`, the function `mergesort` behaves similar to your cohort session by sorting the array according to its values. However, when the value of this argument is not `None` but rather some other function, your `mergesort` function should sort the array according to the value returned by this function. \n",
    "\n",
    "For example, instead of sorting an array of integers, we want to sort an array of tupple.\n",
    "```python\n",
    "array = [(1, 2), (3, 2), (2, -1), (4, 7), (-1, -2)]\n",
    "```\n",
    "We can define a function say `select()` as follows:\n",
    "```python\n",
    "def select(item):\n",
    "    return item[0]\n",
    "```\n",
    "\n",
    "You can then should be able to call your `mergesort()` function in the following:\n",
    "```python\n",
    "mergesort(array, select)\n",
    "```\n",
    "which will sort the list of tuples according to the value of its *first* element (recall `item[0]` in `select()`). This means that if you want to sort based on the *second* element of the tuple, you can redefine select as:\n",
    "```python\n",
    "def select(item):\n",
    "    return item[1]\n",
    "```\n",
    "\n",
    "You can also apply this to a list of objects, say `User` class objects.\n",
    "```python\n",
    "array = [<User 1>, <User 2>, <User 3>, ..., <User 101>]\n",
    "```\n",
    "You can define the following `select()` function to sort according to its `username` attribute.\n",
    "```python\n",
    "def select(item):\n",
    "    return item.username\n",
    "```\n",
    "\n",
    "You can then call the `mergesort()` function as follows:\n",
    "```python\n",
    "mergesort(array, select)\n",
    "```\n",
    "\n",
    "Python allows you to write [lambda functions](https://realpython.com/python-lambda/) to replace your `select()` function definition. You can simply call merge sort with the following without defining `select()`.\n",
    "```python\n",
    "mergesort(array, lambda item: item.username)\n",
    "```"
   ]
  },
  {
   "cell_type": "code",
   "execution_count": 5,
   "metadata": {},
   "outputs": [],
   "source": [
    "def mergesort(array, byfunc=None):\n",
    "  pass"
   ]
  },
  {
   "cell_type": "code",
   "execution_count": 6,
   "metadata": {},
   "outputs": [
    {
     "ename": "AssertionError",
     "evalue": "",
     "output_type": "error",
     "traceback": [
      "\u001b[0;31m---------------------------------------------------------------------------\u001b[0m",
      "\u001b[0;31mAssertionError\u001b[0m                            Traceback (most recent call last)",
      "\u001b[1;32m/Users/student/Desktop/10.020_DDW/mp2_exercises.ipynb Cell 5\u001b[0m line \u001b[0;36m3\n\u001b[1;32m      <a href='vscode-notebook-cell:/Users/student/Desktop/10.020_DDW/mp2_exercises.ipynb#W4sZmlsZQ%3D%3D?line=0'>1</a>\u001b[0m array \u001b[39m=\u001b[39m [(\u001b[39m1\u001b[39m, \u001b[39m2\u001b[39m), (\u001b[39m3\u001b[39m, \u001b[39m2\u001b[39m), (\u001b[39m2\u001b[39m, \u001b[39m-\u001b[39m\u001b[39m1\u001b[39m), (\u001b[39m4\u001b[39m, \u001b[39m7\u001b[39m), (\u001b[39m-\u001b[39m\u001b[39m1\u001b[39m, \u001b[39m-\u001b[39m\u001b[39m2\u001b[39m)]\n\u001b[1;32m      <a href='vscode-notebook-cell:/Users/student/Desktop/10.020_DDW/mp2_exercises.ipynb#W4sZmlsZQ%3D%3D?line=1'>2</a>\u001b[0m mergesort(array, \u001b[39mlambda\u001b[39;00m item: item[\u001b[39m0\u001b[39m])\n\u001b[0;32m----> <a href='vscode-notebook-cell:/Users/student/Desktop/10.020_DDW/mp2_exercises.ipynb#W4sZmlsZQ%3D%3D?line=2'>3</a>\u001b[0m \u001b[39massert\u001b[39;00m array \u001b[39m==\u001b[39m [(\u001b[39m-\u001b[39m\u001b[39m1\u001b[39m, \u001b[39m-\u001b[39m\u001b[39m2\u001b[39m), (\u001b[39m1\u001b[39m, \u001b[39m2\u001b[39m), (\u001b[39m2\u001b[39m, \u001b[39m-\u001b[39m\u001b[39m1\u001b[39m), (\u001b[39m3\u001b[39m, \u001b[39m2\u001b[39m), (\u001b[39m4\u001b[39m, \u001b[39m7\u001b[39m)]\n\u001b[1;32m      <a href='vscode-notebook-cell:/Users/student/Desktop/10.020_DDW/mp2_exercises.ipynb#W4sZmlsZQ%3D%3D?line=3'>4</a>\u001b[0m mergesort(array, \u001b[39mlambda\u001b[39;00m item: item[\u001b[39m1\u001b[39m])\n\u001b[1;32m      <a href='vscode-notebook-cell:/Users/student/Desktop/10.020_DDW/mp2_exercises.ipynb#W4sZmlsZQ%3D%3D?line=4'>5</a>\u001b[0m \u001b[39massert\u001b[39;00m array \u001b[39m==\u001b[39m [(\u001b[39m-\u001b[39m\u001b[39m1\u001b[39m, \u001b[39m-\u001b[39m\u001b[39m2\u001b[39m), (\u001b[39m2\u001b[39m, \u001b[39m-\u001b[39m\u001b[39m1\u001b[39m), (\u001b[39m1\u001b[39m, \u001b[39m2\u001b[39m), (\u001b[39m3\u001b[39m, \u001b[39m2\u001b[39m), (\u001b[39m4\u001b[39m, \u001b[39m7\u001b[39m)]\n",
      "\u001b[0;31mAssertionError\u001b[0m: "
     ]
    }
   ],
   "source": [
    "array = [(1, 2), (3, 2), (2, -1), (4, 7), (-1, -2)]\n",
    "mergesort(array, lambda item: item[0])\n",
    "assert array == [(-1, -2), (1, 2), (2, -1), (3, 2), (4, 7)]\n",
    "mergesort(array, lambda item: item[1])\n",
    "assert array == [(-1, -2), (2, -1), (1, 2), (3, 2), (4, 7)]"
   ]
  },
  {
   "cell_type": "markdown",
   "metadata": {},
   "source": [
    "**Q2.** Create a class called `EvaluateExpression` to evaluate mathematical expressions for Integers. The class has the following property:\n",
    "- `expression`: which is a property with a get and set method. The set method of this property should check if the string contains any invalid characters. If there is any invalid character, it should set the internal property `expr` to an empty String. Otherwise, it should set the string as it is. Valid characters are: `0123456789+-*/()` and an empty space.\n",
    "- `expr`: which is a property that stores only valid expression. It is used internally to store the expression.\n",
    "\n",
    "During object instantiation, a string can be passed on to `__init__()`.\n",
    "- `__init__(expr)`: where expr is the mathematical expression to initialize the property `expr`. If nothing is provided it should initialize to an empty String. If the string contains other characters besides those in the valid characters list above, the property `expr` should be initialized to an empty string.\n",
    "\n",
    "\n"
   ]
  },
  {
   "cell_type": "code",
   "execution_count": null,
   "metadata": {},
   "outputs": [],
   "source": [
    "class EvaluateExpression:\n",
    "  valid_char = '0123456789+-*/() '\n",
    "  def __init__(self, string=\"\"):\n",
    "    self._expr = \"\"\n",
    "    self.expression = string\n",
    "\n",
    "  @property\n",
    "  def expression(self):\n",
    "    return self._expression\n",
    "\n",
    "  @expression.setter\n",
    "  \n",
    "  def expression(self, new_expr):\n",
    "    for i in new_expr:\n",
    "      if i in self.valid_char:\n",
    "        self._expr += i\n",
    "      else:\n",
    "        self._expression = \"\"\n",
    "        return None\n",
    "    self._expression = new_expr\n",
    "  "
   ]
  },
  {
   "cell_type": "code",
   "execution_count": null,
   "metadata": {},
   "outputs": [],
   "source": [
    "expr1 = EvaluateExpression()\n",
    "assert expr1.expression == \"\"\n",
    "expr2 = EvaluateExpression(\"1 + 2\")\n",
    "assert expr2.expression == \"1 + 2\"\n",
    "expr2.expression = \"3 * 4\"\n",
    "assert expr2.expression == \"3 * 4\"\n",
    "expr2.expression = \"3 & 4\"\n",
    "assert expr2.expression == \"\""
   ]
  },
  {
   "cell_type": "markdown",
   "metadata": {},
   "source": [
    "**Q3.** The class `EvaluateExpression` also has the following method:\n",
    "- `insert_space()`: which is used to insert one empty space before an operator and another empty space after the operator in the `expression` property. The function should return a new String. Note that this means that if there are two operators side by side, there will be two empty space between them.\n",
    "\n"
   ]
  },
  {
   "cell_type": "code",
   "execution_count": null,
   "metadata": {},
   "outputs": [],
   "source": [
    "class EvaluateExpression:\n",
    "  valid_char = '0123456789+-*/() '\n",
    "  ops = '+-*/()'\n",
    "  def __init__(self, string=\"\"):\n",
    "    self._expr = \"\"\n",
    "    self.expression = string\n",
    "\n",
    "  @property\n",
    "  def expression(self):\n",
    "    return self._expression\n",
    "\n",
    "  @expression.setter\n",
    "  \n",
    "  def expression(self, new_expr):\n",
    "    for i in new_expr:\n",
    "      if i in self.valid_char:\n",
    "        self._expr += i\n",
    "      else:\n",
    "        self._expression = \"\"\n",
    "        return None\n",
    "    self._expression = new_expr\n",
    "\n",
    "  def insert_space(self):\n",
    "    new_str = \"\"\n",
    "    for i in self._expression:\n",
    "      if i in self.ops:\n",
    "        new_str += \" \" + i + \" \"\n",
    "      else:\n",
    "        new_str += i\n",
    "    return new_str"
   ]
  },
  {
   "cell_type": "code",
   "execution_count": null,
   "metadata": {},
   "outputs": [],
   "source": [
    "expr1 = EvaluateExpression(\"(1+2)\")\n",
    "assert expr1.insert_space() == \" ( 1 + 2 ) \"\n",
    "expr1.expression = \"((1+2)*3/(4-5))\"\n",
    "assert expr1.insert_space() == \" (  ( 1 + 2 )  * 3 /  ( 4 - 5 )  ) \"\n"
   ]
  },
  {
   "cell_type": "markdown",
   "metadata": {},
   "source": [
    "## Week 4"
   ]
  },
  {
   "cell_type": "markdown",
   "metadata": {},
   "source": [
    "**Q4.** The class `EvaluateExpression` also has the following methods:\n",
    "- `process_operator(operand_stack, operator_stack)`: which process one operator. This method should modify the Stacks provided in the arguments. Note that the division operator `/` should be considered as an integer division for this exercise. This means that you need to use `//` in Python."
   ]
  },
  {
   "cell_type": "code",
   "execution_count": 8,
   "metadata": {},
   "outputs": [],
   "source": [
    "class Stack:\n",
    "    def __init__(self):\n",
    "        self.__items = []\n",
    "        \n",
    "    def push(self, item):\n",
    "        self.__items.append(item)\n",
    "\n",
    "    def pop(self):\n",
    "        if self.is_empty:\n",
    "            return None\n",
    "        else:\n",
    "            return self.__items.pop()\n",
    "\n",
    "    def peek(self):\n",
    "        if self.is_empty:\n",
    "            return None\n",
    "        else:\n",
    "            return self.__items[-1]\n",
    "\n",
    "    @property\n",
    "    def is_empty(self):\n",
    "        if self.__items == []:\n",
    "            return True\n",
    "        else:\n",
    "            return False\n",
    "\n",
    "    @property\n",
    "    def size(self):\n",
    "        return len(self.__items)\n"
   ]
  },
  {
   "cell_type": "code",
   "execution_count": null,
   "metadata": {},
   "outputs": [],
   "source": []
  },
  {
   "cell_type": "code",
   "execution_count": 7,
   "metadata": {},
   "outputs": [],
   "source": [
    "class EvaluateExpression:\n",
    "  valid_char = '0123456789+-*/() '\n",
    "  ops = '+-*/()'\n",
    "  op = {'+': lambda x, y: x + y,\n",
    "          '-': lambda x, y: x - y,\n",
    "          '*': lambda x, y: x * y,\n",
    "          '/': lambda x, y: x // y}\n",
    "  def __init__(self, string=\"\"):\n",
    "    self._expr = \"\"\n",
    "    self.expression = string\n",
    "\n",
    "  @property\n",
    "  def expression(self):\n",
    "    return self._expression\n",
    "\n",
    "  @expression.setter\n",
    "  \n",
    "  def expression(self, new_expr):\n",
    "    for i in new_expr:\n",
    "      if i in self.valid_char:\n",
    "        self._expr += i\n",
    "      else:\n",
    "        self._expression = \"\"\n",
    "        return None\n",
    "    self._expression = new_expr\n",
    "\n",
    "  def insert_space(self):\n",
    "    new_str = \"\"\n",
    "    for i in self._expression:\n",
    "      if i in self.ops:\n",
    "        new_str += \" \" + i + \" \"\n",
    "      else:\n",
    "        new_str += i\n",
    "    return new_str\n",
    "\n",
    "  def process_operator(self, operand_stack, operator_stack):\n",
    "    right = operand_stack.pop()\n",
    "    left = operand_stack.pop()\n",
    "    oper = operator_stack.pop()\n",
    "    operand_stack.push(self.op[oper](left, right))\n",
    "\n",
    "    \n",
    "  "
   ]
  },
  {
   "cell_type": "code",
   "execution_count": null,
   "metadata": {},
   "outputs": [],
   "source": []
  },
  {
   "cell_type": "code",
   "execution_count": null,
   "metadata": {},
   "outputs": [],
   "source": [
    "expr1 = EvaluateExpression()\n",
    "operand_stack = Stack()\n",
    "operator_stack = Stack()\n",
    "operand_stack.push(3)\n",
    "operand_stack.push(4)\n",
    "operator_stack.push(\"+\")\n",
    "expr1.process_operator(operand_stack, operator_stack)\n",
    "assert operand_stack.peek() == 7\n",
    "operand_stack.push(5)\n",
    "operator_stack.push(\"*\")\n",
    "expr1.process_operator(operand_stack, operator_stack)\n",
    "assert operand_stack.peek() == 35\n",
    "operand_stack.push(30)\n",
    "operator_stack.push(\"-\")\n",
    "expr1.process_operator(operand_stack, operator_stack)\n",
    "assert operand_stack.peek() == 5\n",
    "operand_stack.push(2)\n",
    "operator_stack.push(\"/\")\n",
    "expr1.process_operator(operand_stack, operator_stack)\n",
    "assert operand_stack.peek() == 2"
   ]
  },
  {
   "cell_type": "markdown",
   "metadata": {},
   "source": [
    "**Q5.** The class `EvaluateExpression` also has the following methods:\n",
    "- `evaluate()`: which evaluate the mathematical expression contained in the property `expression`. The method should return an Integer. This method contains two processes:\n",
    "    - Phase 1: In this phase, the code scans the expression from left to right to extract operands, operators, and the parentheses.\n",
    "        1. If the extracted character is an operand, push it to `operand_stack`.\n",
    "        1. If the extracted character is + or - operator, process  all the operators at the top of the `operator_stack` and push the extracted operator to `operator_stack`. You should process all the operators as long as the `operator_stack` is not empty and the top of the `operator_stack` is not `(` or `)` symbols.\n",
    "        1. If the extracted character is a `*` or `/` operator, process all the `*` or `/` operators at the top of the `operator_stack` and push the extracted operator to `operator_stack`. \n",
    "        1. If the extracted character is a `(` symbol, push it to `operator_stack`.\n",
    "        1. If the extracted character is a `)` symbol, repeatedly process the operators from the top of `operator_stack` until seeing the `(` symbol on the stack. \n",
    "    - Phase 2: Repeatedly process the operators from the top of `operator_stack` until `operator_stack` is empty.\n"
   ]
  },
  {
   "cell_type": "code",
   "execution_count": 9,
   "metadata": {},
   "outputs": [
    {
     "ename": "TypeError",
     "evalue": "int() argument must be a string, a bytes-like object or a real number, not 'NoneType'",
     "output_type": "error",
     "traceback": [
      "\u001b[0;31m---------------------------------------------------------------------------\u001b[0m",
      "\u001b[0;31mTypeError\u001b[0m                                 Traceback (most recent call last)",
      "\u001b[1;32m/Users/student/Desktop/10.020_DDW/mp2_exercises.ipynb Cell 20\u001b[0m line \u001b[0;36m7\n\u001b[1;32m     <a href='vscode-notebook-cell:/Users/student/Desktop/10.020_DDW/mp2_exercises.ipynb#X23sZmlsZQ%3D%3D?line=74'>75</a>\u001b[0m     \u001b[39mreturn\u001b[39;00m operand_stack\u001b[39m.\u001b[39mpeek()\n\u001b[1;32m     <a href='vscode-notebook-cell:/Users/student/Desktop/10.020_DDW/mp2_exercises.ipynb#X23sZmlsZQ%3D%3D?line=75'>76</a>\u001b[0m expr1 \u001b[39m=\u001b[39m EvaluateExpression(\u001b[39m\"\u001b[39m\u001b[39m(10+1)*12\u001b[39m\u001b[39m\"\u001b[39m)\n\u001b[0;32m---> <a href='vscode-notebook-cell:/Users/student/Desktop/10.020_DDW/mp2_exercises.ipynb#X23sZmlsZQ%3D%3D?line=76'>77</a>\u001b[0m \u001b[39mprint\u001b[39m(expr1\u001b[39m.\u001b[39;49mevaluate())\n",
      "\u001b[1;32m/Users/student/Desktop/10.020_DDW/mp2_exercises.ipynb Cell 20\u001b[0m line \u001b[0;36m7\n\u001b[1;32m     <a href='vscode-notebook-cell:/Users/student/Desktop/10.020_DDW/mp2_exercises.ipynb#X23sZmlsZQ%3D%3D?line=66'>67</a>\u001b[0m   \u001b[39m#)\u001b[39;00m\n\u001b[1;32m     <a href='vscode-notebook-cell:/Users/student/Desktop/10.020_DDW/mp2_exercises.ipynb#X23sZmlsZQ%3D%3D?line=67'>68</a>\u001b[0m   \u001b[39melse\u001b[39;00m:\n\u001b[1;32m     <a href='vscode-notebook-cell:/Users/student/Desktop/10.020_DDW/mp2_exercises.ipynb#X23sZmlsZQ%3D%3D?line=68'>69</a>\u001b[0m     \u001b[39mwhile\u001b[39;00m operator_stack\u001b[39m.\u001b[39mpeek() \u001b[39m!=\u001b[39m \u001b[39m\"\u001b[39m\u001b[39m(\u001b[39m\u001b[39m\"\u001b[39m:\n\u001b[0;32m---> <a href='vscode-notebook-cell:/Users/student/Desktop/10.020_DDW/mp2_exercises.ipynb#X23sZmlsZQ%3D%3D?line=69'>70</a>\u001b[0m       \u001b[39mself\u001b[39;49m\u001b[39m.\u001b[39;49mprocess_operator(operand_stack, operator_stack)\n\u001b[1;32m     <a href='vscode-notebook-cell:/Users/student/Desktop/10.020_DDW/mp2_exercises.ipynb#X23sZmlsZQ%3D%3D?line=70'>71</a>\u001b[0m     operator_stack\u001b[39m.\u001b[39mpop()\n\u001b[1;32m     <a href='vscode-notebook-cell:/Users/student/Desktop/10.020_DDW/mp2_exercises.ipynb#X23sZmlsZQ%3D%3D?line=71'>72</a>\u001b[0m \u001b[39m#phase 2\u001b[39;00m\n",
      "\u001b[1;32m/Users/student/Desktop/10.020_DDW/mp2_exercises.ipynb Cell 20\u001b[0m line \u001b[0;36m4\n\u001b[1;32m     <a href='vscode-notebook-cell:/Users/student/Desktop/10.020_DDW/mp2_exercises.ipynb#X23sZmlsZQ%3D%3D?line=38'>39</a>\u001b[0m left \u001b[39m=\u001b[39m operand_stack\u001b[39m.\u001b[39mpop()\n\u001b[1;32m     <a href='vscode-notebook-cell:/Users/student/Desktop/10.020_DDW/mp2_exercises.ipynb#X23sZmlsZQ%3D%3D?line=39'>40</a>\u001b[0m oper \u001b[39m=\u001b[39m operator_stack\u001b[39m.\u001b[39mpop()\n\u001b[0;32m---> <a href='vscode-notebook-cell:/Users/student/Desktop/10.020_DDW/mp2_exercises.ipynb#X23sZmlsZQ%3D%3D?line=40'>41</a>\u001b[0m operand_stack\u001b[39m.\u001b[39mpush(\u001b[39mself\u001b[39m\u001b[39m.\u001b[39mop[oper](\u001b[39mint\u001b[39;49m(left), \u001b[39mint\u001b[39m(right)))\n",
      "\u001b[0;31mTypeError\u001b[0m: int() argument must be a string, a bytes-like object or a real number, not 'NoneType'"
     ]
    }
   ],
   "source": [
    "class EvaluateExpression:\n",
    "  valid_char = '0123456789+-*/() '\n",
    "  operand = '1234567890'\n",
    "  ops = '+-*/()'\n",
    "  op = {'+': lambda x, y: x + y,\n",
    "          '-': lambda x, y: x - y,\n",
    "          '*': lambda x, y: x * y,\n",
    "          '/': lambda x, y: x // y}\n",
    "  def __init__(self, string=\"\"):\n",
    "    self._expr = \"\"\n",
    "    self.expression = string\n",
    "\n",
    "  @property\n",
    "  def expression(self):\n",
    "    return self._expression\n",
    "\n",
    "  @expression.setter\n",
    "  \n",
    "  def expression(self, new_expr):\n",
    "    for i in new_expr:\n",
    "      if i in self.valid_char:\n",
    "        self._expr += i\n",
    "      else:\n",
    "        self._expression = \"\"\n",
    "        return None\n",
    "    self._expression = new_expr\n",
    "\n",
    "  def insert_space(self):\n",
    "    new_str = \"\"\n",
    "    for i in self._expression:\n",
    "      if i in self.ops:\n",
    "        new_str += \" \" + i + \" \"\n",
    "      else:\n",
    "        new_str += i\n",
    "    return new_str\n",
    "\n",
    "  def process_operator(self, operand_stack, operator_stack):\n",
    "    right = operand_stack.pop()\n",
    "    left = operand_stack.pop()\n",
    "    oper = operator_stack.pop()\n",
    "    operand_stack.push(self.op[oper](int(left), int(right)))\n",
    "\n",
    "  def evaluate(self):\n",
    "    operand_stack = Stack()\n",
    "    operator_stack = Stack()\n",
    "    expression = self.insert_space()\n",
    "    tokens = expression.split()\n",
    "    for i in tokens:\n",
    "      #operand\n",
    "      if i in self.operand:\n",
    "        operand_stack.push(i)\n",
    "      #+ or -\n",
    "      elif (i == \"+\" or i == \"-\"):\n",
    "        while operator_stack.is_empty == False:\n",
    "          if operator_stack.peek() == \"(\" or operator_stack.peek() == \")\":\n",
    "            break\n",
    "          self.process_operator(operand_stack, operator_stack)\n",
    "        operator_stack.push(i)\n",
    "      #* or /\n",
    "      elif i == \"*\" or i == \"/\":\n",
    "        while operator_stack.peek() == \"*\" or operator_stack.peek() == \"/\":\n",
    "          self.process_operator(operand_stack, operator_stack)\n",
    "        operator_stack.push(i)\n",
    "      #(\n",
    "      elif i == \"(\":\n",
    "        operator_stack.push(i)\n",
    "      #)\n",
    "      else:\n",
    "        while operator_stack.peek() != \"(\":\n",
    "          self.process_operator(operand_stack, operator_stack)\n",
    "        operator_stack.pop()\n",
    "    #phase 2\n",
    "    while operator_stack.is_empty == False:\n",
    "      self.process_operator(operand_stack, operator_stack)\n",
    "    return operand_stack.peek()\n",
    "expr1 = EvaluateExpression(\"(10+1)*12\")\n",
    "print(expr1.evaluate())"
   ]
  },
  {
   "cell_type": "code",
   "execution_count": null,
   "metadata": {},
   "outputs": [],
   "source": []
  },
  {
   "cell_type": "code",
   "execution_count": null,
   "metadata": {},
   "outputs": [],
   "source": []
  },
  {
   "cell_type": "code",
   "execution_count": 46,
   "metadata": {},
   "outputs": [],
   "source": [
    "expr1 = EvaluateExpression(\"(1+2)*3\")\n",
    "assert expr1.evaluate() == 9\n",
    "expr1.expression = \"(1 + 2) * 4 - 3\"\n",
    "assert expr1.evaluate() == 9\n",
    "expr2 = EvaluateExpression(\"(1+2 *4-  3)* (7/5 * 6)\")\n",
    "assert expr2.evaluate() == 36"
   ]
  },
  {
   "cell_type": "code",
   "execution_count": null,
   "metadata": {},
   "outputs": [],
   "source": []
  }
 ],
 "metadata": {
  "kernelspec": {
   "display_name": "Python 3 (ipykernel)",
   "language": "python",
   "name": "python3"
  },
  "language_info": {
   "codemirror_mode": {
    "name": "ipython",
    "version": 3
   },
   "file_extension": ".py",
   "mimetype": "text/x-python",
   "name": "python",
   "nbconvert_exporter": "python",
   "pygments_lexer": "ipython3",
   "version": "3.11.3"
  }
 },
 "nbformat": 4,
 "nbformat_minor": 4
}
