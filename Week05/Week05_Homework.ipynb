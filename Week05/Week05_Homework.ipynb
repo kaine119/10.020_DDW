{
    "cells": [
        {
            "cell_type": "markdown",
            "metadata": {
                "deletable": false,
                "editable": false,
                "nbgrader": {
                    "grade": false,
                    "locked": true,
                    "solution": false
                }
            },
            "source": [
                "# Week 5 Problem Set\n",
                "\n",
                "## Homework"
            ]
        },
        {
            "cell_type": "markdown",
            "metadata": {
                "colab_type": "text",
                "deletable": false,
                "editable": false,
                "id": "9j25r7SUvPnV",
                "nbgrader": {
                    "grade": false,
                    "locked": true,
                    "solution": false
                }
            },
            "source": [
                "**HW1.** *Dictionary:* Write two functions:\n",
                "1. `count_degrees(G)`: which sums up the degrees of all vertices in the graph. The degree of a vertex is defined as the number of edges connected to a Vertex. The argument `G` is a dictionary that represents the graph.\n",
                "2. `count_edges(G)`: which counts the number of edges in the graph. An edge is defined as a connection between two vertices. The argument `G` is a dictionary."
            ]
        },
        {
            "cell_type": "code",
            "execution_count": null,
            "metadata": {
                "colab": [],
                "colab_type": "code",
                "id": "v7t7of_0vQkI"
            },
            "outputs": [],
            "source": [
                "def count_degrees(G: dict):\n",
                "    return sum( len(edge_list) for edge_list in G.values() )\n",
                "\n",
                "\n",
                "def count_edges(G: dict[str, list]):\n",
                "    G_copy = G.copy()\n",
                "    seen_nodes = []\n",
                "    edges = 0\n",
                "    for node, edge_list in G_copy.items():\n",
                "        for connected_node in edge_list:\n",
                "            if connected_node not in seen_nodes:\n",
                "                edges += 1\n",
                "        seen_nodes.append(node)\n",
                "    return edges\n"
            ]
        },
        {
            "cell_type": "code",
            "execution_count": null,
            "metadata": {
                "colab": [],
                "colab_type": "code",
                "deletable": false,
                "editable": false,
                "id": "Kil-jfkGRCnJ",
                "nbgrader": {
                    "grade": true,
                    "grade_id": "hw11",
                    "locked": true,
                    "points": "1",
                    "solution": false
                }
            },
            "outputs": [],
            "source": [
                "g1 = {\"A\": [\"B\", \"E\"],\n",
                "      \"B\": [\"A\", \"C\"],\n",
                "      \"C\": [\"B\", \"D\", \"E\"],\n",
                "      \"D\": [\"C\"],\n",
                "      \"E\": [\"A\", \"C\"]}\n",
                "\n",
                "d = count_degrees(g1)\n",
                "e = count_edges(g1)\n",
                "\n",
                "assert d == 10\n",
                "assert e == 5"
            ]
        },
        {
            "cell_type": "code",
            "execution_count": null,
            "metadata": {
                "deletable": false,
                "editable": false,
                "nbgrader": {
                    "grade": true,
                    "grade_id": "hw12",
                    "locked": true,
                    "points": "1",
                    "solution": false
                }
            },
            "outputs": [],
            "source": [
                "###\n",
                "### AUTOGRADER TEST - DO NOT REMOVE\n",
                "###\n"
            ]
        },
        {
            "cell_type": "markdown",
            "metadata": {
                "deletable": false,
                "editable": false,
                "nbgrader": {
                    "grade": false,
                    "locked": true,
                    "solution": false
                }
            },
            "source": [
                "**HW2.** Create a class called `GraphSearch` which is a subclass of the class `Graph`. This class should override the method `_create_vertex(id)` and instantiate a `VertexSearch` object instead of `Vertex`."
            ]
        },
        {
            "cell_type": "code",
            "execution_count": null,
            "metadata": {},
            "outputs": [],
            "source": [
                "class Vertex:\n",
                "    def __init__(self, id_=\"\"):\n",
                "        self.id_ = id_\n",
                "        self.neighbours: dict[Vertex, int] = {}\n",
                "    \n",
                "    def add_neighbour(self, nbr_vertex, weight: int = 0):\n",
                "        self.neighbours[nbr_vertex] = weight\n",
                "    \n",
                "    def get_neighbours(self):\n",
                "        return list(self.neighbours.keys())\n",
                "    \n",
                "    def get_weight(self, neighbour):\n",
                "        return self.neighbours.get(neighbour)\n",
                "    \n",
                "    def __eq__(self, other):\n",
                "        return self.id_ == other.id_\n",
                "    \n",
                "    def __lt__(self, other):\n",
                "        return self.id_ < other.id_\n",
                "    \n",
                "    def __hash__(self):\n",
                "        return hash(self.id_)\n",
                "    \n",
                "    def __str__(self):\n",
                "        return f'Vertex {self.id_} is connected to: {\", \".join(neighbour.id_ for neighbour in self.get_neighbours())}'"
            ]
        },
        {
            "cell_type": "code",
            "execution_count": null,
            "metadata": {},
            "outputs": [],
            "source": [
                "import sys\n",
                "\n",
                "class VertexSearch(Vertex):\n",
                "    def __init__(self, id_=\"\"):\n",
                "        super().__init__(id_)\n",
                "        self.colour: str = \"white\"\n",
                "        self.d: int = sys.maxsize\n",
                "        self.f: int = sys.maxsize\n",
                "        self.parent: Vertex = None\n",
                "    \n",
                "\n"
            ]
        },
        {
            "cell_type": "code",
            "execution_count": null,
            "metadata": {},
            "outputs": [],
            "source": [
                "class Graph:\n",
                "    def __init__(self):\n",
                "        self.vertices: dict[str, Vertex] = {}\n",
                "        \n",
                "    def _create_vertex(self, id_):\n",
                "        return Vertex(id_)\n",
                "    \n",
                "    def add_vertex(self, id_):\n",
                "        self.vertices[id_] = self._create_vertex(id_)\n",
                "    \n",
                "    def get_vertex(self, id_):\n",
                "        return self.vertices.get(id_)\n",
                "    \n",
                "    def add_edge(self, start_v: str, end_v: str, weight=0):\n",
                "        if self.get_vertex(start_v) is None:\n",
                "            raise ValueError('start_v was not in graph')\n",
                "        elif self.get_vertex(end_v) is None:\n",
                "            raise ValueError('end_v was not in graph')\n",
                "\n",
                "        self.get_vertex(start_v).add_neighbour(self.get_vertex(end_v), weight)\n",
                "\n",
                "    def get_neighbours(self, id_):\n",
                "        if self.get_vertex(id_) is None:\n",
                "            return None\n",
                "        return [neighbour.id_ for neighbour in self.get_vertex(id_).get_neighbours()]\n",
                "    \n",
                "    def __contains__(self, val):\n",
                "        return self.get_vertex(val) is not None\n",
                "    \n",
                "    def __iter__(self):\n",
                "        for k,v in self.vertices.items():\n",
                "            yield v \n",
                "        \n",
                "    # write a code to create a computed property called num_vertices\n",
                "    @property\n",
                "    def num_vertices(self):\n",
                "        return len(self.vertices)\n"
            ]
        },
        {
            "cell_type": "code",
            "execution_count": null,
            "metadata": {},
            "outputs": [],
            "source": [
                "class GraphSearch(Graph):\n",
                "    def _create_vertex(self, id_):\n",
                "        return VertexSearch(id_)"
            ]
        },
        {
            "cell_type": "code",
            "execution_count": null,
            "metadata": {
                "deletable": false,
                "editable": false,
                "nbgrader": {
                    "grade": true,
                    "grade_id": "hw21",
                    "locked": true,
                    "points": "1",
                    "solution": false
                }
            },
            "outputs": [],
            "source": [
                "g2 = GraphSearch()\n",
                "g2.add_vertex(\"Z\")\n",
                "assert(type(g2.vertices[\"Z\"]) == type(VertexSearch()))"
            ]
        },
        {
            "cell_type": "code",
            "execution_count": null,
            "metadata": {
                "deletable": false,
                "editable": false,
                "nbgrader": {
                    "grade": true,
                    "grade_id": "hw22",
                    "locked": true,
                    "points": "1",
                    "solution": false
                }
            },
            "outputs": [],
            "source": [
                "###\n",
                "### AUTOGRADER TEST - DO NOT REMOVE\n",
                "###\n"
            ]
        },
        {
            "cell_type": "markdown",
            "metadata": {
                "colab_type": "text",
                "deletable": false,
                "editable": false,
                "id": "W_WeKdlDSN_k",
                "nbgrader": {
                    "grade": false,
                    "locked": true,
                    "solution": false
                }
            },
            "source": [
                "**HW3.** *Undirected Graph:* **You need to complete CS5 and CS6 before you do this homework.** Paste your answer for `Search2D` and `SearchBFS` classes into the cell below.\n",
                "\n",
                "Create a subclass of `GraphSearch` class called `UGraphSearch` for undirected graphs. All edges in undirected graphs are bidirectional (i.e. vertex1 <-> vertex2). \n",
                "This means that you need to override the `add_edge()` method."
            ]
        },
        {
            "cell_type": "code",
            "execution_count": null,
            "metadata": {},
            "outputs": [],
            "source": [
                "class Stack:\n",
                "    def __init__(self):\n",
                "        self._items = []\n",
                "        \n",
                "    def push(self, item):\n",
                "        self._items.append(item)\n",
                "\n",
                "    def pop(self):\n",
                "        if self.is_empty:\n",
                "            return None\n",
                "        return self._items.pop()\n",
                "\n",
                "    def peek(self):\n",
                "        if self.is_empty:\n",
                "            return None\n",
                "        return self._items[-1]\n",
                "\n",
                "    @property\n",
                "    def is_empty(self):\n",
                "        return self.size == 0\n",
                "\n",
                "    @property\n",
                "    def size(self):\n",
                "        return len(self._items)\n",
                "\n",
                "class Queue:\n",
                "    def __init__(self):\n",
                "        self.left_stack = Stack()\n",
                "        self.right_stack = Stack()\n",
                "    \n",
                "    def enqueue(self, new_item):\n",
                "        self.right_stack.push(new_item)\n",
                "\n",
                "    def dequeue(self):\n",
                "        if self.left_stack.is_empty:\n",
                "            self.left_stack._items = self.right_stack._items[::-1]\n",
                "            self.right_stack._items.clear()\n",
                "        return self.left_stack.pop()\n",
                "\n",
                "    def peek(self):\n",
                "        if self.is_empty:\n",
                "            return None\n",
                "        elif self.left_stack.is_empty:\n",
                "            return self.right_stack._items[0]\n",
                "        else:\n",
                "            return self.left_stack.peek()\n",
                "    \n",
                "    @property\n",
                "    def is_empty(self):\n",
                "        return self.left_stack.is_empty and self.right_stack.is_empty\n",
                "    \n",
                "    @property\n",
                "    def size(self):\n",
                "        return self.left_stack.size + self.right_stack.size\n",
                "        \n"
            ]
        },
        {
            "cell_type": "code",
            "execution_count": null,
            "metadata": {},
            "outputs": [],
            "source": [
                "import sys\n",
                "\n",
                "class Search2D:\n",
                "    def __init__(self, g: Graph):\n",
                "        self.graph = g\n",
                "    \n",
                "    def clear_vertices(self):\n",
                "        for vertex in self.graph.vertices.values():\n",
                "            vertex.colour = \"white\"\n",
                "            vertex.d = sys.maxsize\n",
                "            vertex.f = sys.maxsize\n",
                "            vertex.parent = None\n",
                "    \n",
                "    def __iter__(self):\n",
                "        return iter([v for v in self.graph])\n",
                "    \n",
                "    def __len__(self):\n",
                "        return len([v for v in self.graph.vertices])"
            ]
        },
        {
            "cell_type": "code",
            "execution_count": null,
            "metadata": {},
            "outputs": [],
            "source": [
                "class SearchBFS(Search2D):\n",
                "\n",
                "    def search_from(self, start: str):\n",
                "        self.clear_vertices()\n",
                "        search_queue = Queue()\n",
                "        start_vertex = self.graph.get_vertex(start)\n",
                "        start_vertex.d = 0\n",
                "        start_vertex.colour = 'black'\n",
                "        search_queue.enqueue(start_vertex)\n",
                "        while not search_queue.is_empty:\n",
                "            current_vertex: VertexSearch = search_queue.dequeue()\n",
                "            print(f'current_vertex = {current_vertex}')\n",
                "            for neighbour in current_vertex.neighbours:\n",
                "                if neighbour.colour == 'black': continue\n",
                "                \n",
                "                neighbour.colour = 'black'\n",
                "                neighbour.parent = current_vertex\n",
                "                neighbour.d = current_vertex.d + 1\n",
                "                search_queue.enqueue(neighbour)\n",
                "    \n",
                "    def get_shortest_path(self, start, dest):\n",
                "        res = []\n",
                "        self.get_path(start, dest, res)\n",
                "        if res is None or len(res) == 0:\n",
                "            return None\n",
                "        return res\n",
                "    \n",
                "    def get_path(self, start: str, dest: str, result: list) -> list | None:\n",
                "        if self.graph.get_vertex(start) is None or self.graph.get_vertex(dest) is None:\n",
                "            return None\n",
                "        if len(result) == 0:\n",
                "            self.search_from(start)\n",
                "            result.append(dest)\n",
                "        \n",
                "        start_vertex: VertexSearch = self.graph.get_vertex(start)\n",
                "        end_vertex: VertexSearch = self.graph.get_vertex(dest)\n",
                "\n",
                "        if start_vertex == end_vertex:\n",
                "            # we're done!\n",
                "            return\n",
                "        elif end_vertex.parent is None:\n",
                "            result.insert(0, \"No Path\")\n",
                "        else:\n",
                "            result.insert(0, end_vertex.parent.id_)\n",
                "            self.get_path(start, end_vertex.parent.id_, result)\n",
                "\n",
                "        "
            ]
        },
        {
            "cell_type": "code",
            "execution_count": null,
            "metadata": {
                "colab": [],
                "colab_type": "code",
                "id": "_8Tm0u1rSUSr"
            },
            "outputs": [],
            "source": [
                "class UGraphSearch(GraphSearch):\n",
                "    def add_edge(self, start_v, end_v, weight=0):\n",
                "        if self.get_vertex(start_v) is None:\n",
                "            raise ValueError('start_v was not in graph')\n",
                "        elif self.get_vertex(end_v) is None:\n",
                "            raise ValueError('end_v was not in graph')\n",
                "        self.get_vertex(start_v).add_neighbour(self.get_vertex(end_v))\n",
                "        self.get_vertex(end_v).add_neighbour(self.get_vertex(start_v))"
            ]
        },
        {
            "cell_type": "code",
            "execution_count": null,
            "metadata": {
                "colab": [],
                "colab_type": "code",
                "deletable": false,
                "editable": false,
                "id": "sqoDWngtS0hu",
                "nbgrader": {
                    "grade": true,
                    "grade_id": "hw31",
                    "locked": true,
                    "points": "1",
                    "solution": false
                }
            },
            "outputs": [],
            "source": [
                "g2 = UGraphSearch()\n",
                "assert g2.vertices == {} and g2.num_vertices == 0\n",
                "g2.add_vertex(\"L\")\n",
                "g2.add_vertex(\"I\")\n",
                "g2.add_vertex(\"S\")\n",
                "g2.add_vertex(\"P\")\n",
                "assert g2.num_vertices == 4\n",
                "assert \"L\" in g2\n",
                "assert \"I\" in g2\n",
                "assert \"S\" in g2\n",
                "assert \"P\" in g2\n",
                "g2.add_edge(\"L\", \"I\")\n",
                "g2.add_edge(\"I\", \"S\")\n",
                "g2.add_edge(\"S\", \"P\")\n",
                "assert sorted(g2.get_neighbours(\"L\")) == [\"I\"]\n",
                "assert sorted(g2.get_neighbours(\"I\")) == [\"L\", \"S\"]\n",
                "assert sorted(g2.get_neighbours(\"S\")) == [\"I\", \"P\"]\n",
                "assert sorted(g2.get_neighbours(\"P\")) == [\"S\"]"
            ]
        },
        {
            "cell_type": "code",
            "execution_count": null,
            "metadata": {
                "deletable": false,
                "editable": false,
                "nbgrader": {
                    "grade": true,
                    "grade_id": "hw32",
                    "locked": true,
                    "points": "1",
                    "solution": false
                }
            },
            "outputs": [],
            "source": [
                "###\n",
                "### AUTOGRADER TEST - DO NOT REMOVE\n",
                "###\n"
            ]
        },
        {
            "cell_type": "code",
            "execution_count": null,
            "metadata": {
                "colab": [],
                "colab_type": "code",
                "deletable": false,
                "editable": false,
                "id": "ZibyOISBseeI",
                "nbgrader": {
                    "grade": true,
                    "grade_id": "hw33",
                    "locked": true,
                    "points": "1",
                    "solution": false
                }
            },
            "outputs": [],
            "source": [
                "g2 = UGraphSearch()\n",
                "g2.add_vertex(\"r\")\n",
                "g2.add_vertex(\"s\")\n",
                "g2.add_vertex(\"t\")\n",
                "g2.add_vertex(\"u\")\n",
                "g2.add_vertex(\"v\")\n",
                "g2.add_vertex(\"w\")\n",
                "g2.add_vertex(\"x\")\n",
                "g2.add_vertex(\"y\")\n",
                "g2.add_vertex(\"z\")\n",
                "g2.add_edge(\"r\", \"s\")\n",
                "g2.add_edge(\"r\", \"v\")\n",
                "g2.add_edge(\"s\", \"w\")\n",
                "g2.add_edge(\"t\", \"u\")\n",
                "g2.add_edge(\"t\", \"x\")\n",
                "g2.add_edge(\"t\", \"w\")\n",
                "g2.add_edge(\"u\", \"t\")\n",
                "g2.add_edge(\"u\", \"x\")\n",
                "g2.add_edge(\"u\", \"y\")\n",
                "g2.add_edge(\"v\", \"r\")\n",
                "g2.add_edge(\"w\", \"s\")\n",
                "g2.add_edge(\"w\", \"t\")\n",
                "g2.add_edge(\"w\", \"x\")\n",
                "g2.add_edge(\"x\", \"w\")\n",
                "g2.add_edge(\"x\", \"t\")\n",
                "g2.add_edge(\"x\", \"u\")\n",
                "g2.add_edge(\"x\", \"y\")\n",
                "g2.add_edge(\"y\", \"u\")\n",
                "g2.add_edge(\"y\", \"x\")\n",
                "gs = SearchBFS(g2)\n",
                "gs.search_from(\"s\")\n",
                "assert gs.graph.get_vertex(\"s\").d == 0\n",
                "assert gs.graph.get_vertex(\"t\").d == 2\n",
                "assert gs.graph.get_vertex(\"u\").d == 3\n",
                "assert gs.graph.get_vertex(\"v\").d == 2\n",
                "assert gs.graph.get_vertex(\"w\").d == 1\n",
                "assert gs.graph.get_vertex(\"x\").d == 2\n",
                "assert gs.graph.get_vertex(\"y\").d == 3\n",
                "assert gs.graph.get_vertex(\"r\").d == 1\n",
                "ans = gs.get_shortest_path(\"s\", \"u\")\n",
                "assert ans == [\"s\", \"w\", \"t\", \"u\"] or ans == [\"s\", \"w\", \"x\", \"u\"]\n",
                "ans = gs.get_shortest_path(\"v\", \"s\")\n",
                "assert ans == [\"v\", \"r\", \"s\"]\n",
                "ans = gs.get_shortest_path(\"v\", \"y\")\n",
                "assert ans == [\"v\", \"r\", \"s\", \"w\", \"x\", \"y\"]"
            ]
        },
        {
            "cell_type": "code",
            "execution_count": null,
            "metadata": {
                "deletable": false,
                "editable": false,
                "nbgrader": {
                    "grade": true,
                    "grade_id": "hw34",
                    "locked": true,
                    "points": "1",
                    "solution": false
                }
            },
            "outputs": [],
            "source": [
                "###\n",
                "### AUTOGRADER TEST - DO NOT REMOVE\n",
                "###\n"
            ]
        },
        {
            "cell_type": "markdown",
            "metadata": {
                "colab_type": "text",
                "deletable": false,
                "editable": false,
                "id": "wBuZB4CLY2hM",
                "nbgrader": {
                    "grade": false,
                    "locked": true,
                    "solution": false
                }
            },
            "source": [
                "**HW4.** *Depth-First-Search:* Create a class `SearchDFS` as a child class of `Search2D` to implement Depth-First-Search algorithm. You should add one additional attribute:\n",
                "- `time`: which is an attribute to record the discovery time and the finishing time.\n",
                "\n",
                "The class should also implement the following methods:\n",
                "- `search()`: which modifies the vertices' properties such as `colour`, `d`, and `parent` following Depth-First-Search algorithm.\n",
                "- `dfs_visit(vert)`: which is the recursive method for visiting a vertex in Depth-First-Search algorithm."
            ]
        },
        {
            "cell_type": "code",
            "execution_count": null,
            "metadata": {
                "colab": [],
                "colab_type": "code",
                "id": "xJ4GTlWNUYHT"
            },
            "outputs": [],
            "source": [
                "import sys\n",
                "\n",
                "class SearchDFS(Search2D):\n",
                "    def __init__(self, g: GraphSearch):\n",
                "        self.graph = g\n",
                "        self.time = 0\n",
                "      \n",
                "    def search(self):\n",
                "        vertices = list(self.graph.vertices.values())\n",
                "        for vertex in vertices:\n",
                "            if vertex.colour != \"black\":\n",
                "                self.dfs_visit(vertex)\n",
                "    \n",
                "    def dfs_visit(self, vert: VertexSearch):\n",
                "        self.time += 1\n",
                "        vert.colour = \"black\"\n",
                "        print(f\"exploring vertex {vert}\")\n",
                "        vert.d = self.time\n",
                "        for child in vert.get_neighbours():\n",
                "            if child.colour != \"black\":\n",
                "                child.parent = vert\n",
                "                self.dfs_visit(child)\n",
                "        vert.colour = \"black\"\n",
                "        self.time += 1\n",
                "        vert.f = self.time\n"
            ]
        },
        {
            "cell_type": "code",
            "execution_count": null,
            "metadata": {
                "colab": [],
                "colab_type": "code",
                "deletable": false,
                "editable": false,
                "id": "U09_8Sr7alja",
                "nbgrader": {
                    "grade": true,
                    "grade_id": "hw41",
                    "locked": true,
                    "points": "1",
                    "solution": false
                }
            },
            "outputs": [],
            "source": [
                "g4 = GraphSearch()\n",
                "g4.add_vertex(\"e\")\n",
                "g4.add_vertex(\"m\")\n",
                "g4.add_vertex(\"a\")\n",
                "g4.add_vertex(\"c\")\n",
                "g4.add_vertex(\"s\")\n",
                "g4.add_edge(\"e\", \"m\")\n",
                "g4.add_edge(\"m\", \"a\")\n",
                "g4.add_edge(\"a\", \"c\")\n",
                "g4.add_edge(\"c\", \"s\")\n",
                "gs = SearchDFS(g4)\n",
                "gs.search()\n",
                "assert gs.graph.get_vertex(\"e\").parent == None \n",
                "assert gs.graph.get_vertex(\"m\").parent == gs.graph.get_vertex(\"e\")\n",
                "print(gs.graph.get_vertex(\"a\").f)\n",
                "assert gs.graph.get_vertex(\"m\").d == 2 and gs.graph.get_vertex(\"a\").f == 8\n",
                "assert gs.graph.get_vertex(\"c\").d == 4 and gs.graph.get_vertex(\"s\").f == 6"
            ]
        },
        {
            "cell_type": "code",
            "execution_count": null,
            "metadata": {
                "deletable": false,
                "editable": false,
                "nbgrader": {
                    "grade": true,
                    "grade_id": "hw42",
                    "locked": true,
                    "points": "1",
                    "solution": false
                }
            },
            "outputs": [],
            "source": [
                "###\n",
                "### AUTOGRADER TEST - DO NOT REMOVE\n",
                "###\n"
            ]
        },
        {
            "cell_type": "markdown",
            "metadata": {
                "colab_type": "text",
                "deletable": false,
                "editable": false,
                "id": "DE7cWgQkbu6b",
                "nbgrader": {
                    "grade": false,
                    "locked": true,
                    "solution": false
                }
            },
            "source": [
                "**HW5.** *Topological Sort:* Create a function that takes in a `SearchDFS` object to perform a topological sort:\n",
                "- `topological_sort(g)`: which takes in a `SearchDFS` object and returns a list of `VertexSearch` objects sorted based on their `f` attribute. This method should call the `search()` method of the `SearchDFS` to first calculate the `f` attribute of the vertices. Note that you need to copy the `SearchDFS` object of your input argument so as not to mutate the object."
            ]
        },
        {
            "cell_type": "code",
            "execution_count": null,
            "metadata": {
                "colab": [],
                "colab_type": "code",
                "id": "CoCNeXCrb3Sx"
            },
            "outputs": [],
            "source": [
                "import sys\n",
                "import copy\n",
                "\n",
                "def topological_sort(g: SearchDFS):\n",
                "    new_graph = copy.deepcopy(g)\n",
                "    new_graph.search()\n",
                "    return reversed(sorted(new_graph.graph.vertices.values(), key=lambda vertex: vertex.f))"
            ]
        },
        {
            "cell_type": "code",
            "execution_count": null,
            "metadata": {
                "colab": [],
                "colab_type": "code",
                "deletable": false,
                "editable": false,
                "id": "-1hSwLKTdGPq",
                "nbgrader": {
                    "grade": true,
                    "grade_id": "hw51",
                    "locked": true,
                    "points": "1",
                    "solution": false
                }
            },
            "outputs": [],
            "source": [
                "import copy\n",
                "g = GraphSearch()\n",
                "g.add_vertex(\"3/4 cup milk\")\n",
                "g.add_vertex(\"1 egg\")\n",
                "g.add_vertex(\"1 tbl oil\")\n",
                "g.add_vertex(\"1 cup mix\")\n",
                "g.add_vertex(\"heat syrup\")\n",
                "g.add_vertex(\"heat griddle\")\n",
                "g.add_vertex(\"pour 1/4 cup\")\n",
                "g.add_vertex(\"turn when bubbly\")\n",
                "g.add_vertex(\"eat\")\n",
                "g.add_edge(\"heat griddle\", \"pour 1/4 cup\")\n",
                "g.add_edge(\"3/4 cup milk\", \"1 cup mix\")\n",
                "g.add_edge(\"1 egg\", \"1 cup mix\")\n",
                "g.add_edge(\"1 tbl oil\", \"1 cup mix\")\n",
                "g.add_edge(\"1 cup mix\", \"heat syrup\")\n",
                "g.add_edge(\"1 cup mix\", \"pour 1/4 cup\")\n",
                "g.add_edge(\"pour 1/4 cup\", \"turn when bubbly\")\n",
                "g.add_edge(\"turn when bubbly\", \"eat\")\n",
                "g.add_edge(\"heat syrup\", \"eat\")\n",
                "gs = SearchDFS(g)  \n",
                "\n",
                "path = topological_sort(gs)\n",
                "ans = [v.f for v in copy.copy(path)]\n",
                "print(ans)\n",
                "assert ans == [18, 16, 14, 12, 11, 10, 9, 6, 5]\n",
                "ans = [v.id_ for v in copy.copy(path)]\n",
                "assert ans == ['heat griddle', '1 tbl oil', '1 egg', '3/4 cup milk', '1 cup mix', 'pour 1/4 cup', 'turn when bubbly', 'heat syrup', 'eat']"
            ]
        },
        {
            "cell_type": "code",
            "execution_count": null,
            "metadata": {
                "deletable": false,
                "editable": false,
                "nbgrader": {
                    "grade": true,
                    "grade_id": "hw52",
                    "locked": true,
                    "points": "1",
                    "solution": false
                }
            },
            "outputs": [],
            "source": [
                "###\n",
                "### AUTOGRADER TEST - DO NOT REMOVE\n",
                "###\n"
            ]
        }
    ],
    "metadata": {
        "kernelspec": {
            "display_name": "Python 3 [3.10]",
            "language": "python",
            "name": "python3"
        },
        "language_info": {
            "codemirror_mode": {
                "name": "ipython",
                "version": 3
            },
            "file_extension": ".py",
            "mimetype": "text/x-python",
            "name": "python",
            "nbconvert_exporter": "python",
            "pygments_lexer": "ipython3",
            "version": "3.10.4"
        },
        "vscode": {
            "interpreter": {
                "hash": "ac37b77c3c0f43e60bec193f0626743b91dd65d8d4aeca5713e457ab7e777e4c"
            }
        }
    },
    "nbformat": 4,
    "nbformat_minor": 4
}
