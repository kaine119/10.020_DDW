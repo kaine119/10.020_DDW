{
    "cells": [
        {
            "cell_type": "markdown",
            "metadata": {
                "colab_type": "text",
                "deletable": false,
                "editable": false,
                "id": "0jA6_haHgo2y",
                "nbgrader": {
                    "grade": false,
                    "locked": true,
                    "solution": false
                }
            },
            "source": [
                "# Week 5 Problem Set\n",
                "\n",
                "## Cohort Sessions"
            ]
        },
        {
            "cell_type": "markdown",
            "metadata": {
                "colab_type": "text",
                "deletable": false,
                "editable": false,
                "id": "GvaH3A6rgr9d",
                "nbgrader": {
                    "grade": false,
                    "locked": true,
                    "solution": false
                }
            },
            "source": [
                "**CS1.** *Dictionary:* Implement a Graph using a *Dictionary* where the keys are the Vertices in the Graph and the values (in the the key-value pair) correspond to an Array containing the neighbouring Vertices. For example, let's represent the following graph:\n",
                "```\n",
                "    A -> B\n",
                "    A -> C\n",
                "    B -> C\n",
                "    B -> D\n",
                "    C -> D\n",
                "    D -> C\n",
                "    E -> F\n",
                "    F -> C\n",
                "```\n",
                "Create a Dictionary to represent the graph above."
            ]
        },
        {
            "cell_type": "code",
            "execution_count": 2,
            "metadata": {
                "colab": [],
                "colab_type": "code",
                "id": "Du0SDL0ignua"
            },
            "outputs": [],
            "source": [
                "# replace the None with a dictionary representing the graph\n",
                "graph = {\n",
                "    'A': ['B', 'C'],\n",
                "    'B': ['C', 'D'],\n",
                "    'C': ['D'],\n",
                "    'D': ['C'],\n",
                "    'E': ['F'],\n",
                "    'F': ['C']\n",
                "}\n",
                "\n",
                "###\n",
                "### YOUR CODE HERE\n",
                "###\n"
            ]
        },
        {
            "cell_type": "code",
            "execution_count": 3,
            "metadata": {
                "colab": {
                    "base_uri": "https://localhost:8080/",
                    "height": 34
                },
                "colab_type": "code",
                "deletable": false,
                "editable": false,
                "id": "b2jme-mXg_YF",
                "nbgrader": {
                    "grade": false,
                    "locked": true,
                    "solution": false
                },
                "outputId": "e1120100-3b19-4277-b840-175fb2ff0e07"
            },
            "outputs": [
                {
                    "name": "stdout",
                    "output_type": "stream",
                    "text": [
                        "{'A': ['B', 'C'], 'B': ['C', 'D'], 'C': ['D'], 'D': ['C'], 'E': ['F'], 'F': ['C']}\n"
                    ]
                }
            ],
            "source": [
                "print(graph)"
            ]
        },
        {
            "cell_type": "markdown",
            "metadata": {
                "colab_type": "text",
                "deletable": false,
                "editable": false,
                "id": "M4_djDcXhGBd",
                "nbgrader": {
                    "grade": false,
                    "locked": true,
                    "solution": false
                }
            },
            "source": [
                "Write a function `get_neighbours(graph, vert)` which returns a list of all neighbours of the requested Vertex `vert` in the `graph`. Return `None` if the Vertex is not in the graph."
            ]
        },
        {
            "cell_type": "code",
            "execution_count": 4,
            "metadata": {
                "colab": [],
                "colab_type": "code",
                "id": "0IuyrlmNhCok"
            },
            "outputs": [],
            "source": [
                "def get_neighbours(graph: dict, target_vertex):\n",
                "    res = []\n",
                "    for vertex, edges in graph.items():\n",
                "        if vertex == target_vertex:\n",
                "            res += edges\n",
                "        # elif target_vertex in edges:\n",
                "        #     res.append(vertex)\n",
                "    return res if len(res) != 0 else None"
            ]
        },
        {
            "cell_type": "code",
            "execution_count": 5,
            "metadata": {
                "colab": [],
                "colab_type": "code",
                "deletable": false,
                "editable": false,
                "id": "RXLzEJPzhrF7",
                "nbgrader": {
                    "grade": true,
                    "grade_id": "cs11",
                    "locked": true,
                    "points": "1",
                    "solution": false
                }
            },
            "outputs": [
                {
                    "name": "stdout",
                    "output_type": "stream",
                    "text": [
                        "['C', 'D']\n"
                    ]
                }
            ],
            "source": [
                "print(get_neighbours(graph, \"B\"))\n",
                "assert get_neighbours(graph, \"B\") == [\"C\", \"D\"]\n",
                "assert get_neighbours(graph, \"A\") == [\"B\", \"C\"]\n",
                "assert get_neighbours(graph, \"F\") == [\"C\"]\n",
                "assert get_neighbours(graph, \"Z\") == None"
            ]
        },
        {
            "cell_type": "code",
            "execution_count": 6,
            "metadata": {
                "deletable": false,
                "editable": false,
                "nbgrader": {
                    "grade": true,
                    "grade_id": "cs12",
                    "locked": true,
                    "points": "1",
                    "solution": false
                }
            },
            "outputs": [],
            "source": [
                "###\n",
                "### AUTOGRADER TEST - DO NOT REMOVE\n",
                "###\n"
            ]
        },
        {
            "cell_type": "markdown",
            "metadata": {
                "colab_type": "text",
                "deletable": false,
                "editable": false,
                "id": "BzqZhacxiYfV",
                "nbgrader": {
                    "grade": false,
                    "locked": true,
                    "solution": false
                }
            },
            "source": [
                "Write a function `get_source(graph, vert)` which returns a list of all source Vertices pointing to `vert` in the `graph`. For example, Vertex \"C\" has the following source Vertices: `[\"A\", \"B\", \"D\", \"F\"]`. Return a `None` object if there are none."
            ]
        },
        {
            "cell_type": "code",
            "execution_count": 7,
            "metadata": {
                "colab": [],
                "colab_type": "code",
                "id": "W6PepA1_ig3h"
            },
            "outputs": [],
            "source": [
                "def get_source(graph, target_vert):\n",
                "    res = []\n",
                "    for vertex, edges in graph.items():\n",
                "        if target_vert in edges:\n",
                "            res.append(vertex)\n",
                "    \n",
                "    return None if len(res) == 0 else res"
            ]
        },
        {
            "cell_type": "code",
            "execution_count": 8,
            "metadata": {
                "colab": [],
                "colab_type": "code",
                "deletable": false,
                "editable": false,
                "id": "TgpCSdtJi3sx",
                "nbgrader": {
                    "grade": true,
                    "grade_id": "cs13",
                    "locked": true,
                    "points": "1",
                    "solution": false
                }
            },
            "outputs": [],
            "source": [
                "assert sorted(get_source(graph, \"C\")) == [\"A\", \"B\", \"D\", \"F\"]\n",
                "assert sorted(get_source(graph, \"D\")) == [\"B\", \"C\"]\n",
                "assert sorted(get_source(graph, \"F\")) == [\"E\"]\n",
                "assert get_source(graph, \"Z\") == None\n"
            ]
        },
        {
            "cell_type": "code",
            "execution_count": 9,
            "metadata": {
                "deletable": false,
                "editable": false,
                "nbgrader": {
                    "grade": true,
                    "grade_id": "cs14",
                    "locked": true,
                    "points": "1",
                    "solution": false
                }
            },
            "outputs": [],
            "source": [
                "###\n",
                "### AUTOGRADER TEST - DO NOT REMOVE\n",
                "###\n"
            ]
        },
        {
            "cell_type": "markdown",
            "metadata": {
                "colab_type": "text",
                "deletable": false,
                "editable": false,
                "id": "dm-fsmj4j5zo",
                "nbgrader": {
                    "grade": false,
                    "locked": true,
                    "solution": false
                }
            },
            "source": [
                "**CS2.** Create a class `Vertex` to represent a vertex in a graph. The class `Vertex` has the following attributes:\n",
                "- `id_`: to identify each vertex. This is of String data type.\n",
                "- `neighbours`: which is a Dictionary where the keys are the neighbouring `Vertex` object instances that are connected to the current Vertex and the values are the weights of the edge between the current Vertex and the neighbouring vertices. \n",
                "\n",
                "The class should also have the following methods:\n",
                "\n",
                "- `__init__(self, id_)`: which is used to initialized the attribute `id_`. By default, `id_` is set to an empty String . The attribute `neighbours` is always set to an empty dictionary.\n",
                "- `add_neighbour(self, nbr_vertex, weight)`: which adds a neighbouring Vertex to the current Vertex. The second argument provides the weight of the edge between the current Vertex and the newly added neighbouring Vertex. By default, `weight` is `0`.\n",
                "- `get_neigbours(self)`: which returns all the Vertices connected to the current Vertex as a list. The elements of the output list are of `Vertex` object instances.\n",
                "- `get_weight(self, neighbour)`: which returns the weight of the requested neighbour. It should return `None` if the requested neighbour is not found.\n",
                "- `__eq__(self, other)`: which returns true if the id of the current vertex object is the same as the `other` vertex's id. \n",
                "- `__lt__(self, other)`: which returns true if the id of the current vertex object is less than the `other` vertex's id.\n",
                "- `__hash__(self)`: which calls the `hash()` function on `id_` and returns it. This allows the object to be a dictionary key. This is provided for you.\n",
                "- `__str__(self)`: This method should return the id of the current vertex and a list of `id_`s of the neighbouring vertices, like `Vertex 2 is connected to: 3, 4, 5` ."
            ]
        },
        {
            "cell_type": "code",
            "execution_count": 10,
            "metadata": {
                "colab": [],
                "colab_type": "code",
                "id": "htPcbL_6k4IS"
            },
            "outputs": [],
            "source": [
                "class Vertex:\n",
                "    def __init__(self, id_=\"\"):\n",
                "        self.id_ = id_\n",
                "        self.neighbours: dict[Vertex, int] = {}\n",
                "    \n",
                "    def add_neighbour(self, nbr_vertex, weight: int = 0):\n",
                "        self.neighbours[nbr_vertex] = weight\n",
                "    \n",
                "    def get_neighbours(self):\n",
                "        return list(self.neighbours.keys())\n",
                "    \n",
                "    def get_weight(self, neighbour):\n",
                "        return self.neighbours.get(neighbour)\n",
                "    \n",
                "    def __eq__(self, other):\n",
                "        return self.id_ == other.id_\n",
                "    \n",
                "    def __lt__(self, other):\n",
                "        return self.id_ < other.id_\n",
                "    \n",
                "    def __hash__(self):\n",
                "        return hash(self.id_)\n",
                "    \n",
                "    def __str__(self):\n",
                "        return f'Vertex {self.id_} is connected to: {\", \".join(neighbour.id_ for neighbour in self.get_neighbours())}'"
            ]
        },
        {
            "cell_type": "code",
            "execution_count": 11,
            "metadata": {
                "colab": [],
                "colab_type": "code",
                "deletable": false,
                "editable": false,
                "id": "hvmNLMuTnADW",
                "nbgrader": {
                    "grade": true,
                    "grade_id": "cs21",
                    "locked": true,
                    "points": "1",
                    "solution": false
                }
            },
            "outputs": [],
            "source": [
                "v1 = Vertex(\"1\")\n",
                "assert v1.id_ == \"1\" and len(v1.neighbours) == 0\n",
                "v2 = Vertex(\"2\")\n",
                "v1.add_neighbour(v2)\n",
                "assert v1.get_neighbours()[0].id_ == \"2\" and v1.neighbours[v1.get_neighbours()[0]] == 0\n",
                "v3 = Vertex(\"3\")\n",
                "v1.add_neighbour(v3, 3)\n",
                "assert v1.get_weight(v3) == 3\n",
                "v4 = Vertex(\"4\")\n",
                "assert v1.get_weight(v4) == None\n",
                "assert v1 < v2\n",
                "assert v1 != v2\n",
                "assert str(v1) == \"Vertex 1 is connected to: 2, 3\""
            ]
        },
        {
            "cell_type": "code",
            "execution_count": 12,
            "metadata": {
                "deletable": false,
                "editable": false,
                "nbgrader": {
                    "grade": true,
                    "grade_id": "cs22",
                    "locked": true,
                    "points": "1",
                    "solution": false
                }
            },
            "outputs": [],
            "source": [
                "###\n",
                "### AUTOGRADER TEST - DO NOT REMOVE\n",
                "###\n"
            ]
        },
        {
            "cell_type": "markdown",
            "metadata": {
                "colab_type": "text",
                "deletable": false,
                "editable": false,
                "id": "ndPXs3Mhn6rg",
                "nbgrader": {
                    "grade": false,
                    "locked": true,
                    "solution": false
                }
            },
            "source": [
                "**CS3.** Create a class `Graph` to represent a Graph. The class has the following attribute:\n",
                "- `vertices`: which is a *dictionary* of Vertices. The keys are the `id`s of the Vertices and the values are `Vertex` object instances.\n",
                "\n",
                "The class has the following property:\n",
                "- `num_vertices`: which is a *computed* property that returns the number of vertices in the graph.\n",
                "\n",
                "The class also has the following methods:\n",
                "- `__init__(self)`: which initializes the graph with an empty dictionary.\n",
                "- `_create_vertex(self, id_)`: which creates a new `Vertex` object with a given `id_`. This method is never called directly and is only used by `add_vertex(id_)`.\n",
                "- `add_vertex(self, id_)`: which creates a new `Vertex` object, adding it into the dictionary `vertices`. The argument `id_` is a String. This method should call `_create_vertex(id_)`.\n",
                "- `get_vertex(self, id_)`: which returns the `Vertex` object instance of the requested `id_`. The method should return `None` if the requested `id_` cannot be found. The argument `id_` is a String.\n",
                "- `add_edge(start_v, end_v)`: which creates an edge from one Vertex to another Vertex. The arguments are the `id_`s of the two vertices and are both Strings.\n",
                "- `get_neighbours(self, id_)`: which returns a list of `id_`s all the neighbouring vertices (of the specified Vertex `id_`). It should return `None` if `id_` cannot be found. The argument `id_` is a String and the elements of the output list are of `str` data type. \n",
                "- `__contains__(self, id_)`: which returns either `True` or `False` depending on whether the graph contains the specified Vertex's `id_`. The argument `id_` is a String."
            ]
        },
        {
            "cell_type": "code",
            "execution_count": 13,
            "metadata": {
                "colab": [],
                "colab_type": "code",
                "id": "fChShweEqEtW"
            },
            "outputs": [],
            "source": [
                "class Graph:\n",
                "    def __init__(self):\n",
                "        self.vertices: dict[str, Vertex] = {}\n",
                "        \n",
                "    def _create_vertex(self, id_):\n",
                "        return Vertex(id_)\n",
                "    \n",
                "    def add_vertex(self, id_):\n",
                "        self.vertices[id_] = self._create_vertex(id_)\n",
                "    \n",
                "    def get_vertex(self, id_):\n",
                "        return self.vertices.get(id_)\n",
                "    \n",
                "    def add_edge(self, start_v, end_v, weight=0):\n",
                "        if self.get_vertex(start_v) is None:\n",
                "            raise ValueError('start_v was not in graph')\n",
                "        elif self.get_vertex(end_v) is None:\n",
                "            raise ValueError('end_v was not in graph')\n",
                "\n",
                "        self.get_vertex(start_v).add_neighbour(self.get_vertex(end_v), weight)\n",
                "\n",
                "    def get_neighbours(self, id_):\n",
                "        if self.get_vertex(id_) is None:\n",
                "            return None\n",
                "        return [neighbour.id_ for neighbour in self.get_vertex(id_).get_neighbours()]\n",
                "    \n",
                "    def __contains__(self, val):\n",
                "        return self.get_vertex(val) is not None\n",
                "    \n",
                "    def __iter__(self):\n",
                "        for k,v in self.vertices.items():\n",
                "            yield v \n",
                "        \n",
                "    # write a code to create a computed property called num_vertices\n",
                "    @property\n",
                "    def num_vertices(self):\n",
                "        return len(self.vertices)\n"
            ]
        },
        {
            "cell_type": "code",
            "execution_count": 14,
            "metadata": {
                "colab": [],
                "colab_type": "code",
                "deletable": false,
                "editable": false,
                "id": "ng6pGDNBf6Y7",
                "nbgrader": {
                    "grade": true,
                    "grade_id": "cs31",
                    "locked": true,
                    "points": "1",
                    "solution": false
                }
            },
            "outputs": [],
            "source": [
                "g = Graph()\n",
                "assert g.vertices == {} and g.num_vertices == 0\n",
                "g.add_vertex(\"A\")\n",
                "g.add_vertex(\"B\")\n",
                "g.add_vertex(\"C\")\n",
                "g.add_vertex(\"D\")\n",
                "g.add_vertex(\"E\")\n",
                "g.add_vertex(\"F\")\n",
                "assert g.num_vertices == 6\n",
                "assert \"A\" in g\n",
                "assert \"B\" in g\n",
                "assert \"C\" in g\n",
                "assert \"D\" in g\n",
                "assert \"E\" in g\n",
                "assert \"F\" in g\n",
                "g.add_edge(\"A\", \"B\")\n",
                "g.add_edge(\"A\", \"C\")\n",
                "g.add_edge(\"B\", \"C\")\n",
                "g.add_edge(\"B\", \"D\")\n",
                "g.add_edge(\"C\", \"D\")\n",
                "g.add_edge(\"D\", \"C\")\n",
                "g.add_edge(\"E\", \"F\")\n",
                "g.add_edge(\"F\", \"C\")\n",
                "assert sorted(g.get_neighbours(\"A\")) == [\"B\", \"C\"]\n",
                "assert sorted(g.get_neighbours(\"B\")) == [\"C\", \"D\"]\n",
                "assert sorted(g.get_neighbours(\"C\")) == [\"D\"]\n",
                "assert [v.id_ for v in g] == [\"A\", \"B\", \"C\", \"D\", \"E\", \"F\"]"
            ]
        },
        {
            "cell_type": "code",
            "execution_count": 15,
            "metadata": {
                "deletable": false,
                "editable": false,
                "nbgrader": {
                    "grade": true,
                    "grade_id": "cs32",
                    "locked": true,
                    "points": "1",
                    "solution": false
                }
            },
            "outputs": [],
            "source": [
                "###\n",
                "### AUTOGRADER TEST - DO NOT REMOVE\n",
                "###\n"
            ]
        },
        {
            "cell_type": "markdown",
            "metadata": {
                "deletable": false,
                "editable": false,
                "nbgrader": {
                    "grade": false,
                    "locked": true,
                    "solution": false
                }
            },
            "source": [
                "**CS4.** Create a subclass of `Vertex` called `VertexSearch`. This class has the following additional attributes:\n",
                "- `colour`: which is a mark on the vertex during the search algorithm. It is of String data type and should be set to \"white\" by default.\n",
                "- `d`: which is an Integer denoting the distance from other Vertex to the current Vertex in Breath-First-Search. This is also used to record discovery time in Depth-First-Search. This attribute should be initialized to `sys.maxsize` at the start.\n",
                "- `f`: which is an Integer denoting the final time in Depth-First-Search. This attribute should be initialized to `sys.maxsize` at the start.\n",
                "- `parent`: which is a reference to the parent Vertex object. This attribute should be set to `None` at the start."
            ]
        },
        {
            "cell_type": "code",
            "execution_count": 16,
            "metadata": {},
            "outputs": [],
            "source": [
                "import sys\n",
                "\n",
                "class VertexSearch(Vertex):\n",
                "    def __init__(self, id_=\"\"):\n",
                "        super().__init__(id_)\n",
                "        self.colour: str = \"white\"\n",
                "        self.d: int = sys.maxsize\n",
                "        self.f: int = sys.maxsize\n",
                "        self.parent: VertexSearch | None = None\n",
                "    \n",
                "\n"
            ]
        },
        {
            "cell_type": "code",
            "execution_count": 17,
            "metadata": {
                "deletable": false,
                "editable": false,
                "nbgrader": {
                    "grade": true,
                    "grade_id": "cs41",
                    "locked": true,
                    "points": "1",
                    "solution": false
                }
            },
            "outputs": [],
            "source": [
                "import sys\n",
                "\n",
                "v = VertexSearch()\n",
                "assert v.id_ == \"\"\n",
                "assert v.colour == \"white\"\n",
                "assert v.d == sys.maxsize\n",
                "assert v.f == sys.maxsize\n",
                "assert v.parent == None\n",
                "\n",
                "parent_method = getattr(v, 'get_neighbours', None)\n",
                "assert callable(parent_method)\n",
                "parent_method = getattr(v, 'get_weight', None)\n",
                "assert callable(parent_method)\n"
            ]
        },
        {
            "cell_type": "code",
            "execution_count": 18,
            "metadata": {
                "deletable": false,
                "editable": false,
                "nbgrader": {
                    "grade": true,
                    "grade_id": "cs42",
                    "locked": true,
                    "points": "1",
                    "solution": false
                }
            },
            "outputs": [],
            "source": [
                "###\n",
                "### AUTOGRADER TEST - DO NOT REMOVE\n",
                "###\n"
            ]
        },
        {
            "cell_type": "markdown",
            "metadata": {
                "colab_type": "text",
                "deletable": false,
                "editable": false,
                "id": "0pHMdvifh_0h",
                "nbgrader": {
                    "grade": false,
                    "locked": true,
                    "solution": false
                }
            },
            "source": [
                "**CS5.** **You should do this after you completed HW2.** Create a class `Search2D` which takes in an object `GraphSearch` for its initialization. The class should have the following methods:\n",
                "- `clear_vertices()`: which sets the attributes f all the vertices:\n",
                "  - `colour` to \"white\"\n",
                "  - `d` to `sys.maxsize`\n",
                "  - `f` to `sys.maxsize`\n",
                "  - `parent` to `None`.\n",
                " \n",
                "\n",
                "\n"
            ]
        },
        {
            "cell_type": "code",
            "execution_count": 19,
            "metadata": {},
            "outputs": [],
            "source": [
                "#Copy over GraphSearch from Homework\n",
                "class GraphSearch(Graph):\n",
                "    def _create_vertex(self, id_):\n",
                "        return VertexSearch(id_)"
            ]
        },
        {
            "cell_type": "code",
            "execution_count": 20,
            "metadata": {
                "colab": [],
                "colab_type": "code",
                "id": "mWh412x_iYSK"
            },
            "outputs": [],
            "source": [
                "import sys\n",
                "\n",
                "class Search2D:\n",
                "    def __init__(self, g: Graph):\n",
                "        self.graph = g\n",
                "    \n",
                "    def clear_vertices(self):\n",
                "        for vertex in self.graph.vertices.values():\n",
                "            vertex.colour = \"white\"\n",
                "            vertex.d = sys.maxsize\n",
                "            vertex.f = sys.maxsize\n",
                "            vertex.parent = None\n",
                "    \n",
                "    def __iter__(self):\n",
                "        return iter([v for v in self.graph])\n",
                "    \n",
                "    def __len__(self):\n",
                "        return len([v for v in self.graph.vertices])"
            ]
        },
        {
            "cell_type": "code",
            "execution_count": 21,
            "metadata": {
                "colab": {
                    "base_uri": "https://localhost:8080/",
                    "height": 34
                },
                "colab_type": "code",
                "deletable": false,
                "editable": false,
                "id": "q8DrPuVIqqZT",
                "nbgrader": {
                    "grade": true,
                    "grade_id": "cs51",
                    "locked": true,
                    "points": "1",
                    "solution": false
                },
                "outputId": "c843b09c-13ba-4ecd-e1af-95943cabe1c0"
            },
            "outputs": [],
            "source": [
                "g4 = GraphSearch()\n",
                "g4.add_vertex(\"A\")\n",
                "g4.add_vertex(\"B\")\n",
                "g4.add_vertex(\"C\")\n",
                "g4.add_vertex(\"D\")\n",
                "g4.add_vertex(\"E\")\n",
                "g4.add_vertex(\"F\")\n",
                "g4.add_edge(\"A\", \"B\")\n",
                "g4.add_edge(\"A\", \"C\")\n",
                "g4.add_edge(\"B\", \"C\")\n",
                "g4.add_edge(\"B\", \"D\")\n",
                "g4.add_edge(\"C\", \"D\")\n",
                "g4.add_edge(\"D\", \"C\")\n",
                "g4.add_edge(\"E\", \"F\")\n",
                "g4.add_edge(\"F\", \"C\")\n",
                "gs4 = Search2D(g4)\n",
                "gs4.clear_vertices()\n",
                "\n",
                "assert len(gs4) == 6\n",
                "assert [v.id_ for v in gs4] == [\"A\", \"B\", \"C\", \"D\", \"E\", \"F\"]\n",
                "assert [v.colour for v in gs4] == [\"white\" for v in range(len(gs4))]\n",
                "assert [v.d for v in gs4] == [sys.maxsize for v in range(len(gs4))]\n",
                "assert [v.f for v in gs4] == [sys.maxsize for v in range(len(gs4))]\n",
                "assert [v.parent for v in gs4] == [None for v in range(len(gs4))]"
            ]
        },
        {
            "cell_type": "code",
            "execution_count": 22,
            "metadata": {
                "deletable": false,
                "editable": false,
                "nbgrader": {
                    "grade": true,
                    "grade_id": "cs52",
                    "locked": true,
                    "points": "1",
                    "solution": false
                }
            },
            "outputs": [],
            "source": [
                "###\n",
                "### AUTOGRADER TEST - DO NOT REMOVE\n",
                "###\n"
            ]
        },
        {
            "cell_type": "markdown",
            "metadata": {
                "deletable": false,
                "editable": false,
                "nbgrader": {
                    "grade": false,
                    "locked": true,
                    "solution": false
                }
            },
            "source": [
                "**CS6.** Create a class `SearchBFS` which is a subclass of `Search2D`. This subclass should implement the Breadth First Search algorithm in the following methods:\n",
                "\n",
                "- `search_from(start)`: which initializes the `d` and `parent` attributes of each vertices in the graph from the `start` Vertex following Breadth-First-Search algorithm. Use your previous code that implements `Queue` data structure. \n",
                "- `get_shortest_path(start, dest)`: which returns a list of vertex ids that forms a shortest path from Vertex `start` to Vertex `dest`. This method should call `get_path()` (see next method in the list) and pass on an empty list as one of the input arguments. The method `get_path()` will populate this list if there is a path. \n",
                "    - If the path list is empty after calling `get_path()`, this means that either the starting vertex or the destination vertex do not exist in the grapth. In this case, exit the function returning a `None` object.\n",
                "    - If the path list is not empty, it will either contain `No Path` as one of the items or a list of vertices that gives the path from the starting vertex to the destination vertex. In this case, simply return the list as it is. \n",
                "- `get_path(start, dest, result)`: which modifies the input list `result`. \n",
                "    - This method should first check whether the starting vertex and the destination vertex exist in the grapth. If they do not exist in either case, the method should exit returning a `None` object. \n",
                "    - If the starting and destination vertex exist in the graph, this method should call `search_from()` when the distance at `start` Vertex is not zero. A non-zero distance at the starting vertex means that we have not run the BFS algorithm from that starting vertex.\n",
                "    - if the destination and the starting vertex are the same, modify the `result` list with this one vertex. This means that we have found the path that consists of only one vertex. \n",
                "    - if the destination vertex has no parent, this means there is no path. Add `No Path` string into the `result` list. \n",
                "    - otherwise, recursively call `get_path()` and add the result into the `result` list. "
            ]
        },
        {
            "cell_type": "code",
            "execution_count": 23,
            "metadata": {
                "colab": [],
                "colab_type": "code",
                "id": "avdnmGxbiKgR"
            },
            "outputs": [],
            "source": [
                "class Stack:\n",
                "    def __init__(self):\n",
                "        self._items = []\n",
                "        \n",
                "    def push(self, item):\n",
                "        self._items.append(item)\n",
                "\n",
                "    def pop(self):\n",
                "        if self.is_empty:\n",
                "            return None\n",
                "        return self._items.pop()\n",
                "\n",
                "    def peek(self):\n",
                "        if self.is_empty:\n",
                "            return None\n",
                "        return self._items[-1]\n",
                "\n",
                "    @property\n",
                "    def is_empty(self):\n",
                "        return self.size == 0\n",
                "\n",
                "    @property\n",
                "    def size(self):\n",
                "        return len(self._items)\n",
                "\n",
                "class Queue:\n",
                "    def __init__(self):\n",
                "        self.left_stack = Stack()\n",
                "        self.right_stack = Stack()\n",
                "    \n",
                "    def enqueue(self, new_item):\n",
                "        self.right_stack.push(new_item)\n",
                "\n",
                "    def dequeue(self):\n",
                "        if self.left_stack.is_empty:\n",
                "            self.left_stack._items = self.right_stack._items[::-1]\n",
                "            self.right_stack._items.clear()\n",
                "        return self.left_stack.pop()\n",
                "\n",
                "    def peek(self):\n",
                "        if self.is_empty:\n",
                "            return None\n",
                "        elif self.left_stack.is_empty:\n",
                "            return self.right_stack._items[0]\n",
                "        else:\n",
                "            return self.left_stack.peek()\n",
                "    \n",
                "    @property\n",
                "    def is_empty(self):\n",
                "        return self.left_stack.is_empty and self.right_stack.is_empty\n",
                "    \n",
                "    @property\n",
                "    def size(self):\n",
                "        return self.left_stack.size + self.right_stack.size\n",
                "        \n"
            ]
        },
        {
            "cell_type": "code",
            "execution_count": 39,
            "metadata": {},
            "outputs": [],
            "source": [
                "class SearchBFS(Search2D):\n",
                "\n",
                "    def search_from(self, start: str):\n",
                "        self.clear_vertices()\n",
                "        search_queue = Queue()\n",
                "        start_vertex = self.graph.get_vertex(start)\n",
                "        start_vertex.d = 0\n",
                "        start_vertex.colour = 'black'\n",
                "        search_queue.enqueue(start_vertex)\n",
                "        while not search_queue.is_empty:\n",
                "            current_vertex: VertexSearch = search_queue.dequeue()\n",
                "            print(f'current_vertex = {current_vertex}')\n",
                "            for neighbour in current_vertex.neighbours:\n",
                "                if neighbour.colour == 'black': continue\n",
                "                \n",
                "                neighbour.colour = 'black'\n",
                "                neighbour.parent = current_vertex\n",
                "                neighbour.d = current_vertex.d + 1\n",
                "                search_queue.enqueue(neighbour)\n",
                "    \n",
                "    def get_shortest_path(self, start, dest):\n",
                "        res = []\n",
                "        self.get_path(start, dest, res)\n",
                "        if res is None or len(res) == 0:\n",
                "            return None\n",
                "        return res\n",
                "    \n",
                "    def get_path(self, start: str, dest: str, result: list) -> list | None:\n",
                "        if self.graph.get_vertex(start) is None or self.graph.get_vertex(dest) is None:\n",
                "            return None\n",
                "        if len(result) == 0:\n",
                "            self.search_from(start)\n",
                "            result.append(dest)\n",
                "        \n",
                "        start_vertex: VertexSearch = self.graph.get_vertex(start)\n",
                "        end_vertex: VertexSearch = self.graph.get_vertex(dest)\n",
                "\n",
                "        if start_vertex == end_vertex:\n",
                "            # we're done!\n",
                "            return\n",
                "        elif end_vertex.parent is None:\n",
                "            result.insert(0, \"No Path\")\n",
                "        else:\n",
                "            result.insert(0, end_vertex.parent.id_)\n",
                "            self.get_path(start, end_vertex.parent.id_, result)\n",
                "\n",
                "        "
            ]
        },
        {
            "cell_type": "code",
            "execution_count": null,
            "metadata": {},
            "outputs": [],
            "source": []
        },
        {
            "cell_type": "code",
            "execution_count": 40,
            "metadata": {
                "deletable": false,
                "editable": false,
                "nbgrader": {
                    "grade": true,
                    "grade_id": "cs61",
                    "locked": true,
                    "points": "1",
                    "solution": false
                }
            },
            "outputs": [
                {
                    "name": "stdout",
                    "output_type": "stream",
                    "text": [
                        "current_vertex = Vertex A is connected to: B, C\n",
                        "current_vertex = Vertex B is connected to: C, D\n",
                        "current_vertex = Vertex C is connected to: D\n",
                        "current_vertex = Vertex D is connected to: C\n",
                        "current_vertex = Vertex A is connected to: B, C\n",
                        "current_vertex = Vertex B is connected to: C, D\n",
                        "current_vertex = Vertex C is connected to: D\n",
                        "current_vertex = Vertex D is connected to: C\n",
                        "['A', 'B', 'D']\n",
                        "current_vertex = Vertex E is connected to: F\n",
                        "current_vertex = Vertex F is connected to: C\n",
                        "current_vertex = Vertex C is connected to: D\n",
                        "current_vertex = Vertex D is connected to: C\n"
                    ]
                }
            ],
            "source": [
                "g4 = GraphSearch()\n",
                "g4.add_vertex(\"A\")\n",
                "g4.add_vertex(\"B\")\n",
                "g4.add_vertex(\"C\")\n",
                "g4.add_vertex(\"D\")\n",
                "g4.add_vertex(\"E\")\n",
                "g4.add_vertex(\"F\")\n",
                "g4.add_edge(\"A\", \"B\")\n",
                "g4.add_edge(\"A\", \"C\")\n",
                "g4.add_edge(\"B\", \"C\")\n",
                "g4.add_edge(\"B\", \"D\")\n",
                "g4.add_edge(\"C\", \"D\")\n",
                "g4.add_edge(\"D\", \"C\")\n",
                "g4.add_edge(\"E\", \"F\")\n",
                "g4.add_edge(\"F\", \"C\")\n",
                "gs4 = SearchBFS(g4)\n",
                "\n",
                "gs4.search_from(\"A\")\n",
                "assert gs4.graph.get_vertex(\"A\").d == 0\n",
                "assert gs4.graph.get_vertex(\"A\").colour == \"black\"\n",
                "assert gs4.graph.get_vertex(\"A\").parent == None\n",
                "assert gs4.graph.get_vertex(\"B\").d == 1\n",
                "assert gs4.graph.get_vertex(\"B\").colour == \"black\"\n",
                "assert gs4.graph.get_vertex(\"B\").parent == gs4.graph.get_vertex(\"A\")\n",
                "assert gs4.graph.get_vertex(\"C\").d == 1\n",
                "assert gs4.graph.get_vertex(\"C\").colour == \"black\"\n",
                "assert gs4.graph.get_vertex(\"C\").parent == gs4.graph.get_vertex(\"A\")\n",
                "assert gs4.graph.get_vertex(\"D\").d == 2\n",
                "assert gs4.graph.get_vertex(\"D\").colour == \"black\"\n",
                "gs4.graph.get_vertex(\"D\").parent\n",
                "#assert gs4.graph.get_vertex(\"D\").parent == gs4.graph.get_vertex(\"B\")\n",
                "ans = gs4.get_shortest_path(\"A\", \"D\")\n",
                "print(ans)\n",
                "assert ans == [\"A\", \"B\", \"D\"]\n",
                "ans = gs4.get_shortest_path(\"E\", \"D\")\n",
                "assert ans == [\"E\", \"F\", \"C\", \"D\"]"
            ]
        },
        {
            "cell_type": "code",
            "execution_count": null,
            "metadata": {
                "deletable": false,
                "editable": false,
                "nbgrader": {
                    "grade": true,
                    "grade_id": "cs62",
                    "locked": true,
                    "points": "1",
                    "solution": false
                }
            },
            "outputs": [],
            "source": [
                "###\n",
                "### AUTOGRADER TEST - DO NOT REMOVE\n",
                "###\n"
            ]
        }
    ],
    "metadata": {
        "colab": {
            "authorship_tag": "ABX9TyPgyB9DRYSfhjD8BmHZ7hFm",
            "collapsed_sections": [],
            "include_colab_link": true,
            "name": "Week05_ProblemSet.ipynb",
            "provenance": []
        },
        "kernelspec": {
            "display_name": "Python 3 [3.10]",
            "language": "python",
            "name": "python3"
        },
        "language_info": {
            "codemirror_mode": {
                "name": "ipython",
                "version": 3
            },
            "file_extension": ".py",
            "mimetype": "text/x-python",
            "name": "python",
            "nbconvert_exporter": "python",
            "pygments_lexer": "ipython3",
            "version": "3.11.3"
        },
        "vscode": {
            "interpreter": {
                "hash": "ac37b77c3c0f43e60bec193f0626743b91dd65d8d4aeca5713e457ab7e777e4c"
            }
        }
    },
    "nbformat": 4,
    "nbformat_minor": 4
}
