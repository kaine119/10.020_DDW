{
 "cells": [
  {
   "cell_type": "markdown",
   "metadata": {
    "deletable": false,
    "editable": false,
    "nbgrader": {
     "grade": false,
     "locked": true,
     "solution": false
    }
   },
   "source": [
    "# Week 10 Problem Set\n",
    "\n",
    "## Homeworks"
   ]
  },
  {
   "cell_type": "code",
   "execution_count": 1,
   "metadata": {
    "deletable": false,
    "editable": false,
    "nbgrader": {
     "grade": false,
     "locked": true,
     "solution": false
    }
   },
   "outputs": [],
   "source": [
    "import pandas as pd\n",
    "import numpy as np\n",
    "import matplotlib.pyplot as plt\n",
    "import itertools"
   ]
  },
  {
   "cell_type": "markdown",
   "metadata": {
    "deletable": false,
    "editable": false,
    "nbgrader": {
     "grade": false,
     "locked": true,
     "solution": false
    }
   },
   "source": [
    "**HW0.** Do the following before starting the homework questions.\n",
    "\n",
    "**Task 1.** Paste the following functions from your cohort sessions:\n",
    "- `get_features_target()`\n",
    "- `normalize_z()`\n",
    "- `normalize_minmax()`\n",
    "- `replace_target()`\n",
    "- `split_data()`\n",
    "- `prepare_feature()`\n",
    "- `prepare_target()`\n",
    "- `calc_logreg()`\n",
    "- `compute_cost_logreg()`\n",
    "- `gradient_descent_logreg()`\n",
    "- `predict_norm()`\n",
    "- `predict_logreg()`\n",
    "- `confusion_matrix()`"
   ]
  },
  {
   "cell_type": "code",
   "execution_count": 2,
   "metadata": {},
   "outputs": [],
   "source": [
    "import itertools\n",
    "def normalize_z(dfin: pd.DataFrame, columns_means: pd.Series | None = None, columns_stds: pd.Series | None = None):\n",
    "    if columns_means is None:\n",
    "        columns_means = dfin.mean(axis=0)\n",
    "    if columns_stds is None:\n",
    "        # columns_stds is given as opt arg because if dfin only contains 1 sample (1 row), then dfin.std(axis=0) will be 0 and dfout will be error\n",
    "        columns_stds = dfin.std(axis=0)\n",
    "    dfout = (dfin - np.array(columns_means)) / np.array(columns_stds)\n",
    "    return dfout, columns_means, columns_stds\n",
    "\n",
    "\n",
    "def get_features_targets(df, feature_names, target_names):\n",
    "    return df[feature_names], df[target_names]\n",
    "\n",
    "\n",
    "def prepare_feature(df_feature: pd.DataFrame | np.ndarray):\n",
    "    res = prepare_target(df_feature)\n",
    "    return np.insert(res, 0, 1, axis=1)\n",
    "\n",
    "\n",
    "def prepare_target(df_target: pd.DataFrame | np.ndarray | pd.Series):\n",
    "    try:\n",
    "        # df_target.shape returns a tuple #row,#col, i'm expecting 1 here at Week 9\n",
    "        cols = df_target.shape[1]\n",
    "    except IndexError:\n",
    "        cols = 1\n",
    "    # check if df_target is a dataframe?\n",
    "    if isinstance(df_target, pd.DataFrame):\n",
    "        # if yes, convert to numpy using the to_numpy() func from Pandas\n",
    "        np_target = df_target.to_numpy()\n",
    "    elif isinstance(df_target, pd.Series):\n",
    "        np_target = df_target.to_numpy()\n",
    "    elif isinstance(df_target, np.ndarray):\n",
    "        # by definition, if arg is not a DF, it will be a numpy array\n",
    "        np_target = df_target\n",
    "    return np_target.reshape(-1, cols)\n",
    "\n",
    "\n",
    "def split_data(df_feature: pd.DataFrame, df_target, random_state=None, test_size=0.3):\n",
    "    np.random.seed(random_state)\n",
    "\n",
    "    # generate randomized mask (i.e. list[True|False])\n",
    "    # test_mask = np.concatenate([\n",
    "    #     np.ones(int(len(df_feature) * test_size), dtype=bool),\n",
    "    #     np.zeros(len(df_feature) - int(len(df_feature) * test_size), dtype=bool)\n",
    "    # ])\n",
    "    # np.random.shuffle(test_mask)\n",
    "\n",
    "    test_indexes = np.random.choice(df_feature.index, int(\n",
    "        len(df_feature) * test_size), replace=False)\n",
    "\n",
    "    feature_indexes = [\n",
    "        index for index in df_feature.index if index not in test_indexes]\n",
    "\n",
    "    # print(test_indexes)\n",
    "\n",
    "    df_feature_train = df_feature.loc[feature_indexes]\n",
    "    df_feature_test = df_feature.loc[test_indexes]\n",
    "    df_target_train = df_target.loc[feature_indexes]\n",
    "    df_target_test = df_target.loc[test_indexes]\n",
    "\n",
    "    # df_feature_train = df_feature.loc[~test_mask]\n",
    "    # df_feature_test  = df_feature.loc[test_mask]\n",
    "    # df_target_train  = df_target.loc[~test_mask]\n",
    "    # df_target_test   = df_target.loc[test_mask]\n",
    "\n",
    "    return df_feature_train, df_feature_test, df_target_train, df_target_test\n",
    "\n",
    "\n",
    "def normalize_minmax(dfin: pd.DataFrame | np.ndarray, columns_mins=None, columns_maxs=None):\n",
    "    if isinstance(dfin, np.ndarray):\n",
    "        if len(dfin.shape) != 2 and columns_mins is not None:\n",
    "            df = pd.DataFrame(dfin.reshape(-1, len(columns_mins)))\n",
    "        else:\n",
    "            df = pd.DataFrame(dfin)\n",
    "    else:\n",
    "        df = dfin\n",
    "\n",
    "    df = df.copy()\n",
    "\n",
    "    if columns_mins is None:\n",
    "        columns_mins = df.min(axis=0)\n",
    "    if columns_maxs is None:\n",
    "        columns_maxs = df.max(axis=0)\n",
    "\n",
    "    def normalize(x, i): return (\n",
    "        x - columns_mins[i]) / (columns_maxs[i] - columns_mins[i])\n",
    "\n",
    "    for column_i in df.columns:\n",
    "        df.loc[:, column_i] = df.loc[:, column_i].apply(\n",
    "            lambda x: normalize(x, column_i))\n",
    "\n",
    "    if isinstance(dfin, np.ndarray):\n",
    "        df = df.to_numpy()\n",
    "        if len(dfin.shape) != 2:\n",
    "            df = df[0]\n",
    "\n",
    "    return df, columns_mins, columns_maxs\n",
    "\n",
    "\n",
    "def replace_target(input_df: pd.DataFrame, target_name, map_vals):\n",
    "    return input_df.loc[:target_name].replace(map_vals)\n",
    "\n",
    "\n",
    "def predict_y(X, beta) -> np.ndarray:\n",
    "    return 1 / (1 + np.exp(-X @ beta))\n",
    "\n",
    "def calc_logreg(X, beta):\n",
    "    return predict_y(X, beta)\n",
    "\n",
    "\n",
    "def compute_total_cost(beta, X, y):\n",
    "    np.seterr(divide='ignore')\n",
    "    n = X.shape[0]\n",
    "\n",
    "    sum_of_errors = np.where(y == 1, np.log(\n",
    "        predict_y(X, beta)), (1 - y) * np.log(1 - predict_y(X, beta))).sum()\n",
    "\n",
    "    np.seterr(divide='warn')\n",
    "    return -1 / n * sum_of_errors\n",
    "\n",
    "\n",
    "def compute_cost_logreg(beta, X, y):\n",
    "    return compute_total_cost(beta, X, y)\n",
    "\n",
    "\n",
    "def gradient_descent_logreg(X, y, beta, learning_rate, num_iters):\n",
    "    costs = []\n",
    "    for _ in range(num_iters):\n",
    "        beta = beta - learning_rate / len(X) * (X.T @ (calc_logreg(X, beta) - y))\n",
    "        costs.append(compute_total_cost(beta, X, y))\n",
    "    return beta, costs\n",
    "\n",
    "\n",
    "def predict_norm(X, beta):\n",
    "    return np.fromiter((1 if i > 0.5 else 0 for i in calc_logreg(X, beta)), X.dtype).reshape(-1, 1)\n",
    "\n",
    "\n",
    "def predict_logreg(df_feature, beta, means=None, stds=None):\n",
    "    feature = prepare_feature(normalize_z(df_feature, means, stds)[0])\n",
    "    return predict_norm(feature, beta)\n",
    "\n",
    "\n",
    "def confusion_matrix(ytrue, ypred, labels):\n",
    "    positive_label, negative_label = labels\n",
    "    print(labels)\n",
    "    res = {pair: 0 for pair in itertools.product(labels, labels)}\n",
    "\n",
    "    print(res)\n",
    "\n",
    "    for predicted, actual in zip(ytrue, ypred):\n",
    "        if predicted == 1 and actual == 1:\n",
    "            res[(positive_label, positive_label)] += 1\n",
    "        elif predicted == 0 and actual == 1:\n",
    "            res[(negative_label, positive_label)] += 1\n",
    "        elif predicted == 1 and actual == 0:\n",
    "            res[(positive_label, negative_label)] += 1\n",
    "        elif actual == 0 and predicted == 0:\n",
    "            res[(negative_label, negative_label)] += 1\n",
    "    return res"
   ]
  },
  {
   "cell_type": "markdown",
   "metadata": {
    "deletable": false,
    "editable": false,
    "nbgrader": {
     "grade": false,
     "locked": true,
     "solution": false
    }
   },
   "source": [
    "**Task 2.** Load the Iris data set from `iris_data.csv` into a Data Frame. \n",
    "\n",
    "    "
   ]
  },
  {
   "cell_type": "code",
   "execution_count": 3,
   "metadata": {},
   "outputs": [
    {
     "data": {
      "text/html": [
       "<div>\n",
       "<style scoped>\n",
       "    .dataframe tbody tr th:only-of-type {\n",
       "        vertical-align: middle;\n",
       "    }\n",
       "\n",
       "    .dataframe tbody tr th {\n",
       "        vertical-align: top;\n",
       "    }\n",
       "\n",
       "    .dataframe thead th {\n",
       "        text-align: right;\n",
       "    }\n",
       "</style>\n",
       "<table border=\"1\" class=\"dataframe\">\n",
       "  <thead>\n",
       "    <tr style=\"text-align: right;\">\n",
       "      <th></th>\n",
       "      <th>sepal_length</th>\n",
       "      <th>sepal_width</th>\n",
       "      <th>petal_length</th>\n",
       "      <th>petal_width</th>\n",
       "      <th>species</th>\n",
       "    </tr>\n",
       "  </thead>\n",
       "  <tbody>\n",
       "    <tr>\n",
       "      <th>0</th>\n",
       "      <td>5.1</td>\n",
       "      <td>3.5</td>\n",
       "      <td>1.4</td>\n",
       "      <td>0.2</td>\n",
       "      <td>Iris-setosa</td>\n",
       "    </tr>\n",
       "    <tr>\n",
       "      <th>1</th>\n",
       "      <td>4.9</td>\n",
       "      <td>3.0</td>\n",
       "      <td>1.4</td>\n",
       "      <td>0.2</td>\n",
       "      <td>Iris-setosa</td>\n",
       "    </tr>\n",
       "    <tr>\n",
       "      <th>2</th>\n",
       "      <td>4.7</td>\n",
       "      <td>3.2</td>\n",
       "      <td>1.3</td>\n",
       "      <td>0.2</td>\n",
       "      <td>Iris-setosa</td>\n",
       "    </tr>\n",
       "    <tr>\n",
       "      <th>3</th>\n",
       "      <td>4.6</td>\n",
       "      <td>3.1</td>\n",
       "      <td>1.5</td>\n",
       "      <td>0.2</td>\n",
       "      <td>Iris-setosa</td>\n",
       "    </tr>\n",
       "    <tr>\n",
       "      <th>4</th>\n",
       "      <td>5.0</td>\n",
       "      <td>3.6</td>\n",
       "      <td>1.4</td>\n",
       "      <td>0.2</td>\n",
       "      <td>Iris-setosa</td>\n",
       "    </tr>\n",
       "    <tr>\n",
       "      <th>...</th>\n",
       "      <td>...</td>\n",
       "      <td>...</td>\n",
       "      <td>...</td>\n",
       "      <td>...</td>\n",
       "      <td>...</td>\n",
       "    </tr>\n",
       "    <tr>\n",
       "      <th>145</th>\n",
       "      <td>6.7</td>\n",
       "      <td>3.0</td>\n",
       "      <td>5.2</td>\n",
       "      <td>2.3</td>\n",
       "      <td>Iris-virginica</td>\n",
       "    </tr>\n",
       "    <tr>\n",
       "      <th>146</th>\n",
       "      <td>6.3</td>\n",
       "      <td>2.5</td>\n",
       "      <td>5.0</td>\n",
       "      <td>1.9</td>\n",
       "      <td>Iris-virginica</td>\n",
       "    </tr>\n",
       "    <tr>\n",
       "      <th>147</th>\n",
       "      <td>6.5</td>\n",
       "      <td>3.0</td>\n",
       "      <td>5.2</td>\n",
       "      <td>2.0</td>\n",
       "      <td>Iris-virginica</td>\n",
       "    </tr>\n",
       "    <tr>\n",
       "      <th>148</th>\n",
       "      <td>6.2</td>\n",
       "      <td>3.4</td>\n",
       "      <td>5.4</td>\n",
       "      <td>2.3</td>\n",
       "      <td>Iris-virginica</td>\n",
       "    </tr>\n",
       "    <tr>\n",
       "      <th>149</th>\n",
       "      <td>5.9</td>\n",
       "      <td>3.0</td>\n",
       "      <td>5.1</td>\n",
       "      <td>1.8</td>\n",
       "      <td>Iris-virginica</td>\n",
       "    </tr>\n",
       "  </tbody>\n",
       "</table>\n",
       "<p>150 rows × 5 columns</p>\n",
       "</div>"
      ],
      "text/plain": [
       "     sepal_length  sepal_width  petal_length  petal_width         species\n",
       "0             5.1          3.5           1.4          0.2     Iris-setosa\n",
       "1             4.9          3.0           1.4          0.2     Iris-setosa\n",
       "2             4.7          3.2           1.3          0.2     Iris-setosa\n",
       "3             4.6          3.1           1.5          0.2     Iris-setosa\n",
       "4             5.0          3.6           1.4          0.2     Iris-setosa\n",
       "..            ...          ...           ...          ...             ...\n",
       "145           6.7          3.0           5.2          2.3  Iris-virginica\n",
       "146           6.3          2.5           5.0          1.9  Iris-virginica\n",
       "147           6.5          3.0           5.2          2.0  Iris-virginica\n",
       "148           6.2          3.4           5.4          2.3  Iris-virginica\n",
       "149           5.9          3.0           5.1          1.8  Iris-virginica\n",
       "\n",
       "[150 rows x 5 columns]"
      ]
     },
     "execution_count": 3,
     "metadata": {},
     "output_type": "execute_result"
    }
   ],
   "source": [
    "# read iris_data.csv\n",
    "df = pd.read_csv(\"./iris_data.csv\")\n",
    "\n",
    "###\n",
    "### YOUR CODE HERE\n",
    "###\n",
    "df"
   ]
  },
  {
   "cell_type": "markdown",
   "metadata": {
    "deletable": false,
    "editable": false,
    "nbgrader": {
     "grade": false,
     "locked": true,
     "solution": false
    }
   },
   "source": [
    "**Task 3.** Do the following tasks.\n",
    "\n",
    "- Read the following columns for the features: `'sepal_length', 'sepal_width', 'petal_length', 'petal_width'`.\n",
    "- Read the column `species` for the target.\n",
    "- Replace the `species` column with the following mapping:\n",
    "    - `Iris-setosa`: `0`\n",
    "    - `Iris-versicolor`: `1`\n",
    "    - `Iris-virginica`: `2`"
   ]
  },
  {
   "cell_type": "code",
   "execution_count": 4,
   "metadata": {},
   "outputs": [],
   "source": [
    "columns = ['sepal_length', 'sepal_width', 'petal_length', 'petal_width']\n",
    "mapping = {'Iris-setosa': 0, 'Iris-versicolor': 1, 'Iris-virginica': 2}\n",
    "\n",
    "# extract the features and the target\n",
    "df_features, df_target = get_features_targets(df, columns, [\"species\"])\n",
    "\n",
    "# replace the target using the mapping\n",
    "df_target = replace_target(\n",
    "    df_target,\n",
    "    \"species\",\n",
    "    mapping\n",
    ")"
   ]
  },
  {
   "cell_type": "code",
   "execution_count": 5,
   "metadata": {
    "deletable": false,
    "editable": false,
    "nbgrader": {
     "grade": true,
     "grade_id": "hw01",
     "locked": true,
     "points": "1",
     "solution": false
    }
   },
   "outputs": [],
   "source": [
    "result = np.unique(df_target['species'], return_counts=True)\n",
    "assert (result[0] == [0, 1, 2]).all()\n",
    "assert (result[1] == [50, 50, 50]).all()"
   ]
  },
  {
   "cell_type": "markdown",
   "metadata": {
    "deletable": false,
    "editable": false,
    "nbgrader": {
     "grade": false,
     "locked": true,
     "solution": false
    }
   },
   "source": [
    "**HW1.** *One-vs-All target:* Write a function that takes in a target data frame and returns a new dataframe where the size of the column is the same as the number of category. The function makes use of `replace_target()` function to create one-vs-all target values. \n",
    "\n",
    "For example, if we have three categories of class, the columns of the returned data frame will be as follows:\n",
    "- column target: this is the original target column\n",
    "- column 0: the target with values of 0 will be set to 1 while the rest will be replaced with 0.\n",
    "- column 1: the target with values of 1 will be set to 1 while the rest will be replaced with 0.\n",
    "- column 2: the target with values of 2 will be set to 1 while while the rest will be replaced with 0."
   ]
  },
  {
   "cell_type": "code",
   "execution_count": 6,
   "metadata": {},
   "outputs": [],
   "source": [
    "def create_onevsall_columns(df_target: pd.DataFrame, col):\n",
    "    dfout = df_target.copy()\n",
    "    for index, row in dfout.iterrows():\n",
    "        dfout.loc[index, 0] = 1 if dfout.loc[index, 'species'] == 0 else 0\n",
    "        dfout.loc[index, 1] = 1 if dfout.loc[index, 'species'] == 1 else 0\n",
    "        dfout.loc[index, 2] = 1 if dfout.loc[index, 'species'] == 2 else 0\n",
    "    return dfout"
   ]
  },
  {
   "cell_type": "code",
   "execution_count": 7,
   "metadata": {
    "deletable": false,
    "editable": false,
    "nbgrader": {
     "grade": true,
     "grade_id": "hw11",
     "locked": true,
     "points": "1",
     "solution": false
    }
   },
   "outputs": [
    {
     "name": "stdout",
     "output_type": "stream",
     "text": [
      "     species    0    1    2\n",
      "0          0  1.0  0.0  0.0\n",
      "1          0  1.0  0.0  0.0\n",
      "2          0  1.0  0.0  0.0\n",
      "3          0  1.0  0.0  0.0\n",
      "4          0  1.0  0.0  0.0\n",
      "..       ...  ...  ...  ...\n",
      "145        2  0.0  0.0  1.0\n",
      "146        2  0.0  0.0  1.0\n",
      "147        2  0.0  0.0  1.0\n",
      "148        2  0.0  0.0  1.0\n",
      "149        2  0.0  0.0  1.0\n",
      "\n",
      "[150 rows x 4 columns]\n"
     ]
    }
   ],
   "source": [
    "df_targets = create_onevsall_columns(df_target, 'species')\n",
    "print(df_targets)\n",
    "result = np.unique(df_targets['species'], return_counts=True)\n",
    "assert (result[0] == [0, 1, 2]).all()\n",
    "assert (result[1] == [50, 50, 50]).all()\n",
    "result = np.unique(df_targets[0], return_counts=True)\n",
    "assert (result[0] == [0, 1]).all()\n",
    "assert (result[1] == [100, 50]).all()\n",
    "result = np.unique(df_targets[1], return_counts=True)\n",
    "assert (result[0] == [0, 1]).all()\n",
    "assert (result[1] == [100, 50]).all()\n",
    "result = np.unique(df_targets[2], return_counts=True)\n",
    "assert (result[0] == [0, 1]).all()\n",
    "assert (result[1] == [100, 50]).all()"
   ]
  },
  {
   "cell_type": "code",
   "execution_count": 8,
   "metadata": {
    "deletable": false,
    "editable": false,
    "nbgrader": {
     "grade": true,
     "grade_id": "hw12",
     "locked": true,
     "points": "1",
     "solution": false
    }
   },
   "outputs": [],
   "source": [
    "###\n",
    "### AUTOGRADER TEST - DO NOT REMOVE\n",
    "###\n"
   ]
  },
  {
   "cell_type": "markdown",
   "metadata": {
    "deletable": false,
    "editable": false,
    "nbgrader": {
     "grade": false,
     "locked": true,
     "solution": false
    }
   },
   "source": [
    "**HW2.** *Multiple features and splitting of data set:* Do the following task in the code below:\n",
    "- Read the following columns for the features: `sepal_length`,`sepal_width`, `petal_length`, `petal_width` normalize it using `normalize_z()`. \n",
    "- Read `species` as the target column and use `create_onevsall_columns()` to create the additional target columns to do multi class classification.\n",
    "- Split the data set with 30% test size and `random_state = 100`.\n",
    "- Normalize the training feature data set using `normalize_z()` function.\n",
    "- Convert to numpy array both the target and the features using `prepare_feature()` and `prepare_target()` functions.\n",
    "- Call `gradient_descent_logreg()` function to get the parameters using the training data set."
   ]
  },
  {
   "cell_type": "code",
   "execution_count": 9,
   "metadata": {},
   "outputs": [],
   "source": [
    "columns = ['sepal_length', 'sepal_width', 'petal_length', 'petal_width']\n",
    "mapping = {'Iris-setosa': 0, 'Iris-versicolor': 1, 'Iris-virginica': 2}\n",
    "\n",
    "# split the data using random_state = 100 and 30% test size\n",
    "df_features_train, df_features_test, df_targets_train, df_targets_test = split_data(\n",
    "    df_features, df_targets, random_state=100, test_size=0.3\n",
    ")\n",
    "\n",
    "# normalize the training feature\n",
    "df_features_train_z, means, stds = normalize_z(df_features_train)\n",
    "feature = prepare_feature(df_features_train_z)\n",
    "target = prepare_target(df_target)"
   ]
  },
  {
   "cell_type": "code",
   "execution_count": 10,
   "metadata": {
    "deletable": false,
    "editable": false,
    "nbgrader": {
     "grade": true,
     "grade_id": "hw21",
     "locked": true,
     "points": "1",
     "solution": false
    }
   },
   "outputs": [
    {
     "name": "stdout",
     "output_type": "stream",
     "text": [
      "     species    0    1    2\n",
      "0          0  1.0  0.0  0.0\n",
      "2          0  1.0  0.0  0.0\n",
      "3          0  1.0  0.0  0.0\n",
      "4          0  1.0  0.0  0.0\n",
      "5          0  1.0  0.0  0.0\n",
      "..       ...  ...  ...  ...\n",
      "142        2  0.0  0.0  1.0\n",
      "143        2  0.0  0.0  1.0\n",
      "144        2  0.0  0.0  1.0\n",
      "147        2  0.0  0.0  1.0\n",
      "148        2  0.0  0.0  1.0\n",
      "\n",
      "[105 rows x 4 columns]\n"
     ]
    }
   ],
   "source": [
    "assert df_features_train_z.shape == (105, 4)\n",
    "\n",
    "assert np.isclose(df_features_train_z.min(), -2.52349).any()\n",
    "assert np.isclose(df_features_train_z.max(), 2.73284).any()\n",
    "assert np.isclose(df_features_train_z['sepal_width'].mean(), 0)\n",
    "assert np.isclose(df_features_train_z['sepal_width'].std(), 1, atol=0.01)\n",
    "\n",
    "print(df_targets_train)\n",
    "\n",
    "assert (np.unique(df_targets_train['species']) == [0, 1, 2]).all()\n",
    "assert (np.unique(df_targets_train[0]) == [0, 1]).all()\n",
    "assert (np.unique(df_targets_train[1]) == [0, 1]).all()\n",
    "assert (np.unique(df_targets_train[2]) == [0, 1]).all()\n"
   ]
  },
  {
   "cell_type": "code",
   "execution_count": 11,
   "metadata": {
    "deletable": false,
    "editable": false,
    "nbgrader": {
     "grade": true,
     "grade_id": "hw22",
     "locked": true,
     "points": "1",
     "solution": false
    }
   },
   "outputs": [],
   "source": [
    "###\n",
    "### AUTOGRADER TEST - DO NOT REMOVE\n",
    "###\n"
   ]
  },
  {
   "cell_type": "markdown",
   "metadata": {
    "deletable": false,
    "editable": false,
    "nbgrader": {
     "grade": false,
     "locked": true,
     "solution": false
    }
   },
   "source": [
    "**HW3.** *Build Multi-class Model:* Write a function `build_model_multiclass()` which takes in the following arguments:\n",
    "- `df_features`: which is a Pandas data framecontaining the features.\n",
    "- `df_targets`: which is a Pandas data frame containing the target for one vs all classification. \n",
    "- `col_target`: the name of the column target in the original data frame which is also the key of the dictionary containing the original target numpy array.\n",
    "- `iterations`: the number of iterations to perform the gradient descent. By default it is set to 1500.\n",
    "- `alpha`: the learning rate in the gradient descent algorithm. By default it is set to 0.01.\n",
    "\n",
    "The function should return a dictionary of dictionary. The output dictionary has the following key and values:\n",
    "- key: the keys are the categories or the labels in the target.\n",
    "- values: the values are another dictionary for that particular label. This dictionary has two keys: `beta` and `J_storage`, which gives the parameter value for that particular label and its cost minimization values at every iteration.\n",
    "\n",
    "Hint:\n",
    "- you need to call `prepare_feature()` and `prepare_target()` to change the Pandas data frame to Numpy arrays.\n",
    "- in order to create a data frame instead of a series when accessing a column, use `df[[c]]` (will output data frame) instead of `df[c]` (will output series). \n",
    "- You need to use `normalize_minmax()` on your target before passing it on to `gradient_descent_logreg()` because the function logistic regression has the normalized value of 0 to 1 in the y axis."
   ]
  },
  {
   "cell_type": "code",
   "execution_count": 12,
   "metadata": {},
   "outputs": [],
   "source": [
    "def build_model_multiclass(df_features, df_targets, col_target, iterations=1500, alpha=0.01):\n",
    "    output = dict()\n",
    "    feature = prepare_feature(df_features)\n",
    "    for flower_class in np.unique(df_targets.loc[:, col_target]):\n",
    "        target = normalize_minmax(prepare_target(df_targets[[flower_class]]))[0]\n",
    "        beta_initial = np.zeros((feature.shape[1], 1))\n",
    "        beta, J_storage = gradient_descent_logreg(feature, target, beta_initial, alpha, iterations)\n",
    "        output[flower_class] = {\n",
    "            \"beta\": beta,\n",
    "            \"J_storage\": J_storage\n",
    "        }\n",
    "        \n",
    "    return output\n",
    "    "
   ]
  },
  {
   "cell_type": "code",
   "execution_count": 13,
   "metadata": {
    "deletable": false,
    "editable": false,
    "nbgrader": {
     "grade": true,
     "grade_id": "hw31",
     "locked": true,
     "points": "1",
     "solution": false
    }
   },
   "outputs": [
    {
     "name": "stdout",
     "output_type": "stream",
     "text": [
      "{0: {'beta': array([[-1.0198841 ],\n",
      "       [-0.69883077],\n",
      "       [ 1.0774116 ],\n",
      "       [-1.17170999],\n",
      "       [-1.12846826]]), 'J_storage': [0.687399485137097, 0.681729734797857, 0.6761368273919243, 0.6706196683865141, 0.6651771712910158, 0.6598082580552793, 0.6545118594421361, 0.6492869153747892, 0.6441323752597268, 0.639047198285845, 0.6340303537004748, 0.6290808210630292, 0.6241975904769936, 0.6193796628009913, 0.6146260498396647, 0.6099357745151102, 0.6053078710196059, 0.6007413849503769, 0.5962353734271206, 0.5917889051930328, 0.5874010607000413, 0.583070932178965, 0.5787976236952946, 0.574580251191278, 0.5704179425149875, 0.5663098374370245, 0.5622550876555032, 0.5582528567899429, 0.5543023203646762, 0.5504026657823681, 0.5465530922882181, 0.5427528109254076, 0.539001044482325, 0.5352970274320973, 0.5316400058649245, 0.5280292374137057, 0.5244639911734189, 0.5209435476147094, 0.5174671984921096, 0.5140342467473079, 0.5106440064078611, 0.5072958024817278, 0.5039889708479832, 0.500722858144064, 0.4974968216498684, 0.494310229169026, 0.49116245890763616, 0.488052899350758, 0.4849809491369192, 0.481946016930901, 0.47894752129503804, 0.4759848905592643, 0.4730575626901179, 0.47016498515891003, 0.4673066148092498, 0.46448191772410435, 0.46169036909256544, 0.45893145307648026, 0.4562046626770973, 0.45350949960186604, 0.4508454741315207, 0.4482121049875716, 0.4456089192003154, 0.4430354519774724, 0.44049124657354516, 0.4379758541599932, 0.43548883369630415, 0.43302975180204134, 0.4305981826299356, 0.42819370774008986, 0.42581591597535273, 0.42346440333791785, 0.4211387728671961, 0.41883863451900555, 0.4165636050461202, 0.4143133078802104, 0.412087373015209, 0.4098854368921291, 0.40770714228536, 0.4055521381904581, 0.4034200797134548, 0.4013106279616933, 0.39922344993620706, 0.3971582184256489, 0.39511461190177904, 0.3930923144165136, 0.39109101550054004, 0.38911041006349684, 0.3871501982957172, 0.3852100855715343, 0.383289782354142, 0.381389004102007, 0.37950747117682276, 0.37764490875299817, 0.3758010467286691, 0.37397561963822473, 0.3721683665663341, 0.37037903106346143, 0.36860736106285574, 0.3668531087990016, 0.3651160307275148, 0.3633958874464679, 0.36169244361912883, 0.36000546789809706, 0.35833473285081935, 0.3566800148864674, 0.3550410941841607, 0.35341775462251457, 0.3518097837104982, 0.3502169725195812, 0.3486391156171504, 0.34707601100118046, 0.34552746003613666, 0.34399326739009156, 0.34247324097303883, 0.34096719187638136, 0.33947493431357756, 0.33799628556192607, 0.33653106590546944, 0.33507909857899926, 0.33364020971314223, 0.33221422828050995, 0.33080098604289354, 0.3294003174994841, 0.3280120598361026, 0.3266360528754176, 0.32527213902813806, 0.3239201632451584, 0.32257997297064145, 0.32125141809602126, 0.319934350914908, 0.3186286260788792, 0.31733410055413935, 0.31605063357903207, 0.3147780866223889, 0.3135163233426982, 0.31226520954807846, 0.3110246131570402, 0.3097944041600224, 0.3085744545816856, 0.3073646384439508, 0.3061648317297658, 0.3049749123475865, 0.30379476009655904, 0.30262425663238796, 0.30146328543387757, 0.30031173177013265, 0.29916948266840543, 0.29803642688257553, 0.29691245486225054, 0.295797458722475, 0.2946913322140342, 0.2935939706943428, 0.2925052710989036, 0.2914251319133284, 0.29035345314590594, 0.2892901363007085, 0.2882350843512247, 0.28718820171450793, 0.286149394225831, 0.28511856911383443, 0.28409563497616064, 0.2830805017555626, 0.2820730807164773, 0.2810732844220556, 0.2800810267116372, 0.2790962226786638, 0.27811878864901945, 0.27714864215979035, 0.27618570193843545, 0.2752298878823592, 0.27428112103887786, 0.2733393235855718, 0.2724044188110155, 0.27147633109587804, 0.27055498589438526, 0.26964030971613745, 0.26873223010827435, 0.2678306756379811, 0.26693557587532696, 0.2660468613764317, 0.2651644636669509, 0.264288315225875, 0.2634183494696356, 0.2625545007365119, 0.2616967042713318, 0.2608448962104614, 0.2599990135670772, 0.25915899421671446, 0.2583247768830875, 0.25749630112417465, 0.25667350731856403, 0.2558563366520535, 0.2550447311045009, 0.25423863343691816, 0.25343798717880534, 0.2526427366157193, 0.25185282677707216, 0.2510682034241553, 0.2502888130383836, 0.24951460280975624, 0.24874552062552932, 0.24798151505909588, 0.2472225353590695, 0.24646853143856687, 0.24571945386468627, 0.2449752538481767, 0.24423588323329462, 0.243501294487845, 0.2427714406934021, 0.2420462755357061, 0.241325753295234, 0.24060982883793883, 0.23989845760615539, 0.2391915956096693, 0.2384891994169446, 0.23779122614650888, 0.23709763345849083, 0.2364083795463087, 0.2357234231285058, 0.23504272344073038, 0.23436624022785715, 0.23369393373624794, 0.23302576470614778, 0.23236169436421483, 0.23170168441618127, 0.23104569703964156, 0.2303936948769677, 0.22974564102834685, 0.22910149904493995, 0.2284612329221594, 0.2278248070930626, 0.22719218642185943, 0.22656333619753175, 0.22593822212756257, 0.22531681033177214, 0.22469906733626127, 0.2240849600674552, 0.22347445584625195, 0.2228675223822682, 0.22226412776818366, 0.22166424047418085, 0.22106782934247923, 0.22047486358196106, 0.21988531276288803, 0.21929914681170604, 0.21871633600593812, 0.21813685096916144, 0.21756066266606894, 0.21698774239761293, 0.21641806179622933, 0.21585159282114127, 0.21528830775374014, 0.21472817919304282, 0.21417118005122407, 0.2136172835492221, 0.21306646321241618, 0.21251869286637523, 0.2119739466326754, 0.21143219892478632, 0.21089342444402373, 0.2103575981755683, 0.2098246953845483, 0.20929469161218622, 0.20876756267200683, 0.20824328464610692, 0.20772183388148413, 0.20720318698642554, 0.2066873208269528, 0.2061742125233253, 0.2056638394465976, 0.20515617921523274, 0.20465120969176837, 0.204148908979536, 0.20364925541943185, 0.20315222758673865, 0.2026578042879971, 0.20216596455792699, 0.20167668765639554, 0.201189953065434, 0.20070574048629983, 0.20022402983658574, 0.19974480124737176, 0.19926803506042334, 0.19879371182543135, 0.19832181229729512, 0.19785231743344725, 0.19738520839121937, 0.1969204665252481, 0.1964580733849211, 0.1959980107118614, 0.1955402604374505, 0.19508480468038886, 0.1946316257442934, 0.19418070611533114, 0.19373202845988885, 0.19328557562227747, 0.19284133062247108, 0.1923992766538797, 0.1919593970811559, 0.191521675438033, 0.19108609542519675, 0.19065264090818773, 0.19022129591533543, 0.18979204463572213, 0.18936487141717784, 0.18893976076430405, 0.18851669733652662, 0.1880956659461775, 0.18767665155660435, 0.1872596392803079, 0.18684461437710606, 0.18643156225232532, 0.18602046845501802, 0.1856113186762055, 0.18520409874714674, 0.1847987946376318, 0.18439539245429998, 0.18399387843898213, 0.18359423896706648, 0.18319646054588834, 0.18280052981314213, 0.18240643353531652, 0.18201415860615183, 0.18162369204511855, 0.18123502099591876, 0.18084813272500733, 0.18046301462013467, 0.1800796541889101, 0.17969803905738485, 0.17931815696865533, 0.17893999578148592, 0.1785635434689505, 0.17818878811709354, 0.17781571792360928, 0.17744432119653963, 0.17707458635298953, 0.17670650191786066, 0.17634005652260218, 0.17597523890397887, 0.17561203790285584, 0.17525044246300037, 0.1748904416298997, 0.17453202454959513, 0.17417518046753203, 0.17381989872742523, 0.17346616877014007, 0.1731139801325884, 0.17276332244663936, 0.1724141854380454, 0.17206655892538192, 0.17172043281900173, 0.17137579712000345, 0.17103264191921322, 0.17069095739618054, 0.1703507338181873, 0.17001196153926992, 0.1696746309992542, 0.16933873272280334, 0.16900425731847865, 0.1686711954778118, 0.1683395379743902, 0.16800927566295393, 0.1676803994785045, 0.16735290043542517, 0.16702676962661314, 0.16670199822262266, 0.16637857747081924, 0.16605649869454525, 0.16573575329229562, 0.165416332736905, 0.16509822857474482, 0.16478143242493062, 0.1644659359785401, 0.16415173099784064, 0.16383880931552694, 0.16352716283396845, 0.16321678352446603, 0.1629076634265187, 0.16259979464709878, 0.16229316935993726, 0.16198777980481716, 0.16168361828687677, 0.1613806771759208, 0.16107894890574062, 0.16077842597344322, 0.16047910093878798, 0.16018096642353225, 0.15988401511078468, 0.15958823974436714, 0.15929363312818384, 0.15900018812559888, 0.1587078976588211, 0.15841675470829666, 0.15812675231210935, 0.1578378835653877, 0.1575501416197201, 0.15726351968257613, 0.1569780110167361, 0.1566936089397265, 0.1564103068232631, 0.15612809809270034, 0.15584697622648758, 0.15556693475563188, 0.15528796726316743, 0.1550100673836312, 0.15473322880254478, 0.15445744525590283, 0.1541827105296674, 0.1539090184592683, 0.15363636292910948, 0.1533647378720814, 0.15309413726907906, 0.1528245551485257, 0.15255598558590233, 0.15228842270328294, 0.15202186066887463, 0.15175629369656385, 0.1514917160454674, 0.15122812201948926, 0.15096550596688207, 0.1507038622798141, 0.15044318539394133, 0.15018346978798403, 0.14992470998330884, 0.1496669005435154, 0.14941003607402775, 0.14915411122169087, 0.14889912067437097, 0.14864505916056145, 0.14839192144899285, 0.14813970234824714, 0.14788839670637682, 0.14763799941052808, 0.14738850538656853, 0.1471399095987188, 0.1468922070491888, 0.14664539277781766, 0.14639946186171812, 0.14615440941492472, 0.145910230588046, 0.14566692056792077, 0.14542447457727795, 0.14518288787440067, 0.1449421557527936, 0.1447022735408545, 0.14446323660154925, 0.14422504033209022, 0.14398768016361885, 0.1437511515608911, 0.14351545002196686, 0.14328057107790257, 0.14304651029244728, 0.14281326326174215, 0.14258082561402308, 0.1423491930093268, 0.14211836113920018, 0.14188832572641244, 0.14165908252467105, 0.14143062731833989, 0.14120295592216164, 0.14097606418098205, 0.14074994796947793, 0.14052460319188778, 0.1403000257817455, 0.14007621170161677, 0.13985315694283854, 0.1396308575252611, 0.13940930949699298, 0.13918850893414875, 0.13896845194059917, 0.13874913464772445, 0.1385305532141698, 0.13831270382560362, 0.13809558269447855, 0.1378791860597947, 0.13766351018686568, 0.13744855136708675, 0.13723430591770586, 0.13702077018159672, 0.13680794052703457, 0.13659581334747403, 0.1363843850613294, 0.1361736521117575, 0.1359636109664422, 0.13575425811738176, 0.13554559008067815, 0.1353376033963286, 0.1351302946280192, 0.13492366036292086, 0.1347176972114872, 0.13451240180725446, 0.13430777080664402, 0.13410380088876594, 0.1339004887552256, 0.13369783112993155, 0.1334958247589059, 0.13329446641009599, 0.13309375287318864, 0.13289368095942594, 0.13269424750142297, 0.13249544935298738, 0.1322972833889408, 0.13209974650494216, 0.13190283561731245, 0.13170654766286186, 0.13151087959871796, 0.13131582840215622, 0.13112139107043175, 0.13092756462061306, 0.1307343460894173, 0.13054173253304727, 0.13034972102702985, 0.1301583086660564, 0.12996749256382434, 0.1297772698528805, 0.12958763768446618, 0.1293985932283634, 0.1292101336727429, 0.12902225622401353, 0.12883495810667334, 0.12864823656316174, 0.12846208885371357, 0.12827651225621414, 0.12809150406605596, 0.12790706159599707, 0.12772318217602022, 0.1275398631531938, 0.12735710189153404, 0.1271748957718685, 0.126993242191701, 0.12681213856507767, 0.12663158232245444, 0.1264515709105658, 0.12627210179229464, 0.12609317244654372, 0.1259147803681079, 0.12573692306754805, 0.12555959807106573, 0.12538280292037945, 0.1252065351726019, 0.1250307924001184, 0.12485557219046642, 0.12468087214621637, 0.12450668988485356, 0.12433302303866106, 0.12415986925460383, 0.12398722619421391, 0.12381509153347672, 0.12364346296271836, 0.12347233818649393, 0.12330171492347712, 0.12313159090635055, 0.12296196388169729, 0.12279283160989352, 0.12262419186500172, 0.12245604243466544, 0.12228838112000473, 0.12212120573551241, 0.12195451410895168, 0.1217883040812544, 0.12162257350642033, 0.12145732025141737, 0.12129254219608271, 0.12112823723302488, 0.12096440326752667, 0.12080103821744886, 0.12063814001313515, 0.12047570659731756, 0.1203137359250228, 0.12015222596347983, 0.11999117469202768, 0.11983058010202462, 0.11967044019675788, 0.11951075299135423, 0.11935151651269137, 0.11919272879931025, 0.11903438790132789, 0.11887649188035138, 0.11871903880939216, 0.11856202677278162, 0.11840545386608699, 0.11824931819602817, 0.11809361788039545, 0.11793835104796763, 0.1177835158384311, 0.1176291104022997, 0.11747513290083507, 0.11732158150596773, 0.11716845440021915, 0.11701574977662414, 0.11686346583865417, 0.11671160080014119, 0.11656015288520227, 0.11640912032816485, 0.11625850137349257, 0.1161082942757119, 0.11595849729933916, 0.11580910871880855, 0.11566012681840045, 0.1155115498921705, 0.11536337624387939, 0.11521560418692307, 0.11506823204426356, 0.11492125814836063, 0.11477468084110377, 0.11462849847374498, 0.11448270940683178, 0.11433731201014125, 0.11419230466261449, 0.11404768575229121, 0.11390345367624569, 0.1137596068405226, 0.11361614366007348, 0.11347306255869428, 0.1133303619689627, 0.11318804033217651, 0.11304609609829235, 0.11290452772586493, 0.1127633336819868, 0.11262251244222864, 0.11248206249057996, 0.11234198231939062, 0.11220227042931238, 0.11206292532924124, 0.11192394553626012, 0.11178532957558222, 0.11164707598049468, 0.11150918329230268, 0.11137165006027418, 0.11123447484158493, 0.11109765620126406, 0.11096119271214018, 0.11082508295478767, 0.11068932551747378, 0.11055391899610566, 0.11041886199417857, 0.1102841531227237, 0.11014979100025697, 0.11001577425272815, 0.10988210151347015, 0.10974877142314904, 0.10961578262971432, 0.10948313378834958, 0.10935082356142377, 0.10921885061844244, 0.10908721363599981, 0.10895591129773108, 0.10882494229426504, 0.10869430532317714, 0.10856399908894294, 0.10843402230289198, 0.1083043736831619, 0.10817505195465302, 0.1080460558489833, 0.10791738410444358, 0.10778903546595334, 0.10766100868501655, 0.10753330251967803, 0.10740591573448047, 0.10727884710042096, 0.1071520953949089, 0.1070256594017233, 0.10689953791097126, 0.10677372971904601, 0.10664823362858582, 0.10652304844843319, 0.10639817299359389, 0.10627360608519697, 0.10614934655045467, 0.10602539322262275, 0.10590174494096119, 0.10577840055069512, 0.10565535890297602, 0.10553261885484345, 0.10541017926918676, 0.10528803901470736, 0.10516619696588116, 0.10504465200292135, 0.1049234030117413, 0.10480244888391822, 0.10468178851665633, 0.10456142081275126, 0.1044413446805537, 0.10432155903393439, 0.10420206279224847, 0.10408285488030071, 0.10396393422831053, 0.10384529977187784, 0.10372695045194864, 0.1036088852147812, 0.10349110301191237, 0.10337360280012403, 0.10325638354141019, 0.10313944420294383, 0.10302278375704443, 0.10290640118114544, 0.10279029545776223, 0.10267446557446008, 0.1025589105238226, 0.10244362930342019, 0.10232862091577888, 0.10221388436834948, 0.10209941867347672, 0.10198522284836879, 0.10187129591506716, 0.10175763690041634, 0.10164424483603428, 0.10153111875828277, 0.10141825770823791, 0.10130566073166104, 0.10119332687897, 0.10108125520520997, 0.10096944477002551, 0.10085789463763185, 0.10074660387678705, 0.10063557156076407, 0.10052479676732298, 0.10041427857868375, 0.10030401608149873, 0.10019400836682585, 0.10008425453010154, 0.09997475367111423, 0.09986550489397783, 0.09975650730710543, 0.0996477600231833, 0.099539262159145, 0.09943101283614558, 0.09932301117953625, 0.09921525631883887, 0.09910774738772095, 0.09900048352397071, 0.09889346386947219, 0.09878668757018078, 0.09868015377609872, 0.09857386164125094, 0.09846781032366086, 0.09836199898532684, 0.09825642679219794, 0.09815109291415094, 0.09804599652496651, 0.09794113680230628, 0.09783651292768972, 0.09773212408647121, 0.09762796946781749, 0.0975240482646849, 0.09742035967379717, 0.09731690289562307, 0.09721367713435444, 0.09711068159788427, 0.09700791549778486, 0.09690537804928633, 0.09680306847125505, 0.0967009859861725, 0.09659912982011395, 0.09649749920272764, 0.09639609336721386, 0.09629491155030412, 0.09619395299224083, 0.0960932169367568, 0.09599270263105485, 0.09589240932578785, 0.09579233627503872, 0.09569248273630047, 0.09559284797045661, 0.09549343124176156, 0.09539423181782118, 0.09529524896957348, 0.09519648197126958, 0.09509793010045448, 0.09499959263794835, 0.0949014688678276, 0.09480355807740642, 0.09470585955721818, 0.09460837260099697, 0.09451109650565953, 0.09441403057128703, 0.0943171741011071, 0.09422052640147578, 0.09412408678186011, 0.0940278545548202, 0.09393182903599184, 0.09383600954406912, 0.09374039540078706, 0.09364498593090465, 0.09354978046218752, 0.0934547783253914, 0.09335997885424491, 0.09326538138543317, 0.09317098525858107, 0.09307678981623684, 0.09298279440385573, 0.09288899836978373, 0.09279540106524144, 0.09270200184430803, 0.09260880006390532, 0.09251579508378208, 0.09242298626649807, 0.09233037297740886, 0.09223795458464978, 0.09214573045912107, 0.09205369997447217, 0.09196186250708692, 0.09187021743606807, 0.09177876414322263, 0.09168750201304683, 0.09159643043271133, 0.0915055487920466, 0.09141485648352832, 0.09132435290226283, 0.09123403744597273, 0.09114390951498275, 0.09105396851220524, 0.09096421384312636, 0.09087464491579197, 0.0907852611407935, 0.09069606193125442, 0.09060704670281629, 0.0905182148736252, 0.09042956586431815, 0.09034109909800965, 0.0902528140002782, 0.09016470999915314, 0.0900767865251014, 0.08998904301101422, 0.08990147889219435, 0.08981409360634292, 0.08972688659354659, 0.08963985729626482, 0.08955300515931716, 0.08946632962987056, 0.08937983015742688, 0.08929350619381038, 0.08920735719315546, 0.08912138261189419, 0.08903558190874422, 0.08894995454469651, 0.08886449998300341, 0.0887792176891666, 0.0886941071309252, 0.08860916777824382, 0.08852439910330098, 0.08843980058047733, 0.08835537168634401, 0.08827111189965119, 0.08818702070131662, 0.08810309757441409, 0.08801934200416231, 0.0879357534779135, 0.08785233148514238, 0.08776907551743489, 0.08768598506847725, 0.08760305963404508, 0.08752029871199228, 0.08743770180224043, 0.08735526840676795, 0.08727299802959934, 0.08719089017679467, 0.08710894435643896, 0.08702716007863173, 0.08694553685547651, 0.08686407420107055, 0.0867827716314945, 0.08670162866480215, 0.08662064482101035, 0.0865398196220888, 0.08645915259195013, 0.08637864325643975, 0.08629829114332614, 0.08621809578229082, 0.08613805670491874, 0.08605817344468833, 0.08597844553696198, 0.0858988725189764, 0.08581945392983309, 0.08574018931048868, 0.08566107820374579, 0.08558212015424337, 0.0855033147084476, 0.0854246614146424, 0.08534615982292046, 0.08526780948517393, 0.08518960995508534, 0.08511156078811873, 0.0850336615415104, 0.08495591177426015, 0.08487831104712244, 0.0848008589225974, 0.0847235549649223, 0.08464639874006256, 0.0845693898157033, 0.08449252776124073, 0.0844158121477735, 0.08433924254809412, 0.08426281853668076, 0.08418653968968859, 0.08411040558494165, 0.08403441580192442, 0.08395856992177353, 0.08388286752726967, 0.08380730820282936, 0.08373189153449694, 0.0836566171099364, 0.08358148451842344, 0.0835064933508375, 0.08343164319965388, 0.08335693365893578, 0.08328236432432658, 0.08320793479304207, 0.08313364466386268, 0.08305949353712576, 0.08298548101471807, 0.0829116067000681, 0.08283787019813857, 0.08276427111541888, 0.08269080905991778, 0.08261748364115572, 0.08254429447015776, 0.08247124115944611, 0.08239832332303286, 0.0823255405764127, 0.08225289253655585, 0.08218037882190078, 0.08210799905234718, 0.08203575284924888, 0.08196363983540673, 0.08189165963506181, 0.0818198118738883, 0.08174809617898664, 0.08167651217887667, 0.08160505950349087, 0.08153373778416738, 0.08146254665364355, 0.08139148574604894, 0.08132055469689885, 0.08124975314308756, 0.08117908072288194, 0.08110853707591453, 0.08103812184317749, 0.08096783466701572, 0.08089767519112076, 0.08082764306052406, 0.08075773792159081, 0.08068795942201362, 0.08061830721080618, 0.08054878093829694, 0.08047938025612301, 0.08041010481722394, 0.08034095427583544, 0.08027192828748345, 0.08020302650897802, 0.08013424859840718, 0.08006559421513094, 0.07999706301977542, 0.07992865467422683, 0.07986036884162552, 0.07979220518636018, 0.07972416337406198, 0.07965624307159876, 0.07958844394706921, 0.07952076566979718, 0.07945320791032599, 0.07938577034041268, 0.07931845263302234, 0.07925125446232269, 0.07918417550367818, 0.07911721543364476, 0.07905037392996413, 0.07898365067155841, 0.07891704533852448, 0.07885055761212878, 0.07878418717480172, 0.0787179337101326, 0.07865179690286372, 0.07858577643888576, 0.07851987200523196, 0.07845408329007314, 0.07838840998271236, 0.07832285177357982, 0.07825740835422769, 0.07819207941732487, 0.07812686465665197, 0.07806176376709625, 0.0779967764446465, 0.07793190238638806, 0.07786714129049786, 0.07780249285623936, 0.07773795678395767, 0.07767353277507467, 0.0776092205320841, 0.07754501975854662, 0.0774809301590851, 0.0774169514393797, 0.07735308330616324, 0.07728932546721633, 0.07722567763136258, 0.07716213950846418, 0.07709871080941687, 0.0770353912461455, 0.07697218053159938, 0.07690907837974768, 0.07684608450557481, 0.07678319862507588, 0.07672042045525222, 0.07665774971410684, 0.07659518612063997, 0.0765327293948446, 0.076470379257702, 0.0764081354311775, 0.07634599763821584, 0.07628396560273706, 0.07622203904963198, 0.07616021770475799, 0.0760985012949348, 0.07603688954794, 0.07597538219250506, 0.07591397895831091, 0.07585267957598385, 0.0757914837770913, 0.07573039129413779, 0.07566940186056065, 0.07560851521072603, 0.07554773107992481, 0.07548704920436837, 0.07542646932118482, 0.0753659911684148, 0.07530561448500753, 0.0752453390108167, 0.07518516448659682, 0.07512509065399897, 0.07506511725556708, 0.07500524403473391, 0.0749454707358173, 0.07488579710401619, 0.07482622288540691, 0.0747667478269392, 0.07470737167643268, 0.07464809418257277, 0.07458891509490718, 0.07452983416384203, 0.07447085114063817, 0.0744119657774076, 0.07435317782710958, 0.07429448704354717, 0.07423589318136346, 0.07417739599603809, 0.07411899524388339, 0.07406069068204121, 0.07400248206847893, 0.07394436916198625, 0.0738863517221714, 0.07382842950945782, 0.07377060228508063, 0.07371286981108308, 0.07365523185031324, 0.07359768816642039, 0.07354023852385173, 0.07348288268784896, 0.07342562042444485, 0.07336845150045994, 0.07331137568349916, 0.07325439274194845, 0.07319750244497154, 0.07314070456250661, 0.073083998865263, 0.07302738512471793, 0.07297086311311338, 0.07291443260345266, 0.07285809336949735, 0.07280184518576403, 0.07274568782752115, 0.07268962107078586, 0.07263364469232078, 0.07257775846963099, 0.07252196218096084, 0.07246625560529088, 0.07241063852233472, 0.07235511071253604, 0.0722996719570655, 0.07224432203781771, 0.07218906073740813, 0.07213388783917024, 0.0720788031271524, 0.0720238063861149, 0.071968897401527, 0.07191407595956403, 0.07185934184710444, 0.0718046948517268, 0.07175013476170702, 0.07169566136601543, 0.07164127445431383, 0.07158697381695264, 0.07153275924496821, 0.07147863053007983, 0.07142458746468694, 0.07137062984186635, 0.07131675745536947, 0.07126297009961953, 0.07120926756970873, 0.07115564966139566, 0.07110211617110239, 0.07104866689591192, 0.07099530163356527, 0.07094202018245901, 0.07088882234164244, 0.07083570791081491, 0.07078267669032327, 0.07072972848115915, 0.07067686308495633, 0.07062408030398819, 0.07057137994116505, 0.0705187618000316, 0.07046622568476434, 0.07041377140016894, 0.07036139875167782, 0.07030910754534754, 0.07025689758785623, 0.07020476868650112, 0.07015272064919609, 0.07010075328446908, 0.07004886640145969, 0.06999705980991669, 0.06994533332019555, 0.06989368674325604, 0.06984211989065976, 0.06979063257456773, 0.06973922460773803, 0.0696878958035233, 0.06963664597586854, 0.06958547493930849, 0.06953438250896553, 0.06948336850054712, 0.06943243273034361, 0.06938157501522585, 0.06933079517264283, 0.06928009302061955, 0.06922946837775447, 0.06917892106321745, 0.06912845089674738, 0.06907805769864994, 0.0690277412897954, 0.06897750149161623, 0.0689273381261051, 0.06887725101581244, 0.06882723998384437, 0.06877730485386051, 0.06872744545007173, 0.06867766159723802, 0.06862795312066625, 0.06857831984620817, 0.06852876160025813, 0.06847927820975094, 0.06842986950215992, 0.06838053530549455, 0.06833127544829856, 0.06828208975964775, 0.06823297806914787, 0.06818394020693266, 0.0681349760036617, 0.06808608529051835, 0.0680372678992078, 0.06798852366195493, 0.0679398524115023, 0.06789125398110825, 0.06784272820454473, 0.06779427491609542, 0.0677458939505537, 0.06769758514322068, 0.06764934832990321, 0.06760118334691201, 0.06755309003105955, 0.06750506821965828, 0.06745711775051862, 0.06740923846194707, 0.06736143019274421, 0.0673136927822029, 0.0672660260701064, 0.06721842989672634, 0.06717090410282095, 0.06712344852963321, 0.06707606301888894, 0.06702874741279491, 0.06698150155403709, 0.06693432528577878, 0.06688721845165876, 0.06684018089578946, 0.0667932124627552, 0.06674631299761037, 0.06669948234587765, 0.06665272035354616, 0.06660602686706978, 0.06655940173336526, 0.06651284479981065, 0.06646635591424332, 0.0664199349249584, 0.06637358168070691, 0.06632729603069419, 0.06628107782457797, 0.06623492691246685, 0.0661888431449185, 0.06614282637293797, 0.06609687644797599, 0.06605099322192734, 0.06600517654712917, 0.0659594262763593, 0.06591374226283453, 0.06586812436020903, 0.06582257242257278, 0.06577708630444978, 0.06573166586079655, 0.06568631094700039, 0.0656410214188779, 0.06559579713267323, 0.06555063794505661, 0.0655055437131227, 0.06546051429438898, 0.06541554954679424, 0.06537064932869695, 0.06532581349887373, 0.06528104191651772, 0.0652363344412372, 0.06519169093305385, 0.06514711125240137, 0.06510259526012382, 0.06505814281747423, 0.06501375378611296, 0.06496942802810633, 0.06492516540592495, 0.06488096578244237, 0.06483682902093355, 0.0647927549850733, 0.06474874353893495, 0.06470479454698876, 0.06466090787410052, 0.06461708338553007, 0.06457332094692984, 0.06452962042434351, 0.06448598168420434, 0.06444240459333406, 0.06439888901894113, 0.06435543482861962, 0.06431204189034752, 0.06426871007248552, 0.0642254392437756, 0.06418222927333952, 0.06413908003067759, 0.0640959913856671, 0.06405296320856123, 0.06400999536998735, 0.06396708774094587, 0.0639242401928089, 0.06388145259731876, 0.06383872482658673, 0.06379605675309168, 0.06375344824967878, 0.06371089918955815, 0.0636684094463035, 0.06362597889385088, 0.06358360740649735, 0.0635412948588996, 0.06349904112607284, 0.06345684608338925, 0.06341470960657698, 0.0633726315717186, 0.06333061185525003, 0.06328865033395915, 0.06324674688498458, 0.06320490138581444, 0.06316311371428505, 0.06312138374857969, 0.06307971136722744, 0.06303809644910183, 0.06299653887341963, 0.0629550385197397, 0.06291359526796172, 0.06287220899832498, 0.06283087959140707, 0.06278960692812292, 0.06274839088972332, 0.06270723135779395, 0.062666128214254, 0.0626250813413552, 0.0625840906216804, 0.0625431559381426, 0.06250227717398364, 0.06246145421277314, 0.06242068693840729, 0.06237997523510767, 0.06233931898742015, 0.06229871808021373, 0.062258172398679354, 0.06221768182832891, 0.062177246254993906, 0.062136865564824485, 0.0620965396442883, 0.06205626838016933, 0.06201605165956681, 0.0619758893698941, 0.06193578139887762, 0.06189572763455575, 0.0618557279652777, 0.06181578227970246, 0.06177589046679766, 0.06173605241583859, 0.061696268016407076, 0.06165653715839035, 0.06161685973198007, 0.06157723562767121, 0.06153766473626105, 0.06149814694884813, 0.06145868215683111, 0.06141927025190779, 0.0613799111260741, 0.06134060467162302, 0.06130135078114362, 0.061262149347519904, 0.06122300026392989, 0.06118390342384462, 0.06114485872102702, 0.06110586604953102, 0.06106692530370054, 0.061028036378168324, 0.060989199167855196, 0.060950413567968896, 0.06091167947400312, 0.0608729967817366, 0.06083436538723201, 0.060795785186835156, 0.06075725607717382, 0.06071877795515697, 0.06068035071797367, 0.06064197426309214, 0.060603648488258825, 0.060565373291497485, 0.06052714857110818, 0.06048897422566635, 0.060450850154021865, 0.06041277625529813, 0.06037475242889113, 0.06033677857446842, 0.06029885459196838, 0.06026098038159911, 0.06022315584383767, 0.060185380879429026, 0.06014765538938522, 0.06010997927498453, 0.06007235243777039, 0.060034774779550625, 0.05999724620239655, 0.059959766608642065, 0.059922335900882695, 0.05988495398197482, 0.05984762075503472, 0.05981033612343778, 0.059773099990817494, 0.059735912261064644, 0.059698772838326544, 0.05966168162700605, 0.059624638531760726, 0.05958764345750197, 0.059550696309394247, 0.059513796992854216, 0.05947694541354978, 0.05944014147739936, 0.05940338509057105, 0.059366676159481664, 0.059330014590796135, 0.05929340029142641, 0.059256833168530844, 0.05922031312951327, 0.05918384008202218, 0.05914741393395001, 0.059111034593432185, 0.05907470196884643, 0.05903841596881189, 0.059002176502188405, 0.0589659834780756, 0.05892983680581221, 0.05889373639497521, 0.058857682155379024, 0.0588216739970748, 0.05878571183034958, 0.05874979556572553, 0.05871392511395919, 0.058678100386040634, 0.05864232129319279, 0.058606587746870595, 0.05857089965876028, 0.05853525694077855, 0.05849965950507197, 0.058464107264016005, 0.058428600130214385, 0.05839313801649842, 0.05835772083592606, 0.05832234850178141, 0.05828702092757371, 0.05825173802703684, 0.0582164997141284, 0.05818130590302916, 0.058146156508142144, 0.058111051444092024, 0.05807599062572438, 0.058040973968104995, 0.05800600138651902, 0.05797107279647042, 0.05793618811368122, 0.05790134725409068, 0.05786655013385476, 0.0578317966693453, 0.05779708677714934, 0.057762420374068514, 0.05772779737711815, 0.057693217703526846, 0.05765868127073554, 0.05762418799639701, 0.057589737798375014, 0.05755533059474375, 0.057520966303787176, 0.057486644843998166, 0.057452366134078094, 0.05741813009293592, 0.057383936639687674, 0.05734978569365573, 0.05731567717436819, 0.057281611001558125, 0.05724758709516306, 0.05721360537532418, 0.057179665762385784, 0.05714576817689454, 0.05711191253959895, 0.05707809877144859, 0.05704432679359353, 0.05701059652738374, 0.05697690789436831, 0.05694326081629491, 0.05690965521510922, 0.056876091012954176, 0.056842568132169355, 0.05680908649529049, 0.05677564602504864, 0.05674224664436975, 0.0567088882763739, 0.05667557084437477, 0.056642294271879, 0.05660905848258559, 0.056575863400385284, 0.056542708949359914, 0.056509595053781905, 0.05647652163811355, 0.05644348862700651, 0.05641049594530116, 0.05637754351802601, 0.05634463127039718, 0.056311759127817614, 0.05627892701587672, 0.05624613486034962, 0.0562133825871967, 0.05618067012256287, 0.05614799739277717, 0.056115364324352046, 0.05608277084398276, 0.05605021687854702, 0.05601770235510411, 0.05598522720089464, 0.05595279134333972, 0.05592039471004049, 0.05588803722877764, 0.055855718827510704, 0.055823439434377606, 0.055791198977694065, 0.05575899738595305, 0.055726834587824195, 0.05569471051215334, 0.05566262508796186, 0.05563057824444623, 0.055598569910977336, 0.05556660001710025, 0.055534668492533176, 0.05550277526716746, 0.05547092027106667, 0.05543910343446622, 0.05540732468777286, 0.05537558396156402, 0.05534388118658742, 0.055312216293760486, 0.05528058921416979, 0.05524899987907063, 0.05521744821988639, 0.055185934168208106, 0.05515445765579392, 0.05512301861456856, 0.055091616976622876, 0.055060252674213196, 0.05502892563976102, 0.054997635805852395, 0.054966383105237354, 0.05493516747082954, 0.0549039888357056, 0.05487284713310482, 0.05484174229642843]}, 1: {'beta': array([[-0.63304937],\n",
      "       [ 0.11684857],\n",
      "       [-1.15346071],\n",
      "       [ 0.18746937],\n",
      "       [-0.14534827]]), 'J_storage': [0.692178670286619, 0.6912186744504264, 0.6902670956038109, 0.6893238373784217, 0.6883888044790216, 0.687461902677198, 0.6865430388048944, 0.6856321207477633, 0.6847290574383559, 0.6838337588491541, 0.682946135985454, 0.6820661008781078, 0.681193566576138, 0.6803284471392216, 0.6794706576300628, 0.6786201141066538, 0.6777767336144355, 0.6769404341783624, 0.6761111347948813, 0.6752887554238275, 0.6744732169802475, 0.6736644413261529, 0.6728623512622132, 0.6720668705193912, 0.6712779237505287, 0.6704954365218883, 0.6697193353046529, 0.6689495474663945, 0.668186001262512, 0.6674286258276442, 0.6666773511670636, 0.665932108148057, 0.6651928284912915, 0.6644594447621779, 0.663731890362229, 0.6630100995204207, 0.6622940072845582, 0.6615835495126495, 0.6608786628642942, 0.6601792847920848, 0.6594853535330284, 0.6587968080999909, 0.6581135882731639, 0.6574356345915618, 0.6567628883445469, 0.6560952915633883, 0.6554327870128578, 0.6547753181828597, 0.6541228292801045, 0.6534752652198205, 0.6528325716175146, 0.6521946947807735, 0.6515615817011163, 0.6509331800458953, 0.6503094381502478, 0.6496903050091001, 0.6490757302692276, 0.6484656642213671, 0.6478600577923881, 0.6472588625375215, 0.6466620306326465, 0.6460695148666384, 0.6454812686337769, 0.6448972459262163, 0.6443174013265187, 0.643741690000251, 0.6431700676886442, 0.6426024907013208, 0.6420389159090842, 0.6414793007367768, 0.6409236031562027, 0.6403717816791181, 0.6398237953502888, 0.6392796037406148, 0.6387391669403237, 0.6382024455522319, 0.6376694006850722, 0.6371399939468927, 0.636614187438522, 0.6360919437471045, 0.6355732259397029, 0.6350579975569695, 0.6345462226068884, 0.6340378655585822, 0.63353289133619, 0.6330312653128126, 0.632532953304527, 0.6320379215644666, 0.6315461367769705, 0.6310575660518011, 0.6305721769184269, 0.6300899373203739, 0.6296108156096428, 0.6291347805411927, 0.6286618012674908, 0.6281918473331285, 0.6277248886695006, 0.6272608955895521, 0.6267998387825877, 0.6263416893091459, 0.6258864185959355, 0.6254339984308389, 0.6249844009579737, 0.6245375986728178, 0.6240935644173995, 0.6236522713755442, 0.6232136930681853, 0.622777803348733, 0.6223445763985052, 0.6219139867222155, 0.6214860091435219, 0.6210606188006322, 0.6206377911419682, 0.6202175019218852, 0.6197997271964512, 0.6193844433192792, 0.618971626937417, 0.6185612549872901, 0.6181533046907011, 0.6177477535508814, 0.6173445793485969, 0.6169437601383058, 0.6165452742443699, 0.6161491002573151, 0.615755217030146, 0.6153636036747085, 0.6149742395581036, 0.6145871042991501, 0.6142021777648958, 0.613819440067178, 0.6134388715592307, 0.6130604528323392, 0.6126841647125414, 0.6123099882573746, 0.6119379047526694, 0.6115678957093857, 0.6111999428604962, 0.6108340281579109, 0.6104701337694478, 0.6101082420758434, 0.6097483356678068, 0.6093903973431175, 0.6090344101037598, 0.6086803571531021, 0.6083282218931144, 0.6079779879216254, 0.6076296390296189, 0.6072831591985695, 0.6069385325978157, 0.60659574358197, 0.6062547766883677, 0.6059156166345507, 0.6055782483157887, 0.605242656802635, 0.6049088273385185, 0.6045767453373694, 0.6042463963812796, 0.603917766218197, 0.6035908407596532, 0.6032656060785229, 0.6029420484068176, 0.6026201541335093, 0.6022999098023876, 0.6019813021099462, 0.6016643179033005, 0.6013489441781372, 0.60103516807669, 0.6007229768857483, 0.6004123580346934, 0.6001032990935624, 0.5997957877711421, 0.5994898119130885, 0.5991853595000761, 0.5988824186459724, 0.5985809775960386, 0.5982810247251591, 0.5979825485360937, 0.5976855376577572, 0.5973899808435239, 0.5970958669695557, 0.5968031850331564, 0.5965119241511481, 0.5962220735582726, 0.5959336226056158, 0.5956465607590545, 0.5953608775977274, 0.5950765628125261, 0.5947936062046101, 0.5945119976839426, 0.5942317272678482, 0.5939527850795906, 0.593675161346972, 0.5933988464009526, 0.5931238306742905, 0.5928501047002005, 0.5925776591110342, 0.5923064846369773, 0.592036572104767, 0.5917679124364285, 0.5915004966480287, 0.5912343158484489, 0.590969361238175, 0.5907056241081058, 0.5904430958383776, 0.5901817678972071, 0.5899216318397502, 0.5896626793069777, 0.5894049020245679, 0.5891482918018134, 0.5888928405305468, 0.5886385401840788, 0.5883853828161536, 0.5881333605599192, 0.5878824656269118, 0.5876326903060561, 0.5873840269626787, 0.5871364680375366, 0.5868900060458602, 0.5866446335764086, 0.5864003432905396, 0.5861571279212933, 0.5859149802724883, 0.585673893217831, 0.5854338597000377, 0.5851948727299693, 0.5849569253857794, 0.5847200108120727, 0.5844841222190773, 0.5842492528818278, 0.5840153961393602, 0.5837825453939187, 0.5835506941101738, 0.5833198358144513, 0.5830899640939723, 0.5828610725961039, 0.5826331550276216, 0.5824062051539807, 0.5821802167985989, 0.5819551838421493, 0.5817311002218626, 0.5815079599308403, 0.5812857570173761, 0.5810644855842888, 0.580844139788263, 0.5806247138392001, 0.580406201999578, 0.5801885985838197, 0.5799718979576711, 0.5797560945375884, 0.5795411827901312, 0.5793271572313682, 0.5791140124262879, 0.578901742988219, 0.5786903435782588, 0.5784798089047095, 0.5782701337225226, 0.5780613128327494, 0.5778533410820028, 0.5776462133619227, 0.5774399246086503, 0.5772344698023113, 0.5770298439665034, 0.5768260421677923, 0.5766230595152162, 0.5764208911597938, 0.5762195322940415, 0.5760189781514976, 0.5758192240062502, 0.575620265172475, 0.5754220970039773, 0.5752247148937408, 0.5750281142734831, 0.5748322906132163, 0.5746372394208142, 0.5744429562415856, 0.574249436657853, 0.5740566762885368, 0.5738646707887463, 0.5736734158493741, 0.5734829071966991, 0.5732931405919914, 0.5731041118311251, 0.5729158167441952, 0.57272825119514, 0.5725414110813685, 0.5723552923333924, 0.5721698909144635, 0.5719852028202165, 0.5718012240783147, 0.5716179507481027, 0.5714353789202623, 0.5712535047164727, 0.5710723242890772, 0.5708918338207513, 0.5707120295241785, 0.5705329076417274, 0.5703544644451348, 0.5701766962351933, 0.5699995993414412, 0.5698231701218579, 0.5696474049625633, 0.5694723002775203, 0.5692978525082417, 0.5691240581235014, 0.5689509136190483, 0.5687784155173242, 0.5686065603671862, 0.5684353447436324, 0.5682647652475298, 0.5680948185053473, 0.567925501168892, 0.5677568099150477, 0.5675887414455186, 0.5674212924865741, 0.5672544597887991, 0.567088240126845, 0.5669226302991871, 0.5667576271278817, 0.5665932274583287, 0.5664294281590362, 0.566266226121388, 0.5661036182594144, 0.5659416015095661, 0.5657801728304901, 0.5656193292028096, 0.5654590676289051, 0.5652993851326998, 0.5651402787594472, 0.5649817455755205, 0.5648237826682057, 0.564666387145497, 0.5645095561358942, 0.5643532867882034, 0.5641975762713396, 0.5640424217741319, 0.563887820505131, 0.5637337696924197, 0.5635802665834246, 0.5634273084447312, 0.5632748925619, 0.5631230162392865, 0.562971676799862, 0.5628208715850375, 0.5626705979544883, 0.5625208532859833, 0.5623716349752131, 0.5622229404356235, 0.5620747670982477, 0.5619271124115438, 0.5617799738412311, 0.5616333488701314, 0.5614872349980092, 0.5613416297414164, 0.5611965306335371, 0.5610519352240352, 0.5609078410789028, 0.5607642457803123, 0.5606211469264675, 0.5604785421314593, 0.5603364290251204, 0.5601948052528843, 0.560053668475644, 0.5599130163696129, 0.5597728466261876, 0.5596331569518126, 0.5594939450678453, 0.5593552087104241, 0.5592169456303365, 0.5590791535928903, 0.558941830377785, 0.5588049737789851, 0.5586685816045952, 0.558532651676736, 0.5583971818314221, 0.5582621699184407, 0.5581276138012324, 0.5579935113567728, 0.5578598604754552, 0.5577266590609756, 0.557593905030218, 0.5574615963131416, 0.5573297308526687, 0.5571983066045744, 0.5570673215373775, 0.5569367736322322, 0.5568066608828209, 0.5566769812952492, 0.5565477328879409, 0.5564189136915348, 0.5562905217487821, 0.5561625551144459, 0.5560350118552008, 0.5559078900495336, 0.5557811877876463, 0.5556549031713587, 0.5555290343140127, 0.5554035793403779, 0.5552785363865576, 0.5551539035998957, 0.5550296791388868, 0.554905861173083, 0.5547824478830062, 0.5546594374600576, 0.5545368281064317, 0.554414618035028, 0.5542928054693654, 0.5541713886434976, 0.5540503658019279, 0.5539297351995272, 0.5538094951014502, 0.5536896437830547, 0.5535701795298212, 0.5534511006372719, 0.5533324054108926, 0.5532140921660538, 0.5530961592279341, 0.5529786049314427, 0.5528614276211444, 0.5527446256511837, 0.5526281973852111, 0.5525121411963094, 0.552396455466921, 0.5522811385887755, 0.5521661889628191, 0.5520516049991432, 0.5519373851169153, 0.5518235277443092, 0.5517100313184364, 0.5515968942852795, 0.5514841150996236, 0.5513716922249906, 0.5512596241335735, 0.5511479093061711, 0.5510365462321234, 0.5509255334092475, 0.5508148693437755, 0.5507045525502906, 0.5505945815516657, 0.5504849548790018, 0.5503756710715678, 0.5502667286767396, 0.5501581262499409, 0.5500498623545838, 0.5499419355620108, 0.5498343444514365, 0.5497270876098909, 0.5496201636321616, 0.5495135711207384, 0.5494073086857572, 0.5493013749449452, 0.5491957685235657, 0.5490904880543641, 0.5489855321775148, 0.5488808995405673, 0.5487765887983945, 0.5486725986131394, 0.5485689276541647, 0.5484655745980005, 0.5483625381282945, 0.5482598169357616, 0.5481574097181338, 0.5480553151801111, 0.5479535320333128, 0.5478520589962289, 0.5477508947941727, 0.5476500381592324, 0.5475494878302252, 0.5474492425526492, 0.5473493010786387, 0.5472496621669172, 0.5471503245827529, 0.5470512870979133, 0.5469525484906209, 0.5468541075455084, 0.5467559630535758, 0.5466581138121466, 0.5465605586248247, 0.546463296301452, 0.5463663256580662, 0.5462696455168589, 0.546173254706134, 0.5460771520602667, 0.5459813364196628, 0.5458858066307182, 0.545790561545779, 0.5456956000231014, 0.5456009209268131, 0.5455065231268738, 0.5454124054990359, 0.5453185669248081, 0.5452250062914149, 0.5451317224917611, 0.5450387144243936, 0.5449459809934631, 0.5448535211086903, 0.5447613336853266, 0.5446694176441198, 0.5445777719112773, 0.5444863954184316, 0.5443952871026043, 0.5443044459061713, 0.5442138707768288, 0.5441235606675585, 0.5440335145365934, 0.5439437313473849, 0.5438542100685684, 0.5437649496739307, 0.5436759491423772, 0.5435872074578983, 0.543498723609539, 0.5434104965913645, 0.5433225254024301, 0.5432348090467488, 0.5431473465332601, 0.5430601368757998, 0.5429731790930676, 0.5428864722085979, 0.5428000152507287, 0.5427138072525725, 0.5426278472519855, 0.5425421342915385, 0.5424566674184875, 0.5423714456847446, 0.542286468146849, 0.542201733865939, 0.5421172419077224, 0.5420329913424495, 0.5419489812448849, 0.5418652106942786, 0.5417816787743407, 0.5416983845732121, 0.5416153271834379, 0.5415325057019413, 0.5414499192299963, 0.5413675668732015, 0.5412854477414534, 0.541203560948921, 0.5411219056140193, 0.5410404808593843, 0.5409592858118474, 0.5408783196024096, 0.5407975813662171, 0.5407170702425362, 0.540636785374729, 0.5405567259102279, 0.5404768910005124, 0.5403972798010845, 0.5403178914714449, 0.5402387251750692, 0.5401597800793841, 0.5400810553557447, 0.5400025501794105, 0.5399242637295226, 0.5398461951890816, 0.5397683437449233, 0.5396907085876983, 0.5396132889118473, 0.5395360839155808, 0.5394590928008565, 0.5393823147733567, 0.5393057490424676, 0.5392293948212576, 0.5391532513264553, 0.5390773177784289, 0.5390015934011647, 0.5389260774222466, 0.5388507690728352, 0.5387756675876472, 0.5387007722049342, 0.5386260821664641, 0.5385515967174991, 0.5384773151067769, 0.5384032365864903, 0.5383293604122674, 0.5382556858431526, 0.5381822121415868, 0.5381089385733874, 0.5380358644077302, 0.5379629889171302, 0.5378903113774222, 0.5378178310677421, 0.5377455472705085, 0.5376734592714049, 0.5376015663593594, 0.5375298678265285, 0.5374583629682781, 0.5373870510831651, 0.5373159314729207, 0.5372450034424311, 0.5371742662997216, 0.537103719355938, 0.5370333619253294, 0.5369631933252315, 0.536893212876048, 0.5368234199012363, 0.5367538137272876, 0.5366843936837121, 0.5366151591030219, 0.5365461093207139, 0.5364772436752542, 0.536408561508061, 0.5363400621634891, 0.5362717449888131, 0.5362036093342123, 0.536135654552754, 0.5360678800003782, 0.5360002850358817, 0.5359328690209025, 0.5358656313199053, 0.5357985713001642, 0.5357316883317493, 0.5356649817875111, 0.5355984510430647, 0.5355320954767757, 0.5354659144697449, 0.5353999074057941, 0.5353340736714508, 0.5352684126559341, 0.5352029237511396, 0.5351376063516265, 0.5350724598546017, 0.5350074836599068, 0.534942677170003, 0.5348780397899582, 0.5348135709274324, 0.5347492699926643, 0.5346851363984574, 0.5346211695601663, 0.5345573688956832, 0.5344937338254249, 0.5344302637723188, 0.5343669581617901, 0.5343038164217486, 0.534240837982575, 0.5341780222771091, 0.5341153687406356, 0.5340528768108718, 0.5339905459279555, 0.5339283755344308, 0.5338663650752373, 0.5338045139976959, 0.5337428217514977, 0.533681287788691, 0.5336199115636685, 0.533558692533157, 0.5334976301562029, 0.5334367238941617, 0.5333759732106856, 0.5333153775717118, 0.5332549364454501, 0.5331946493023718, 0.5331345156151979, 0.5330745348588871, 0.5330147065106249, 0.5329550300498117, 0.5328955049580517, 0.5328361307191414, 0.5327769068190579, 0.5327178327459492, 0.5326589079901216, 0.5326001320440292, 0.5325415044022634, 0.5324830245615412, 0.5324246920206945, 0.5323665062806605, 0.5323084668444694, 0.5322505732172348, 0.5321928249061426, 0.5321352214204411, 0.5320777622714299, 0.53202044697245, 0.5319632750388733, 0.5319062459880924, 0.5318493593395107, 0.5317926146145316, 0.531736011336549, 0.5316795490309374, 0.5316232272250414, 0.5315670454481665, 0.5315110032315687, 0.5314551001084451, 0.5313993356139242, 0.531343709285056, 0.5312882206608027, 0.5312328692820292, 0.5311776546914933, 0.5311225764338364, 0.5310676340555747, 0.5310128271050892, 0.5309581551326166, 0.5309036176902404, 0.5308492143318817, 0.5307949446132899, 0.5307408080920339, 0.5306868043274928, 0.5306329328808475, 0.5305791933150716, 0.5305255851949224, 0.5304721080869323, 0.5304187615594004, 0.5303655451823829, 0.5303124585276858, 0.5302595011688555, 0.5302066726811703, 0.5301539726416322, 0.5301014006289586, 0.5300489562235735, 0.5299966390075996, 0.52994444856485, 0.5298923844808199, 0.529840446342678, 0.5297886337392594, 0.5297369462610566, 0.5296853835002119, 0.5296339450505093, 0.5295826305073669, 0.5295314394678283, 0.5294803715305557, 0.5294294262958209, 0.529378603365499, 0.5293279023430597, 0.5292773228335597, 0.5292268644436354, 0.5291765267814955, 0.5291263094569124, 0.5290762120812165, 0.529026234267287, 0.5289763756295455, 0.5289266357839484, 0.5288770143479797, 0.5288275109406434, 0.5287781251824564, 0.5287288566954416, 0.5286797051031203, 0.5286306700305056, 0.5285817511040948, 0.5285329479518626, 0.5284842602032539, 0.5284356874891777, 0.5283872294419988, 0.5283388856955323, 0.5282906558850355, 0.5282425396472025, 0.5281945366201556, 0.5281466464434407, 0.5280988687580189, 0.5280512032062609, 0.5280036494319396, 0.5279562070802243, 0.5279088757976733, 0.5278616552322286, 0.527814545033208, 0.5277675448512998, 0.5277206543385559, 0.5276738731483853, 0.5276272009355484, 0.52758063735615, 0.5275341820676335, 0.5274878347287747, 0.5274415949996749, 0.527395462541756, 0.527349437017753, 0.5273035180917094, 0.5272577054289695, 0.5272119986961739, 0.5271663975612523, 0.5271209016934184, 0.527075510763164, 0.5270302244422518, 0.5269850424037115, 0.5269399643218324, 0.5268949898721587, 0.5268501187314825, 0.5268053505778396, 0.5267606850905027, 0.526716121949976, 0.5266716608379893, 0.5266273014374935, 0.5265830434326535, 0.5265388865088435, 0.5264948303526418, 0.5264508746518242, 0.5264070190953597, 0.5263632633734046, 0.5263196071772964, 0.52627605019955, 0.5262325921338512, 0.5261892326750511, 0.5261459715191623, 0.5261028083633519, 0.5260597429059372, 0.5260167748463809, 0.5259739038852849, 0.5259311297243858, 0.5258884520665498, 0.525845870615767, 0.5258033850771475, 0.525760995156915, 0.5257187005624024, 0.5256765010020475, 0.525634396185387, 0.5255923858230516, 0.5255504696267619, 0.525508647309323, 0.5254669185846197, 0.5254252831676116, 0.5253837407743285, 0.525342291121865, 0.5253009339283773, 0.5252596689130764, 0.5252184957962246, 0.5251774142991312, 0.5251364241441466, 0.5250955250546588, 0.5250547167550881, 0.5250139989708826, 0.5249733714285144, 0.5249328338554738, 0.5248923859802658, 0.5248520275324048, 0.5248117582424113, 0.5247715778418063, 0.5247314860631074, 0.5246914826398245, 0.5246515673064548, 0.5246117397984794, 0.5245719998523585, 0.5245323472055263, 0.5244927815963885, 0.5244533027643163, 0.5244139104496434, 0.5243746043936608, 0.5243353843386134, 0.5242962500276953, 0.5242572012050459, 0.5242182376157458, 0.5241793590058124, 0.5241405651221962, 0.5241018557127762, 0.5240632305263568, 0.5240246893126626, 0.523986231822335, 0.5239478578069283, 0.5239095670189058, 0.5238713592116352, 0.5238332341393853, 0.5237951915573219, 0.5237572312215041, 0.52371935288888, 0.5236815563172834, 0.5236438412654292, 0.5236062074929103, 0.5235686547601941, 0.5235311828286172, 0.5234937914603834, 0.5234564804185591, 0.5234192494670692, 0.5233820983706947, 0.5233450268950678, 0.5233080348066684, 0.5232711218728213, 0.5232342878616917, 0.5231975325422817, 0.5231608556844275, 0.5231242570587947, 0.5230877364368757, 0.5230512935909851, 0.5230149282942577, 0.5229786403206437, 0.5229424294449057, 0.522906295442615, 0.5228702380901489, 0.5228342571646865, 0.5227983524442051, 0.5227625237074778, 0.5227267707340693, 0.5226910933043326, 0.5226554911994064, 0.5226199642012106, 0.5225845120924439, 0.5225491346565803, 0.5225138316778654, 0.5224786029413137, 0.5224434482327049, 0.5224083673385814, 0.5223733600462441, 0.5223384261437496, 0.5223035654199073, 0.5222687776642763, 0.5222340626671613, 0.5221994202196107, 0.5221648501134125, 0.5221303521410918, 0.5220959260959077, 0.5220615717718496, 0.5220272889636348, 0.5219930774667054, 0.5219589370772248, 0.521924867592075, 0.5218908688088537, 0.5218569405258712, 0.5218230825421473, 0.5217892946574083, 0.5217555766720847, 0.5217219283873074, 0.5216883496049052, 0.5216548401274019, 0.5216213997580135, 0.5215880283006449, 0.5215547255598875, 0.5215214913410164, 0.5214883254499871, 0.521455227693433, 0.5214221978786625, 0.5213892358136563, 0.5213563413070644, 0.5213235141682041, 0.5212907542070557, 0.5212580612342615, 0.5212254350611218, 0.5211928754995933, 0.5211603823622848, 0.5211279554624564, 0.5210955946140151, 0.5210632996315139, 0.5210310703301474, 0.5209989065257503, 0.5209668080347947, 0.5209347746743863, 0.5209028062622638, 0.5208709026167949, 0.5208390635569738, 0.5208072889024191, 0.5207755784733711, 0.5207439320906894, 0.5207123495758498, 0.5206808307509422, 0.5206493754386687, 0.52061798346234, 0.5205866546458732, 0.5205553888137902, 0.520524185791214, 0.5204930454038674, 0.5204619674780695, 0.5204309518407342, 0.5203999983193669, 0.5203691067420636, 0.5203382769375062, 0.5203075087349626, 0.5202768019642825, 0.5202461564558958, 0.5202155720408105, 0.5201850485506095, 0.5201545858174496, 0.5201241836740577, 0.5200938419537295, 0.5200635604903273, 0.5200333391182768, 0.5200031776725655, 0.5199730759887407, 0.5199430339029065, 0.5199130512517224, 0.5198831278723999, 0.5198532636027018, 0.5198234582809388, 0.5197937117459678, 0.5197640238371897, 0.5197343943945473, 0.5197048232585226, 0.5196753102701355, 0.5196458552709409, 0.519616458103027, 0.519587118609013, 0.5195578366320471, 0.5195286120158047, 0.519499444604485, 0.5194703342428109, 0.519441280776025, 0.5194122840498893, 0.5193833439106813, 0.5193544602051938, 0.5193256327807316, 0.5192968614851099, 0.5192681461666517, 0.5192394866741874, 0.5192108828570509, 0.5191823345650787, 0.5191538416486076, 0.5191254039584727, 0.519097021346006, 0.5190686936630333, 0.5190404207618734, 0.5190122024953354, 0.5189840387167172, 0.5189559292798033, 0.5189278740388632, 0.5188998728486494, 0.5188719255643949, 0.5188440320418124, 0.5188161921370917, 0.518788405706898, 0.51876067260837, 0.518732992699118, 0.5187053658372226, 0.5186777918812318, 0.5186502706901599, 0.5186228021234861, 0.5185953860411519, 0.5185680223035589, 0.5185407107715688, 0.5185134513064997, 0.5184862437701254, 0.5184590880246731, 0.5184319839328222, 0.5184049313577022, 0.5183779301628906, 0.5183509802124119, 0.5183240813707356, 0.5182972335027739, 0.518270436473881, 0.5182436901498506, 0.5182169943969145, 0.518190349081741, 0.518163754071433, 0.5181372092335264, 0.5181107144359883, 0.5180842695472161, 0.5180578744360346, 0.518031528971695, 0.518005233023874, 0.5179789864626706, 0.5179527891586054, 0.5179266409826194, 0.5179005418060714, 0.5178744915007372, 0.5178484899388072, 0.5178225369928858, 0.5177966325359888, 0.5177707764415429, 0.5177449685833833, 0.517719208835752, 0.5176934970732975, 0.5176678331710713, 0.5176422170045286, 0.5176166484495249, 0.5175911273823153, 0.517565653679553, 0.5175402272182879, 0.517514847875964, 0.51748951553042, 0.5174642300598854, 0.517438991342981, 0.5174137992587161, 0.517388653686488, 0.5173635545060792, 0.5173385015976578, 0.5173134948417747, 0.5172885341193622, 0.517263619311733, 0.5172387503005788, 0.5172139269679682, 0.5171891491963465, 0.517164416868533, 0.5171397298677204, 0.517115088077473, 0.5170904913817251, 0.5170659396647809, 0.5170414328113111, 0.5170169707063532, 0.5169925532353093, 0.516968180283945, 0.5169438517383879, 0.5169195674851261, 0.5168953274110079, 0.5168711314032384, 0.5168469793493803, 0.516822871137351, 0.5167988066554227, 0.5167747857922198, 0.5167508084367181, 0.5167268744782431, 0.5167029838064701, 0.5166791363114207, 0.5166553318834636, 0.5166315704133118, 0.5166078517920222, 0.5165841759109938, 0.516560542661967, 0.5165369519370215, 0.5165134036285761, 0.5164898976293862, 0.5164664338325442, 0.516443012131476, 0.516419632419942, 0.5163962945920347, 0.5163729985421777, 0.5163497441651241, 0.5163265313559561, 0.516303360010083, 0.5162802300232406, 0.5162571412914895, 0.5162340937112141, 0.5162110871791216, 0.5161881215922406, 0.5161651968479197, 0.5161423128438271, 0.5161194694779483, 0.516096666648586, 0.5160739042543582, 0.5160511821941977, 0.5160285003673499, 0.5160058586733731, 0.5159832570121361, 0.5159606952838176, 0.5159381733889051, 0.5159156912281937, 0.5158932487027847, 0.5158708457140853, 0.5158484821638063, 0.5158261579539619, 0.5158038729868685, 0.5157816271651429, 0.5157594203917024, 0.5157372525697622, 0.5157151236028361, 0.5156930333947337, 0.5156709818495603, 0.5156489688717157, 0.515626994365893, 0.5156050582370777, 0.5155831603905462, 0.5155613007318652, 0.5155394791668909, 0.515517695601767, 0.5154959499429245, 0.5154742420970804, 0.5154525719712365, 0.5154309394726788, 0.5154093445089761, 0.5153877869879788, 0.5153662668178186, 0.5153447839069069, 0.5153233381639338, 0.5153019294978675, 0.5152805578179528, 0.5152592230337106, 0.5152379250549366, 0.5152166637916998, 0.5151954391543434, 0.5151742510534812, 0.5151530993999988, 0.5151319841050512, 0.5151109050800629, 0.5150898622367259, 0.515068855487, 0.5150478847431105, 0.5150269499175483, 0.515006050923068, 0.5149851876726881, 0.5149643600796893, 0.5149435680576134, 0.514922811520263, 0.5149020903817002, 0.5148814045562458, 0.5148607539584783, 0.5148401385032326, 0.5148195581056003, 0.5147990126809271, 0.5147785021448135, 0.5147580264131127, 0.5147375854019306, 0.5147171790276241, 0.5146968072068008, 0.514676469856318, 0.5146561668932813, 0.5146358982350449, 0.514615663799209, 0.5145954635036208, 0.5145752972663724, 0.5145551650058002, 0.5145350666404841, 0.5145150020892468, 0.5144949712711526, 0.5144749741055072, 0.5144550105118557, 0.514435080409983, 0.5144151837199122, 0.5143953203619043, 0.5143754902564562, 0.514355693324302, 0.5143359294864096, 0.5143161986639823, 0.5142965007784558, 0.5142768357514993, 0.5142572035050134, 0.5142376039611296, 0.5142180370422099, 0.5141985026708455, 0.5141790007698565, 0.5141595312622904, 0.5141400940714217, 0.5141206891207515, 0.514101316334006, 0.5140819756351362, 0.5140626669483171, 0.5140433901979462, 0.5140241453086442, 0.5140049322052523, 0.5139857508128336, 0.51396660105667, 0.5139474828622638, 0.5139283961553348, 0.5139093408618214, 0.5138903169078782, 0.5138713242198765, 0.5138523627244028, 0.5138334323482584, 0.5138145330184589, 0.5137956646622327, 0.5137768272070209, 0.5137580205804764, 0.5137392447104632, 0.5137204995250553, 0.5137017849525367, 0.5136831009214001, 0.5136644473603464, 0.5136458241982839, 0.5136272313643276, 0.5136086687877988, 0.5135901363982234, 0.5135716341253328, 0.5135531618990619, 0.5135347196495486, 0.5135163073071335, 0.5134979248023592, 0.5134795720659693, 0.5134612490289077, 0.5134429556223182, 0.5134246917775436, 0.5134064574261255, 0.5133882524998022, 0.5133700769305102, 0.5133519306503819, 0.5133338135917451, 0.5133157256871232, 0.5132976668692334, 0.5132796370709872, 0.5132616362254889, 0.5132436642660348, 0.5132257211261136, 0.513207806739405, 0.5131899210397786, 0.5131720639612941, 0.5131542354382008, 0.5131364354049358, 0.5131186637961247, 0.51310092054658, 0.5130832055913005, 0.5130655188654718, 0.5130478603044643, 0.5130302298438332, 0.5130126274193176, 0.5129950529668407, 0.5129775064225082, 0.5129599877226076, 0.5129424968036089, 0.5129250336021626, 0.5129075980550996, 0.5128901900994305, 0.5128728096723457, 0.5128554567112138, 0.5128381311535811, 0.512820832937172, 0.512803561999887, 0.5127863182798035, 0.512769101715174, 0.5127519122444262, 0.5127347498061622, 0.5127176143391583, 0.5127005057823636, 0.5126834240749002, 0.5126663691560625, 0.512649340965316, 0.5126323394422975, 0.5126153645268141, 0.5125984161588428, 0.51258149427853, 0.5125645988261907, 0.5125477297423078, 0.5125308869675322, 0.5125140704426818, 0.5124972801087407, 0.5124805159068595, 0.5124637777783534, 0.5124470656647029, 0.5124303795075528, 0.5124137192487116, 0.512397084830151, 0.5123804761940051, 0.5123638932825707, 0.5123473360383056, 0.512330804403829, 0.5123142983219205, 0.5122978177355197, 0.5122813625877257, 0.5122649328217967, 0.5122485283811488, 0.5122321492093564, 0.5122157952501514, 0.512199466447422, 0.5121831627452135, 0.5121668840877261, 0.5121506304193163, 0.5121344016844948, 0.5121181978279264, 0.5121020187944305, 0.5120858645289788, 0.5120697349766966, 0.512053630082861, 0.5120375497929011, 0.512021494052397, 0.5120054628070799, 0.5119894560028315, 0.5119734735856825, 0.5119575155018137, 0.5119415816975542, 0.5119256721193819, 0.5119097867139223, 0.5118939254279482, 0.5118780882083795, 0.5118622750022824, 0.5118464857568692, 0.5118307204194972, 0.5118149789376693, 0.5117992612590325, 0.511783567331378, 0.5117678971026408, 0.5117522505208983, 0.5117366275343715, 0.5117210280914233, 0.5117054521405575, 0.5116898996304203, 0.5116743705097982, 0.5116588647276181, 0.5116433822329468, 0.5116279229749905, 0.5116124869030946, 0.5115970739667428, 0.5115816841155572, 0.5115663172992971, 0.5115509734678597, 0.5115356525712783, 0.5115203545597228, 0.5115050793834991, 0.5114898269930485, 0.5114745973389472, 0.5114593903719059, 0.5114442060427702, 0.5114290443025182, 0.5114139051022624, 0.5113987883932475, 0.5113836941268509, 0.5113686222545817, 0.5113535727280814, 0.5113385454991217, 0.5113235405196056, 0.5113085577415664, 0.5112935971171672, 0.5112786585987005, 0.5112637421385882, 0.5112488476893805, 0.5112339752037562, 0.5112191246345219, 0.5112042959346115, 0.5111894890570859, 0.5111747039551329, 0.5111599405820662, 0.5111451988913257, 0.5111304788364763, 0.5111157803712084, 0.5111011034493368, 0.5110864480248005, 0.5110718140516625, 0.5110572014841089, 0.5110426102764493, 0.5110280403831157, 0.5110134917586627, 0.5109989643577664, 0.5109844581352244, 0.5109699730459559, 0.5109555090450004, 0.5109410660875179, 0.5109266441287884, 0.5109122431242116, 0.5108978630293062, 0.5108835037997098, 0.5108691653911785, 0.5108548477595868, 0.5108405508609265, 0.5108262746513068, 0.5108120190869543, 0.5107977841242117, 0.5107835697195382, 0.5107693758295089, 0.5107552024108145, 0.5107410494202607, 0.5107269168147679, 0.5107128045513712, 0.51069871258722, 0.5106846408795767, 0.5106705893858176, 0.5106565580634318, 0.5106425468700213, 0.5106285557633, 0.5106145847010944, 0.510600633641342, 0.5105867025420918, 0.5105727913615037, 0.5105589000578481, 0.5105450285895057, 0.5105311769149671, 0.5105173449928324, 0.5105035327818108, 0.5104897402407202, 0.5104759673284879, 0.5104622140041482, 0.5104484802268437, 0.510434765955825, 0.510421071150449, 0.5104073957701802, 0.5103937397745892, 0.5103801031233529, 0.510366485776254, 0.5103528876931805, 0.5103393088341264, 0.5103257491591894, 0.5103122086285726, 0.5102986872025832, 0.5102851848416321, 0.5102717015062336, 0.510258237157006, 0.5102447917546694, 0.5102313652600479, 0.5102179576340666, 0.5102045688377534, 0.5101911988322376, 0.5101778475787501, 0.5101645150386224, 0.510151201173287, 0.5101379059442772, 0.5101246293132257, 0.5101113712418653, 0.5100981316920288, 0.5100849106256473, 0.5100717080047517, 0.5100585237914708, 0.5100453579480321, 0.5100322104367608, 0.5100190812200803, 0.5100059702605109, 0.5099928775206699, 0.5099798029632719, 0.5099667465511278, 0.5099537082471446, 0.5099406880143252, 0.5099276858157683, 0.5099147016146678, 0.5099017353743126, 0.5098887870580865, 0.5098758566294675, 0.5098629440520284, 0.5098500492894349, 0.5098371723054473, 0.5098243130639185, 0.5098114715287948, 0.5097986476641151, 0.5097858414340108, 0.5097730528027056, 0.509760281734515, 0.5097475281938462, 0.5097347921451976, 0.5097220735531588, 0.5097093723824101, 0.5096966885977225, 0.5096840221639574, 0.5096713730460656, 0.509658741209088, 0.509646126618155, 0.509633529238486, 0.5096209490353895, 0.5096083859742621, 0.5095958400205894, 0.5095833111399449, 0.5095707992979897, 0.5095583044604729, 0.5095458265932302, 0.5095333656621851, 0.5095209216333476, 0.509508494472814, 0.509496084146767]}, 2: {'beta': array([[-1.31740148],\n",
      "       [ 0.42271871],\n",
      "       [ 0.18526839],\n",
      "       [ 0.8831822 ],\n",
      "       [ 1.17929455]]), 'J_storage': [0.6899117742914843, 0.6867178893143077, 0.6835649509303888, 0.6804523894161149, 0.6773796401425103, 0.674346143686721, 0.6713513459349989, 0.6683946981774322, 0.6654756571946625, 0.6625936853368443, 0.6597482505950903, 0.6569388266656564, 0.6541648930071153, 0.6514259348907676, 0.6487214434445394, 0.6460509156906138, 0.6434138545770383, 0.6408097690035499, 0.6382381738418605, 0.6356985899506296, 0.6331905441853632, 0.6307135694034625, 0.6282672044646432, 0.6258509942269505, 0.6234644895385713, 0.6211072472256677, 0.6187788300764188, 0.6164788068214829, 0.6142067521110631, 0.6119622464887683, 0.609744876362452, 0.6075542339722015, 0.6053899173556546, 0.6032515303108014, 0.6011386823564391, 0.599050988690429, 0.5969880701459068, 0.5949495531455894, 0.5929350696543169, 0.5909442571299631, 0.5889767584728419, 0.5870322219737325, 0.5851103012606415, 0.5832106552444153, 0.5813329480633108, 0.5794768490266266, 0.5776420325574952, 0.5758281781349313, 0.5740349702352229, 0.5722620982727555, 0.570509256540348, 0.5687761441491787, 0.567062464968377, 0.5653679275643487, 0.5636922451399029, 0.5620351354732425, 0.5603963208568792, 0.5587755280365286, 0.5571724881500378, 0.5555869366663979, 0.5540186133248863, 0.5524672620743843, 0.5509326310129128, 0.5494144723274214, 0.5479125422338739, 0.546426600917657, 0.5449564124743516, 0.5435017448508879, 0.5420623697871215, 0.540638062757849, 0.5392286029152884, 0.5378337730320492, 0.5364533594446074, 0.5350871519973085, 0.5337349439869127, 0.5323965321076973, 0.5310717163971329, 0.5297603001821428, 0.5284620900259582, 0.5271768956755808, 0.5259045300098578, 0.5246448089881814, 0.5233975515998158, 0.5221625798138594, 0.5209397185298468, 0.5197287955289939, 0.5185296414260887, 0.5173420896220317, 0.5161659762570256, 0.5150011401644162, 0.5138474228251833, 0.5127046683230831, 0.5115727233004407, 0.5104514369145868, 0.5093406607949449, 0.5082402490007579, 0.5071500579794563, 0.5060699465256626, 0.5049997757408285, 0.5039394089935013, 0.5028887118802129, 0.5018475521869902, 0.5008157998514778, 0.4997933269256714, 0.49878000753925267, 0.49777571786352365, 0.4967803360759308, 0.4957937423251768, 0.4948158186969091, 0.4938464491799833, 0.49288551963329125, 0.49193291775314923, 0.49098853304123885, 0.49005225677309383, 0.4891239819671252, 0.4882036033541793, 0.4872910173476192, 0.4863861220139257, 0.4854888170438074, 0.48459900372381537, 0.4837165849084531, 0.4828414649927766, 0.4819735498854764, 0.4811127469824336, 0.480258965140745, 0.4794121146532074, 0.4785721072232568, 0.4777388559403535, 0.47691227525580615, 0.4760922809590298, 0.47527879015422814, 0.4744717212374952, 0.4736709938743287, 0.47287652897754917, 0.4720882486856162, 0.4713060763413379, 0.4705299364709657, 0.4697597547636657, 0.4689954580513654, 0.46823697428896377, 0.46748423253490307, 0.46673716293209205, 0.46599569668917823, 0.4652597660621604, 0.4645293043363364, 0.4638042458085804, 0.4630845257699442, 0.46237008048857503, 0.4616608471929464, 0.46095676405539504, 0.4602577701759588, 0.4595638055665104, 0.4588748111351805, 0.4581907286710673, 0.4575115008292232, 0.4568370711159189, 0.45616738387417577, 0.45550238426956197, 0.4548420182762499, 0.454186232663328, 0.4535349749813626, 0.45288819354920495, 0.45224583744104063, 0.45160785647367424, 0.4509742011940469, 0.45034482286698113, 0.4497196734631499, 0.4490987056472644, 0.44848187276647744, 0.44786912883899854, 0.4472604285429145, 0.44665572720521574, 0.4460549807910204, 0.4454581458929954, 0.4448651797209677, 0.4442760400917266, 0.443690685419009, 0.44310907470366645, 0.44253116752401084, 0.44195692402633346, 0.4413863049155968, 0.440819271446293, 0.44025578541346844, 0.4396958091439083, 0.4391393054874823, 0.43858623780864303, 0.43803656997807994, 0.4374902663645209, 0.4369472918266816, 0.4364076117053598, 0.43587119181566925, 0.4353379984394139, 0.43480799831759753, 0.4342811586430669, 0.43375744705328617, 0.4332368316232396, 0.43271928085846056, 0.43220476368818334, 0.43169324945861803, 0.4311847079263421, 0.4306791092518111, 0.4301764239929823, 0.42967662309905114, 0.4291796779042985, 0.4286855601220456, 0.42819424183871463, 0.4277056955079951, 0.42721989394510984, 0.42673681032118427, 0.42625641815771104, 0.425778691321114, 0.4253036040174042, 0.4248311307869306, 0.4243612464992213, 0.42389392634791423, 0.42342914584577557, 0.42296688081980505, 0.4225071074064237, 0.4220498020467473, 0.4215949414819388, 0.42114250274864246, 0.4206924631744945, 0.42024480037371265, 0.41979949224275925, 0.41935651695608, 0.4189158529619143, 0.41847747897817744, 0.41804137398841257, 0.41760751723781186, 0.41717588822930435, 0.41674646671971066, 0.416319232715962, 0.41589416647138366, 0.41547124848204087, 0.4150504594831454, 0.41463178044552385, 0.4142151925721436, 0.4138006772946983, 0.4133882162702492, 0.4129777913779231, 0.4125693847156657, 0.41216297859704754, 0.4117585555481249, 0.41135609830435027, 0.4109555898075365, 0.41055701320286925, 0.4101603518359693, 0.4097655892500033, 0.40937270918284197, 0.4089816955642646, 0.4085925325132095, 0.40820520433506974, 0.4078196955190324, 0.40743599073546155, 0.40705407483332406, 0.4066739328376563, 0.40629554994707257, 0.4059189115313142, 0.40554400312883715, 0.40517081044443964, 0.4047993193469268, 0.4044295158668145, 0.40406138619406784, 0.40369491667587776, 0.40333009381447216, 0.4029669042649624, 0.40260533483322397, 0.40224537247381037, 0.4018870042879013, 0.4015302175212819, 0.40117499956235525, 0.4008213379401852, 0.40046922032257104, 0.4001186345141517, 0.39976956845453976, 0.39942201021648543, 0.3990759480040683, 0.3987313701509184, 0.3983882651184638, 0.39804662149420705, 0.3977064279900262, 0.39736767344050455, 0.39703034680128463, 0.3966944371474489, 0.39635993367192346, 0.3960268256839091, 0.3956951026073339, 0.39536475397933113, 0.39503576944873986, 0.3947081387746291, 0.39438185182484337, 0.39405689857457177, 0.39373326910493756, 0.3934109536016104, 0.39308994235343847, 0.3927702257511021, 0.3924517942857873, 0.39213463854787967, 0.39181874922567755, 0.39150411710412475, 0.3911907330635622, 0.39087858807849857, 0.3905676732163987, 0.3902579796364907, 0.38994949858859024, 0.38964222141194316, 0.3893361395340841, 0.389031244469713, 0.38872752781958786, 0.38842498126943376, 0.3881235965888681, 0.3878233656303414, 0.3875242803280945, 0.3872263326971293, 0.38692951483219634, 0.3866338189067967, 0.38633923717219754, 0.38604576195646284, 0.3857533856634983, 0.3854621007721097, 0.38517189983507455, 0.38488277547822797, 0.38459472039956144, 0.3843077273683343, 0.38402178922419783, 0.3837368988763327, 0.38345304930259844, 0.383170233548694, 0.38288844472733213, 0.38260767601742446, 0.3823279206632774, 0.3820491719738018, 0.381771423321731, 0.381494668142852, 0.3812188999352463, 0.3809441122585429, 0.3806702987331792, 0.3803974530396754, 0.38012556891791655, 0.3798546401664459, 0.3795846606417681, 0.37931562425766147, 0.37904752498450045, 0.37878035684858746, 0.3785141139314931, 0.3782487903694068, 0.37798438035249576, 0.3777208781242724, 0.3774582779809711, 0.3771965742709338, 0.37693576139400253, 0.37667583380092223, 0.3764167859927501, 0.3761586125202738, 0.37590130798343796, 0.3756448670307771, 0.37538928435885777, 0.37513455471172735, 0.37488067288037047, 0.37462763370217306, 0.37437543206039314, 0.3741240628836393, 0.3738735211453551, 0.37362380186331234, 0.373374900099109, 0.3731268109576751, 0.3728795295867846, 0.37263305117657475, 0.37238737095907004, 0.3721424842077145, 0.3718983862369085, 0.3716550724015531, 0.3714125380965989, 0.3711707787566026, 0.37092978985528713, 0.37068956690511035, 0.3704501054568365, 0.37021140109911566, 0.3699734494580671, 0.36973624619686896, 0.36949978701535247, 0.36926406764960285, 0.3690290838715632, 0.3687948314886457, 0.36856130634334644, 0.368328504312866, 0.3680964213087341, 0.36786505327643987, 0.36763439619506666, 0.3674044460769309, 0.36717519896722645, 0.3669466509436731, 0.3667187981161697, 0.36649163662645057, 0.3662651626477488, 0.3660393723844608, 0.3658142620718181, 0.3655898279755597, 0.3653660663916126, 0.3651429736457732, 0.3649205460933941, 0.36469878011907453, 0.36447767213635485, 0.3642572185874147, 0.3640374159427745, 0.3638182607010016, 0.3635997493884193, 0.3633818785588197, 0.3631646447931803, 0.36294804469938396, 0.36273207491194187, 0.3625167320917211, 0.36230201292567404, 0.3620879141265722, 0.36187443243274314, 0.3616615646078101, 0.3614493074404354, 0.36123765774406613, 0.3610266123566844, 0.360816168140559, 0.3606063219820011, 0.3603970707911226, 0.36018841150159747, 0.35998034107042554, 0.3597728564777, 0.3595659547263768, 0.3593596328420473, 0.3591538878727137, 0.35894871688856694, 0.3587441169817671, 0.35854008526622694, 0.3583366188773975, 0.3581337149720565, 0.35793137072809916, 0.35772958334433186, 0.3575283500402672, 0.357327668055923, 0.35712753465162195, 0.3569279471077958, 0.35672890272478913, 0.35653039882266774, 0.35633243274102816, 0.3561350018388095, 0.3559381034941081, 0.3557417351039926, 0.3555458940843243, 0.3553505778695758, 0.35515578391265484, 0.35496150968472867, 0.35476775267505023, 0.35457451039078774, 0.3543817803568548, 0.35418956011574293, 0.3539978472273564, 0.3538066392688482, 0.35361593383445905, 0.35342572853535636, 0.35323602099947776, 0.35304680887137296, 0.35285808981205097, 0.3526698614988262, 0.3524821216251676, 0.3522948679005502, 0.35210809805030613, 0.35192180981547977, 0.3517360009526827, 0.35155066923395123, 0.35136581244660514, 0.35118142839310845, 0.35099751489093095, 0.35081406977241203, 0.35063109088462546, 0.3504485760892464, 0.3502665232624188, 0.35008493029462523, 0.34990379509055775, 0.34972311556899033, 0.3495428896626522, 0.3493631153181033, 0.34918379049561094, 0.3490049131690271, 0.3488264813256679, 0.348648492966194, 0.34847094610449264, 0.34829383876756037, 0.34811716899538747, 0.34794093484084376, 0.3477651343695647, 0.3475897656598408, 0.34741482680250535, 0.34724031590082577, 0.34706623107039486, 0.3468925704390239, 0.3467193321466359, 0.34654651434516176, 0.3463741151984352, 0.3462021328820911, 0.3460305655834628, 0.34585941150148236, 0.34568866884658106, 0.3455183358405904, 0.34534841071664485, 0.3451788917190861, 0.34500977710336667, 0.3448410651359566, 0.3446727540942489, 0.3445048422664684, 0.3443373279515793, 0.34417020945919513, 0.34400348510948914, 0.34383715323310615, 0.34367121217107344, 0.34350566027471574, 0.34334049590556825, 0.3431757174352918, 0.34301132324558886, 0.34284731172812016, 0.3426836812844225, 0.342520430325827, 0.3423575572733782, 0.3421950605577544, 0.3420329386191887, 0.34187118990739, 0.34170981288146673, 0.3415488060098489, 0.34138816777021275, 0.3412278966494057, 0.34106799114337166, 0.3409084497570775, 0.3407492710044399, 0.34059045340825383, 0.3404319955001202, 0.34027389582037565, 0.3401161529180226, 0.33995876535065966, 0.33980173168441263, 0.33964505049386734, 0.339488720362002, 0.33933273988012014, 0.33917710764778536, 0.3390218222727554, 0.33886688237091817, 0.3387122865662264, 0.33855803349063607, 0.33840412178404194, 0.33825055009421673, 0.3380973170767483, 0.3379444213949794, 0.33779186171994746, 0.3376396367303244, 0.3374877451123575, 0.33733618555981076, 0.33718495677390714, 0.3370340574632705, 0.3368834863438692, 0.33673324213895933, 0.33658332357902904, 0.336433729401743, 0.336284458351888, 0.33613550918131824, 0.33598688064890164, 0.33583857152046737, 0.3356905805687517, 0.3355429065733469, 0.33539554832064905, 0.335248504603807, 0.33510177422267123, 0.33495535598374415, 0.3348092487001298, 0.3346634511914845, 0.3345179622839684, 0.33437278081019645, 0.3342279056091909, 0.3340833355263339, 0.3339390694133197, 0.3337951061281086, 0.3336514445348809, 0.3335080835039903, 0.3333650219119194, 0.3332222586412344, 0.3330797925805405, 0.33293762262443777, 0.33279574767347786, 0.33265416663412, 0.3325128784186888, 0.3323718819453313, 0.3322311761379748, 0.33209075992628545, 0.33195063224562665, 0.3318107920370179, 0.33167123824709477, 0.331531969828068, 0.3313929857376839, 0.33125428493918485, 0.3311158664012701, 0.330977729098057, 0.3308398720090423, 0.3307022941190643, 0.3305649944182651, 0.3304279719020528, 0.33029122557106466, 0.33015475443113046, 0.3300185574932355, 0.32988263377348526, 0.32974698229306887, 0.32961160207822404, 0.3294764921602017, 0.329341651575231, 0.32920707936448534, 0.3290727745740474, 0.3289387362548756, 0.32880496346277027, 0.32867145525834046, 0.3285382107069704, 0.3284052288787877, 0.32827250884862963, 0.3281400496960117, 0.32800785050509534, 0.3278759103646568, 0.327744228368055, 0.327612803613201, 0.3274816352025267, 0.3273507222429546, 0.3272200638458675, 0.327089659127078, 0.32695950720679934, 0.3268296072096151, 0.32669995826445075, 0.32657055950454383, 0.32644141006741567, 0.3263125090948424, 0.32618385573282704, 0.3260554491315715, 0.32592728844544794, 0.32579937283297244, 0.32567170145677593, 0.3255442734835791, 0.3254170880841638, 0.32529014443334686, 0.32516344170995437, 0.32503697909679424, 0.32491075578063094, 0.32478477095215935, 0.32465902380597944, 0.32453351354057086, 0.3244082393582673, 0.3242832004652323, 0.32415839607143376, 0.32403382539062, 0.32390948764029454, 0.3237853820416932, 0.32366150781975905, 0.32353786420311925, 0.3234144504240611, 0.32329126571850897, 0.32316830932600116, 0.32304558048966653, 0.32292307845620205, 0.32280080247584986, 0.3226787518023754, 0.32255692569304445, 0.3224353234086014, 0.3223139442132476, 0.3221927873746189, 0.322071852163765, 0.3219511378551274, 0.32183064372651843, 0.32171036905910033, 0.32159031313736414, 0.32147047524910904, 0.3213508546854221, 0.3212314507406578, 0.32111226271241705, 0.32099328990152853, 0.3208745316120276, 0.32075598715113735, 0.32063765582924825, 0.32051953695989954, 0.3204016298597592, 0.3202839338486056, 0.3201664482493078, 0.32004917238780706, 0.3199321055930981, 0.31981524719721083, 0.3196985965351914, 0.31958215294508424, 0.3194659157679142, 0.3193498843476683, 0.31923405803127775, 0.3191184361686006, 0.31900301811240395, 0.3188878032183467, 0.3187727908449622, 0.3186579803536407, 0.31854337110861325, 0.31842896247693375, 0.31831475382846297, 0.3182007445358515, 0.3180869339745232, 0.31797332152265906, 0.31785990656118096, 0.31774668847373533, 0.317633666646677, 0.31752084046905377, 0.3174082093325903, 0.31729577263167213, 0.31718352976333103, 0.31707148012722874, 0.31695962312564224, 0.3168479581634479, 0.31673648464810694, 0.3166252019896505, 0.3165141096006643, 0.3164032068962741, 0.3162924932941314, 0.3161819682143985, 0.31607163107973407, 0.3159614813152789, 0.3158515183486421, 0.3157417416098862, 0.3156321505315139, 0.31552274454845347, 0.3154135230980457, 0.31530448562002933, 0.3151956315565284, 0.3150869603520379, 0.314978471453411, 0.314870164309845, 0.31476203837286915, 0.31465409309633047, 0.31454632793638154, 0.3144387423514671, 0.3143313358023115, 0.31422410775190557, 0.31411705766549425, 0.3140101850105642, 0.3139034892568309, 0.3137969698762267, 0.31369062634288786, 0.31358445813314334, 0.31347846472550167, 0.31337264560063977, 0.31326700024139, 0.31316152813272957, 0.3130562287617676, 0.3129511016177341, 0.31284614619196804, 0.3127413619779061, 0.3126367484710706, 0.31253230516905917, 0.31242803157153237, 0.31232392718020313, 0.3122199914988254, 0.3121162240331832, 0.3120126242910793, 0.3119091917823247, 0.3118059260187279, 0.3117028265140837, 0.31159989278416245, 0.31149712434670024, 0.31139452072138735, 0.31129208142985854, 0.31118980599568247, 0.31108769394435076, 0.3109857448032692, 0.3108839581017455, 0.3107823333709814, 0.31068087014406065, 0.3105795679559407, 0.31047842634344136, 0.31037744484523605, 0.3102766230018415, 0.31017596035560796, 0.31007545645071, 0.3099751108331366, 0.3098749230506815, 0.30977489265293423, 0.30967501919127033, 0.3095753022188423, 0.30947574129056976, 0.3093763359631313, 0.30927708579495433, 0.3091779903462064, 0.3090790491787863, 0.308980261856315, 0.30888162794412666, 0.30878314700925985, 0.30868481862044883, 0.30858664234811495, 0.30848861776435754, 0.30839074444294584, 0.3082930219593098, 0.3081954498905325, 0.30809802781534085, 0.30800075531409754, 0.30790363196879295, 0.30780665736303636, 0.307709831082048, 0.3076131527126514, 0.307516621843264, 0.30742023806389035, 0.3073240009661136, 0.30722791014308704, 0.30713196518952735, 0.30703616570170555, 0.30694051127744015, 0.30684500151608857, 0.3067496360185401, 0.30665441438720786, 0.3065593362260214, 0.3064644011404189, 0.3063696087373398, 0.3062749586252175, 0.3061804504139716, 0.30608608371500085, 0.3059918581411755, 0.3058977733068305, 0.3058038288277576, 0.30571002432119887, 0.305616359405839, 0.30552283370179856, 0.3054294468306269, 0.3053361984152945, 0.3052430880801876, 0.30515011545109927, 0.305057280155224, 0.30496458182115044, 0.30487202007885417, 0.30477959455969167, 0.3046873048963932, 0.304595150723056, 0.3045031316751382, 0.3044112473894517, 0.304319497504156, 0.30422788165875103, 0.3041363994940721, 0.30404505065228166, 0.30395383477686433, 0.30386275151261993, 0.3037718005056572, 0.3036809814033879, 0.3035902938545199, 0.30349973750905174, 0.30340931201826604, 0.30331901703472325, 0.30322885221225615, 0.3031388172059632, 0.30304891167220294, 0.3029591352685877, 0.3028694876539779, 0.3027799684884763, 0.3026905774334216, 0.30260131415138297, 0.3025121783061545, 0.3024231695627489, 0.3023342875873921, 0.30224553204751764, 0.30215690261176054, 0.3020683989499524, 0.3019800207331152, 0.301891767633456, 0.30180363932436144, 0.30171563548039215, 0.3016277557772774, 0.30153999989190944, 0.3014523675023385, 0.30136485828776716, 0.3012774719285448, 0.30119020810616315, 0.3011030665032498, 0.30101604680356403, 0.300929148691991, 0.30084237185453677, 0.30075571597832323, 0.3006691807515827, 0.30058276586365335, 0.3004964710049735, 0.30041029586707707, 0.30032424014258846, 0.30023830352521746, 0.3001524857097546, 0.3000667863920658, 0.2999812052690878, 0.29989574203882324, 0.299810396400336, 0.29972516805374594, 0.2996400567002245, 0.29955506204199006, 0.2994701837823026, 0.29938542162545995, 0.2993007752767923, 0.2992162444426579, 0.2991318288304383, 0.2990475281485342, 0.2989633421063604, 0.2988792704143414, 0.29879531278390686, 0.2987114689274875, 0.29862773855851, 0.29854412139139297, 0.2984606171415426, 0.29837722552534796, 0.298293946260177, 0.298210779064372, 0.2981277236572452, 0.2980447797590746, 0.29796194709109997, 0.2978792253755181, 0.2977966143354788, 0.297714113695081, 0.29763172317936815, 0.2975494425143243, 0.2974672714268699, 0.29738520964485776, 0.297303256897069, 0.2972214129132088, 0.2971396774239026, 0.2970580501606921, 0.296976530856031, 0.29689511924328116, 0.296813815056709, 0.2967326180314809, 0.29665152790365995, 0.2965705444102017, 0.2964896672889504, 0.2964088962786351, 0.2963282311188659, 0.2962476715501304, 0.29616721731378925, 0.2960868681520731, 0.29600662380807846, 0.29592648402576416, 0.29584644854994757, 0.2957665171263009, 0.2956866895013477, 0.295606965422459, 0.29552734463784996, 0.29544782689657595, 0.29536841194852925, 0.29528909954443544, 0.29520988943584964, 0.2951307813751533, 0.29505177511555064, 0.2949728704110647, 0.2948940670165347, 0.2948153646876119, 0.2947367631807565, 0.2946582622532341, 0.29457986166311245, 0.2945015611692578, 0.29442336053133195, 0.2943452595097887, 0.2942672578658701, 0.2941893553616041, 0.2941115517598004, 0.29403384682404776, 0.29395624031871004, 0.293878732008924, 0.293801321660595, 0.2937240090403946, 0.29364679391575693, 0.2935696760548757, 0.29349265522670115, 0.2934157312009365, 0.2933389037480353, 0.2932621726391981, 0.2931855376463694, 0.2931089985422345, 0.2930325551002166, 0.2929562070944736, 0.29287995429989533, 0.29280379649210003, 0.2927277334474322, 0.29265176494295847, 0.2925758907564659, 0.2925001106664579, 0.29242442445215217, 0.29234883189347727, 0.29227333277107, 0.2921979268662721, 0.292122613961128, 0.2920473938383813, 0.29197226628147244, 0.2918972310745357, 0.29182228800239624, 0.2917474368505675, 0.29167267740524816, 0.29159800945332, 0.291523432782344, 0.29144894718055886, 0.2913745524368774, 0.2913002483408841, 0.2912260346828325, 0.29115191125364254, 0.2910778778448976, 0.29100393424884197, 0.2909300802583784, 0.29085631566706527, 0.2907826402691139, 0.290709053859386, 0.2906355562333913, 0.29056214718728474, 0.2904888265178636, 0.2904155940225657, 0.29034244949946614, 0.2902693927472752, 0.29019642356533554, 0.29012354175361993, 0.29005074711272855, 0.2899780394438866, 0.2899054185489418, 0.2898328842303622, 0.2897604362912329, 0.2896880745352548, 0.2896157987667414, 0.2895436087906162, 0.28947150441241104, 0.28939948543826327, 0.2893275516749133, 0.2892557029297025, 0.28918393901057043, 0.28911225972605314, 0.28904066488528024, 0.2889691542979728, 0.28889772777444117, 0.28882638512558234, 0.28875512616287824, 0.2886839506983927, 0.28861285854476987, 0.28854184951523143, 0.28847092342357483, 0.2884000800841706, 0.28832931931196054, 0.2882586409224552, 0.2881880447317317, 0.28811753055643186, 0.28804709821375973, 0.28797674752147934, 0.28790647829791266, 0.2878362903619378, 0.2877661835329863, 0.28769615763104106, 0.28762621247663483, 0.28755634789084744, 0.28748656369530384, 0.2874168597121724, 0.28734723576416227, 0.2872776916745218, 0.28720822726703604, 0.28713884236602505, 0.2870695367963418, 0.28700031038336976, 0.2869311629530216, 0.28686209433173654, 0.28679310434647837, 0.2867241928247341, 0.2866553595945112, 0.28658660448433604, 0.2865179273232518, 0.28644932794081673, 0.2863808061671018, 0.28631236183268927, 0.2862439947686701, 0.2861757048066429, 0.2861074917787109, 0.2860393555174815, 0.2859712958560628, 0.28590331262806284, 0.28583540566758736, 0.28576757480923787, 0.28569981988810983, 0.2856321407397909, 0.2855645372003588, 0.2854970091063801, 0.28542955629490757, 0.2853621786034791, 0.2852948758701155, 0.2852276479333186, 0.2851604946320698, 0.2850934158058283, 0.2850264112945287, 0.2849594809385801, 0.28489262457886366, 0.2848258420567312, 0.2847591332140035, 0.28469249789296824, 0.2846259359363786, 0.2845594471874513, 0.284493031489865, 0.2844266886877587, 0.2843604186257299, 0.28429422114883285, 0.28422809610257715, 0.2841620433329257, 0.2840960626862934, 0.284030154009545, 0.28396431714999426, 0.2838985519554014, 0.28383285827397203, 0.28376723595435543, 0.28370168484564273, 0.2836362047973655, 0.2835707956594941, 0.2835054572824361, 0.2834401895170344, 0.2833749922145663, 0.28330986522674106, 0.283244808405699, 0.2831798216040098, 0.28311490467467065, 0.283050057471105, 0.282985279847161, 0.2829205716571097, 0.28285593275564386, 0.28279136299787616, 0.28272686223933796, 0.2826624303359772, 0.28259806714415786, 0.2825337725206576, 0.2824695463226665, 0.28240538840778606, 0.28234129863402696, 0.282277276859808, 0.2822133229439548, 0.28214943674569787, 0.28208561812467164, 0.28202186694091264, 0.28195818305485826, 0.28189456632734533, 0.2818310166196086, 0.2817675337932793, 0.2817041177103839, 0.28164076823334244, 0.2815774852249674, 0.281514268548462, 0.2814511180674193, 0.28138803364582016, 0.28132501514803243, 0.28126206243880914, 0.2811991753832876, 0.28113635384698754, 0.28107359769581025, 0.2810109067960368, 0.28094828101432684, 0.28088572021771746, 0.2808232242736216, 0.2807607930498269, 0.2806984264144942, 0.2806361242361564, 0.28057388638371716, 0.28051171272644926, 0.2804496031339938, 0.2803875574763587, 0.28032557562391713, 0.2802636574474067, 0.28020180281792795, 0.2801400116069429, 0.2800782836862743, 0.28001661892810376, 0.27995501720497096, 0.2798934783897721, 0.27983200235575895, 0.27977058897653734, 0.2797092381260661, 0.2796479496786556, 0.27958672350896685, 0.2795255594920102, 0.2794644575031438, 0.2794034174180729, 0.27934243911284823, 0.279281522463865, 0.2792206673478619, 0.27915987364191913, 0.2790991412234584, 0.27903846997024084, 0.27897785976036615, 0.2789173104722713, 0.27885682198472955, 0.2787963941768493, 0.27873602692807276, 0.2786757201181748, 0.27861547362726213, 0.2785552873357717, 0.27849516112446987, 0.27843509487445117, 0.2783750884671374, 0.27831514178427597, 0.27825525470793955, 0.2781954271205241, 0.2781356589047485, 0.27807594994365314, 0.2780163001205988, 0.2779567093192655, 0.2778971774236518, 0.277837704318073, 0.2777782898871607, 0.27771893401586156, 0.2776596365894362, 0.27760039749345805, 0.2775412166138123, 0.2774820938366951, 0.27742302904861194, 0.27736402213637734, 0.2773050729871133, 0.27724618148824826, 0.27718734752751645, 0.27712857099295635, 0.27706985177291016, 0.27701118975602235, 0.27695258483123886, 0.27689403688780606, 0.27683554581527, 0.27677711150347456, 0.2767187338425615, 0.27666041272296893, 0.27660214803543015, 0.2765439396709731, 0.2764857875209189, 0.2764276914768815, 0.27636965143076603, 0.27631166727476814, 0.2762537389013731, 0.2761958662033547, 0.2761380490737743, 0.27608028740598, 0.2760225810936055, 0.2759649300305692, 0.2759073341110734, 0.27584979322960307, 0.2757923072809253, 0.275734876160088, 0.2756774997624192, 0.27562017798352584, 0.2755629107192934, 0.2755056978658842, 0.27544853931973723, 0.2753914349775668, 0.2753343847363616, 0.2752773884933842, 0.2752204461461697, 0.2751635575925249, 0.27510672273052783, 0.2750499414585263, 0.2749932136751373, 0.27493653927924616, 0.27487991817000534, 0.2748233502468341, 0.2747668354094171, 0.2747103735577037, 0.2746539645919074, 0.27459760841250436, 0.2745413049202332, 0.27448505401609363, 0.2744288556013458, 0.27437270957750953, 0.27431661584636335, 0.27426057430994366, 0.2742045848705439, 0.27414864743071377, 0.2740927618932583, 0.27403692816123704, 0.27398114613796337, 0.2739254157270034, 0.2738697368321755, 0.27381410935754913, 0.2737585332074443, 0.2737030082864305, 0.27364753449932633, 0.273592111751198, 0.2735367399473593, 0.27348141899337003, 0.27342614879503613, 0.27337092925840784, 0.2733157602897797, 0.27326064179568954, 0.2732055736829175, 0.27315055585848536, 0.27309558822965607, 0.2730406707039324, 0.2729858031890565, 0.27293098559300943, 0.2728762178240096, 0.27282149979051296, 0.2727668314012112, 0.2727122125650321, 0.2726576431911377, 0.2726031231889246, 0.27254865246802223, 0.27249423093829284, 0.27243985850983027, 0.2723855350929595, 0.27233126059823587, 0.27227703493644434, 0.2722228580185984, 0.2721687297559402, 0.27211465005993885, 0.2720606188422901, 0.27200663601491604, 0.27195270148996364, 0.27189881517980447, 0.27184497699703397, 0.27179118685447073, 0.2717374446651555, 0.2716837503423508, 0.27163010379954033, 0.2715765049504279, 0.2715229537089368, 0.27146944998920947, 0.27141599370560626, 0.2713625847727053, 0.2713092231053014, 0.2712559086184055, 0.27120264122724413, 0.2711494208472584, 0.2710962473941037, 0.2710431207836488, 0.2709900409319752, 0.2709370077553766, 0.2708840211703579, 0.2708310810936351, 0.27077818744213394, 0.27072534013298993, 0.2706725390835472, 0.27061978421135807, 0.2705670754341822, 0.2705144126699863, 0.27046179583694335, 0.2704092248534315, 0.27035669963803416, 0.2703042201095388, 0.27025178618693674, 0.2701993977894221, 0.27014705483639123, 0.2700947572474428, 0.2700425049423759, 0.26999029784119066, 0.2699381358640867, 0.269886018931463, 0.2698339469639174, 0.26978191988224526, 0.2697299376074398, 0.2696780000606907, 0.26962610716338414, 0.2695742588371016, 0.2695224550036197, 0.2694706955849092, 0.26941898050313495, 0.2693673096806547, 0.26931568304001896, 0.26926410050397, 0.2692125619954417, 0.26916106743755874, 0.2691096167536357, 0.2690582098671772, 0.2690068467018766, 0.26895552718161597, 0.2689042512304651, 0.26885301877268114, 0.26880182973270794, 0.26875068403517555, 0.26869958160489976, 0.26864852236688114, 0.26859750624630485, 0.26854653316853994, 0.2684956030591388, 0.2684447158438366, 0.26839387144855076, 0.2683430697993803, 0.2682923108226054, 0.2682415944446867, 0.26819092059226507, 0.26814028919216076, 0.2680897001713728, 0.26803915345707874, 0.2679886489766338, 0.26793818665757074, 0.26788776642759904, 0.26783738821460407, 0.2677870519466475, 0.2677367575519654, 0.2676865049589691, 0.26763629409624373, 0.267586124892548, 0.26753599727681393, 0.2674859111781456, 0.26743586652581947, 0.26738586324928343, 0.2673359012781561, 0.267285980542227, 0.26723610097145517, 0.2671862624959694, 0.26713646504606703, 0.2670867085522142, 0.26703699294504474, 0.2669873181553599, 0.26693768411412805, 0.26688809075248376, 0.2668385380017274, 0.2667890257933249, 0.2667395540589072, 0.2666901227302695, 0.266640731739371, 0.2665913810183343, 0.26654207049944495, 0.26649280011515103, 0.2664435697980626, 0.2663943794809512, 0.2663452290967492, 0.2662961185785498, 0.26624704785960607, 0.2661980168733308, 0.2661490255532958, 0.2661000738332314, 0.2660511616470265, 0.26600228892872724, 0.2659534556125373, 0.2659046616328168, 0.2658559069240825, 0.2658071914210069, 0.2657585150584177, 0.26570987777129773, 0.26566127949478424, 0.26561272016416837, 0.26556419971489487, 0.2655157180825616, 0.2654672752029191, 0.2654188710118699, 0.2653705054454687, 0.26532217843992095, 0.26527388993158346, 0.26522563985696307, 0.2651774281527167, 0.2651292547556511, 0.26508111960272146, 0.2650330226310323, 0.26498496377783587, 0.2649369429805325, 0.2648889601766697, 0.264841015303942, 0.2647931083001902, 0.2647452391034015, 0.26469740765170846, 0.2646496138833889, 0.2646018577368656, 0.2645541391507054, 0.2645064580636193, 0.2644588144144617, 0.2644112081422301, 0.2643636391860649, 0.2643161074852485, 0.2642686129792052, 0.26422115560750076, 0.2641737353098422, 0.2641263520260767, 0.2640790056961922, 0.2640316962603159, 0.26398442365871483, 0.26393718783179476, 0.26388998872010017, 0.26384282626431366, 0.2637957004052558, 0.26374861108388425, 0.26370155824129404, 0.26365454181871645, 0.2636075617575191, 0.2635606179992056, 0.26351371048541467, 0.2634668391579203, 0.2634200039586311, 0.2633732048295897, 0.26332644171297304, 0.2632797145510911, 0.26323302328638726, 0.2631863678614374, 0.2631397482189499, 0.26309316430176505, 0.26304661605285473, 0.263000103415322, 0.2629536263324007, 0.2629071847474553, 0.26286077860398005, 0.26281440784559923, 0.26276807241606626, 0.2627217722592635, 0.26267550731920214, 0.2626292775400214, 0.26258308286598825, 0.2625369232414975, 0.26249079861107083, 0.26244470891935684, 0.2623986541111304, 0.2623526341312926, 0.2623066489248701, 0.26226069843701494, 0.2622147826130042, 0.26216890139823945, 0.26212305473824665, 0.2620772425786757, 0.26203146486530005, 0.2619857215440163]}}\n"
     ]
    }
   ],
   "source": [
    "output = build_model_multiclass(df_features_train_z, df_targets_train, 'species')\n",
    "\n",
    "print(output)\n",
    "\n",
    "assert isinstance(output, dict)\n",
    "expected = np.array([[ -1.0198841], [ -0.69883077], [  1.0774116], [-1.17170999], [-1.12846826]])\n",
    "assert np.isclose(output[0]['beta'], expected).all()\n",
    "expected = np.array([[ -0.63304937], [ 0.11684857], [-1.15346071], [ 0.18746937], [-0.14534827 ]])\n",
    "assert np.isclose(output[1]['beta'], expected).all()\n",
    "expected = np.array([[-1.31740148 ], [0.42271871], [0.18526839], [ 0.8831822], [1.17929455]])\n",
    "assert np.isclose(output[2]['beta'], expected).all()"
   ]
  },
  {
   "cell_type": "code",
   "execution_count": 14,
   "metadata": {
    "deletable": false,
    "editable": false,
    "nbgrader": {
     "grade": true,
     "grade_id": "hw32",
     "locked": true,
     "points": "1",
     "solution": false
    }
   },
   "outputs": [],
   "source": [
    "###\n",
    "### AUTOGRADER TEST - DO NOT REMOVE\n",
    "###\n"
   ]
  },
  {
   "cell_type": "code",
   "execution_count": 15,
   "metadata": {
    "deletable": false,
    "editable": false,
    "nbgrader": {
     "grade": false,
     "locked": true,
     "solution": false
    }
   },
   "outputs": [
    {
     "name": "stdout",
     "output_type": "stream",
     "text": [
      "class model = 0 [[-1.0198841 ]\n",
      " [-0.69883077]\n",
      " [ 1.0774116 ]\n",
      " [-1.17170999]\n",
      " [-1.12846826]]\n",
      "class model = 1 [[-0.63304937]\n",
      " [ 0.11684857]\n",
      " [-1.15346071]\n",
      " [ 0.18746937]\n",
      " [-0.14534827]]\n",
      "class model = 2 [[-1.31740148]\n",
      " [ 0.42271871]\n",
      " [ 0.18526839]\n",
      " [ 0.8831822 ]\n",
      " [ 1.17929455]]\n"
     ]
    },
    {
     "data": {
      "image/png": "[encoded data removed]",
      "text/plain": [
       "<Figure size 640x480 with 3 Axes>"
      ]
     },
     "metadata": {},
     "output_type": "display_data"
    }
   ],
   "source": [
    "fig, axes = plt.subplots(len(output), 1)\n",
    "idx = 0\n",
    "for c in output:\n",
    "    print(f'class model = {c:}', output[c]['beta'])\n",
    "    axes[idx].plot(output[c]['J_storage'])\n",
    "    idx += 1"
   ]
  },
  {
   "cell_type": "markdown",
   "metadata": {
    "deletable": false,
    "editable": false,
    "nbgrader": {
     "grade": false,
     "locked": true,
     "solution": false
    }
   },
   "source": [
    "**HW4.** *Predict Multi-class:* Write a function `predict_multiclass()` that takes in the data frame for the features and the parameters for the multi-class classification and return a Numpy array for the predicted target.\n",
    "\n",
    "Recall that you need to do the following steps:\n",
    "- Normalize the features and change to numpy array\n",
    "- For each of the class, calculate the probability by using `calc_logreg()` function.\n",
    "- For each record, find the class that gives the maximum probability.\n",
    "- Returns a Numpy array with the predicted target values\n",
    "\n",
    "You can use the following function in your code:\n",
    "- `np.argmax()` to find the column name with the maximum value\n",
    "- `df.apply(func, axis=1)`: which is to apply some function on a particular axis. Setting axis=1 means that the function is to be applied accross the columns of the data frame instead of the index or the rows. "
   ]
  },
  {
   "cell_type": "code",
   "execution_count": 31,
   "metadata": {},
   "outputs": [],
   "source": [
    "def predict_multiclass(df_features, multi_beta: dict, means=None, stds=None):\n",
    "    feature = prepare_feature(normalize_z(df_features, means, stds)[0])\n",
    "    print(feature)\n",
    "    results = np.ndarray((len(multi_beta), len(feature)))\n",
    "    for i, weights_object in enumerate(multi_beta.values()):\n",
    "        beta = weights_object[\"beta\"]\n",
    "        results[i] = calc_logreg(feature, beta).T\n",
    "    results = results.T\n",
    "    return np.argmax(results, axis=1).reshape((len(feature), 1))\n",
    "        "
   ]
  },
  {
   "cell_type": "code",
   "execution_count": 32,
   "metadata": {
    "deletable": false,
    "editable": false,
    "nbgrader": {
     "grade": true,
     "grade_id": "hw41",
     "locked": true,
     "points": "1",
     "solution": false
    }
   },
   "outputs": [
    {
     "name": "stdout",
     "output_type": "stream",
     "text": [
      "[[ 1.          0.52247127 -0.52757753  0.94649397  1.03112567]\n",
      " [ 1.         -1.31254977  0.74426116 -1.17780671 -1.24107137]\n",
      " [ 1.          2.01342586 -0.95152376  1.63689169  1.27030431]\n",
      " [ 1.         -0.28035044  2.8639923  -1.23091423 -1.00189273]\n",
      " [ 1.          0.40778245 -0.73955064  0.57474135  0.67235772]\n",
      " [ 1.          2.01342586 -0.1036313   1.21203155  1.27030431]\n",
      " [ 1.         -0.85379451  2.22807295 -1.23091423 -1.36066068]\n",
      " [ 1.         -1.19786095 -0.1036313  -1.28402174 -1.24107137]\n",
      " [ 1.          0.63716008 -0.1036313   0.89338645  0.67235772]\n",
      " [ 1.         -1.31254977 -0.1036313  -1.28402174 -1.12148205]\n",
      " [ 1.         -1.08317214  0.95623427 -1.33712926 -1.12148205]\n",
      " [ 1.          0.52247127  0.32031493  0.78717142  1.27030431]\n",
      " [ 1.         -1.08317214  0.74426116 -1.17780671 -1.00189273]\n",
      " [ 1.         -0.85379451  0.74426116 -1.28402174 -1.24107137]\n",
      " [ 1.          0.86653771 -0.1036313   0.7340639   1.27030431]\n",
      " [ 1.          0.29309364 -0.31560441  0.25609625  0.07441113]\n",
      " [ 1.          0.06371601 -1.79941621  0.0967737  -0.28435682]\n",
      " [ 1.          0.86653771 -0.1036313   0.62784887  0.5527684 ]\n",
      " [ 1.          2.01342586 -0.52757753  1.53067666  0.91153636]\n",
      " [ 1.          0.98122653 -0.1036313   0.89338645  1.03112567]\n",
      " [ 1.          1.43998178  0.32031493  1.15892404  0.67235772]\n",
      " [ 1.         -0.62441688  0.74426116 -1.23091423 -1.00189273]\n",
      " [ 1.          0.40778245 -1.16349687  0.62784887  0.79194704]\n",
      " [ 1.         -1.42723858  0.32031493 -1.17780671 -1.24107137]\n",
      " [ 1.         -0.39503925 -1.16349687  0.04366618 -0.1647675 ]\n",
      " [ 1.         -0.05097281 -0.1036313   0.68095638  0.67235772]\n",
      " [ 1.          0.7518489  -0.1036313   0.30920377  0.19400045]\n",
      " [ 1.         -0.62441688  0.74426116 -1.12469919 -1.24107137]\n",
      " [ 1.          0.17840482 -0.52757753  0.46852632 -0.04517819]\n",
      " [ 1.          1.09591534  0.32031493  0.99960149  1.27030431]\n",
      " [ 1.         -0.50972807 -1.37546998 -0.06254885 -0.28435682]\n",
      " [ 1.         -0.28035044 -0.52757753  0.14988121  0.07441113]\n",
      " [ 1.          0.06371601 -1.79941621  0.62784887  0.31358977]\n",
      " [ 1.         -1.31254977 -0.1036313  -1.28402174 -1.36066068]\n",
      " [ 1.         -0.62441688  1.80412673 -1.33712926 -1.00189273]\n",
      " [ 1.          0.52247127  0.32031493  0.36231128  0.31358977]\n",
      " [ 1.         -0.96848332  1.59215361 -1.17780671 -1.24107137]\n",
      " [ 1.         -0.50972807 -1.16349687  0.0967737   0.07441113]\n",
      " [ 1.          0.40778245  0.74426116  0.94649397  1.38989363]\n",
      " [ 1.         -0.16566162 -0.52757753  0.68095638  1.38989363]\n",
      " [ 1.         -1.65661621 -1.5874431  -1.33712926 -1.12148205]\n",
      " [ 1.         -0.50972807 -0.95152376  0.30920377 -0.04517819]\n",
      " [ 1.          1.32529297 -0.1036313   1.10581652  1.03112567]\n",
      " [ 1.          1.43998178  1.16820738  1.21203155  1.50948295]\n",
      " [ 1.         -1.19786095  0.10834181 -1.23091423 -1.36066068]]\n"
     ]
    }
   ],
   "source": [
    "pred = predict_multiclass(df_features_test, output)\n",
    "\n",
    "assert isinstance(pred, np.ndarray)\n",
    "assert pred.shape == (45, 1)\n",
    "assert pred.min() == 0\n",
    "assert pred.max() == 2\n",
    "assert np.median(pred) == 1"
   ]
  },
  {
   "cell_type": "code",
   "execution_count": 18,
   "metadata": {
    "deletable": false,
    "editable": false,
    "nbgrader": {
     "grade": true,
     "grade_id": "hw42",
     "locked": true,
     "points": "1",
     "solution": false
    }
   },
   "outputs": [
    {
     "name": "stdout",
     "output_type": "stream",
     "text": [
      "sepal_length    5.800000\n",
      "sepal_width     3.056190\n",
      "petal_length    3.733333\n",
      "petal_width     1.181905\n",
      "dtype: float64\n",
      "sepal_length    0.808964\n",
      "sepal_width     0.418542\n",
      "petal_length    1.719887\n",
      "petal_width     0.733246\n",
      "dtype: float64\n"
     ]
    }
   ],
   "source": [
    "input_1row = np.array([[6.3, 3.4, 5.6, 2.4]])\n",
    "print(means)\n",
    "print(stds)\n",
    "pred_1row = predict_multiclass(input_1row, output, means, stds)\n",
    "assert pred_1row[0][0] == 2"
   ]
  },
  {
   "cell_type": "code",
   "execution_count": 19,
   "metadata": {
    "deletable": false,
    "editable": false,
    "nbgrader": {
     "grade": true,
     "grade_id": "hw43",
     "locked": true,
     "points": "1",
     "solution": false
    }
   },
   "outputs": [],
   "source": [
    "###\n",
    "### AUTOGRADER TEST - DO NOT REMOVE\n",
    "###\n"
   ]
  },
  {
   "cell_type": "code",
   "execution_count": 20,
   "metadata": {
    "deletable": false,
    "editable": false,
    "nbgrader": {
     "grade": false,
     "locked": true,
     "solution": false
    }
   },
   "outputs": [
    {
     "data": {
      "text/plain": [
       "<matplotlib.collections.PathCollection at 0x21b094c2bc0>"
      ]
     },
     "execution_count": 20,
     "metadata": {},
     "output_type": "execute_result"
    },
    {
     "data": {
      "image/png": "[encoded data removed]",
      "text/plain": [
       "<Figure size 640x480 with 1 Axes>"
      ]
     },
     "metadata": {},
     "output_type": "display_data"
    }
   ],
   "source": [
    "plt.scatter(df_features_test['sepal_length'], df_targets_test['species'])\n",
    "plt.scatter(df_features_test['sepal_length'], pred)"
   ]
  },
  {
   "cell_type": "code",
   "execution_count": 21,
   "metadata": {
    "deletable": false,
    "editable": false,
    "nbgrader": {
     "grade": false,
     "locked": true,
     "solution": false
    }
   },
   "outputs": [
    {
     "data": {
      "text/plain": [
       "<matplotlib.collections.PathCollection at 0x21b095147c0>"
      ]
     },
     "execution_count": 21,
     "metadata": {},
     "output_type": "execute_result"
    },
    {
     "data": {
      "image/png": "[encoded data removed]",
      "text/plain": [
       "<Figure size 640x480 with 1 Axes>"
      ]
     },
     "metadata": {},
     "output_type": "display_data"
    }
   ],
   "source": [
    "plt.scatter(df_features_test['sepal_width'], df_targets_test['species'])\n",
    "plt.scatter(df_features_test['sepal_width'], pred)"
   ]
  },
  {
   "cell_type": "code",
   "execution_count": 22,
   "metadata": {
    "deletable": false,
    "editable": false,
    "nbgrader": {
     "grade": false,
     "locked": true,
     "solution": false
    }
   },
   "outputs": [
    {
     "data": {
      "text/plain": [
       "<matplotlib.collections.PathCollection at 0x21b095526e0>"
      ]
     },
     "execution_count": 22,
     "metadata": {},
     "output_type": "execute_result"
    },
    {
     "data": {
      "image/png": "[encoded data removed]",
      "text/plain": [
       "<Figure size 640x480 with 1 Axes>"
      ]
     },
     "metadata": {},
     "output_type": "display_data"
    }
   ],
   "source": [
    "plt.scatter(df_features_test['petal_length'], df_targets_test['species'])\n",
    "plt.scatter(df_features_test['petal_length'], pred)"
   ]
  },
  {
   "cell_type": "code",
   "execution_count": 23,
   "metadata": {
    "deletable": false,
    "editable": false,
    "nbgrader": {
     "grade": false,
     "locked": true,
     "solution": false
    }
   },
   "outputs": [
    {
     "data": {
      "text/plain": [
       "<matplotlib.collections.PathCollection at 0x21b095fe980>"
      ]
     },
     "execution_count": 23,
     "metadata": {},
     "output_type": "execute_result"
    },
    {
     "data": {
      "image/png": "[encoded data removed]",
      "text/plain": [
       "<Figure size 640x480 with 1 Axes>"
      ]
     },
     "metadata": {},
     "output_type": "display_data"
    }
   ],
   "source": [
    "plt.scatter(df_features_test['petal_width'], df_targets_test['species'])\n",
    "plt.scatter(df_features_test['petal_width'], pred)"
   ]
  },
  {
   "cell_type": "markdown",
   "metadata": {
    "deletable": false,
    "editable": false,
    "nbgrader": {
     "grade": false,
     "locked": true,
     "solution": false
    }
   },
   "source": [
    "**HW5.** *Confusion Matrix:* Write a function to calculate the confusion matrix for multi-class label. If you write the solution in the Cohort session properly, the solution will be the same as in the Cohort session.\n",
    "\n",
    "Make sure that you can output a dictionary where the keys are all the combinations of all the classes: `(0, 0), (0, 1), (0, 2), (1, 0), (1, 1), (1, 2), (2, 0), (2, 1), (2, 2)`."
   ]
  },
  {
   "cell_type": "code",
   "execution_count": 24,
   "metadata": {},
   "outputs": [],
   "source": [
    "import itertools\n",
    "\n",
    "\n",
    "def confusion_matrix(ytrue, ypred, labels):\n",
    "    res = {trio: 0 for trio in itertools.product(labels, labels)}\n",
    "\n",
    "    for predicted, actual in zip(ytrue, ypred):\n",
    "        res[(predicted[0], actual[0])] += 1\n",
    "    \n",
    "    return res"
   ]
  },
  {
   "cell_type": "code",
   "execution_count": 25,
   "metadata": {
    "deletable": false,
    "editable": false,
    "nbgrader": {
     "grade": true,
     "grade_id": "hw51",
     "locked": true,
     "points": "1",
     "solution": false
    }
   },
   "outputs": [
    {
     "name": "stdout",
     "output_type": "stream",
     "text": [
      "{(0, 0): 16, (0, 1): 0, (0, 2): 0, (1, 0): 0, (1, 1): 9, (1, 2): 2, (2, 0): 0, (2, 1): 3, (2, 2): 15}\n"
     ]
    }
   ],
   "source": [
    "cm = confusion_matrix(df_targets_test.values, pred, [0, 1, 2])\n",
    "print(cm)\n",
    "assert cm == {(0, 0): 16, (0, 1): 0, (0, 2): 0, (1, 0): 0, (1, 1): 9, (1, 2): 2, (2, 0): 0, (2, 1): 3, (2, 2): 15} or cm =={(0, 0): 16, (0, 1): 0, (0, 2): 0, (1, 0): 0, (1, 1): 8, (1, 2): 3, (2, 0): 0, (2, 1): 3, (2, 2): 15}"
   ]
  },
  {
   "cell_type": "code",
   "execution_count": 26,
   "metadata": {
    "deletable": false,
    "editable": false,
    "nbgrader": {
     "grade": true,
     "grade_id": "hw52",
     "locked": true,
     "points": "1",
     "solution": false
    }
   },
   "outputs": [],
   "source": [
    "###\n",
    "### AUTOGRADER TEST - DO NOT REMOVE\n",
    "###\n"
   ]
  },
  {
   "cell_type": "markdown",
   "metadata": {
    "deletable": false,
    "editable": false,
    "nbgrader": {
     "grade": false,
     "locked": true,
     "solution": false
    }
   },
   "source": [
    "**HW6.** *Metrics:* Write a function `calc_accuracy()` that takes in a Confusion Matrix array and output a dictionary with the following keys and values:\n",
    "- `accuracy`: total number of correct predictions / total number of records\n",
    "- `sensitivity`: total correct positive cases / total positive cases\n",
    "- `precision`: total  of correct positive cases / total predicted positive cases\n",
    "\n",
    "For multiple classes, we can also calculate *sensitivity* and *precision* for each of the class. For example, to calculate the sensitivity for class *i*, we use:\n",
    "\n",
    "$$\\text{sensitivity}_i = \\frac{M_{ii}}{\\sum_j{M_{ij}}}$$\n",
    "\n",
    "This means that we get the value at row *i* and columnn *i* which is the total correct case for class *i* and the sum over all the columns in row *i* which is the total cases for class *i*. \n",
    "\n",
    "Similarly, we can calculate the precision for class *i* using:\n",
    "\n",
    "$$\\text{precision}_i = \\frac{M_{ii}}{\\sum_j{M_{ji}}}$$\n",
    "\n",
    "**Notice that the indices are swapped for the denominator**. For precision, we instead of summing over all the columns, we sum over all the rows in column *i* which is the total cases when class *i* is *predicted*.\n",
    "\n",
    "The output is a dictionary with one of the keys called `accuracy` and the rest of the keys are the label for the different classes, i.e. 0, 1, and 2 in our example here. The value for `accuracy` key is a float. On the other hand, the values for the other label keys is another dictionary that has `sensitivity` and `precision` as the keys."
   ]
  },
  {
   "cell_type": "code",
   "execution_count": 27,
   "metadata": {},
   "outputs": [],
   "source": [
    "def calc_accuracy(cm, labels):\n",
    "    output = { 'accuracy': sum(cm[(l, l)] / sum(cm.values()) for l in labels) }\n",
    "    for i in labels:\n",
    "        output[i] = {\n",
    "            'precision': cm[(i, i)] / sum(cm[(j, i)] for j in labels),\n",
    "            'sensitivity': cm[(i, i)] / sum(cm[(i, j)] for j in labels)\n",
    "        }\n",
    "    ###\n",
    "    ### YOUR CODE HERE\n",
    "    ###\n",
    "    return output"
   ]
  },
  {
   "cell_type": "code",
   "execution_count": 28,
   "metadata": {
    "deletable": false,
    "editable": false,
    "nbgrader": {
     "grade": true,
     "grade_id": "hw61",
     "locked": true,
     "points": "1",
     "solution": false
    }
   },
   "outputs": [
    {
     "name": "stdout",
     "output_type": "stream",
     "text": [
      "{'accuracy': 0.8888888888888888, 0: {'precision': 1.0, 'sensitivity': 1.0}, 1: {'precision': 0.75, 'sensitivity': 0.8181818181818182}, 2: {'precision': 0.8823529411764706, 'sensitivity': 0.8333333333333334}}\n"
     ]
    }
   ],
   "source": [
    "metrics = calc_accuracy(cm, [0,1,2])\n",
    "print(metrics)\n",
    "assert np.isclose(metrics['accuracy'], 0.8666667) or np.isclose(metrics['accuracy'], 0.8888888)\n",
    "assert metrics[0] == {'sensitivity': 1.0, 'precision': 1.0} \n",
    "assert np.isclose(metrics[0]['sensitivity'], 1.0)\n",
    "assert np.isclose(metrics[0]['precision'], 1.0)\n",
    "assert np.isclose(metrics[1]['sensitivity'], 0.72727272) or np.isclose(metrics[1]['sensitivity'], 0.818181818)\n",
    "assert np.isclose(metrics[1]['precision'], 0.72727272) or np.isclose(metrics[1]['precision'], 0.75)\n",
    "assert np.isclose(metrics[2]['sensitivity'], 0.833333)\n",
    "assert np.isclose(metrics[2]['precision'], 0.833333) or np.isclose(metrics[2]['precision'], 0.88235294)\n"
   ]
  },
  {
   "cell_type": "code",
   "execution_count": 29,
   "metadata": {
    "deletable": false,
    "editable": false,
    "nbgrader": {
     "grade": true,
     "grade_id": "hw62",
     "locked": true,
     "points": "1",
     "solution": false
    }
   },
   "outputs": [],
   "source": [
    "###\n",
    "### AUTOGRADER TEST - DO NOT REMOVE\n",
    "###\n"
   ]
  },
  {
   "cell_type": "markdown",
   "metadata": {
    "deletable": false,
    "editable": false,
    "nbgrader": {
     "grade": false,
     "locked": true,
     "solution": false
    }
   },
   "source": [
    "**HW7.** *Optional:* Redo the above tasks using Scikit Learn libraries. You will need to use the following:\n",
    "- [LogisticRegression](https://scikit-learn.org/stable/modules/generated/sklearn.linear_model.LogisticRegression.html)\n",
    "- [train_test_split](https://scikit-learn.org/stable/modules/generated/sklearn.model_selection.train_test_split.html)\n",
    "- [confusion_matrix](https://scikit-learn.org/stable/modules/generated/sklearn.metrics.confusion_matrix.html)\n",
    "\n",
    "You can refer to the followign discussion on the different minimization solver for `LogisticRegression()` class.\n",
    "- [Stack overflow - logistic regression python solvers' defintions](https://stackoverflow.com/questions/38640109/logistic-regression-python-solvers-defintions)"
   ]
  },
  {
   "cell_type": "code",
   "execution_count": 30,
   "metadata": {
    "deletable": false,
    "editable": false,
    "nbgrader": {
     "grade": false,
     "locked": true,
     "solution": false
    }
   },
   "outputs": [
    {
     "ename": "ModuleNotFoundError",
     "evalue": "No module named 'sklearn'",
     "output_type": "error",
     "traceback": [
      "\u001b[1;31m---------------------------------------------------------------------------\u001b[0m",
      "\u001b[1;31mModuleNotFoundError\u001b[0m                       Traceback (most recent call last)",
      "\u001b[1;32mc:\\Users\\Kai\\Desktop\\10.020_DDW\\Week10\\Week10_Homework.ipynb Cell 41\u001b[0m line \u001b[0;36m1\n\u001b[1;32m----> <a href='vscode-notebook-cell:/c%3A/Users/Kai/Desktop/10.020_DDW/Week10/Week10_Homework.ipynb#X55sZmlsZQ%3D%3D?line=0'>1</a>\u001b[0m \u001b[39mfrom\u001b[39;00m \u001b[39msklearn\u001b[39;00m\u001b[39m.\u001b[39;00m\u001b[39mlinear_model\u001b[39;00m \u001b[39mimport\u001b[39;00m LogisticRegression\n\u001b[0;32m      <a href='vscode-notebook-cell:/c%3A/Users/Kai/Desktop/10.020_DDW/Week10/Week10_Homework.ipynb#X55sZmlsZQ%3D%3D?line=1'>2</a>\u001b[0m \u001b[39mfrom\u001b[39;00m \u001b[39msklearn\u001b[39;00m\u001b[39m.\u001b[39;00m\u001b[39mmodel_selection\u001b[39;00m \u001b[39mimport\u001b[39;00m train_test_split\n\u001b[0;32m      <a href='vscode-notebook-cell:/c%3A/Users/Kai/Desktop/10.020_DDW/Week10/Week10_Homework.ipynb#X55sZmlsZQ%3D%3D?line=2'>3</a>\u001b[0m \u001b[39mfrom\u001b[39;00m \u001b[39msklearn\u001b[39;00m\u001b[39m.\u001b[39;00m\u001b[39mmetrics\u001b[39;00m \u001b[39mimport\u001b[39;00m confusion_matrix\n",
      "\u001b[1;31mModuleNotFoundError\u001b[0m: No module named 'sklearn'"
     ]
    }
   ],
   "source": [
    "from sklearn.linear_model import LogisticRegression\n",
    "from sklearn.model_selection import train_test_split\n",
    "from sklearn.metrics import confusion_matrix"
   ]
  },
  {
   "cell_type": "code",
   "execution_count": null,
   "metadata": {},
   "outputs": [],
   "source": [
    "columns = ['sepal_length', 'sepal_width', 'petal_length', 'petal_width']\n",
    "mapping = {'Iris-setosa': 0, 'Iris-versicolor': 1, 'Iris-virginica':2}\n",
    "\n",
    "# get the features and the columns\n",
    "df_features = None\n",
    "\n",
    "# replace target values with integers using the mapping\n",
    "df_target = None\n",
    "\n",
    "\n",
    "###\n",
    "### YOUR CODE HERE\n",
    "###\n"
   ]
  },
  {
   "cell_type": "code",
   "execution_count": null,
   "metadata": {},
   "outputs": [],
   "source": [
    "# split data set using random_state = 100 and 30% test size\n",
    "df_features_train, df_features_test, df_target_train, df_target_test = None, None, None, None\n",
    "\n",
    "# change feature to numpy array and append column of 1s\n",
    "feature = None\n",
    "\n",
    "# change target to numpy array\n",
    "target = None\n",
    "\n",
    "###\n",
    "### YOUR CODE HERE\n",
    "###\n"
   ]
  },
  {
   "cell_type": "code",
   "execution_count": null,
   "metadata": {},
   "outputs": [],
   "source": [
    "# create LogisticRegression object instance\n",
    "# set solver to 'newton-cg' and multi_class to 'auto'\n",
    "model = None\n",
    "\n",
    "# build model\n",
    "pass\n",
    "\n",
    "# get predicted value\n",
    "pred = None\n",
    "\n",
    "###\n",
    "### YOUR CODE HERE\n",
    "###\n"
   ]
  },
  {
   "cell_type": "code",
   "execution_count": null,
   "metadata": {},
   "outputs": [],
   "source": [
    "# calculate confusion matrix\n",
    "cm = None\n",
    "\n",
    "###\n",
    "### YOUR CODE HERE\n",
    "###\n",
    "print(cm)\n"
   ]
  },
  {
   "cell_type": "code",
   "execution_count": null,
   "metadata": {
    "deletable": false,
    "editable": false,
    "nbgrader": {
     "grade": false,
     "locked": true,
     "solution": false
    }
   },
   "outputs": [],
   "source": [
    "expected = np.array([[16,  0,  0], [ 0, 11,  0], [ 0,  1, 17]])\n",
    "assert (cm == expected).all()"
   ]
  },
  {
   "cell_type": "code",
   "execution_count": null,
   "metadata": {
    "deletable": false,
    "editable": false,
    "nbgrader": {
     "grade": false,
     "locked": true,
     "solution": false
    }
   },
   "outputs": [],
   "source": [
    "plt.scatter(df_features_test[\"sepal_width\"], df_target_test)\n",
    "plt.scatter(df_features_test[\"sepal_width\"], pred)"
   ]
  },
  {
   "cell_type": "code",
   "execution_count": null,
   "metadata": {
    "deletable": false,
    "editable": false,
    "nbgrader": {
     "grade": false,
     "locked": true,
     "solution": false
    }
   },
   "outputs": [],
   "source": [
    "plt.scatter(df_features_test[\"sepal_length\"], df_target_test)\n",
    "plt.scatter(df_features_test[\"sepal_length\"], pred)"
   ]
  },
  {
   "cell_type": "code",
   "execution_count": null,
   "metadata": {
    "deletable": false,
    "editable": false,
    "nbgrader": {
     "grade": false,
     "locked": true,
     "solution": false
    }
   },
   "outputs": [],
   "source": [
    "plt.scatter(df_features_test[\"petal_width\"], df_target_test)\n",
    "plt.scatter(df_features_test[\"petal_width\"], pred)"
   ]
  },
  {
   "cell_type": "code",
   "execution_count": null,
   "metadata": {
    "deletable": false,
    "editable": false,
    "nbgrader": {
     "grade": false,
     "locked": true,
     "solution": false
    }
   },
   "outputs": [],
   "source": [
    "plt.scatter(df_features_test[\"petal_length\"], df_target_test)\n",
    "plt.scatter(df_features_test[\"petal_length\"], pred)"
   ]
  }
 ],
 "metadata": {
  "kernelspec": {
   "display_name": "Python 3 [3.10]",
   "language": "python",
   "name": "python3"
  },
  "language_info": {
   "codemirror_mode": {
    "name": "ipython",
    "version": 3
   },
   "file_extension": ".py",
   "mimetype": "text/x-python",
   "name": "python",
   "nbconvert_exporter": "python",
   "pygments_lexer": "ipython3",
   "version": "3.10.2"
  },
  "vscode": {
   "interpreter": {
    "hash": "ac37b77c3c0f43e60bec193f0626743b91dd65d8d4aeca5713e457ab7e777e4c"
   }
  }
 },
 "nbformat": 4,
 "nbformat_minor": 4
}
