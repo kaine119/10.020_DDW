{
    "cells": [
        {
            "cell_type": "code",
            "execution_count": 24,
            "metadata": {
                "collapsed": true,
                "deletable": false,
                "editable": false,
                "nbgrader": {
                    "grade": false,
                    "locked": true,
                    "solution": false
                }
            },
            "outputs": [],
            "source": [
                "### Grading script code \n",
                "### You don't need to read this, proceed to the next cell\n",
                "import sys\n",
                "import functools\n",
                "ipython = get_ipython()\n",
                "\n",
                "def set_traceback(val):\n",
                "    method_name = \"showtraceback\"\n",
                "    setattr(\n",
                "        ipython,\n",
                "        method_name,\n",
                "        functools.partial(\n",
                "            getattr(ipython, method_name),\n",
                "            exception_only=(not val)\n",
                "        )\n",
                "    )\n",
                "\n",
                "class AnswerError(Exception):\n",
                "  def __init__(self, message):\n",
                "    pass\n",
                "\n",
                "def exec_test(f, question):\n",
                "    try:\n",
                "        f()\n",
                "        print(question + \" Pass\")\n",
                "    except:\n",
                "        set_traceback(False) # do not remove\n",
                "        raise AnswerError(question + \" Fail\")"
            ]
        },
        {
            "attachments": {},
            "cell_type": "markdown",
            "metadata": {
                "colab_type": "text",
                "deletable": false,
                "editable": false,
                "id": "Y66rHK3-FB9T",
                "nbgrader": {
                    "grade": false,
                    "locked": true,
                    "solution": false
                }
            },
            "source": [
                "# Week 1 Problem Set\n",
                "\n",
                "## Cohort Problems\n",
                "\n",
                "**CS0.** Implement factorial problem using iteration. The function should takes in an Integer input and returns and Integer output which is the factorial of the input. Recall that:\n",
                "\n",
                "$n! = n \\times (n-1) \\times (n-2) \\times \\ldots \\times 2 \\times 1$\n",
                "\n",
                "You should consider the case when $n$ is zero and one as well. "
            ]
        },
        {
            "cell_type": "code",
            "execution_count": 25,
            "metadata": {
                "collapsed": true
            },
            "outputs": [],
            "source": [
                "# iteration\n",
                "def factorial_iteration(n):\n",
                "    result = 1\n",
                "    for i in range(n, 1, -1):\n",
                "        result *= i\n",
                "    return result"
            ]
        },
        {
            "cell_type": "code",
            "execution_count": 26,
            "metadata": {
                "collapsed": true,
                "deletable": false,
                "editable": false,
                "nbgrader": {
                    "grade": true,
                    "grade_id": "cs01",
                    "locked": true,
                    "points": "1",
                    "solution": false
                }
            },
            "outputs": [],
            "source": [
                "assert factorial_iteration(0) == 1\n",
                "assert factorial_iteration(1) == 1\n",
                "assert factorial_iteration(5) == 120\n",
                "assert factorial_iteration(7) == 5040\n",
                "assert factorial_iteration(11) == 39916800"
            ]
        },
        {
            "cell_type": "code",
            "execution_count": 27,
            "metadata": {
                "deletable": false,
                "editable": false,
                "nbgrader": {
                    "grade": true,
                    "grade_id": "cs02",
                    "locked": true,
                    "points": "1",
                    "solution": false
                }
            },
            "outputs": [],
            "source": [
                "###\n",
                "### AUTOGRADER TEST - DO NOT REMOVE\n",
                "###\n"
            ]
        },
        {
            "attachments": {},
            "cell_type": "markdown",
            "metadata": {
                "deletable": false,
                "editable": false,
                "nbgrader": {
                    "grade": false,
                    "locked": true,
                    "solution": false
                }
            },
            "source": [
                "**CS1-a.** Enter the steps of the following pseudocode as a list to implement Bubble Sort version 1. Enter your answer by creating a list with the right sequence. Add \"sub\" if the subsequent steps are steps \"under\" (sub) the previous step. Use \"exit sub\" before steps that is not under the overarching steps. See example below for the first few steps of Bubble Sort pseudocode and enter the remaining steps. \n",
                "\n",
                "```\n",
                "1. n = length of array\n",
                "2. For outer_index from 1 to n-1, do:\n",
                "    2.1 For inner_index from 1 to n-1, do:\n",
                "        2.1.1 first_number = array[inner_index - 1]\n",
                "        2.1.2 second_number = array[inner_index]\n",
                "        2.1.3 if first_number > second_number, do:\n",
                "            2.1.3.1 swap(first_number, second_number)\n",
                "```\n",
                "\n",
                "Reference: [Bubble Sort and Insertion Sort](https://data-driven-world.github.io/notes/bubble_insertion_sort)  \n",
                "\n"
            ]
        },
        {
            "cell_type": "code",
            "execution_count": 28,
            "metadata": {
                "collapsed": true
            },
            "outputs": [],
            "source": [
                "steps = {'1': 'n = length of array',\n",
                "         '2': 'For outer_index from 1 to n-1, do:',\n",
                "         '2.1': 'For inner_index from 1 to n-1, do:',\n",
                "         '2.1.1': 'first_number = array[inner_index - 1]',\n",
                "         '2.1.2': 'second_number = array[inner_index]',\n",
                "         '2.1.3': 'if first_number > second_number, do:',\n",
                "         '2.1.3.1': 'swap(first_number, second_number)}'}\n",
                "\n",
                "# replace the None with the right key from the steps variable above or \"sub\"/\"exit sub\"\n",
                "answer = ['1', '2', 'sub', '2.1', 'sub', '2.1.1', '2.1.2', '2.1.3', 'sub', '2.1.3.1']\n",
                "###\n",
                "### YOUR CODE HERE\n",
                "###\n"
            ]
        },
        {
            "cell_type": "code",
            "execution_count": 29,
            "metadata": {
                "deletable": false,
                "editable": false,
                "nbgrader": {
                    "grade": true,
                    "grade_id": "cs1a1",
                    "locked": true,
                    "points": "1",
                    "solution": false
                }
            },
            "outputs": [],
            "source": [
                "###\n",
                "### AUTOGRADER TEST - DO NOT REMOVE\n",
                "###\n"
            ]
        },
        {
            "attachments": {},
            "cell_type": "markdown",
            "metadata": {
                "deletable": false,
                "editable": false,
                "nbgrader": {
                    "grade": false,
                    "locked": true,
                    "solution": false
                }
            },
            "source": [
                "\n",
                "**CS1-b.** Create a function that implements **Bubble Sort version 1** (from your Notes) to sort an array of integers. The function should sort the input array in place. Refer to the above pseudocode."
            ]
        },
        {
            "cell_type": "code",
            "execution_count": 30,
            "metadata": {
                "colab": {
                    "base_uri": "https://localhost:8080/",
                    "height": 34
                },
                "colab_type": "code",
                "collapsed": true,
                "executionInfo": {
                    "elapsed": 794,
                    "status": "ok",
                    "timestamp": 1572597283734,
                    "user": {
                        "displayName": "Oka Kurniawan",
                        "photoUrl": "https://lh3.googleusercontent.com/a-/AAuE7mAnRP7A15yGfrraUO-0BiNVbNmYjI2f9jaZikjr=s64",
                        "userId": "05233922875329103764"
                    },
                    "user_tz": -480
                },
                "id": "wopWPARtFA_Y",
                "outputId": "b3361c5f-3047-48f5-8c24-2f15e39c0f8b"
            },
            "outputs": [],
            "source": [
                "def bubble_sort(array):\n",
                "    n = len(array)\n",
                "    for outer_index in range(1, n):\n",
                "        for inner_index in range(1, n):\n",
                "            first_number = array[inner_index - 1]\n",
                "            second_number = array[inner_index]\n",
                "            if first_number > second_number:\n",
                "                array[inner_index - 1], array[inner_index] = array[inner_index], array[inner_index - 1]"
            ]
        },
        {
            "cell_type": "code",
            "execution_count": 31,
            "metadata": {
                "deletable": false,
                "editable": false,
                "nbgrader": {
                    "grade": true,
                    "grade_id": "cs1b1",
                    "locked": true,
                    "points": "1",
                    "solution": false
                }
            },
            "outputs": [
                {
                    "name": "stdout",
                    "output_type": "stream",
                    "text": [
                        "[-39, -5, 0, 1, 3, 4, 6, 7, 8, 8, 10, 47]\n"
                    ]
                }
            ],
            "source": [
                "array = [10,3,8,47,1,0,-39,8,4,7,6,-5]\n",
                "bubble_sort(array)\n",
                "print(array)\n",
                "assert array == [-39, -5, 0, 1, 3, 4, 6, 7, 8, 8, 10, 47]"
            ]
        },
        {
            "cell_type": "code",
            "execution_count": 32,
            "metadata": {
                "deletable": false,
                "editable": false,
                "nbgrader": {
                    "grade": true,
                    "grade_id": "cs1b2",
                    "locked": true,
                    "points": "1",
                    "solution": false
                }
            },
            "outputs": [],
            "source": [
                "###\n",
                "### AUTOGRADER TEST - DO NOT REMOVE\n",
                "###\n"
            ]
        },
        {
            "attachments": {},
            "cell_type": "markdown",
            "metadata": {
                "colab_type": "text",
                "deletable": false,
                "editable": false,
                "id": "5vP5FMfnGmmZ",
                "nbgrader": {
                    "grade": false,
                    "locked": true,
                    "solution": false
                }
            },
            "source": [
                "**CS2.** Modify CS1, so that it returns  the number of comparisons that are performed.\n",
                "\n",
                "Hint: To count the number of comparisons, you can create an integer variable which you *increment* just before the `if` statement. "
            ]
        },
        {
            "cell_type": "code",
            "execution_count": 33,
            "metadata": {
                "colab": {
                    "base_uri": "https://localhost:8080/",
                    "height": 34
                },
                "colab_type": "code",
                "collapsed": true,
                "executionInfo": {
                    "elapsed": 987,
                    "status": "ok",
                    "timestamp": 1572597371276,
                    "user": {
                        "displayName": "Oka Kurniawan",
                        "photoUrl": "https://lh3.googleusercontent.com/a-/AAuE7mAnRP7A15yGfrraUO-0BiNVbNmYjI2f9jaZikjr=s64",
                        "userId": "05233922875329103764"
                    },
                    "user_tz": -480
                },
                "id": "C9BbxXOwGklR",
                "outputId": "02d348df-d119-4684-dab1-ed80a4116b14"
            },
            "outputs": [],
            "source": [
                "def bubble_sort(array):\n",
                "    count = 0\n",
                "    n = len(array)\n",
                "    for outer_index in range(1, n):\n",
                "        for inner_index in range(1, n):\n",
                "            first_number = array[inner_index - 1]\n",
                "            second_number = array[inner_index]\n",
                "            count += 1\n",
                "            if first_number > second_number:\n",
                "                array[inner_index - 1], array[inner_index] = array[inner_index], array[inner_index - 1]\n",
                "    return count"
            ]
        },
        {
            "cell_type": "code",
            "execution_count": 34,
            "metadata": {
                "deletable": false,
                "editable": false,
                "nbgrader": {
                    "grade": true,
                    "grade_id": "cs21",
                    "locked": true,
                    "points": "1",
                    "solution": false
                }
            },
            "outputs": [
                {
                    "name": "stdout",
                    "output_type": "stream",
                    "text": [
                        "[-39, -5, 0, 1, 3, 4, 6, 7, 8, 8, 10, 47] 121\n"
                    ]
                }
            ],
            "source": [
                "array = [10,3,8,47,1,0,-39,8,4,7,6,-5]\n",
                "count = bubble_sort(array)\n",
                "print(array, count)\n",
                "assert array == [-39, -5, 0, 1, 3, 4, 6, 7, 8, 8, 10, 47]\n",
                "assert count == 121"
            ]
        },
        {
            "cell_type": "code",
            "execution_count": 35,
            "metadata": {
                "deletable": false,
                "editable": false,
                "nbgrader": {
                    "grade": true,
                    "grade_id": "cs22",
                    "locked": true,
                    "points": "1",
                    "solution": false
                }
            },
            "outputs": [],
            "source": [
                "###\n",
                "### AUTOGRADER TEST - DO NOT REMOVE\n",
                "###\n"
            ]
        },
        {
            "attachments": {},
            "cell_type": "markdown",
            "metadata": {
                "deletable": false,
                "editable": false,
                "nbgrader": {
                    "grade": false,
                    "locked": true,
                    "solution": false
                }
            },
            "source": [
                "**CS3-a.** Sequence the steps below to have a correct pseudocode for Insertion sort. "
            ]
        },
        {
            "cell_type": "code",
            "execution_count": 36,
            "metadata": {
                "collapsed": true
            },
            "outputs": [],
            "source": [
                "steps = {'a': 'For outer_index in Range(from 1 to n-1), do:',\n",
                "         'b': 'As long as (inner_index > 0) AND (array[inner_index] < array[inner_index - 1]), do:',\n",
                "         'c': 'inner_index = inner_index - 1',\n",
                "         'd': 'n = length of array',\n",
                "         'e': 'inner_index = outer_index',\n",
                "         'f': 'swap(array[inner_index - 1], array[inner_index])'}\n",
                "\n",
                "# add \"sub\" or \"exit sub\" as necessary\n",
                "answer = ['d', 'a', 'sub', 'e', 'b', 'sub', 'f', 'c']\n",
                "\n",
                "###\n",
                "### YOUR CODE HERE\n",
                "###\n"
            ]
        },
        {
            "cell_type": "code",
            "execution_count": 37,
            "metadata": {
                "deletable": false,
                "editable": false,
                "nbgrader": {
                    "grade": true,
                    "grade_id": "cs3a1",
                    "locked": true,
                    "points": "1",
                    "solution": false
                }
            },
            "outputs": [],
            "source": [
                "###\n",
                "### AUTOGRADER TEST - DO NOT REMOVE\n",
                "###\n"
            ]
        },
        {
            "attachments": {},
            "cell_type": "markdown",
            "metadata": {
                "colab_type": "text",
                "deletable": false,
                "editable": false,
                "id": "HeIsZoTTG52T",
                "nbgrader": {
                    "grade": false,
                    "locked": true,
                    "solution": false
                }
            },
            "source": [
                "**CS3-b.** Create a function that implements **Insertion Sort** to sort an array of floats. The function should sort the input array in place. "
            ]
        },
        {
            "cell_type": "code",
            "execution_count": 38,
            "metadata": {
                "colab": {
                    "base_uri": "https://localhost:8080/",
                    "height": 34
                },
                "colab_type": "code",
                "collapsed": true,
                "executionInfo": {
                    "elapsed": 1003,
                    "status": "ok",
                    "timestamp": 1572597569741,
                    "user": {
                        "displayName": "Oka Kurniawan",
                        "photoUrl": "https://lh3.googleusercontent.com/a-/AAuE7mAnRP7A15yGfrraUO-0BiNVbNmYjI2f9jaZikjr=s64",
                        "userId": "05233922875329103764"
                    },
                    "user_tz": -480
                },
                "id": "cj8Uq4WZHHCB",
                "outputId": "4c2de48b-eae8-4244-f950-f62c3ed50268"
            },
            "outputs": [],
            "source": [
                "def insertion_sort(array):\n",
                "    n = len(array)\n",
                "    for i in range(1, n):\n",
                "        # while array[i - 1] > array[i] and i >= 1:\n",
                "        #     array[i - 1], array[i] = array[i], array[i - 1]\n",
                "        #     i -= 1\n",
                "        current_val = array[i]\n",
                "        while array[i - 1] > current_val and i >= 1:\n",
                "            array[i] = array[i - 1]\n",
                "            i -= 1\n",
                "        array[i] = current_val\n",
                "\n",
                "# insertion_sort = list.sort"
            ]
        },
        {
            "cell_type": "code",
            "execution_count": 44,
            "metadata": {
                "deletable": false,
                "editable": false,
                "nbgrader": {
                    "grade": true,
                    "grade_id": "cs3b1",
                    "locked": true,
                    "points": "1",
                    "solution": false
                }
            },
            "outputs": [
                {
                    "name": "stdout",
                    "output_type": "stream",
                    "text": [
                        "[-39.8, -6.5, -5.0, 0, 1.0, 3.8, 4.7, 7.6, 8.4, 8.4, 10.3, 47.1]\n"
                    ]
                }
            ],
            "source": [
                "array = [10.3,3.8,8.4,47.1,1.0,0,-39.8,8.4,4.7,7.6,-6.5,-5.0]\n",
                "insertion_sort(array)\n",
                "print(array)\n",
                "assert array == [-39.8, -6.5, -5.0, 0.0, 1.0, 3.8, 4.7, 7.6, 8.4, 8.4, 10.3, 47.1]"
            ]
        },
        {
            "cell_type": "code",
            "execution_count": 40,
            "metadata": {
                "deletable": false,
                "editable": false,
                "nbgrader": {
                    "grade": true,
                    "grade_id": "cs3b2",
                    "locked": true,
                    "points": "1",
                    "solution": false
                }
            },
            "outputs": [],
            "source": [
                "###\n",
                "### AUTOGRADER TEST - DO NOT REMOVE\n",
                "###\n"
            ]
        },
        {
            "attachments": {},
            "cell_type": "markdown",
            "metadata": {
                "colab_type": "text",
                "deletable": false,
                "editable": false,
                "id": "1j3sevN3LJap",
                "nbgrader": {
                    "grade": false,
                    "locked": true,
                    "solution": false
                }
            },
            "source": [
                "**CS4.** Write a function `gen_random_int` that generates a list of integers from `0` to `n - 1` with its sequence randomly shuffled. The function should take in an integer `n`, denoting the number of integers to be generated. \n",
                "\n",
                "Hint: \n",
                "- You can use `random.shuffle(mylist)`  to shuffle the elements of a list called `mylist`.\n",
                "- Refer to [Python's Random module](https://docs.python.org/3.7/library/random.html) for more details on how to use `shuffle()`."
            ]
        },
        {
            "cell_type": "code",
            "execution_count": 41,
            "metadata": {
                "colab": {
                    "base_uri": "https://localhost:8080/",
                    "height": 34
                },
                "colab_type": "code",
                "collapsed": true,
                "executionInfo": {
                    "elapsed": 1252,
                    "status": "ok",
                    "timestamp": 1573001164584,
                    "user": {
                        "displayName": "Oka Kurniawan",
                        "photoUrl": "https://lh3.googleusercontent.com/a-/AAuE7mAnRP7A15yGfrraUO-0BiNVbNmYjI2f9jaZikjr=s64",
                        "userId": "05233922875329103764"
                    },
                    "user_tz": -480
                },
                "id": "bIC71EosLKsB",
                "outputId": "1416fa24-8813-4ba2-8e9b-2814a701c1c1"
            },
            "outputs": [],
            "source": [
                "import random\n",
                "\n",
                "def gen_random_int(number, seed):\n",
                "    random.seed(seed)\n",
                "    res = list(range(number))\n",
                "    random.shuffle(res)\n",
                "    return res"
            ]
        },
        {
            "cell_type": "code",
            "execution_count": 42,
            "metadata": {
                "deletable": false,
                "editable": false,
                "nbgrader": {
                    "grade": true,
                    "grade_id": "cs41",
                    "locked": true,
                    "points": "1",
                    "solution": false
                }
            },
            "outputs": [
                {
                    "name": "stdout",
                    "output_type": "stream",
                    "text": [
                        "[4, 0, 5, 9, 3, 1, 6, 8, 7, 2]\n"
                    ]
                }
            ],
            "source": [
                "output = gen_random_int(10, 100)\n",
                "print(output)\n",
                "assert output == [4, 0, 5, 9, 3, 1, 6, 8, 7, 2]"
            ]
        },
        {
            "cell_type": "code",
            "execution_count": 43,
            "metadata": {
                "deletable": false,
                "editable": false,
                "nbgrader": {
                    "grade": true,
                    "grade_id": "cs42",
                    "locked": true,
                    "points": "1",
                    "solution": false
                }
            },
            "outputs": [],
            "source": [
                "###\n",
                "### AUTOGRADER TEST - DO NOT REMOVE\n",
                "###\n"
            ]
        }
    ],
    "metadata": {
        "colab": {
            "collapsed_sections": [],
            "name": "Week01_ProblemSet.ipynb",
            "provenance": []
        },
        "kernelspec": {
            "display_name": "Python 3 [3.10]",
            "language": "python",
            "name": "python3"
        },
        "language_info": {
            "codemirror_mode": {
                "name": "ipython",
                "version": 3
            },
            "file_extension": ".py",
            "mimetype": "text/x-python",
            "name": "python",
            "nbconvert_exporter": "python",
            "pygments_lexer": "ipython3",
            "version": "3.11.3"
        },
        "vscode": {
            "interpreter": {
                "hash": "ac37b77c3c0f43e60bec193f0626743b91dd65d8d4aeca5713e457ab7e777e4c"
            }
        }
    },
    "nbformat": 4,
    "nbformat_minor": 4
}
