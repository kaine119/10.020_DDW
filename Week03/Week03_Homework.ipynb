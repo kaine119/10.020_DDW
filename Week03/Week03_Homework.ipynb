{
    "cells": [
        {
            "cell_type": "markdown",
            "metadata": {
                "colab_type": "text",
                "deletable": false,
                "editable": false,
                "id": "acuSsZsDvgyx",
                "nbgrader": {
                    "grade": false,
                    "locked": true,
                    "solution": false
                }
            },
            "source": [
                "# Week 3 Problem Set\n",
                "\n",
                "## Homeworks\n",
                "\n",
                "**HW1.** *Fibonaci:* Write a function to find the Fibonacci number given an index. These are the example of a the first few numbers in Fibonacci series.\n",
                "\n",
                "| Indices    | 0 | 1 | 2 | 3 | 4 | 5 | 6 | 7  | 8  | 9  |\n",
                "|------------|---|---|---|---|---|---|---|----|----|----|\n",
                "| The series | 0 | 1 | 1 | 2 | 3 | 5 | 8 | 13 | 21 | 34 |\n",
                "\n",
                "We can write that the Fibonacci number at index *i* is given by:\n",
                "\n",
                "$fibo(i) = fibo(i-1) + fibo(i-2)$\n",
                "\n",
                "Use recursion for your implementation."
            ]
        },
        {
            "cell_type": "markdown",
            "metadata": {
                "deletable": false,
                "editable": false,
                "nbgrader": {
                    "grade": false,
                    "locked": true,
                    "solution": false
                }
            },
            "source": [
                "Reorder the sequence of the codes to implement the right solution. "
            ]
        },
        {
            "cell_type": "code",
            "execution_count": 19,
            "metadata": {
                "deletable": false,
                "editable": false,
                "nbgrader": {
                    "grade": false,
                    "locked": true,
                    "solution": false
                }
            },
            "outputs": [],
            "source": [
                "codes = {\n",
                "    'e': 'def fibonacci(index):',\n",
                "        'h': 'if index == 0:',\n",
                "            'a': 'return 0',\n",
                "        'g': 'elif index == 1:',\n",
                "            'b': 'return 1',\n",
                "        'c': 'return fibonacci(index - 1) + fibonacci(index - 2)',\n",
                "    # 'd': 'return fibonacci(index) + fibonacci(index - 1)',\n",
                "    # 'f': 'else',\n",
                "}"
            ]
        },
        {
            "cell_type": "code",
            "execution_count": 20,
            "metadata": {},
            "outputs": [],
            "source": [
                "# Enter your sequence of code and use \"sub\" or \"exit sub\" as necessary\n",
                "answer = ['e', 'sub', 'h', 'sub', 'a', 'exit sub', 'g', 'sub', 'b', 'exit sub', 'c']\n",
                "###\n",
                "### YOUR CODE HERE\n",
                "###\n"
            ]
        },
        {
            "cell_type": "code",
            "execution_count": 21,
            "metadata": {
                "deletable": false,
                "editable": false,
                "nbgrader": {
                    "grade": true,
                    "grade_id": "hw11",
                    "locked": true,
                    "points": "1",
                    "solution": false
                }
            },
            "outputs": [],
            "source": [
                "###\n",
                "### AUTOGRADER TEST - DO NOT REMOVE\n",
                "###\n"
            ]
        },
        {
            "cell_type": "markdown",
            "metadata": {
                "deletable": false,
                "editable": false,
                "nbgrader": {
                    "grade": false,
                    "locked": true,
                    "solution": false
                }
            },
            "source": [
                "Write and test the code below."
            ]
        },
        {
            "cell_type": "code",
            "execution_count": 1,
            "metadata": {
                "colab": [],
                "colab_type": "code",
                "id": "jxIGTY0evkDL"
            },
            "outputs": [],
            "source": [
                "def fibonacci(index):\n",
                "    if index == 0:\n",
                "        return 0\n",
                "    elif index == 1:\n",
                "        return 1\n",
                "    return fibonacci(index - 1) + fibonacci(index - 2)"
            ]
        },
        {
            "cell_type": "code",
            "execution_count": 2,
            "metadata": {
                "deletable": false,
                "editable": false,
                "nbgrader": {
                    "grade": true,
                    "grade_id": "hw12",
                    "locked": true,
                    "points": "1",
                    "solution": false
                }
            },
            "outputs": [],
            "source": [
                "assert fibonacci(0) == 0\n",
                "assert fibonacci(1) == 1\n",
                "assert fibonacci(3) == 2\n",
                "assert fibonacci(7) == 13\n",
                "assert fibonacci(9) == 34"
            ]
        },
        {
            "cell_type": "code",
            "execution_count": 24,
            "metadata": {
                "deletable": false,
                "editable": false,
                "nbgrader": {
                    "grade": true,
                    "grade_id": "hw13",
                    "locked": true,
                    "points": "1",
                    "solution": false
                }
            },
            "outputs": [],
            "source": [
                "###\n",
                "### AUTOGRADER TEST - DO NOT REMOVE\n",
                "###\n"
            ]
        },
        {
            "cell_type": "markdown",
            "metadata": {
                "colab_type": "text",
                "deletable": false,
                "editable": false,
                "id": "20H_lJq1v52I",
                "nbgrader": {
                    "grade": false,
                    "locked": true,
                    "solution": false
                }
            },
            "source": [
                "**HW2.** *Max-Heapify:* Recall the algorithm for max-heapify in restoring the *max-heap property* of a binary heap tree. In the previous implementation, we used iteration. Implement the same algorithm using recursion. "
            ]
        },
        {
            "cell_type": "markdown",
            "metadata": {
                "deletable": false,
                "editable": false,
                "nbgrader": {
                    "grade": false,
                    "locked": true,
                    "solution": false
                }
            },
            "source": [
                "Reorder the sequence of the code to implement max heapify function."
            ]
        },
        {
            "cell_type": "code",
            "execution_count": 25,
            "metadata": {
                "deletable": false,
                "editable": false,
                "nbgrader": {
                    "grade": false,
                    "locked": true,
                    "solution": false
                }
            },
            "outputs": [],
            "source": [
                "codes = {\n",
                "\t'd': 'def max_heapify(array, index, heap_size):',\n",
                "\t\t'a': 'largest = index',\n",
                "\t\t'e': '''left_idx = left_of(index)\n",
                "\t\t\t\tright_idx = right_of(index)''',\n",
                "\t\t'i': 'if (left_idx < heap_size) and (array[left_idx] > array[index]):',\n",
                "\t\t\t'b': 'largest = left_idx',\n",
                "\t\t'j': 'if (right_idx < heap_size) and (array[right_idx] > array[largest]):',\n",
                "\t\t\t'c': 'largest = right_idx',\n",
                "\t\t'h': 'if largest != index:',\n",
                "\t\t\t'k': 'array[index], array[largest] = array[largest], array[index]',\n",
                "\t\t\t'g': 'max_heapify(array, largest, heap_size)',\n",
                "\t\t'f': 'else:',\n",
                "}"
            ]
        },
        {
            "cell_type": "code",
            "execution_count": 26,
            "metadata": {},
            "outputs": [],
            "source": [
                "# enter your code sequence below and use \"sub\" or \"exit sub\" as necessary.\n",
                "answer = ['d', 'sub', None, None, 'sub', 'b', 'exit sub', 'f', 'sub', None, 'exit sub', None, 'sub', None, 'exit sub', 'h', 'sub', 'k', None]\n",
                "###\n",
                "### YOUR CODE HERE\n",
                "###\n"
            ]
        },
        {
            "cell_type": "code",
            "execution_count": 27,
            "metadata": {
                "deletable": false,
                "editable": false,
                "nbgrader": {
                    "grade": true,
                    "grade_id": "hw21",
                    "locked": true,
                    "points": "1",
                    "solution": false
                }
            },
            "outputs": [],
            "source": [
                "###\n",
                "### AUTOGRADER TEST - DO NOT REMOVE\n",
                "###\n"
            ]
        },
        {
            "cell_type": "code",
            "execution_count": 3,
            "metadata": {
                "colab": {
                    "base_uri": "https://localhost:8080/",
                    "height": 51
                },
                "colab_type": "code",
                "executionInfo": {
                    "elapsed": 830,
                    "status": "ok",
                    "timestamp": 1573111720760,
                    "user": {
                        "displayName": "Oka Kurniawan",
                        "photoUrl": "https://lh3.googleusercontent.com/a-/AAuE7mAnRP7A15yGfrraUO-0BiNVbNmYjI2f9jaZikjr=s64",
                        "userId": "05233922875329103764"
                    },
                    "user_tz": -480
                },
                "id": "6z3KGhnjv7NY",
                "outputId": "66fcd4d5-777c-441e-9042-b3cc3f536d6e"
            },
            "outputs": [],
            "source": [
                "def left_of(index):\n",
                "    return (2 * index) + 1\n",
                "\n",
                "def right_of(index):\n",
                "    return left_of(index) + 1\n",
                "\n",
                "def max_heapify(array, index, size):\n",
                "    left, right = left_of(index), right_of(index)\n",
                "    is_leaf = left >= size\n",
                "    is_left_only = right >=  size\n",
                "    if is_leaf or (array[index] >= array[left] and (is_left_only or array[index] >= array[right])):\n",
                "        return\n",
                "    \n",
                "    if is_left_only or array[left] > array[right]:\n",
                "        array[left], array[index] = array[index], array[left]\n",
                "        max_heapify(array, left, size)\n",
                "    else:\n",
                "        array[right], array[index] = array[index], array[right]\n",
                "        max_heapify(array, right, size)"
            ]
        },
        {
            "cell_type": "code",
            "execution_count": 4,
            "metadata": {
                "deletable": false,
                "editable": false,
                "nbgrader": {
                    "grade": true,
                    "grade_id": "hw22",
                    "locked": true,
                    "points": "1",
                    "solution": false
                }
            },
            "outputs": [
                {
                    "name": "stdout",
                    "output_type": "stream",
                    "text": [
                        "[16, 14, 10, 8, 7, 9, 3, 2, 4, 1]\n",
                        "[4, 16, 10, 14, 7, 9, 3, 2, 8, 1]\n"
                    ]
                }
            ],
            "source": [
                "result = [16, 4, 10, 14, 7, 9, 3, 2, 8, 1]\n",
                "max_heapify(result, 1, len(result))\n",
                "print(result)\n",
                "assert result == [16, 14, 10, 8, 7, 9, 3, 2, 4, 1]\n",
                "result = [4, 1, 10, 14, 16, 9, 3, 2, 8, 7]\n",
                "max_heapify(result, 1, len(result))\n",
                "print(result)\n",
                "assert result == [4, 16, 10, 14, 7, 9, 3, 2, 8, 1]"
            ]
        },
        {
            "cell_type": "code",
            "execution_count": 30,
            "metadata": {
                "deletable": false,
                "editable": false,
                "nbgrader": {
                    "grade": true,
                    "grade_id": "hw23",
                    "locked": true,
                    "points": "1",
                    "solution": false
                }
            },
            "outputs": [],
            "source": [
                "###\n",
                "### AUTOGRADER TEST - DO NOT REMOVE\n",
                "###\n"
            ]
        },
        {
            "cell_type": "markdown",
            "metadata": {
                "colab_type": "text",
                "deletable": false,
                "editable": false,
                "id": "p40-50nDxLSv",
                "nbgrader": {
                    "grade": false,
                    "locked": true,
                    "solution": false
                }
            },
            "source": [
                "**HW3.** *String Permutation:* Write two functions to return an array of all the permutations of a string. For example, if the input is `abc`, the output should be\n",
                "\n",
                "```\n",
                "output = [\"abc\", \"acb\", \"bac\", \"bca\", \"cab\", \"cba\"]\n",
                "```\n",
                "\n",
                "The first function only has one argument which is the input string, i.e. `permutate(s)`. The second function is the recursive function with two arguments String 1 (`str1`) and and String 2 (`str2`). The first function calls the second method `permutate(\"\", s)` at the beginning. The second function should use a loop to move a character from `str2` to `str1` and recursively invokes it with a new `str1` and `str2`. "
            ]
        },
        {
            "cell_type": "code",
            "execution_count": 37,
            "metadata": {
                "colab": [],
                "colab_type": "code",
                "id": "xqgZRgR3xPrK"
            },
            "outputs": [],
            "source": [
                "def permutate(s):\n",
                "    if len(s) == 1:\n",
                "        return [s]\n",
                "    res = []\n",
                "    for i, char in enumerate(s):\n",
                "        remaining_string = \"\".join(x for remaining_i, x in enumerate(s) if remaining_i != i)\n",
                "        permutations = permutate(remaining_string)\n",
                "        res += [char + permutation for permutation in permutations]\n",
                "    # print(res)\n",
                "    return res"
            ]
        },
        {
            "cell_type": "code",
            "execution_count": 38,
            "metadata": {
                "deletable": false,
                "editable": false,
                "nbgrader": {
                    "grade": true,
                    "grade_id": "hw31",
                    "locked": true,
                    "points": "1",
                    "solution": false
                }
            },
            "outputs": [],
            "source": [
                "assert set(permutate(\"abc\"))==set([\"abc\", \"acb\", \"bac\", \"bca\", \"cab\", \"cba\"])\n",
                "assert set(permutate(\"abcd\"))==set([\"abcd\", \"abdc\", \"acbd\", \"acdb\", \"adbc\", \"adcb\", \"bacd\", \"badc\", \"bcad\", \"bcda\", \"bdac\", \"bdca\", \"cabd\", \"cadb\", \"cbad\", \"cbda\", \"cdab\", \"cdba\", \"dabc\", \"dacb\", \"dbac\", \"dbca\", \"dcab\", \"dcba\"])"
            ]
        },
        {
            "cell_type": "code",
            "execution_count": 33,
            "metadata": {
                "deletable": false,
                "editable": false,
                "nbgrader": {
                    "grade": true,
                    "grade_id": "hw32",
                    "locked": true,
                    "points": "1",
                    "solution": false
                }
            },
            "outputs": [],
            "source": [
                "###\n",
                "### AUTOGRADER TEST - DO NOT REMOVE\n",
                "###\n"
            ]
        },
        {
            "cell_type": "markdown",
            "metadata": {
                "colab_type": "text",
                "deletable": false,
                "editable": false,
                "id": "beTE9RrB0Zo4",
                "nbgrader": {
                    "grade": false,
                    "locked": true,
                    "solution": false
                }
            },
            "source": [
                "**HW4.** *GCD:* Implement the recursive implementation of Euclid's algorithm for Greatest Common Divisor (GCD).\n",
                "\n",
                "Hint: [Wikipedia: Greatest Common Divisor](https://en.wikipedia.org/wiki/Greatest_common_divisor#Euclid's_algorithm)"
            ]
        },
        {
            "cell_type": "code",
            "execution_count": 47,
            "metadata": {
                "colab": [],
                "colab_type": "code",
                "id": "rdcLfu6i0amV"
            },
            "outputs": [],
            "source": [
                "def gcd(a, b):\n",
                "    if b == 0:\n",
                "        return a\n",
                "    return gcd(b, a % b)"
            ]
        },
        {
            "cell_type": "code",
            "execution_count": 48,
            "metadata": {
                "deletable": false,
                "editable": false,
                "nbgrader": {
                    "grade": true,
                    "grade_id": "hw41",
                    "locked": true,
                    "points": "1",
                    "solution": false
                }
            },
            "outputs": [],
            "source": [
                "assert gcd(0,0) == 0\n",
                "assert gcd(2,0) == 2\n",
                "assert gcd(0,2) == 2\n",
                "assert gcd(2,3) == 1\n",
                "assert gcd(4, 28) == 4\n",
                "assert gcd(1024, 526) == 2"
            ]
        },
        {
            "cell_type": "code",
            "execution_count": 36,
            "metadata": {
                "deletable": false,
                "editable": false,
                "nbgrader": {
                    "grade": true,
                    "grade_id": "hw42",
                    "locked": true,
                    "points": "1",
                    "solution": false
                }
            },
            "outputs": [],
            "source": [
                "###\n",
                "### AUTOGRADER TEST - DO NOT REMOVE\n",
                "###\n"
            ]
        }
    ],
    "metadata": {
        "kernelspec": {
            "display_name": "Python 3 [3.10]",
            "language": "python",
            "name": "python3"
        },
        "language_info": {
            "codemirror_mode": {
                "name": "ipython",
                "version": 3
            },
            "file_extension": ".py",
            "mimetype": "text/x-python",
            "name": "python",
            "nbconvert_exporter": "python",
            "pygments_lexer": "ipython3",
            "version": "3.11.3"
        },
        "vscode": {
            "interpreter": {
                "hash": "ac37b77c3c0f43e60bec193f0626743b91dd65d8d4aeca5713e457ab7e777e4c"
            }
        }
    },
    "nbformat": 4,
    "nbformat_minor": 4
}
