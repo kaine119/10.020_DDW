{
 "cells": [
  {
   "cell_type": "markdown",
   "metadata": {
    "colab_type": "text",
    "deletable": false,
    "editable": false,
    "id": "oCdtJC3PKakd",
    "nbgrader": {
     "grade": false,
     "locked": true,
     "solution": false
    }
   },
   "source": [
    "# Week 2 Problem Set\n",
    "\n",
    "## Cohort Sessions\n",
    "\n",
    "**CS1.** *Binary Heap:* Write the following functions:\n",
    "\n",
    "\n",
    "\n",
    "- `parent_of(index)`: returns the index of node's parent\n",
    "- `left_of(index)`: returns the index of node's left child\n",
    "- `right_of(index)`: returns the index of node's right child\n",
    "- `max_child(array, index, heap_size)`: returns the index of node's largest child. You can assume that the node has at least one child.\n",
    "\n",
    "Hint: \n",
    "- `index` starts from 0. \n",
    "- You can refer to the pseudocode in [Binary Heap and Heapsort](https://data-driven-world.github.io/2023/notes/category/week-2-analysing-programs).\n",
    "- When finding the index of the largest child, consider the following cases:\n",
    "    1. when the node only has one child\n",
    "    2. when the node has two children\n"
   ]
  },
  {
   "cell_type": "code",
   "execution_count": 1,
   "metadata": {
    "colab": [],
    "colab_type": "code",
    "id": "45Oxk-5GKdT5"
   },
   "outputs": [],
   "source": [
    "def parent_of(index):\n",
    "    return (index + 1) / 2"
   ]
  },
  {
   "cell_type": "code",
   "execution_count": 2,
   "metadata": {
    "deletable": false,
    "editable": false,
    "nbgrader": {
     "grade": true,
     "grade_id": "cs11",
     "locked": true,
     "points": "1",
     "solution": false
    }
   },
   "outputs": [],
   "source": [
    "assert parent_of(1) == 0 \n",
    "assert parent_of(2) == 0\n",
    "assert parent_of(5) == 2\n",
    "assert parent_of(6) == 2"
   ]
  },
  {
   "cell_type": "code",
   "execution_count": 3,
   "metadata": {
    "deletable": false,
    "editable": false,
    "nbgrader": {
     "grade": true,
     "grade_id": "cs12",
     "locked": true,
     "points": "1",
     "solution": false
    }
   },
   "outputs": [],
   "source": [
    "###\n",
    "### AUTOGRADER TEST - DO NOT REMOVE\n",
    "###\n"
   ]
  },
  {
   "cell_type": "code",
   "execution_count": 3,
   "metadata": {
    "colab": [],
    "colab_type": "code",
    "id": "5n2IO8IiKZzk"
   },
   "outputs": [],
   "source": [
    "def left_of(index):\n",
    "    return (2 * index) + 1"
   ]
  },
  {
   "cell_type": "code",
   "execution_count": 4,
   "metadata": {
    "deletable": false,
    "editable": false,
    "nbgrader": {
     "grade": true,
     "grade_id": "cs13",
     "locked": true,
     "points": "1",
     "solution": false
    }
   },
   "outputs": [],
   "source": [
    "assert left_of(0) == 1\n",
    "assert left_of(1) == 3\n",
    "assert left_of(3) == 7\n",
    "assert left_of(6) == 13"
   ]
  },
  {
   "cell_type": "code",
   "execution_count": 6,
   "metadata": {
    "deletable": false,
    "editable": false,
    "nbgrader": {
     "grade": true,
     "grade_id": "cs14",
     "locked": true,
     "points": "1",
     "solution": false
    }
   },
   "outputs": [],
   "source": [
    "###\n",
    "### AUTOGRADER TEST - DO NOT REMOVE\n",
    "###\n"
   ]
  },
  {
   "cell_type": "code",
   "execution_count": 5,
   "metadata": {
    "colab": [],
    "colab_type": "code",
    "id": "_y6Batr7LEo-"
   },
   "outputs": [],
   "source": [
    "# technically correct!\n",
    "# in a complete tree, the index of the right child is *indeed* the index of the left child + 1\n",
    "def right_of(index):\n",
    "    return left_of(index) + 1"
   ]
  },
  {
   "cell_type": "code",
   "execution_count": 6,
   "metadata": {
    "deletable": false,
    "editable": false,
    "nbgrader": {
     "grade": true,
     "grade_id": "cs15",
     "locked": true,
     "points": "1",
     "solution": false
    }
   },
   "outputs": [],
   "source": [
    "assert right_of(0) == 2\n",
    "assert right_of(1) == 4\n",
    "assert right_of(3) == 8\n",
    "assert right_of(5) == 12"
   ]
  },
  {
   "cell_type": "code",
   "execution_count": 9,
   "metadata": {
    "deletable": false,
    "editable": false,
    "nbgrader": {
     "grade": true,
     "grade_id": "cs16",
     "locked": true,
     "points": "1",
     "solution": false
    }
   },
   "outputs": [],
   "source": [
    "###\n",
    "### AUTOGRADER TEST - DO NOT REMOVE\n",
    "###\n"
   ]
  },
  {
   "cell_type": "markdown",
   "metadata": {
    "deletable": false,
    "editable": false,
    "nbgrader": {
     "grade": false,
     "locked": true,
     "solution": false
    }
   },
   "source": [
    "Re-order the code for returning the index of the max child from a given node index and some particular heap size.\n",
    "\n",
    "Input:\n",
    "- array: containing the binary heap data\n",
    "- index: node index which we want to find the max child\n",
    "- heap_size: the number of elements in the heap\n",
    "\n",
    "Note that the array size can be bigger than the heap size. In this case, ignore the rest of the element as NOT part of the heap.\n",
    "\n",
    "Output:\n",
    "- index of the max child"
   ]
  },
  {
   "cell_type": "code",
   "execution_count": 10,
   "metadata": {
    "deletable": false,
    "editable": false,
    "nbgrader": {
     "grade": false,
     "locked": true,
     "solution": false
    }
   },
   "outputs": [],
   "source": [
    "codes = {\n",
    "    'e': 'def max_child(array, index, heap_size):',\n",
    "        'c': 'if right_of(index) >= heap_size:',\n",
    "            'b': 'return left_of(index)',\n",
    "        'd': 'else:',\n",
    "            'f': 'if array[left_of(index)] > array[right_of(index)]:',\n",
    "                'b': 'return left_of(index)',\n",
    "            'd': 'else:',\n",
    "                'a': 'return right_of(index)',\n",
    "}\n"
   ]
  },
  {
   "cell_type": "code",
   "execution_count": 11,
   "metadata": {},
   "outputs": [],
   "source": [
    "# Fill in the sequence and add \"sub\" or \"exit sub\" as needed.\n",
    "answers = ['e', 'sub', 'c', 'sub', 'b', 'exit sub', 'd', 'sub', 'f', 'sub', 'b', 'exit sub', 'd', 'sub', 'a']\n",
    "###\n",
    "### YOUR CODE HERE\n",
    "###\n"
   ]
  },
  {
   "cell_type": "code",
   "execution_count": 12,
   "metadata": {
    "deletable": false,
    "editable": false,
    "nbgrader": {
     "grade": true,
     "grade_id": "cs17",
     "locked": true,
     "points": "1",
     "solution": false
    }
   },
   "outputs": [],
   "source": [
    "###\n",
    "### AUTOGRADER TEST - DO NOT REMOVE\n",
    "###\n"
   ]
  },
  {
   "cell_type": "markdown",
   "metadata": {
    "deletable": false,
    "editable": false,
    "nbgrader": {
     "grade": false,
     "locked": true,
     "solution": false
    }
   },
   "source": [
    "Write the code below and test."
   ]
  },
  {
   "cell_type": "code",
   "execution_count": 9,
   "metadata": {
    "colab": [],
    "colab_type": "code",
    "id": "P4wWhKEwLriA"
   },
   "outputs": [],
   "source": [
    "def max_child(array, index, heap_size):\n",
    "    if right_of(index) >= heap_size:\n",
    "        return left_of(index)\n",
    "    else:\n",
    "        if array[left_of(index)] > array[right_of(index)]:\n",
    "            return left_of(index)\n",
    "        else:\n",
    "            return right_of(index)"
   ]
  },
  {
   "cell_type": "code",
   "execution_count": 10,
   "metadata": {
    "deletable": false,
    "editable": false,
    "nbgrader": {
     "grade": true,
     "grade_id": "cs18",
     "locked": true,
     "points": "1",
     "solution": false
    }
   },
   "outputs": [],
   "source": [
    "maxheap = [16, 14, 10, 8, 7, 9, 3, 2, 4, 1] \n",
    "assert max_child(maxheap, 0, len(maxheap)) == 1\n",
    "assert max_child(maxheap, 2, len(maxheap)) == 5\n",
    "assert max_child(maxheap, 3, len(maxheap)) == 8\n",
    "assert max_child(maxheap, 1, len(maxheap)) == 3\n",
    "assert max_child(maxheap, 4, len(maxheap)) == 9"
   ]
  },
  {
   "cell_type": "code",
   "execution_count": 15,
   "metadata": {
    "deletable": false,
    "editable": false,
    "nbgrader": {
     "grade": true,
     "grade_id": "cs19",
     "locked": true,
     "points": "1",
     "solution": false
    }
   },
   "outputs": [],
   "source": [
    "###\n",
    "### AUTOGRADER TEST - DO NOT REMOVE\n",
    "###\n"
   ]
  },
  {
   "cell_type": "markdown",
   "metadata": {
    "colab_type": "text",
    "deletable": false,
    "editable": false,
    "id": "eCUuXY7jMwgp",
    "nbgrader": {
     "grade": false,
     "locked": true,
     "solution": false
    }
   },
   "source": [
    "**CS2.** *Binary Heap:* Write two functions \n",
    "\n",
    "- `max_heapify(array, index, size)`: that moves the node down so as to satisfy the heap property.  The first argument is the array that contains the heap. The second argument is an integer index where to start the process of heapifying. The third argument is the size of the heap in the array. This argument will be useful in heapsort algorithm where we take out the elements in the array from the heap. \n",
    "\n",
    "Hint: You should make use of `size` argument to determine the last element of the heap in the array rather than `len(array)`.\n",
    "\n",
    "- `build_max_heap(heap)`: that builds the max heap from any array. This function should make use of `max_heapify()` in its definition.\n",
    "\n",
    "Hint: You can refer to the pseudocode in [Binary Heap and Heapsort](https://data-driven-world.github.io/2023/notes/category/week-2-analysing-programs) for the above functions."
   ]
  },
  {
   "cell_type": "code",
   "execution_count": 39,
   "metadata": {
    "colab": {
     "base_uri": "https://localhost:8080/",
     "height": 51
    },
    "colab_type": "code",
    "executionInfo": {
     "elapsed": 1663,
     "status": "ok",
     "timestamp": 1572852515240,
     "user": {
      "displayName": "Oka Kurniawan",
      "photoUrl": "https://lh3.googleusercontent.com/a-/AAuE7mAnRP7A15yGfrraUO-0BiNVbNmYjI2f9jaZikjr=s64",
      "userId": "05233922875329103764"
     },
     "user_tz": -480
    },
    "id": "pmDYFBKFNEk4",
    "outputId": "141d7f4e-316c-4e89-9829-44f92805ef00"
   },
   "outputs": [],
   "source": [
    "def max_heapify(array, index, size):\n",
    "    left, right = left_of(index), right_of(index)\n",
    "    is_leaf = left >= size\n",
    "    is_left_only = right >=  size\n",
    "    if is_leaf or (array[index] >= array[left] and (is_left_only or array[index] >= array[right])):\n",
    "        return\n",
    "    \n",
    "    if is_left_only or array[left] > array[right]:\n",
    "        array[left], array[index] = array[index], array[left]\n",
    "        max_heapify(array, left, size)\n",
    "    else:\n",
    "        array[right], array[index] = array[index], array[right]\n",
    "        max_heapify(array, right, size)"
   ]
  },
  {
   "cell_type": "code",
   "execution_count": 40,
   "metadata": {
    "deletable": false,
    "editable": false,
    "nbgrader": {
     "grade": true,
     "grade_id": "cs21",
     "locked": true,
     "points": "1",
     "solution": false
    }
   },
   "outputs": [
    {
     "name": "stdout",
     "output_type": "stream",
     "text": [
      "[16, 14, 10, 8, 7, 9, 3, 2, 4, 1]\n"
     ]
    }
   ],
   "source": [
    "result = [16, 4, 10, 14, 7, 9, 3, 2, 8, 1]\n",
    "max_heapify(result, 1, len(result))\n",
    "print(result)\n",
    "assert result == [16, 14, 10, 8, 7, 9, 3, 2, 4, 1]"
   ]
  },
  {
   "cell_type": "code",
   "execution_count": 18,
   "metadata": {
    "deletable": false,
    "editable": false,
    "nbgrader": {
     "grade": true,
     "grade_id": "cs22",
     "locked": true,
     "points": "1",
     "solution": false
    }
   },
   "outputs": [],
   "source": [
    "###\n",
    "### AUTOGRADER TEST - DO NOT REMOVE\n",
    "###\n"
   ]
  },
  {
   "cell_type": "code",
   "execution_count": 46,
   "metadata": {
    "colab": {
     "base_uri": "https://localhost:8080/",
     "height": 51
    },
    "colab_type": "code",
    "executionInfo": {
     "elapsed": 1655,
     "status": "ok",
     "timestamp": 1572852515243,
     "user": {
      "displayName": "Oka Kurniawan",
      "photoUrl": "https://lh3.googleusercontent.com/a-/AAuE7mAnRP7A15yGfrraUO-0BiNVbNmYjI2f9jaZikjr=s64",
      "userId": "05233922875329103764"
     },
     "user_tz": -480
    },
    "id": "SXD6E9tQG_3h",
    "outputId": "a8d66d4a-7de6-4c38-bb65-2e9b4f78c8b3"
   },
   "outputs": [],
   "source": [
    "def build_max_heap(array):\n",
    "    for i in range(len(array) // 2 - 1, -1, -1):\n",
    "        max_heapify(array, i, len(array))\n"
   ]
  },
  {
   "cell_type": "code",
   "execution_count": 47,
   "metadata": {
    "deletable": false,
    "editable": false,
    "nbgrader": {
     "grade": true,
     "grade_id": "cs23",
     "locked": true,
     "points": "1",
     "solution": false
    }
   },
   "outputs": [
    {
     "name": "stdout",
     "output_type": "stream",
     "text": [
      "[16, 14, 10, 8, 7, 9, 3, 2, 4, 1]\n"
     ]
    }
   ],
   "source": [
    "array = [4, 1, 3, 2, 16, 9, 10, 14, 8, 7]\n",
    "\n",
    "build_max_heap(array)\n",
    "print(array)\n",
    "assert array == [16, 14, 10, 8, 7, 9, 3, 2, 4, 1]"
   ]
  },
  {
   "cell_type": "code",
   "execution_count": 21,
   "metadata": {
    "deletable": false,
    "editable": false,
    "nbgrader": {
     "grade": true,
     "grade_id": "cs24",
     "locked": true,
     "points": "1",
     "solution": false
    }
   },
   "outputs": [],
   "source": [
    "###\n",
    "### AUTOGRADER TEST - DO NOT REMOVE\n",
    "###\n"
   ]
  },
  {
   "cell_type": "markdown",
   "metadata": {
    "colab_type": "text",
    "deletable": false,
    "editable": false,
    "id": "Q6WtKSrzIIDv",
    "nbgrader": {
     "grade": false,
     "locked": true,
     "solution": false
    }
   },
   "source": [
    "**CS3.** *Heapsort:* Implement heapsort algorithm following the pseudocode in [Binary Heap and Heapsort](https://data-driven-world.github.io/2023/notes/category/week-2-analysing-programs).\n",
    "\n"
   ]
  },
  {
   "cell_type": "code",
   "execution_count": 55,
   "metadata": {
    "colab": {
     "base_uri": "https://localhost:8080/",
     "height": 34
    },
    "colab_type": "code",
    "executionInfo": {
     "elapsed": 1647,
     "status": "ok",
     "timestamp": 1572852515243,
     "user": {
      "displayName": "Oka Kurniawan",
      "photoUrl": "https://lh3.googleusercontent.com/a-/AAuE7mAnRP7A15yGfrraUO-0BiNVbNmYjI2f9jaZikjr=s64",
      "userId": "05233922875329103764"
     },
     "user_tz": -480
    },
    "id": "Z1PloAtPIK6h",
    "outputId": "6dc4c947-2e94-4d26-ff93-bac9b19c4e0c"
   },
   "outputs": [],
   "source": [
    "def heapsort(array):\n",
    "    heap = array[:]\n",
    "    n_sorted_items = 0\n",
    "    while len(heap) > 0:\n",
    "        build_max_heap(heap)\n",
    "        n_sorted_items += 1\n",
    "        array[-n_sorted_items] = heap[0]\n",
    "        heap[0] = heap[-1]\n",
    "        del heap[-1]\n",
    "    \n",
    "    "
   ]
  },
  {
   "cell_type": "code",
   "execution_count": 56,
   "metadata": {
    "deletable": false,
    "editable": false,
    "nbgrader": {
     "grade": true,
     "grade_id": "cs31",
     "locked": true,
     "points": "1",
     "solution": false
    }
   },
   "outputs": [
    {
     "name": "stdout",
     "output_type": "stream",
     "text": [
      "[1, 2, 3, 4, 7, 8, 9, 10, 14, 16]\n"
     ]
    }
   ],
   "source": [
    "array = [16, 14, 10, 8, 7, 9, 3, 2, 4, 1]\n",
    "heapsort(array)\n",
    "print(array)\n",
    "assert array == [1, 2, 3, 4, 7, 8, 9, 10, 14, 16]"
   ]
  },
  {
   "cell_type": "code",
   "execution_count": 24,
   "metadata": {
    "deletable": false,
    "editable": false,
    "nbgrader": {
     "grade": true,
     "grade_id": "cs32",
     "locked": true,
     "points": "1",
     "solution": false
    }
   },
   "outputs": [],
   "source": [
    "###\n",
    "### AUTOGRADER TEST - DO NOT REMOVE\n",
    "###\n"
   ]
  },
  {
   "cell_type": "markdown",
   "metadata": {
    "colab_type": "text",
    "deletable": false,
    "editable": false,
    "id": "krDN1SASKDsV",
    "nbgrader": {
     "grade": false,
     "locked": true,
     "solution": false
    }
   },
   "source": [
    "**CS4.** Measure computational time of Python's built-in sort function by filling the template below. Hint: \n",
    "- You will need the function `gen_random_int()` from Week 01 Problem Set.\n",
    "- Use `sorted(list)` function of Python's list See [Python's Sorting HOW TO Documentation](https://docs.python.org/3.3/howto/sorting.html). "
   ]
  },
  {
   "cell_type": "code",
   "execution_count": 69,
   "metadata": {
    "colab": {
     "base_uri": "https://localhost:8080/",
     "height": 54
    },
    "colab_type": "code",
    "executionInfo": {
     "elapsed": 35745,
     "status": "ok",
     "timestamp": 1572852549353,
     "user": {
      "displayName": "Oka Kurniawan",
      "photoUrl": "https://lh3.googleusercontent.com/a-/AAuE7mAnRP7A15yGfrraUO-0BiNVbNmYjI2f9jaZikjr=s64",
      "userId": "05233922875329103764"
     },
     "user_tz": -480
    },
    "id": "Vajm-BidKHMh",
    "outputId": "e5a25b8a-ab58-451b-bfa1-06bfe221c752"
   },
   "outputs": [
    {
     "name": "stdout",
     "output_type": "stream",
     "text": [
      "[0.0, 0.0, 0.0, 0.0010004043579101562, 0.01372528076171875, 0.21276187896728516, 2.867779016494751]\n",
      "3.095266580581665\n"
     ]
    }
   ],
   "source": [
    "import time\n",
    "import random\n",
    "\n",
    "def run_function(f, *x):\n",
    "    start = time.time()\n",
    "    f(*x)\n",
    "    end = time.time()\n",
    "    return end-start\n",
    "\n",
    "def gen_random_int(number, seed):\n",
    "    random.seed(seed)\n",
    "    return random.sample(range(0, number), k=number)\n",
    "\n",
    " \n",
    "time_builtin = []\n",
    "# set the maximum power for 10^power number of inputs\n",
    "maxpower = 7\n",
    "\n",
    "for n in range(1, maxpower + 1):\n",
    "    # create array for 10^1, 10^2, etc \n",
    "    # use seed 100\n",
    "    array = gen_random_int(10 ** n, 100)\n",
    "    \n",
    "    # call run_function with sorted() and array as arguments\n",
    "    \n",
    "    result = run_function(sorted, array) # 3.044 seconds\n",
    "    # result = run_function(gen_random_int, 10 ** n, 100) # 5.00 seconds\n",
    "    \n",
    "    time_builtin.append(result)\n",
    "\n",
    "\n",
    "print(time_builtin)\n",
    "# print(sum(time_builtin))"
   ]
  }
 ],
 "metadata": {
  "colab": {
   "collapsed_sections": [],
   "name": "Week02_ProblemSet.ipynb",
   "provenance": []
  },
  "kernelspec": {
   "display_name": "Python 3 [3.10]",
   "language": "python",
   "name": "python3"
  },
  "language_info": {
   "codemirror_mode": {
    "name": "ipython",
    "version": 3
   },
   "file_extension": ".py",
   "mimetype": "text/x-python",
   "name": "python",
   "nbconvert_exporter": "python",
   "pygments_lexer": "ipython3",
   "version": "3.10.4"
  },
  "vscode": {
   "interpreter": {
    "hash": "ac37b77c3c0f43e60bec193f0626743b91dd65d8d4aeca5713e457ab7e777e4c"
   }
  }
 },
 "nbformat": 4,
 "nbformat_minor": 4
}
