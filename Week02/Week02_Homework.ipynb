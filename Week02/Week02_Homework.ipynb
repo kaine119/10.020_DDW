{
    "cells": [
        {
            "cell_type": "markdown",
            "metadata": {
                "colab_type": "text",
                "deletable": false,
                "editable": false,
                "id": "w2y1-ePwMvu0",
                "nbgrader": {
                    "grade": false,
                    "locked": true,
                    "solution": false
                }
            },
            "source": [
                "# Week 2 Problem Set\n",
                "\n",
                "## Homeworks"
            ]
        },
        {
            "cell_type": "markdown",
            "metadata": {
                "colab_type": "text",
                "deletable": false,
                "editable": false,
                "id": "Ft1Zw5gpMyMq",
                "nbgrader": {
                    "grade": false,
                    "locked": true,
                    "solution": false
                }
            },
            "source": [
                "**HW1.** *Min-Heap:* Write the following function to implement *min-heap*. A *min-heap* is a binary heap that satisfies the *min-heap property*. This property can be described as:\n",
                "\n",
                "    For all nodes except the root:\n",
                "    \n",
                "    A[left(i)] >= A[i]\n",
                "    A[right(i)] >= A[i]\n",
                "\n",
                "- `min_child(heap, index)`: which returns the index of the node's smallest child. The node you are referring has index of value `index`\n",
                "- `min_heapify(array, index, size)`: which moves the node at `index` down the tree so as to satisfy the *min-heap property*. The argument `index` is the index of the node you want to start moving down in the array. The argument `size` is the size of the heap. This size may be the same or less than the number of elements in the array. Hint: You may need the `min_child()` function.\n",
                "- `build_min_heap(array)`: which build a *min-heap* from an arbitrary array of integers. This function should make use of `min_heapify(array, index)`. "
            ]
        },
        {
            "cell_type": "code",
            "execution_count": 44,
            "metadata": {},
            "outputs": [],
            "source": [
                "# Copy over the implementations of left_of & right_of from the Cohort qns\n",
                "def left_of(index):\n",
                "    return (2 * index) + 1\n",
                "\n",
                "def right_of(index):\n",
                "    return left_of(index) + 1"
            ]
        },
        {
            "cell_type": "code",
            "execution_count": 45,
            "metadata": {
                "colab": [],
                "colab_type": "code",
                "id": "Hqig98U9NS3g"
            },
            "outputs": [],
            "source": [
                "def min_child(heap, index, heap_size):\n",
                "    left = left_of(index)\n",
                "    right = right_of(index)\n",
                "    if right >= heap_size or heap[left] < heap[right]:\n",
                "        return left\n",
                "    else:\n",
                "        return right"
            ]
        },
        {
            "cell_type": "code",
            "execution_count": 46,
            "metadata": {
                "deletable": false,
                "editable": false,
                "nbgrader": {
                    "grade": true,
                    "grade_id": "hw11",
                    "locked": true,
                    "points": "1",
                    "solution": false
                }
            },
            "outputs": [],
            "source": [
                "minheap = [1, 2, 4, 3, 9, 7, 8, 10, 14, 16]\n",
                "assert min_child(minheap, 0, len(minheap)) == 1\n",
                "assert min_child(minheap, 2, len(minheap)) == 5\n",
                "assert min_child(minheap, 3, len(minheap)) == 7\n",
                "assert min_child(minheap, 1, len(minheap)) == 3\n",
                "assert min_child(minheap, 4, len(minheap)) == 9"
            ]
        },
        {
            "cell_type": "code",
            "execution_count": 47,
            "metadata": {
                "deletable": false,
                "editable": false,
                "nbgrader": {
                    "grade": true,
                    "grade_id": "hw12",
                    "locked": true,
                    "points": "1",
                    "solution": false
                }
            },
            "outputs": [],
            "source": [
                "###\n",
                "### AUTOGRADER TEST - DO NOT REMOVE\n",
                "###\n"
            ]
        },
        {
            "cell_type": "markdown",
            "metadata": {
                "deletable": false,
                "editable": false,
                "nbgrader": {
                    "grade": false,
                    "locked": true,
                    "solution": false
                }
            },
            "source": [
                "Reorder the code for min heapify function. The function takes in the array, the index indicating which node to start the heapifying process and the size of the heap. It should modify the input array in such a way that it satisfies the min-heap property starting from the index node.\n",
                "\n",
                "Input: \n",
                "- array: binary tree to be restored to satisfy the min-heap property\n",
                "- index: index of the node where the min-heapify property should be satisfied on its subtree\n",
                "- size: number of elements of the binary tree\n",
                "\n",
                "Output:\n",
                "- None, the function should modify the array in-place."
            ]
        },
        {
            "cell_type": "code",
            "execution_count": 48,
            "metadata": {
                "deletable": false,
                "editable": false,
                "nbgrader": {
                    "grade": false,
                    "locked": true,
                    "solution": false
                }
            },
            "outputs": [],
            "source": [
                "codes = {\n",
                "    'e': 'def min_heapify(array, index, size):',\n",
                "        'b': 'cur_idx = index',\n",
                "        'g': 'while cur_idx < size:',\n",
                "            'd': 'min_child_idx = min_child(array, cur_idx, size)',\n",
                "            'f': 'if min_child_idx < size and array[min_child_idx] < array[cur_idx]:',\n",
                "                'a': 'array[min_child_idx], array[cur_idx] = array[cur_idx], array[min_child_idx]',\n",
                "            'c': 'cur_idx = min_child_idx',\n",
                "}"
            ]
        },
        {
            "cell_type": "code",
            "execution_count": 49,
            "metadata": {},
            "outputs": [],
            "source": [
                "# Enter the key sequence and add \"sub\" or \"exit sub\" as necessary\n",
                "answers = ['e', 'sub', 'b', 'g', 'sub', 'd', 'f', 'sub', 'a', 'end sub', 'c']\n",
                "\n",
                "###\n",
                "### YOUR CODE HERE\n",
                "###\n"
            ]
        },
        {
            "cell_type": "code",
            "execution_count": 50,
            "metadata": {
                "deletable": false,
                "editable": false,
                "nbgrader": {
                    "grade": true,
                    "grade_id": "hw13",
                    "locked": true,
                    "points": "1",
                    "solution": false
                }
            },
            "outputs": [],
            "source": [
                "###\n",
                "### AUTOGRADER TEST - DO NOT REMOVE\n",
                "###\n"
            ]
        },
        {
            "cell_type": "markdown",
            "metadata": {
                "deletable": false,
                "editable": false,
                "nbgrader": {
                    "grade": false,
                    "locked": true,
                    "solution": false
                }
            },
            "source": [
                "Write the code below to test."
            ]
        },
        {
            "cell_type": "code",
            "execution_count": 51,
            "metadata": {
                "colab": [],
                "colab_type": "code",
                "id": "JWasCCnBOLUA"
            },
            "outputs": [],
            "source": [
                "def min_heapify(array, index, size):\n",
                "    left, right = left_of(index), right_of(index)\n",
                "    is_leaf = left >= size\n",
                "    is_left_only = right >=  size\n",
                "    if is_leaf or (array[index] <= array[left] and (is_left_only or array[index] <= array[right])):\n",
                "        return\n",
                "    \n",
                "    if is_left_only or array[left] < array[right]:\n",
                "        array[left], array[index] = array[index], array[left]\n",
                "        min_heapify(array, left, size)\n",
                "    else:\n",
                "        array[right], array[index] = array[index], array[right]\n",
                "        min_heapify(array, right, size)"
            ]
        },
        {
            "cell_type": "code",
            "execution_count": 52,
            "metadata": {
                "deletable": false,
                "editable": false,
                "nbgrader": {
                    "grade": true,
                    "grade_id": "hw14",
                    "locked": true,
                    "points": "1",
                    "solution": false
                }
            },
            "outputs": [],
            "source": [
                "array = [1, 3, 4, 2, 9, 7, 8, 10, 14, 16]\n",
                "min_heapify(array, 1, len(array))\n",
                "assert array == [1, 2, 4, 3, 9, 7, 8, 10, 14, 16]"
            ]
        },
        {
            "cell_type": "code",
            "execution_count": 53,
            "metadata": {
                "deletable": false,
                "editable": false,
                "nbgrader": {
                    "grade": true,
                    "grade_id": "hw15",
                    "locked": true,
                    "points": "1",
                    "solution": false
                }
            },
            "outputs": [],
            "source": [
                "###\n",
                "### AUTOGRADER TEST - DO NOT REMOVE\n",
                "###\n"
            ]
        },
        {
            "cell_type": "code",
            "execution_count": 54,
            "metadata": {
                "colab": {
                    "base_uri": "https://localhost:8080/",
                    "height": 51
                },
                "colab_type": "code",
                "executionInfo": {
                    "elapsed": 35732,
                    "status": "ok",
                    "timestamp": 1572852549354,
                    "user": {
                        "displayName": "Oka Kurniawan",
                        "photoUrl": "https://lh3.googleusercontent.com/a-/AAuE7mAnRP7A15yGfrraUO-0BiNVbNmYjI2f9jaZikjr=s64",
                        "userId": "05233922875329103764"
                    },
                    "user_tz": -480
                },
                "id": "qVhvO4lzO82L",
                "outputId": "08ed2169-2e53-4aa4-e6d3-49a6448c4299"
            },
            "outputs": [],
            "source": [
                "def build_min_heap(array):\n",
                "    i = len(array) // 2\n",
                "    while i >= 0:\n",
                "        min_heapify(array, i, len(array))\n",
                "        i -= 1"
            ]
        },
        {
            "cell_type": "code",
            "execution_count": 55,
            "metadata": {
                "deletable": false,
                "editable": false,
                "nbgrader": {
                    "grade": true,
                    "grade_id": "hw16",
                    "locked": true,
                    "points": "1",
                    "solution": false
                }
            },
            "outputs": [
                {
                    "name": "stdout",
                    "output_type": "stream",
                    "text": [
                        "[16, 14, 10, 8, 7, 9, 3, 2, 4, 1]\n",
                        "[1, 2, 3, 4, 7, 9, 10, 8, 16, 14]\n"
                    ]
                }
            ],
            "source": [
                "array = [16, 14, 10, 8, 7, 9, 3, 2, 4, 1]\n",
                "print(array)\n",
                "build_min_heap(array)\n",
                "print(array)\n",
                "assert array == [1, 2, 3, 4, 7, 9, 10, 8, 16, 14]"
            ]
        },
        {
            "cell_type": "code",
            "execution_count": 56,
            "metadata": {
                "deletable": false,
                "editable": false,
                "nbgrader": {
                    "grade": true,
                    "grade_id": "hw17",
                    "locked": true,
                    "points": "1",
                    "solution": false
                }
            },
            "outputs": [],
            "source": [
                "###\n",
                "### AUTOGRADER TEST - DO NOT REMOVE\n",
                "###\n"
            ]
        },
        {
            "cell_type": "markdown",
            "metadata": {
                "colab_type": "text",
                "deletable": false,
                "editable": false,
                "id": "rTwYqPXjPhhD",
                "nbgrader": {
                    "grade": false,
                    "locked": true,
                    "solution": false
                }
            },
            "source": [
                "**HW2.** *Heapsort:* Implement heapsort that makes use of *min-heap* instead of *max-heap*. This function returns a *new* array. The strategy is similar to max-heap, but we will use a new array to store the sorted output. Take note of the hints below:\n",
                "- The top of the min-heap is always the smallest. You can take this element and put it into the output array.\n",
                "- To find the next minimum, take the last element of the heap and put it into the first element of the array. Now, the tree is no longer a min-heap. Use `min_heapify()` to restore the min-heap property. This will result in a mean-heap where the first element of the array is the next minimum. You can then take out the top of the min-heap and put it into the output array.\n",
                "- Reduce the heap size as you go.\n",
                "- Return the new output array."
            ]
        },
        {
            "cell_type": "code",
            "execution_count": 57,
            "metadata": {},
            "outputs": [],
            "source": [
                "import random\n",
                "\n",
                "# def gen_random_int(number, seed):\n",
                "#     return (random.seed(seed), random.sample(range(number), k=number))[1]\n",
                "def gen_random_int(number, seed):\n",
                "    random.seed(seed)\n",
                "    res = list(range(number))\n",
                "    random.shuffle(res)\n",
                "    return res"
            ]
        },
        {
            "cell_type": "code",
            "execution_count": 58,
            "metadata": {
                "colab": [],
                "colab_type": "code",
                "id": "ORDGioxUPoY5"
            },
            "outputs": [],
            "source": [
                "def heapsort(array):\n",
                "    res = []\n",
                "    build_min_heap(array)\n",
                "    while len(array) > 0:\n",
                "        res.append(array[0])\n",
                "        array[0], array[-1] = array[-1], array[0]\n",
                "        del array[-1]\n",
                "        min_heapify(array, 0, len(array))\n",
                "        # build_min_heap(array)\n",
                "    return res"
            ]
        },
        {
            "cell_type": "code",
            "execution_count": 59,
            "metadata": {
                "deletable": false,
                "editable": false,
                "nbgrader": {
                    "grade": true,
                    "grade_id": "hw21",
                    "locked": true,
                    "points": "1",
                    "solution": false
                }
            },
            "outputs": [],
            "source": [
                "array = gen_random_int(10, 100)\n",
                "result = heapsort(array)\n",
                "assert result == [0, 1, 2, 3, 4, 5, 6, 7, 8, 9]"
            ]
        },
        {
            "cell_type": "code",
            "execution_count": 60,
            "metadata": {
                "deletable": false,
                "editable": false,
                "nbgrader": {
                    "grade": true,
                    "grade_id": "hw22",
                    "locked": true,
                    "points": "1",
                    "solution": false
                }
            },
            "outputs": [],
            "source": [
                "###\n",
                "### AUTOGRADER TEST - DO NOT REMOVE\n",
                "###\n"
            ]
        },
        {
            "cell_type": "markdown",
            "metadata": {
                "colab_type": "text",
                "deletable": false,
                "editable": false,
                "id": "lUQCfMxaWese",
                "nbgrader": {
                    "grade": false,
                    "locked": true,
                    "solution": false
                }
            },
            "source": [
                "**HW3.** Compute the computational time for Heap Sort algorithm implemented in Python for various number of inputs. Make use of `gen_random_int(n)` to generate the input array. Use the template below to generate computation time for different number of inputs: 10, 100, 1000, etc."
            ]
        },
        {
            "cell_type": "code",
            "execution_count": 61,
            "metadata": {
                "colab": {
                    "base_uri": "https://localhost:8080/",
                    "height": 34
                },
                "colab_type": "code",
                "executionInfo": {
                    "elapsed": 1876220,
                    "status": "ok",
                    "timestamp": 1572855614477,
                    "user": {
                        "displayName": "Oka Kurniawan",
                        "photoUrl": "https://lh3.googleusercontent.com/a-/AAuE7mAnRP7A15yGfrraUO-0BiNVbNmYjI2f9jaZikjr=s64",
                        "userId": "05233922875329103764"
                    },
                    "user_tz": -480
                },
                "id": "wD-pBWwCWl-I",
                "outputId": "f50a8a1c-fc2b-427f-b99b-fc8b2f89fa6e"
            },
            "outputs": [
                {
                    "name": "stdout",
                    "output_type": "stream",
                    "text": [
                        "[3.1948089599609375e-05, 0.0003650188446044922, 0.008955001831054688, 0.10273575782775879, 2.179737091064453]\n"
                    ]
                }
            ],
            "source": [
                "import time\n",
                "import random\n",
                "\n",
                "def run_function(f, x):\n",
                "    start = time.time()\n",
                "    f(x)\n",
                "    end = time.time()\n",
                "    return end-start\n",
                "\n",
                "# gen_random_int = lambda number, seed: (random.seed(seed), random.sample(range(number), k=number))[1]\n",
                "\n",
                "time_heapsort = []\n",
                "# set the maximum power for 10^power number of inputs\n",
                "maxpower = 5\n",
                "\n",
                "for n in range(1, maxpower + 1):\n",
                "    # create array for 10^1, 10^2, etc \n",
                "    # use seed 100\n",
                "    array = gen_random_int(10 ** n, 100)\n",
                "    \n",
                "    # call run_function with heapsort and array as arguments\n",
                "    result = run_function(heapsort, array)\n",
                "    \n",
                "    time_heapsort.append(result)\n",
                "\n",
                "print(time_heapsort)"
            ]
        },
        {
            "cell_type": "markdown",
            "metadata": {
                "colab_type": "text",
                "deletable": false,
                "editable": false,
                "id": "uhki2vZsXlC0",
                "nbgrader": {
                    "grade": false,
                    "locked": true,
                    "solution": false
                }
            },
            "source": [
                "**HW4.** Plot the output of HW3 by first calculating a new x-axis computed as $n\\log_2(n)$. Use the template below.\n",
                "\n",
                "Reference:\n",
                "- [Numpy Log2 function](https://docs.scipy.org/doc/numpy/reference/generated/numpy.log2.html)"
            ]
        },
        {
            "cell_type": "code",
            "execution_count": 62,
            "metadata": {
                "colab": {
                    "base_uri": "https://localhost:8080/",
                    "height": 279
                },
                "colab_type": "code",
                "deletable": false,
                "editable": false,
                "executionInfo": {
                    "elapsed": 1073,
                    "status": "ok",
                    "timestamp": 1572853721594,
                    "user": {
                        "displayName": "Oka Kurniawan",
                        "photoUrl": "https://lh3.googleusercontent.com/a-/AAuE7mAnRP7A15yGfrraUO-0BiNVbNmYjI2f9jaZikjr=s64",
                        "userId": "05233922875329103764"
                    },
                    "user_tz": -480
                },
                "id": "kXevgXjHXnmF",
                "nbgrader": {
                    "grade": false,
                    "locked": true,
                    "solution": false
                },
                "outputId": "0b54258d-4124-4b4c-d836-6c615c5fd6ab"
            },
            "outputs": [
                {
                    "data": {
                        "image/png": "[encoded data removed]",
                        "text/plain": [
                            "<Figure size 640x480 with 1 Axes>"
                        ]
                    },
                    "metadata": {},
                    "output_type": "display_data"
                }
            ],
            "source": [
                "import matplotlib.pyplot as plt\n",
                "import numpy as np\n",
                "\n",
                "maxpower = 5\n",
                "# create an iterable from 1 to maxpowers\n",
                "powers = range(1, maxpower + 1)\n",
                "# variable n stores the number of items to sort\n",
                "n = []\n",
                "\n",
                "# Create a list of n for our x axis\n",
                "for exp in powers:\n",
                "    n.append(10**exp)\n",
                "\n",
                "# convert to Numpy array\n",
                "n = np.array(n)\n",
                "\n",
                "# calculate n*log(n) for x axis \n",
                "x = n * np.log2(n)\n",
                "plt.plot(x, time_heapsort, \"-o\")\n",
                "plt.xlabel(\"number of input\")\n",
                "plt.ylabel(\"computation time (s)\")\n",
                "plt.show()"
            ]
        }
    ],
    "metadata": {
        "kernelspec": {
            "display_name": "Python 3 [3.10]",
            "language": "python",
            "name": "python3"
        },
        "language_info": {
            "codemirror_mode": {
                "name": "ipython",
                "version": 3
            },
            "file_extension": ".py",
            "mimetype": "text/x-python",
            "name": "python",
            "nbconvert_exporter": "python",
            "pygments_lexer": "ipython3",
            "version": "3.11.3"
        },
        "vscode": {
            "interpreter": {
                "hash": "ac37b77c3c0f43e60bec193f0626743b91dd65d8d4aeca5713e457ab7e777e4c"
            }
        }
    },
    "nbformat": 4,
    "nbformat_minor": 4
}
